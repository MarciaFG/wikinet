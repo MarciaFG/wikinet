{
 "cells": [
  {
   "cell_type": "markdown",
   "metadata": {},
   "source": [
    "### Persistent homology examples\n",
    "\n",
    "* Ripser [paper](https://www.theoj.org/joss-papers/joss.00925/10.21105.joss.00925.pdf) [code](https://github.com/scikit-tda/ripser.py) (fast)\n",
    "* Dionysus 2 [code](https://mrzv.org/software/dionysus2/) (representative examples)\n",
    "* Nico's [code](https://github.com/nhchristianson/Math-text-semantic-networks)\n",
    "* Ann's [code](https://github.com/asizemore/PH_tutorial/blob/master/Tutorial_day1.ipynb)"
   ]
  },
  {
   "cell_type": "code",
   "execution_count": 1,
   "metadata": {},
   "outputs": [],
   "source": [
    "%load_ext autoreload\n",
    "%autoreload 2"
   ]
  },
  {
   "cell_type": "markdown",
   "metadata": {},
   "source": [
    "### Try persistent homology"
   ]
  },
  {
   "cell_type": "code",
   "execution_count": 12,
   "metadata": {},
   "outputs": [],
   "source": [
    "import wiki\n",
    "\n",
    "topic = 'biochemistry'\n",
    "path_saved = '/Users/harangju/Box Sync/Research/my papers/wikipedia paper/data/graphs/full/'\n",
    "network = wiki.Net()\n",
    "network.load_graph(path_saved + topic + '.gexf')"
   ]
  },
  {
   "cell_type": "code",
   "execution_count": 56,
   "metadata": {},
   "outputs": [
    {
     "name": "stdout",
     "output_type": "stream",
     "text": [
      "CPU times: user 9 µs, sys: 0 ns, total: 9 µs\n",
      "Wall time: 11 µs\n"
     ]
    },
    {
     "data": {
      "text/html": [
       "<div>\n",
       "<style scoped>\n",
       "    .dataframe tbody tr th:only-of-type {\n",
       "        vertical-align: middle;\n",
       "    }\n",
       "\n",
       "    .dataframe tbody tr th {\n",
       "        vertical-align: top;\n",
       "    }\n",
       "\n",
       "    .dataframe thead th {\n",
       "        text-align: right;\n",
       "    }\n",
       "</style>\n",
       "<table border=\"1\" class=\"dataframe\">\n",
       "  <thead>\n",
       "    <tr style=\"text-align: right;\">\n",
       "      <th></th>\n",
       "      <th>dim</th>\n",
       "      <th>birth</th>\n",
       "      <th>death</th>\n",
       "      <th>birth simplex</th>\n",
       "      <th>death simplex</th>\n",
       "      <th>birth nodes</th>\n",
       "      <th>death nodes</th>\n",
       "    </tr>\n",
       "  </thead>\n",
       "  <tbody>\n",
       "    <tr>\n",
       "      <th>0</th>\n",
       "      <td>0</td>\n",
       "      <td>-2500</td>\n",
       "      <td>inf</td>\n",
       "      <td>[Carbon]</td>\n",
       "      <td>[]</td>\n",
       "      <td>[Carbon]</td>\n",
       "      <td>[]</td>\n",
       "    </tr>\n",
       "    <tr>\n",
       "      <th>1</th>\n",
       "      <td>0</td>\n",
       "      <td>-2500</td>\n",
       "      <td>800.0</td>\n",
       "      <td>[Nutrition]</td>\n",
       "      <td>[Ethanol, Ammonia]</td>\n",
       "      <td>[Nutrition]</td>\n",
       "      <td>[Ethanol]</td>\n",
       "    </tr>\n",
       "    <tr>\n",
       "      <th>2</th>\n",
       "      <td>0</td>\n",
       "      <td>-2000</td>\n",
       "      <td>-2000.0</td>\n",
       "      <td>[Alcohol]</td>\n",
       "      <td>[Carbon, Alcohol]</td>\n",
       "      <td>[Alcohol]</td>\n",
       "      <td>[Alcohol]</td>\n",
       "    </tr>\n",
       "    <tr>\n",
       "      <th>3</th>\n",
       "      <td>0</td>\n",
       "      <td>-2000</td>\n",
       "      <td>1600.0</td>\n",
       "      <td>[Medicine]</td>\n",
       "      <td>[Life, Microbiology]</td>\n",
       "      <td>[Medicine]</td>\n",
       "      <td>[Life]</td>\n",
       "    </tr>\n",
       "    <tr>\n",
       "      <th>4</th>\n",
       "      <td>0</td>\n",
       "      <td>-2000</td>\n",
       "      <td>-2000.0</td>\n",
       "      <td>[Pharmacist]</td>\n",
       "      <td>[Medicine, Pharmacist]</td>\n",
       "      <td>[Pharmacist]</td>\n",
       "      <td>[Medicine, Pharmacist]</td>\n",
       "    </tr>\n",
       "    <tr>\n",
       "      <th>5</th>\n",
       "      <td>0</td>\n",
       "      <td>-2000</td>\n",
       "      <td>1669.0</td>\n",
       "      <td>[Pesticide]</td>\n",
       "      <td>[Phosphorus, Pesticide]</td>\n",
       "      <td>[Pesticide]</td>\n",
       "      <td>[Phosphorus]</td>\n",
       "    </tr>\n",
       "    <tr>\n",
       "      <th>6</th>\n",
       "      <td>0</td>\n",
       "      <td>-700</td>\n",
       "      <td>800.0</td>\n",
       "      <td>[Sugar]</td>\n",
       "      <td>[Sugar, Ethanol]</td>\n",
       "      <td>[Sugar]</td>\n",
       "      <td>[Ethanol]</td>\n",
       "    </tr>\n",
       "    <tr>\n",
       "      <th>7</th>\n",
       "      <td>0</td>\n",
       "      <td>-500</td>\n",
       "      <td>-360.0</td>\n",
       "      <td>[Sulfur]</td>\n",
       "      <td>[Chemical element, Sulfur]</td>\n",
       "      <td>[Sulfur]</td>\n",
       "      <td>[Chemical element]</td>\n",
       "    </tr>\n",
       "    <tr>\n",
       "      <th>...</th>\n",
       "      <td>...</td>\n",
       "      <td>...</td>\n",
       "      <td>...</td>\n",
       "      <td>...</td>\n",
       "      <td>...</td>\n",
       "      <td>...</td>\n",
       "      <td>...</td>\n",
       "    </tr>\n",
       "    <tr>\n",
       "      <th>6038</th>\n",
       "      <td>5</td>\n",
       "      <td>1911</td>\n",
       "      <td>1911.0</td>\n",
       "      <td>[Electron, Proton, Atomic nucleus, Neutron, At...</td>\n",
       "      <td>[Atom, Electron, Proton, Atomic nucleus, Neutr...</td>\n",
       "      <td>[Atomic nucleus]</td>\n",
       "      <td>[Atomic nucleus]</td>\n",
       "    </tr>\n",
       "    <tr>\n",
       "      <th>6039</th>\n",
       "      <td>5</td>\n",
       "      <td>1911</td>\n",
       "      <td>1911.0</td>\n",
       "      <td>[Electron, Proton, Atomic nucleus, Neutron, At...</td>\n",
       "      <td>[Atom, Electron, Proton, Atomic nucleus, Neutr...</td>\n",
       "      <td>[Atomic nucleus]</td>\n",
       "      <td>[Atomic nucleus]</td>\n",
       "    </tr>\n",
       "    <tr>\n",
       "      <th>6040</th>\n",
       "      <td>5</td>\n",
       "      <td>1911</td>\n",
       "      <td>1911.0</td>\n",
       "      <td>[Electron, Proton, Atomic nucleus, Neutron, At...</td>\n",
       "      <td>[Atom, Electron, Proton, Atomic nucleus, Neutr...</td>\n",
       "      <td>[Atomic nucleus]</td>\n",
       "      <td>[Atomic nucleus]</td>\n",
       "    </tr>\n",
       "    <tr>\n",
       "      <th>6041</th>\n",
       "      <td>5</td>\n",
       "      <td>1911</td>\n",
       "      <td>1911.0</td>\n",
       "      <td>[Electron, Proton, Atomic nucleus, Atomic numb...</td>\n",
       "      <td>[Atom, Electron, Proton, Atomic nucleus, Atomi...</td>\n",
       "      <td>[Atomic nucleus]</td>\n",
       "      <td>[Atomic nucleus]</td>\n",
       "    </tr>\n",
       "    <tr>\n",
       "      <th>6042</th>\n",
       "      <td>5</td>\n",
       "      <td>1911</td>\n",
       "      <td>1911.0</td>\n",
       "      <td>[Electron, Atomic nucleus, Neutron, Atomic num...</td>\n",
       "      <td>[Atom, Electron, Atomic nucleus, Neutron, Atom...</td>\n",
       "      <td>[Atomic nucleus]</td>\n",
       "      <td>[Atomic nucleus]</td>\n",
       "    </tr>\n",
       "    <tr>\n",
       "      <th>6043</th>\n",
       "      <td>5</td>\n",
       "      <td>1911</td>\n",
       "      <td>1911.0</td>\n",
       "      <td>[Hydrogen, Proton, Atomic nucleus, Neutron, At...</td>\n",
       "      <td>[Atom, Hydrogen, Proton, Atomic nucleus, Neutr...</td>\n",
       "      <td>[Atomic nucleus]</td>\n",
       "      <td>[Atomic nucleus]</td>\n",
       "    </tr>\n",
       "    <tr>\n",
       "      <th>6044</th>\n",
       "      <td>5</td>\n",
       "      <td>1911</td>\n",
       "      <td>1911.0</td>\n",
       "      <td>[Proton, Atomic nucleus, Neutron, Atomic numbe...</td>\n",
       "      <td>[Atom, Proton, Atomic nucleus, Neutron, Atomic...</td>\n",
       "      <td>[Atomic nucleus]</td>\n",
       "      <td>[Atomic nucleus]</td>\n",
       "    </tr>\n",
       "    <tr>\n",
       "      <th>6045</th>\n",
       "      <td>6</td>\n",
       "      <td>1911</td>\n",
       "      <td>1911.0</td>\n",
       "      <td>[Electron, Proton, Atomic nucleus, Neutron, At...</td>\n",
       "      <td>[Atom, Electron, Proton, Atomic nucleus, Neutr...</td>\n",
       "      <td>[Atomic nucleus]</td>\n",
       "      <td>[Atomic nucleus]</td>\n",
       "    </tr>\n",
       "  </tbody>\n",
       "</table>\n",
       "<p>6046 rows × 7 columns</p>\n",
       "</div>"
      ],
      "text/plain": [
       "      dim  birth   death                                      birth simplex  \\\n",
       "0       0  -2500     inf                                           [Carbon]   \n",
       "1       0  -2500   800.0                                        [Nutrition]   \n",
       "2       0  -2000 -2000.0                                          [Alcohol]   \n",
       "3       0  -2000  1600.0                                         [Medicine]   \n",
       "4       0  -2000 -2000.0                                       [Pharmacist]   \n",
       "...   ...    ...     ...                                                ...   \n",
       "6041    5   1911  1911.0  [Electron, Proton, Atomic nucleus, Atomic numb...   \n",
       "6042    5   1911  1911.0  [Electron, Atomic nucleus, Neutron, Atomic num...   \n",
       "6043    5   1911  1911.0  [Hydrogen, Proton, Atomic nucleus, Neutron, At...   \n",
       "6044    5   1911  1911.0  [Proton, Atomic nucleus, Neutron, Atomic numbe...   \n",
       "6045    6   1911  1911.0  [Electron, Proton, Atomic nucleus, Neutron, At...   \n",
       "\n",
       "                                          death simplex       birth nodes  \\\n",
       "0                                                    []          [Carbon]   \n",
       "1                                    [Ethanol, Ammonia]       [Nutrition]   \n",
       "2                                     [Carbon, Alcohol]         [Alcohol]   \n",
       "3                                  [Life, Microbiology]        [Medicine]   \n",
       "4                                [Medicine, Pharmacist]      [Pharmacist]   \n",
       "...                                                 ...               ...   \n",
       "6041  [Atom, Electron, Proton, Atomic nucleus, Atomi...  [Atomic nucleus]   \n",
       "6042  [Atom, Electron, Atomic nucleus, Neutron, Atom...  [Atomic nucleus]   \n",
       "6043  [Atom, Hydrogen, Proton, Atomic nucleus, Neutr...  [Atomic nucleus]   \n",
       "6044  [Atom, Proton, Atomic nucleus, Neutron, Atomic...  [Atomic nucleus]   \n",
       "6045  [Atom, Electron, Proton, Atomic nucleus, Neutr...  [Atomic nucleus]   \n",
       "\n",
       "                 death nodes  \n",
       "0                         []  \n",
       "1                  [Ethanol]  \n",
       "2                  [Alcohol]  \n",
       "3                     [Life]  \n",
       "4     [Medicine, Pharmacist]  \n",
       "...                      ...  \n",
       "6041        [Atomic nucleus]  \n",
       "6042        [Atomic nucleus]  \n",
       "6043        [Atomic nucleus]  \n",
       "6044        [Atomic nucleus]  \n",
       "6045        [Atomic nucleus]  \n",
       "\n",
       "[6046 rows x 7 columns]"
      ]
     },
     "execution_count": 56,
     "metadata": {},
     "output_type": "execute_result"
    }
   ],
   "source": [
    "pd.options.display.max_rows = 16\n",
    "%time network.barcodes"
   ]
  },
  {
   "cell_type": "markdown",
   "metadata": {},
   "source": [
    "### Plot"
   ]
  },
  {
   "cell_type": "code",
   "execution_count": 4,
   "metadata": {},
   "outputs": [],
   "source": [
    "import numpy as np\n",
    "import pandas as pd\n",
    "import seaborn as sns\n",
    "import matplotlib.pyplot as plt\n",
    "import matplotlib._color_data as mcd\n",
    "\n",
    "sns.set(style='white', font_scale=2)"
   ]
  },
  {
   "cell_type": "code",
   "execution_count": 5,
   "metadata": {},
   "outputs": [],
   "source": [
    "def plot_barcodes(barcodes):\n",
    "    \"\"\"\n",
    "    \"\"\"\n",
    "    colors = [mcd.XKCD_COLORS['xkcd:'+c]\n",
    "          for c in ['emerald green', 'tealish', 'peacock blue', \n",
    "                    'grey', 'brown', 'red', 'yellow']]\n",
    "    plt.figure(figsize=(15,6))\n",
    "    for i, row in barcodes.iterrows():\n",
    "        birth = row['birth']\n",
    "        death = row['death']\n",
    "        x = [birth, 2050] if death==np.inf else\\\n",
    "            [birth, death]\n",
    "        plt.plot(x, i*np.ones(len(x)), colors[row['dim']])\n",
    "        if death != np.inf:\n",
    "            plt.plot(death, i, 'r.')\n",
    "    plt.axvline(x=2040, linestyle='--', color=mcd.XKCD_COLORS['xkcd:grey'])\n",
    "    plt.gca().axes.yaxis.set_ticklabels([])"
   ]
  },
  {
   "cell_type": "code",
   "execution_count": 6,
   "metadata": {},
   "outputs": [],
   "source": [
    "def plot_persistence_diagram(barcodes):\n",
    "    colors = [mcd.XKCD_COLORS['xkcd:'+c]\n",
    "      for c in ['emerald green', 'tealish', 'peacock blue', \n",
    "                'grey', 'brown', 'red', 'yellow']]\n",
    "    plt.figure(figsize=(10,10))\n",
    "    for dim in set(barcodes['dim']):\n",
    "        data = barcodes.loc[barcodes['dim']==dim]\n",
    "        data.loc[data['death']==np.inf,'death'] = 2030\n",
    "        plt.plot(data['birth'], data['death'], '.')\n",
    "    x = [barcodes['birth'].min(),\n",
    "         barcodes.loc[barcodes['death']!=np.inf,'death'].max()]\n",
    "    print(x)\n",
    "    plt.plot(x, [2030, 2030], '--')"
   ]
  },
  {
   "cell_type": "code",
   "execution_count": 7,
   "metadata": {},
   "outputs": [
    {
     "name": "stdout",
     "output_type": "stream",
     "text": [
      "CPU times: user 59.3 s, sys: 550 ms, total: 59.9 s\n",
      "Wall time: 1min 2s\n"
     ]
    },
    {
     "data": {
      "text/plain": [
       "Text(0.5, 1.0, 'biochemistry')"
      ]
     },
     "execution_count": 7,
     "metadata": {},
     "output_type": "execute_result"
    },
    {
     "data": {
      "image/png": "[encoded data removed]",
      "text/plain": [
       "<Figure size 1080x432 with 1 Axes>"
      ]
     },
     "metadata": {
      "needs_background": "light"
     },
     "output_type": "display_data"
    }
   ],
   "source": [
    "%time plot_barcodes(network.barcodes)\n",
    "plt.title(topic)\n",
    "# %time plot_persistence_diagram(barcodes.loc[barcodes['birth']>1900])"
   ]
  },
  {
   "cell_type": "code",
   "execution_count": 59,
   "metadata": {},
   "outputs": [
    {
     "data": {
      "text/plain": [
       "6"
      ]
     },
     "execution_count": 59,
     "metadata": {},
     "output_type": "execute_result"
    }
   ],
   "source": [
    "max(network.barcodes['dim'])"
   ]
  },
  {
   "cell_type": "code",
   "execution_count": 74,
   "metadata": {},
   "outputs": [],
   "source": [
    "births = {n: [0]*max(network.barcodes['dim']) for n in sorted(network.nodes)}\n",
    "deaths = {n: [0]*max(network.barcodes['dim']) for n in sorted(network.nodes)}\n",
    "for row in network.barcodes.iterrows():\n",
    "    for node in row[1]['birth nodes']:\n",
    "        births[node][row[1]['dim']-1] += 1\n",
    "    for node in row[1]['death nodes']:\n",
    "        deaths[node][row[1]['dim']-1] += 1"
   ]
  },
  {
   "cell_type": "code",
   "execution_count": 91,
   "metadata": {},
   "outputs": [],
   "source": [
    "counts = {'names': list(range(len(network.nodes)))*2,\n",
    "          'type': ['births']*len(network.nodes) + ['deaths']*len(network.nodes),\n",
    "          'value': [sum(births[n]) for n in network.nodes] +\\\n",
    "                   [sum(deaths[n]) for n in network.nodes]}"
   ]
  },
  {
   "cell_type": "code",
   "execution_count": 92,
   "metadata": {},
   "outputs": [
    {
     "data": {
      "text/plain": [
       "<matplotlib.axes._subplots.AxesSubplot at 0x7fa2e41924e0>"
      ]
     },
     "execution_count": 92,
     "metadata": {},
     "output_type": "execute_result"
    },
    {
     "data": {
      "image/png": "[encoded data removed]",
      "text/plain": [
       "<Figure size 432x288 with 1 Axes>"
      ]
     },
     "metadata": {
      "needs_background": "light"
     },
     "output_type": "display_data"
    }
   ],
   "source": [
    "plt.figure()\n",
    "sns.barplot(x='names', y='value', hue='type', data=counts)"
   ]
  }
 ],
 "metadata": {
  "kernelspec": {
   "display_name": "Python 3",
   "language": "python",
   "name": "python3"
  },
  "language_info": {
   "codemirror_mode": {
    "name": "ipython",
    "version": 3
   },
   "file_extension": ".py",
   "mimetype": "text/x-python",
   "name": "python",
   "nbconvert_exporter": "python",
   "pygments_lexer": "ipython3",
   "version": "3.7.3"
  }
 },
 "nbformat": 4,
 "nbformat_minor": 2
}
