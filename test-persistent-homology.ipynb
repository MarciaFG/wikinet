{
 "cells": [
  {
   "cell_type": "markdown",
   "metadata": {},
   "source": [
    "### Persistent homology examples\n",
    "\n",
    "* Ripser [paper](https://www.theoj.org/joss-papers/joss.00925/10.21105.joss.00925.pdf) [code](https://github.com/scikit-tda/ripser.py) (fast)\n",
    "* Dionysus 2 [code](https://mrzv.org/software/dionysus2/) (representative examples)\n",
    "* Nico's [code](https://github.com/nhchristianson/Math-text-semantic-networks)\n",
    "* Ann's [code](https://github.com/asizemore/PH_tutorial/blob/master/Tutorial_day1.ipynb)"
   ]
  },
  {
   "cell_type": "code",
   "execution_count": 1,
   "metadata": {},
   "outputs": [],
   "source": [
    "%load_ext autoreload\n",
    "%autoreload 2"
   ]
  },
  {
   "cell_type": "markdown",
   "metadata": {},
   "source": [
    "### Try persistent homology"
   ]
  },
  {
   "cell_type": "code",
   "execution_count": 2,
   "metadata": {},
   "outputs": [],
   "source": [
    "import wiki\n",
    "\n",
    "topic = 'biochemistry'\n",
    "path_saved = '/Users/harangju/Box Sync/Research/my papers/wikipedia paper/data/graphs/full/'\n",
    "network = wiki.Net()\n",
    "network.load_graph(path_saved + topic + '.gexf')"
   ]
  },
  {
   "cell_type": "code",
   "execution_count": 3,
   "metadata": {},
   "outputs": [
    {
     "name": "stdout",
     "output_type": "stream",
     "text": [
      "wiki.Net: computing barcodes... (skip negatives)\n",
      "wiki.Net: barcode 11234/11251\n",
      "CPU times: user 13 s, sys: 954 ms, total: 13.9 s\n",
      "Wall time: 14.8 s\n"
     ]
    },
    {
     "data": {
      "text/html": [
       "<div>\n",
       "<style scoped>\n",
       "    .dataframe tbody tr th:only-of-type {\n",
       "        vertical-align: middle;\n",
       "    }\n",
       "\n",
       "    .dataframe tbody tr th {\n",
       "        vertical-align: top;\n",
       "    }\n",
       "\n",
       "    .dataframe thead th {\n",
       "        text-align: right;\n",
       "    }\n",
       "</style>\n",
       "<table border=\"1\" class=\"dataframe\">\n",
       "  <thead>\n",
       "    <tr style=\"text-align: right;\">\n",
       "      <th></th>\n",
       "      <th>dim</th>\n",
       "      <th>birth</th>\n",
       "      <th>death</th>\n",
       "      <th>birth simplex</th>\n",
       "      <th>death nodes</th>\n",
       "      <th>death simplex</th>\n",
       "    </tr>\n",
       "  </thead>\n",
       "  <tbody>\n",
       "    <tr>\n",
       "      <td>0</td>\n",
       "      <td>0</td>\n",
       "      <td>-2500</td>\n",
       "      <td>inf</td>\n",
       "      <td>[Carbon]</td>\n",
       "      <td>[]</td>\n",
       "      <td>[]</td>\n",
       "    </tr>\n",
       "    <tr>\n",
       "      <td>1</td>\n",
       "      <td>0</td>\n",
       "      <td>-2500</td>\n",
       "      <td>800.0</td>\n",
       "      <td>[Nutrition]</td>\n",
       "      <td>[Ethanol]</td>\n",
       "      <td>[Ethanol, Ammonia]</td>\n",
       "    </tr>\n",
       "    <tr>\n",
       "      <td>2</td>\n",
       "      <td>0</td>\n",
       "      <td>-2000</td>\n",
       "      <td>-2000.0</td>\n",
       "      <td>[Alcohol]</td>\n",
       "      <td>[Alcohol]</td>\n",
       "      <td>[Carbon, Alcohol]</td>\n",
       "    </tr>\n",
       "    <tr>\n",
       "      <td>3</td>\n",
       "      <td>0</td>\n",
       "      <td>-2000</td>\n",
       "      <td>1600.0</td>\n",
       "      <td>[Medicine]</td>\n",
       "      <td>[Life]</td>\n",
       "      <td>[Life, Microbiology]</td>\n",
       "    </tr>\n",
       "    <tr>\n",
       "      <td>4</td>\n",
       "      <td>0</td>\n",
       "      <td>-2000</td>\n",
       "      <td>-2000.0</td>\n",
       "      <td>[Pharmacist]</td>\n",
       "      <td>[Medicine, Pharmacist]</td>\n",
       "      <td>[Medicine, Pharmacist]</td>\n",
       "    </tr>\n",
       "    <tr>\n",
       "      <td>...</td>\n",
       "      <td>...</td>\n",
       "      <td>...</td>\n",
       "      <td>...</td>\n",
       "      <td>...</td>\n",
       "      <td>...</td>\n",
       "      <td>...</td>\n",
       "    </tr>\n",
       "    <tr>\n",
       "      <td>6041</td>\n",
       "      <td>5</td>\n",
       "      <td>1911</td>\n",
       "      <td>1911.0</td>\n",
       "      <td>[Electron, Proton, Atomic nucleus, Atomic numb...</td>\n",
       "      <td>[Atomic nucleus]</td>\n",
       "      <td>[Atom, Electron, Proton, Atomic nucleus, Atomi...</td>\n",
       "    </tr>\n",
       "    <tr>\n",
       "      <td>6042</td>\n",
       "      <td>5</td>\n",
       "      <td>1911</td>\n",
       "      <td>1911.0</td>\n",
       "      <td>[Electron, Atomic nucleus, Neutron, Atomic num...</td>\n",
       "      <td>[Atomic nucleus]</td>\n",
       "      <td>[Atom, Electron, Atomic nucleus, Neutron, Atom...</td>\n",
       "    </tr>\n",
       "    <tr>\n",
       "      <td>6043</td>\n",
       "      <td>5</td>\n",
       "      <td>1911</td>\n",
       "      <td>1911.0</td>\n",
       "      <td>[Hydrogen, Proton, Atomic nucleus, Neutron, At...</td>\n",
       "      <td>[Atomic nucleus]</td>\n",
       "      <td>[Atom, Hydrogen, Proton, Atomic nucleus, Neutr...</td>\n",
       "    </tr>\n",
       "    <tr>\n",
       "      <td>6044</td>\n",
       "      <td>5</td>\n",
       "      <td>1911</td>\n",
       "      <td>1911.0</td>\n",
       "      <td>[Proton, Atomic nucleus, Neutron, Atomic numbe...</td>\n",
       "      <td>[Atomic nucleus]</td>\n",
       "      <td>[Atom, Proton, Atomic nucleus, Neutron, Atomic...</td>\n",
       "    </tr>\n",
       "    <tr>\n",
       "      <td>6045</td>\n",
       "      <td>6</td>\n",
       "      <td>1911</td>\n",
       "      <td>1911.0</td>\n",
       "      <td>[Electron, Proton, Atomic nucleus, Neutron, At...</td>\n",
       "      <td>[Atomic nucleus]</td>\n",
       "      <td>[Atom, Electron, Proton, Atomic nucleus, Neutr...</td>\n",
       "    </tr>\n",
       "  </tbody>\n",
       "</table>\n",
       "<p>6046 rows × 6 columns</p>\n",
       "</div>"
      ],
      "text/plain": [
       "      dim  birth   death                                      birth simplex  \\\n",
       "0       0  -2500     inf                                           [Carbon]   \n",
       "1       0  -2500   800.0                                        [Nutrition]   \n",
       "2       0  -2000 -2000.0                                          [Alcohol]   \n",
       "3       0  -2000  1600.0                                         [Medicine]   \n",
       "4       0  -2000 -2000.0                                       [Pharmacist]   \n",
       "...   ...    ...     ...                                                ...   \n",
       "6041    5   1911  1911.0  [Electron, Proton, Atomic nucleus, Atomic numb...   \n",
       "6042    5   1911  1911.0  [Electron, Atomic nucleus, Neutron, Atomic num...   \n",
       "6043    5   1911  1911.0  [Hydrogen, Proton, Atomic nucleus, Neutron, At...   \n",
       "6044    5   1911  1911.0  [Proton, Atomic nucleus, Neutron, Atomic numbe...   \n",
       "6045    6   1911  1911.0  [Electron, Proton, Atomic nucleus, Neutron, At...   \n",
       "\n",
       "                 death nodes  \\\n",
       "0                         []   \n",
       "1                  [Ethanol]   \n",
       "2                  [Alcohol]   \n",
       "3                     [Life]   \n",
       "4     [Medicine, Pharmacist]   \n",
       "...                      ...   \n",
       "6041        [Atomic nucleus]   \n",
       "6042        [Atomic nucleus]   \n",
       "6043        [Atomic nucleus]   \n",
       "6044        [Atomic nucleus]   \n",
       "6045        [Atomic nucleus]   \n",
       "\n",
       "                                          death simplex  \n",
       "0                                                    []  \n",
       "1                                    [Ethanol, Ammonia]  \n",
       "2                                     [Carbon, Alcohol]  \n",
       "3                                  [Life, Microbiology]  \n",
       "4                                [Medicine, Pharmacist]  \n",
       "...                                                 ...  \n",
       "6041  [Atom, Electron, Proton, Atomic nucleus, Atomi...  \n",
       "6042  [Atom, Electron, Atomic nucleus, Neutron, Atom...  \n",
       "6043  [Atom, Hydrogen, Proton, Atomic nucleus, Neutr...  \n",
       "6044  [Atom, Proton, Atomic nucleus, Neutron, Atomic...  \n",
       "6045  [Atom, Electron, Proton, Atomic nucleus, Neutr...  \n",
       "\n",
       "[6046 rows x 6 columns]"
      ]
     },
     "execution_count": 3,
     "metadata": {},
     "output_type": "execute_result"
    }
   ],
   "source": [
    "%time network.barcodes"
   ]
  },
  {
   "cell_type": "markdown",
   "metadata": {},
   "source": [
    "### Plot"
   ]
  },
  {
   "cell_type": "code",
   "execution_count": 4,
   "metadata": {},
   "outputs": [],
   "source": [
    "import numpy as np\n",
    "import pandas as pd\n",
    "import seaborn as sns\n",
    "import matplotlib.pyplot as plt\n",
    "import matplotlib._color_data as mcd\n",
    "\n",
    "sns.set(style='white', font_scale=2)"
   ]
  },
  {
   "cell_type": "code",
   "execution_count": 5,
   "metadata": {},
   "outputs": [],
   "source": [
    "def plot_barcodes(barcodes):\n",
    "    \"\"\"\n",
    "    \"\"\"\n",
    "    colors = [mcd.XKCD_COLORS['xkcd:'+c]\n",
    "          for c in ['emerald green', 'tealish', 'peacock blue', \n",
    "                    'grey', 'brown', 'red', 'yellow']]\n",
    "    plt.figure(figsize=(15,6))\n",
    "    for i, row in barcodes.iterrows():\n",
    "        birth = row['birth']\n",
    "        death = row['death']\n",
    "        x = [birth, 2050] if death==np.inf else\\\n",
    "            [birth, death]\n",
    "        plt.plot(x, i*np.ones(len(x)), colors[row['dim']])\n",
    "        if death != np.inf:\n",
    "            plt.plot(death, i, 'r.')\n",
    "    plt.axvline(x=2040, linestyle='--', color=mcd.XKCD_COLORS['xkcd:grey'])\n",
    "    plt.gca().axes.yaxis.set_ticklabels([])"
   ]
  },
  {
   "cell_type": "code",
   "execution_count": 6,
   "metadata": {},
   "outputs": [],
   "source": [
    "def plot_persistence_diagram(barcodes):\n",
    "    colors = [mcd.XKCD_COLORS['xkcd:'+c]\n",
    "      for c in ['emerald green', 'tealish', 'peacock blue', \n",
    "                'grey', 'brown', 'red', 'yellow']]\n",
    "    plt.figure(figsize=(10,10))\n",
    "    for dim in set(barcodes['dim']):\n",
    "        data = barcodes.loc[barcodes['dim']==dim]\n",
    "        data.loc[data['death']==np.inf,'death'] = 2030\n",
    "        plt.plot(data['birth'], data['death'], '.')\n",
    "    x = [barcodes['birth'].min(),\n",
    "         barcodes.loc[barcodes['death']!=np.inf,'death'].max()]\n",
    "    print(x)\n",
    "    plt.plot(x, [2030, 2030], '--')"
   ]
  },
  {
   "cell_type": "code",
   "execution_count": 8,
   "metadata": {},
   "outputs": [
    {
     "name": "stdout",
     "output_type": "stream",
     "text": [
      "CPU times: user 1min 6s, sys: 627 ms, total: 1min 7s\n",
      "Wall time: 1min 9s\n"
     ]
    },
    {
     "data": {
      "text/plain": [
       "Text(0.5, 1.0, 'biochemistry')"
      ]
     },
     "execution_count": 8,
     "metadata": {},
     "output_type": "execute_result"
    },
    {
     "data": {
      "image/png": "[encoded data removed]",
      "text/plain": [
       "<Figure size 1080x432 with 1 Axes>"
      ]
     },
     "metadata": {
      "needs_background": "light"
     },
     "output_type": "display_data"
    }
   ],
   "source": [
    "%time plot_barcodes(network.barcodes)\n",
    "plt.title(topic)\n",
    "# %time plot_persistence_diagram(barcodes.loc[barcodes['birth']>1900])"
   ]
  },
  {
   "cell_type": "code",
   "execution_count": 23,
   "metadata": {},
   "outputs": [
    {
     "data": {
      "text/plain": [
       "[[], ['Ethanol'], ['Alcohol'], ['Life'], ['Medicine', 'Pharmacist']]"
      ]
     },
     "execution_count": 23,
     "metadata": {},
     "output_type": "execute_result"
    }
   ],
   "source": [
    "list(network.barcodes['death nodes'])[:5]"
   ]
  }
 ],
 "metadata": {
  "kernelspec": {
   "display_name": "Python 3",
   "language": "python",
   "name": "python3"
  },
  "language_info": {
   "codemirror_mode": {
    "name": "ipython",
    "version": 3
   },
   "file_extension": ".py",
   "mimetype": "text/x-python",
   "name": "python",
   "nbconvert_exporter": "python",
   "pygments_lexer": "ipython3",
   "version": "3.7.4"
  }
 },
 "nbformat": 4,
 "nbformat_minor": 2
}
