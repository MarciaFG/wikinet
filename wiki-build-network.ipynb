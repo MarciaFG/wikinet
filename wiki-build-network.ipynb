{
 "cells": [
  {
   "cell_type": "markdown",
   "metadata": {},
   "source": [
    "### WikiEngine"
   ]
  },
  {
   "cell_type": "code",
   "execution_count": 1,
   "metadata": {},
   "outputs": [],
   "source": [
    "from wiki.dump import WikiDump\n",
    "\n",
    "path_base = '/Users/harangju/Developer/data/wiki/'\n",
    "name_xml = 'enwiki-20190801-pages-articles-multistream.xml.bz2'\n",
    "name_index = 'enwiki-20190801-pages-articles-multistream-index.txt.bz2'\n",
    "path_xml = path_base + name_xml\n",
    "path_index = path_base + name_index\n",
    "dump = WikiDump(path_xml, path_index)"
   ]
  },
  {
   "cell_type": "markdown",
   "metadata": {},
   "source": [
    "### Exploring the wiki dump"
   ]
  },
  {
   "cell_type": "code",
   "execution_count": 2,
   "metadata": {},
   "outputs": [
    {
     "name": "stdout",
     "output_type": "stream",
     "text": [
      "WikiDump: Loading index...\n",
      "WikiDump: Loaded.\n"
     ]
    },
    {
     "data": {
      "text/plain": [
       "['Classical physics', 'mechanics', 'optics', 'electricity', 'magnetism']"
      ]
     },
     "execution_count": 2,
     "metadata": {},
     "output_type": "execute_result"
    }
   ],
   "source": [
    "dump.load_page('Portal:Physics/Topics')\n",
    "dump.links[:5]"
   ]
  },
  {
   "cell_type": "code",
   "execution_count": 3,
   "metadata": {},
   "outputs": [
    {
     "data": {
      "text/plain": [
       "['University of Pennsylvania',\n",
       " 'Pennsylvania State University',\n",
       " 'University of Cambridge',\n",
       " 'Sloan Research Fellowship',\n",
       " 'MacArthur fellowship']"
      ]
     },
     "execution_count": 3,
     "metadata": {},
     "output_type": "execute_result"
    }
   ],
   "source": [
    "dump.load_page('Danielle Bassett')\n",
    "dump.links[:5]"
   ]
  },
  {
   "cell_type": "code",
   "execution_count": 4,
   "metadata": {},
   "outputs": [
    {
     "data": {
      "text/plain": [
       "'In classical physics and general chemistry, matter is any substance that has mass and takes up space by having volume. All everyday objects that can be touched are ultimately composed of atoms, which are made up of interacting subatomic particles, and in everyday as well as scientific usage, \"matter\" generally includes atoms and anything made up of them, and any particles (or combination of particles) that act as if they have both rest mass and volume. However it does not include massless particles such as photons, or other energy phenomena or waves such as light or sound.  Matter exists in various states (also known as phases). These include classical everyday phases such as solid, liquid, and gas – for example water exists as ice, liquid water, and gaseous steam – but other states are possible, including plasma, Bose–Einstein condensates, fermionic condensates, and quark–gluon plasma.\\n\\nUsually atoms can be imagined as a nucleus of protons and neutrons, and a surrounding \"cloud\" of orbiting electrons which \"take up space\".  However this is only somewhat correct, because subatomic particles and their properties are governed by their quantum nature, which means they do not act as everyday objects appear to act – they can act like waves as well as particles and they do not have well-defined sizes or positions. In the Standard Model of particle physics, matter is not a fundamental concept because the elementary constituents of atoms are quantum entities which do not have an inherent \"size\" or \"volume\" in any everyday sense of the word. Due to the exclusion principle and other fundamental interactions, some \"point particles\" known as fermions (quarks, leptons), and many composites and atoms, are effectively forced to keep a distance from other particles under everyday conditions; this creates the property of matter which appears to us as matter taking up space.\\n\\nFor much of the history of the natural sciences people have contemplated the exact nature of matter. The idea that matter was built of discrete building blocks, the so-called particulate theory of matter, was first put forward in ancient India by Jains (~900–500 BC), followed by the Greek philosophers Leucippus (~490 BC) and Democritus (~470–380 BC).'"
      ]
     },
     "execution_count": 4,
     "metadata": {},
     "output_type": "execute_result"
    }
   ],
   "source": [
    "dump.load_page('Matter', filter_top=True).strip_code()"
   ]
  },
  {
   "cell_type": "code",
   "execution_count": 5,
   "metadata": {},
   "outputs": [
    {
     "data": {
      "text/plain": [
       "['Pandemonium effect', 'Panemone windmill', 'Panofsky Prize', 'Pantur Silaban']"
      ]
     },
     "execution_count": 5,
     "metadata": {},
     "output_type": "execute_result"
    }
   ],
   "source": [
    "dump.load_page('Index of physics articles (P)')\n",
    "dump.links[50:54]"
   ]
  },
  {
   "cell_type": "code",
   "execution_count": 6,
   "metadata": {},
   "outputs": [
    {
     "name": "stdout",
     "output_type": "stream",
     "text": [
      "CPU times: user 81.3 ms, sys: 1.98 ms, total: 83.2 ms\n",
      "Wall time: 107 ms\n",
      "CPU times: user 67.7 ms, sys: 62 µs, total: 67.8 ms\n",
      "Wall time: 67.8 ms\n",
      "CPU times: user 212 ms, sys: 3.66 ms, total: 215 ms\n",
      "Wall time: 219 ms\n"
     ]
    }
   ],
   "source": [
    "# testing XML cache\n",
    "%time page = dump.load_page('AccessibleComputing')\n",
    "%time page = dump.load_page('Anarchism')\n",
    "%time page = dump.load_page('Angola')"
   ]
  },
  {
   "cell_type": "markdown",
   "metadata": {},
   "source": [
    "### Wikipedia hypernet traversal"
   ]
  },
  {
   "cell_type": "code",
   "execution_count": 7,
   "metadata": {},
   "outputs": [],
   "source": [
    "import networkx as nx\n",
    "\n",
    "class WikiCrawler():\n",
    "    @staticmethod\n",
    "    def bfs(graph, dump, queue, depth_goal=1):\n",
    "        depth = 0\n",
    "        depth_num_items = len(queue)\n",
    "        depth_inc_pending = False\n",
    "        while queue:\n",
    "            page = queue.pop(0)\n",
    "            depth_num_items -= 1\n",
    "            if depth_num_items == 0:\n",
    "                depth += 1\n",
    "                print('Depth: ' + str(depth))\n",
    "                depth_inc_pending = True\n",
    "            if dump.load_page(page, filter_top=True):\n",
    "                for link in dump.links:\n",
    "                    link = str(link).split('#')[0].capitalize()\n",
    "                    if (page, link) not in graph.edges:\n",
    "                        graph.add_edge(link, page, \n",
    "                                       weight=1)\n",
    "                        queue.append(link)\n",
    "            if depth_inc_pending:\n",
    "                depth_num_items = len(queue)\n",
    "                depth_inc_pending = False\n",
    "            if depth == depth_goal:\n",
    "                break"
   ]
  },
  {
   "cell_type": "code",
   "execution_count": 8,
   "metadata": {},
   "outputs": [
    {
     "name": "stdout",
     "output_type": "stream",
     "text": [
      "Depth: 1\n",
      "Depth: 2\n",
      "Depth: 3\n"
     ]
    }
   ],
   "source": [
    "graph = nx.DiGraph()\n",
    "queue = ['Matter']\n",
    "WikiCrawler.bfs(graph, dump, queue, 3)"
   ]
  },
  {
   "cell_type": "code",
   "execution_count": 9,
   "metadata": {},
   "outputs": [
    {
     "data": {
      "text/plain": [
       "9492"
      ]
     },
     "execution_count": 9,
     "metadata": {},
     "output_type": "execute_result"
    }
   ],
   "source": [
    "len(graph.nodes)"
   ]
  },
  {
   "cell_type": "markdown",
   "metadata": {},
   "source": [
    "### Port to gephi"
   ]
  },
  {
   "cell_type": "code",
   "execution_count": null,
   "metadata": {},
   "outputs": [],
   "source": [
    "nx.write_gexf(graph, path_base + 'graphs/matter_d3.gexf')"
   ]
  },
  {
   "cell_type": "markdown",
   "metadata": {},
   "source": [
    "### Edge weights"
   ]
  },
  {
   "cell_type": "code",
   "execution_count": null,
   "metadata": {},
   "outputs": [],
   "source": []
  }
 ],
 "metadata": {
  "kernelspec": {
   "display_name": "Python 3",
   "language": "python",
   "name": "python3"
  },
  "language_info": {
   "codemirror_mode": {
    "name": "ipython",
    "version": 3
   },
   "file_extension": ".py",
   "mimetype": "text/x-python",
   "name": "python",
   "nbconvert_exporter": "python",
   "pygments_lexer": "ipython3",
   "version": "3.7.3"
  }
 },
 "nbformat": 4,
 "nbformat_minor": 2
}
