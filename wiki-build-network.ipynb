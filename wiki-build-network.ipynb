{
 "cells": [
  {
   "cell_type": "markdown",
   "metadata": {},
   "source": [
    "### WikiEngine"
   ]
  },
  {
   "cell_type": "code",
   "execution_count": 5,
   "metadata": {},
   "outputs": [],
   "source": [
    "%run wikidump.py\n",
    "\n",
    "path_base = '/Users/harangju/Developer/data/wiki/'\n",
    "name_xml = 'enwiki-20190801-pages-articles-multistream.xml.bz2'\n",
    "name_index = 'enwiki-20190801-pages-articles-multistream-index.txt.bz2'\n",
    "path_xml = path_base + name_xml\n",
    "path_index = path_base + name_index\n",
    "dump = WikiDump(path_xml, path_index)"
   ]
  },
  {
   "cell_type": "markdown",
   "metadata": {},
   "source": [
    "### Exploring the wiki dump"
   ]
  },
  {
   "cell_type": "code",
   "execution_count": 6,
   "metadata": {},
   "outputs": [
    {
     "name": "stdout",
     "output_type": "stream",
     "text": [
      "WikiDump: Loading index...\n",
      "WikiDump: Loaded.\n"
     ]
    },
    {
     "data": {
      "text/plain": [
       "['Classical physics', 'mechanics', 'optics', 'electricity', 'magnetism']"
      ]
     },
     "execution_count": 6,
     "metadata": {},
     "output_type": "execute_result"
    }
   ],
   "source": [
    "dump.load_page('Portal:Physics/Topics')\n",
    "dump.links[:5]"
   ]
  },
  {
   "cell_type": "code",
   "execution_count": 7,
   "metadata": {},
   "outputs": [
    {
     "data": {
      "text/plain": [
       "['University of Pennsylvania',\n",
       " 'Pennsylvania State University',\n",
       " 'University of Cambridge',\n",
       " 'Sloan Research Fellowship',\n",
       " 'MacArthur fellowship']"
      ]
     },
     "execution_count": 7,
     "metadata": {},
     "output_type": "execute_result"
    }
   ],
   "source": [
    "dump.load_page('Danielle Bassett')\n",
    "dump.links[:5]"
   ]
  },
  {
   "cell_type": "code",
   "execution_count": 8,
   "metadata": {},
   "outputs": [
    {
     "data": {
      "text/plain": [
       "['plasma (physics)', 'quartz', 'solid', 'water', 'liquid']"
      ]
     },
     "execution_count": 8,
     "metadata": {},
     "output_type": "execute_result"
    }
   ],
   "source": [
    "dump.load_page('Matter', filter_top=True)\n",
    "dump.links[5:10]"
   ]
  },
  {
   "cell_type": "code",
   "execution_count": 9,
   "metadata": {},
   "outputs": [
    {
     "data": {
      "text/plain": [
       "['Pandemonium effect', 'Panemone windmill', 'Panofsky Prize', 'Pantur Silaban']"
      ]
     },
     "execution_count": 9,
     "metadata": {},
     "output_type": "execute_result"
    }
   ],
   "source": [
    "dump.load_page('Index of physics articles (P)')\n",
    "dump.links[50:54]"
   ]
  },
  {
   "cell_type": "markdown",
   "metadata": {},
   "source": [
    "### Wikipedia hypernet traversal"
   ]
  },
  {
   "cell_type": "code",
   "execution_count": 10,
   "metadata": {},
   "outputs": [],
   "source": [
    "import networkx as nx\n",
    "\n",
    "class WikiCrawler():\n",
    "    @staticmethod\n",
    "    def bfs(graph, dump, queue, depth_goal=1):\n",
    "        depth = 0\n",
    "        depth_num_items = len(queue)\n",
    "        depth_inc_pending = False\n",
    "        while queue:\n",
    "            page = queue.pop(0)\n",
    "            depth_num_items -= 1\n",
    "            if depth_num_items == 0:\n",
    "                depth += 1\n",
    "                print('Depth: ' + str(depth))\n",
    "                depth_inc_pending = True\n",
    "            if dump.load_page(page, filter_top=True):\n",
    "                for link in dump.links:\n",
    "                    link = str(link).split('#')[0].capitalize()\n",
    "                    if (page, link) not in graph.edges:\n",
    "                        graph.add_edge(link, page)\n",
    "                        queue.append(link)\n",
    "            if depth_inc_pending:\n",
    "                depth_num_items = len(queue)\n",
    "                depth_inc_pending = False\n",
    "            if depth == depth_goal:\n",
    "                break"
   ]
  },
  {
   "cell_type": "code",
   "execution_count": 11,
   "metadata": {},
   "outputs": [
    {
     "name": "stdout",
     "output_type": "stream",
     "text": [
      "Depth: 1\n",
      "Depth: 2\n",
      "Depth: 3\n"
     ]
    }
   ],
   "source": [
    "graph = nx.DiGraph()\n",
    "queue = ['Matter']\n",
    "WikiCrawler.bfs(graph, dump, queue, 3)"
   ]
  },
  {
   "cell_type": "code",
   "execution_count": 12,
   "metadata": {},
   "outputs": [
    {
     "data": {
      "text/plain": [
       "9492"
      ]
     },
     "execution_count": 12,
     "metadata": {},
     "output_type": "execute_result"
    }
   ],
   "source": [
    "len(graph.nodes)"
   ]
  },
  {
   "cell_type": "markdown",
   "metadata": {},
   "source": [
    "### Port to gephi"
   ]
  },
  {
   "cell_type": "code",
   "execution_count": 13,
   "metadata": {},
   "outputs": [],
   "source": [
    "nx.write_gexf(graph, path_base + 'graphs/matter_d3.gexf')"
   ]
  },
  {
   "cell_type": "markdown",
   "metadata": {},
   "source": [
    "### Edge weights"
   ]
  },
  {
   "cell_type": "code",
   "execution_count": null,
   "metadata": {},
   "outputs": [],
   "source": []
  }
 ],
 "metadata": {
  "kernelspec": {
   "display_name": "Python 3",
   "language": "python",
   "name": "python3"
  },
  "language_info": {
   "codemirror_mode": {
    "name": "ipython",
    "version": 3
   },
   "file_extension": ".py",
   "mimetype": "text/x-python",
   "name": "python",
   "nbconvert_exporter": "python",
   "pygments_lexer": "ipython3",
   "version": "3.7.3"
  }
 },
 "nbformat": 4,
 "nbformat_minor": 2
}
