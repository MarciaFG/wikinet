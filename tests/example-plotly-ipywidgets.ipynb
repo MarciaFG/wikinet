{
 "cells": [
  {
   "cell_type": "code",
   "execution_count": 1,
   "metadata": {},
   "outputs": [
    {
     "data": {
      "application/vnd.jupyter.widget-view+json": {
       "model_id": "db4e8dc6b9b5489e9c9fbc3b606f5677",
       "version_major": 2,
       "version_minor": 0
      },
      "text/plain": [
       "IntSlider(value=0, description='Year', layout=Layout(width='auto'), max=1000)"
      ]
     },
     "metadata": {},
     "output_type": "display_data"
    },
    {
     "data": {
      "application/vnd.jupyter.widget-view+json": {
       "model_id": "4315405fbef14015b95e95ea47ba259b",
       "version_major": 2,
       "version_minor": 0
      },
      "text/plain": [
       "FigureWidget({\n",
       "    'data': [{'mode': 'lines',\n",
       "              'name': 'data0',\n",
       "              'type': 'scatter',\n",
       "…"
      ]
     },
     "metadata": {},
     "output_type": "display_data"
    }
   ],
   "source": [
    "import numpy as np\n",
    "import ipywidgets as ipw\n",
    "import plotly.graph_objs as go\n",
    "\n",
    "def update(change):\n",
    "    with fig.batch_update():\n",
    "        fig.data[0].x = list(range(change.new, len(data)))\n",
    "        fig.data[0].y = data[change.new:]\n",
    "\n",
    "data = np.cumsum(np.random.normal(size=1000))\n",
    "\n",
    "slider = ipw.widgets.IntSlider(value=0, min=0, max=len(data),\n",
    "                               step=1, description='Year', continuous_update=True,\n",
    "                               layout=ipw.Layout(width='auto'))\n",
    "slider.observe(update, names='value')\n",
    "display(slider)\n",
    "\n",
    "fig = go.FigureWidget()\n",
    "fig.add_trace(go.Scatter(x=list(range(len(data))), y=data, name='data0', mode='lines'))\n",
    "fig.update_layout(title='Title', xaxis_title='Index', yaxis_title='Y', template='plotly_white')\n",
    "fig"
   ]
  }
 ],
 "metadata": {
  "kernelspec": {
   "display_name": "Python 3",
   "language": "python",
   "name": "python3"
  },
  "language_info": {
   "codemirror_mode": {
    "name": "ipython",
    "version": 3
   },
   "file_extension": ".py",
   "mimetype": "text/x-python",
   "name": "python",
   "nbconvert_exporter": "python",
   "pygments_lexer": "ipython3",
   "version": "3.7.6"
  },
  "toc": {
   "base_numbering": 1,
   "nav_menu": {},
   "number_sections": true,
   "sideBar": true,
   "skip_h1_title": false,
   "title_cell": "Table of Contents",
   "title_sidebar": "Contents",
   "toc_cell": false,
   "toc_position": {},
   "toc_section_display": true,
   "toc_window_display": false
  }
 },
 "nbformat": 4,
 "nbformat_minor": 2
}
