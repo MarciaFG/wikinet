{
 "cells": [
  {
   "cell_type": "markdown",
   "metadata": {
    "heading_collapsed": true
   },
   "source": [
    "## Initialization"
   ]
  },
  {
   "cell_type": "code",
   "execution_count": null,
   "metadata": {
    "hidden": true,
    "scrolled": false
   },
   "outputs": [],
   "source": [
    "%reload_ext autoreload\n",
    "%autoreload 2\n",
    "%reload_ext cython\n",
    "%reload_ext line_profiler\n",
    "import os,sys\n",
    "sys.path.insert(1, os.path.join(sys.path[0], '..', 'module'))\n",
    "import wiki\n",
    "import numpy as np\n",
    "import pandas as pd\n",
    "import networkx as nx\n",
    "import scipy as sp\n",
    "import seaborn as sns\n",
    "import cufflinks as cf\n",
    "import matplotlib.pyplot as plt"
   ]
  },
  {
   "cell_type": "code",
   "execution_count": null,
   "metadata": {
    "hidden": true,
    "scrolled": false
   },
   "outputs": [],
   "source": [
    "# topics = ['anatomy', 'biochemistry', 'cognitive science', 'evolutionary biology',\n",
    "#           'genetics', 'immunology', 'molecular biology', 'chemistry', 'biophysics',\n",
    "#           'energy', 'optics', 'earth science', 'geology', 'meteorology']\n",
    "topics = ['earth science']\n",
    "path_saved = '/Users/harangju/Developer/data/wiki/graphs/dated/'\n",
    "networks = {}\n",
    "for topic in topics:\n",
    "    print(topic, end=' ')\n",
    "    networks[topic] = wiki.Net()\n",
    "    networks[topic].load_graph(path_saved + topic + '.pickle')\n",
    "graph = networks[topic].graph"
   ]
  },
  {
   "cell_type": "code",
   "execution_count": null,
   "metadata": {
    "hidden": true
   },
   "outputs": [],
   "source": [
    "topic = topics[0]\n",
    "graph = networks[topic].graph\n",
    "tfidf = graph.graph['tfidf']"
   ]
  },
  {
   "cell_type": "code",
   "execution_count": null,
   "metadata": {
    "hidden": true,
    "scrolled": false
   },
   "outputs": [],
   "source": [
    "import pickle\n",
    "dct = pickle.load(open('/Users/harangju/Developer/data/wiki/models/' + 'dict.model','rb'))"
   ]
  },
  {
   "cell_type": "markdown",
   "metadata": {
    "heading_collapsed": true
   },
   "source": [
    "## Auxiliary methods"
   ]
  },
  {
   "cell_type": "code",
   "execution_count": null,
   "metadata": {
    "hidden": true,
    "scrolled": false
   },
   "outputs": [],
   "source": [
    "%%cython -f\n",
    "\n",
    "import numpy as np\n",
    "cimport numpy as np\n",
    "from cython cimport floating,boundscheck,wraparound\n",
    "from cython.parallel import prange\n",
    "\n",
    "from libc.math cimport fabs\n",
    "\n",
    "np.import_array()\n",
    "\n",
    "@boundscheck(False)  # Deactivate bounds checking\n",
    "@wraparound(False)\n",
    "def cython_manhattan(floating[::1] X_data, int[:] X_indices, int[:] X_indptr,\n",
    "                     floating[::1] Y_data, int[:] Y_indices, int[:] Y_indptr,\n",
    "                     double[:, ::1] D):\n",
    "    \"\"\"Pairwise L1 distances for CSR matrices.\n",
    "    Usage:\n",
    "    >>> D = np.zeros(X.shape[0], Y.shape[0])\n",
    "    >>> cython_manhattan(X.data, X.indices, X.indptr,\n",
    "    ...                  Y.data, Y.indices, Y.indptr,\n",
    "    ...                  D)\n",
    "    \"\"\"\n",
    "    cdef np.npy_intp px, py, i, j, ix, iy\n",
    "    cdef double d = 0.0\n",
    "    \n",
    "    cdef int m = D.shape[0]\n",
    "    cdef int n = D.shape[1]\n",
    "    \n",
    "    with nogil:                          \n",
    "        for px in prange(m):\n",
    "            for py in range(n):\n",
    "                i = X_indptr[px]\n",
    "                j = Y_indptr[py]\n",
    "                d = 0.0\n",
    "                while i < X_indptr[px+1] and j < Y_indptr[py+1]:\n",
    "                    if i < X_indptr[px+1]: ix = X_indices[i]\n",
    "                    if j < Y_indptr[py+1]: iy = Y_indices[j]\n",
    "                    \n",
    "                    if ix==iy:\n",
    "                        d = d+fabs(X_data[i]-Y_data[j])\n",
    "                        i = i+1\n",
    "                        j = j+1\n",
    "                    \n",
    "                    elif ix<iy:\n",
    "                        d = d+fabs(X_data[i])\n",
    "                        i = i+1\n",
    "                    else:\n",
    "                        d = d+fabs(Y_data[j])\n",
    "                        j = j+1\n",
    "                \n",
    "                if i== X_indptr[px+1]:\n",
    "                    while j < Y_indptr[py+1]:\n",
    "                        iy = Y_indices[j]\n",
    "                        d = d+fabs(Y_data[j])\n",
    "                        j = j+1                                            \n",
    "                else:\n",
    "                    while i < X_indptr[px+1]:\n",
    "                        ix = X_indices[i]\n",
    "                        d = d+fabs(X_data[i])\n",
    "                        i = i+1\n",
    "                        \n",
    "                D[px,py] = d"
   ]
  },
  {
   "cell_type": "code",
   "execution_count": null,
   "metadata": {
    "hidden": true
   },
   "outputs": [],
   "source": [
    "import sklearn.preprocessing as skp\n",
    "import sklearn.metrics.pairwise as smp\n",
    "\n",
    "def year_diffs(graph):\n",
    "    return [graph.nodes[node]['year'] - graph.nodes[neighbor]['year']\n",
    "            for node in graph.nodes\n",
    "            for neighbor in list(graph.successors(node))]\n",
    "\n",
    "def neighbor_similarity(graph, tfidf):\n",
    "    nodes = list(graph.nodes)\n",
    "    return [smp.cosine_similarity(tfidf[:,nodes.index(node)].transpose(),\n",
    "                                  tfidf[:,nodes.index(neighbor)].transpose())[0,0]\n",
    "            for node in nodes\n",
    "            for neighbor in list(graph.successors(node))]\n",
    "\n",
    "def parent_similarity(graph, tfidf):\n",
    "    nodes = list(graph.nodes)\n",
    "    return [smp.cosine_similarity(tfidf[:,nodes.index(node)].transpose(),\n",
    "                                  tfidf[:,nodes.index(neighbor)].transpose())[0,0]\n",
    "            for node in nodes\n",
    "            for neighbor in list(graph.predecessors(node))]\n",
    "\n",
    "def non_neighbor_similarity(graph, tfidf):\n",
    "    nodes = list(graph.nodes)\n",
    "    sim = [smp.cosine_similarity(tfidf[:,nodes.index(n1)].transpose(),\n",
    "                                 tfidf[:,nodes.index(n2)].transpose())[0,0]\n",
    "           for n1 in graph.nodes\n",
    "           for n2 in graph.nodes\n",
    "           if (n2 is not n1) and (n2 not in list(graph.neighbors(n1)))]\n",
    "    return sim\n",
    "\n",
    "def sparse_manhattan(X,Y=None):\n",
    "    X, Y = smp.check_pairwise_arrays(X, Y)\n",
    "    X = sp.sparse.csr_matrix(X, copy=False)\n",
    "    Y = sp.sparse.csr_matrix(Y, copy=False)\n",
    "    res = np.empty(shape=(X.shape[0],Y.shape[0]))\n",
    "    cython_manhattan(X.data,X.indices,X.indptr,\n",
    "                     Y.data,Y.indices,Y.indptr,\n",
    "                             res)\n",
    "    return res\n",
    "\n",
    "def word_diffs(graph, tfidf):\n",
    "    dists = sparse_manhattan(X=skp.binarize(tfidf).transpose())\n",
    "    nodes = list(graph.nodes)\n",
    "    return [dists[nodes.index(node), nodes.index(neighbor)]\n",
    "            for node in nodes\n",
    "            for neighbor in list(graph.successors(node))]\n",
    "\n",
    "def sum_weight_differences(graph, tfidf):\n",
    "    nodes = list(graph.nodes)\n",
    "    diff = []\n",
    "    for node in nodes:\n",
    "        for neighbor in graph.successors(node):\n",
    "            v1 = tfidf[:,nodes.index(node)]\n",
    "            v2 = tfidf[:,nodes.index(neighbor)]\n",
    "            idx = np.concatenate([v1.indices, v2.indices])\n",
    "            diff.append( np.sum(np.absolute(v1[idx]-v2[idx])) )\n",
    "    return diff\n",
    "\n",
    "def weight_differences(graph, tfidf):\n",
    "    nodes = list(graph.nodes)\n",
    "    diff = np.empty(shape=0)\n",
    "    for node in nodes:\n",
    "        for neighbor in graph.successors(node):\n",
    "            v1 = tfidf[:,nodes.index(node)]\n",
    "            v2 = tfidf[:,nodes.index(neighbor)]\n",
    "            idx = np.concatenate([v1.indices, v2.indices])\n",
    "            diff = np.append(diff, np.absolute(v1[idx]-v2[idx]).data)\n",
    "    return diff\n",
    "\n",
    "def plot_distribution(data):\n",
    "    bins = np.logspace(np.log10(min(data)), np.log10(max(data)), 30)\n",
    "    hist, edges = np.histogram(data, bins=bins)\n",
    "#     hist_norm = hist/(bins[1:] - bins[:-1])\n",
    "    sns.scatterplot(bins[:-1], hist/len(data))\n",
    "    plt.yscale('log')\n",
    "    plt.xscale('log')\n",
    "    plt.xlim(bins[0]/2, bins[-1]*2)\n",
    "    plt.ylim(min(hist[hist>0])/len(data)/2, 1)\n",
    "    plt.xlabel('x')\n",
    "    plt.ylabel('P(x)')"
   ]
  },
  {
   "cell_type": "markdown",
   "metadata": {
    "heading_collapsed": true
   },
   "source": [
    "## Priors"
   ]
  },
  {
   "cell_type": "markdown",
   "metadata": {
    "heading_collapsed": true,
    "hidden": true
   },
   "source": [
    "### Prior: power law distributions of weights"
   ]
  },
  {
   "cell_type": "code",
   "execution_count": null,
   "metadata": {
    "hidden": true
   },
   "outputs": [],
   "source": [
    "import powerlaw\n",
    "tfidf = graph.graph['tfidf']\n",
    "fit = powerlaw.Fit(tfidf.data)\n",
    "# fit = xmin = 4.3e-2; alpha=2.7\n",
    "\n",
    "n_rows = 2\n",
    "plt.figure(figsize=(16,n_rows*6))\n",
    "\n",
    "plt.subplot(n_rows,2,1)\n",
    "fit.plot_pdf()\n",
    "fit.power_law.plot_pdf();\n",
    "plt.title(f\"xmin={fit.xmin:.1e}, α={fit.alpha:.1f}\");\n",
    "\n",
    "plt.subplot(n_rows,2,3)\n",
    "sns.scatterplot(x='index', y='weight',\n",
    "                data=pd.DataFrame({'index': tfidf.indices,\n",
    "                                   'weight': tfidf.data}))\n",
    "sns.scatterplot(x='index', y='weight',\n",
    "                data=pd.DataFrame({'index': tfidf.indices,\n",
    "                                   'weight': tfidf.data})\\\n",
    "                       .groupby('index').mean()\\\n",
    "                       .reset_index())\n",
    "plt.legend(['weights', 'averaged'])\n",
    "plt.ylim([-.2,1.2])\n",
    "\n",
    "plt.subplot(n_rows,2,4)\n",
    "plot_distribution(tfidf.data)"
   ]
  },
  {
   "cell_type": "markdown",
   "metadata": {
    "heading_collapsed": true,
    "hidden": true
   },
   "source": [
    "### Prior: similarity / year between neighbors"
   ]
  },
  {
   "cell_type": "code",
   "execution_count": null,
   "metadata": {
    "hidden": true,
    "scrolled": false
   },
   "outputs": [],
   "source": [
    "n_rows = 5\n",
    "\n",
    "plt.figure(figsize=(16,n_rows*6))\n",
    "plt.subplot(n_rows,2,1)\n",
    "yd = year_diffs(graph)\n",
    "sns.distplot(yd)\n",
    "plt.xlabel('Δyear')\n",
    "plt.ylabel('distribution')\n",
    "\n",
    "plt.subplot(n_rows,2,2)\n",
    "bin_size=25\n",
    "years = [graph.nodes[node]['year'] for node in graph.nodes]\n",
    "sns.distplot(years, bins=bin_size, rug=True, kde=False)\n",
    "hist, bin_edges = np.histogram(years, bins=bin_size)\n",
    "popt, pcov = sp.optimize.curve_fit(lambda x,a,b: a*pow(b,x), bin_edges[1:], hist)\n",
    "x = np.linspace(min(years), max(years), 100)\n",
    "sns.lineplot(x=x, y=popt[0]*pow(popt[1],x))\n",
    "plt.legend([f\"a*b^x; a={popt[0]:.1e}, b={popt[1]:.4f}\"])\n",
    "plt.xlabel('year');\n",
    "\n",
    "wd = word_diffs(graph, tfidf)\n",
    "mu, std = sp.stats.norm.fit(wd)\n",
    "plt.subplot(n_rows,2,3)\n",
    "sns.distplot(wd)\n",
    "x = np.linspace(min(wd), max(wd), 100)\n",
    "plt.plot(x, sp.stats.norm.pdf(x, mu, std))\n",
    "plt.legend([f\"m={mu:.2f}; s={std:.2f}\"])\n",
    "plt.xlabel('manhattan distance')\n",
    "plt.ylabel('distribution');\n",
    "\n",
    "slope, intercept, fit_r, p, stderr = sp.stats.linregress(np.abs(yd), wd)\n",
    "plt.subplot(n_rows,2,4)\n",
    "wd = word_diffs(graph, tfidf)\n",
    "sns.scatterplot(x=np.abs(yd), y=wd)\n",
    "x = np.linspace(0, max(yd), 100)\n",
    "sns.lineplot(x, np.multiply(slope, x) + intercept)\n",
    "plt.title(f\"r={fit_r:.2f}; p={p:.1e}\")\n",
    "plt.legend([f\"slope={slope:.2f}\"])\n",
    "plt.xlabel('Δyear')\n",
    "plt.ylabel('manhattan distance');\n",
    "\n",
    "parents = parent_similarity(graph, tfidf)\n",
    "neighbors = neighbor_similarity(graph, tfidf)\n",
    "non_neighbors = non_neighbor_similarity(graph, tfidf)\n",
    "fit_mu, fit_std = sp.stats.norm.fit(neighbors)\n",
    "plt.subplot(n_rows,2,5)\n",
    "sns.distplot(neighbors, hist=True)\n",
    "x = np.linspace(min(neighbors), max(neighbors), 100)\n",
    "plt.plot(x, sp.stats.norm.pdf(x, fit_mu, fit_std))\n",
    "sns.distplot(non_neighbors)\n",
    "plt.legend([f\"fit-neighbors (m={fit_mu:.2f}; s={fit_std:.2f})\", 'neighbors', 'non-neighbors'])\n",
    "plt.xlabel('cos similarity');\n",
    "\n",
    "slope, intercept, r, p, stderr = sp.stats.linregress(np.abs(yd), neighbors)\n",
    "plt.subplot(n_rows,2,6)\n",
    "sns.scatterplot(x=np.abs(yd), y=neighbors)\n",
    "x = np.linspace(0, max(yd), 100)\n",
    "sns.lineplot(x, np.multiply(slope, x) + intercept)\n",
    "plt.title(f\"r={r:.2f}; p={p:.1f}\")\n",
    "plt.legend([f\"slope={slope:.2f}\"])\n",
    "plt.xlabel('Δyear')\n",
    "plt.ylabel('cosine similarity');\n",
    "\n",
    "sum_weight_diffs = sum_weight_differences(graph, tfidf)\n",
    "mu, std = sp.stats.norm.fit(sum_weight_diffs)\n",
    "plt.subplot(n_rows,2,7)\n",
    "sns.distplot(sum_weight_diffs)\n",
    "x = np.linspace(min(sum_weight_diffs), max(sum_weight_diffs), 100)\n",
    "plt.plot(x, sp.stats.norm.pdf(x, mu, std))\n",
    "plt.legend([f\"m={mu:.2f}; s={std:.2f}\"])\n",
    "plt.xlabel('Σ abs Δw_i')\n",
    "plt.ylabel('distribution');\n",
    "\n",
    "slope, intercept, fit_r_sum_weight, p, stderr = \\\n",
    "    sp.stats.linregress(np.abs(yd), sum_weight_diffs)\n",
    "plt.subplot(n_rows,2,8)\n",
    "sns.scatterplot(x=np.abs(yd), y=sum_weight_diffs)\n",
    "x = np.linspace(0, max(yd), 100)\n",
    "sns.lineplot(x, np.multiply(slope, x) + intercept)\n",
    "plt.title(f\"r={fit_r_sum_weight:.2f}; p={p:.1e}\")\n",
    "plt.legend([f\"slope={slope:.1e}\"])\n",
    "plt.xlabel('Δyear')\n",
    "plt.ylabel('Σ abs Δw_i');\n",
    "\n",
    "weight_diffs = weight_differences(graph, tfidf)\n",
    "fit_mu_weight, std = sp.stats.norm.fit(weight_diffs)\n",
    "plt.subplot(n_rows,2,9)\n",
    "sns.distplot(weight_diffs)\n",
    "x = np.linspace(min(weight_diffs), max(weight_diffs), 100)\n",
    "plt.plot(x, sp.stats.norm.pdf(x, mu, std))\n",
    "plt.legend([f\"m={fit_mu_weight:.2f}; s={std:.2f}\"])\n",
    "plt.xlabel('abs Δw_i')\n",
    "plt.ylabel('distribution');"
   ]
  },
  {
   "cell_type": "markdown",
   "metadata": {
    "hidden": true
   },
   "source": [
    "Maybe this just shows that people nowadays have a lower threshold for dissimilarity between old and new knowledge."
   ]
  },
  {
   "cell_type": "markdown",
   "metadata": {
    "heading_collapsed": true,
    "hidden": true
   },
   "source": [
    "### Prior: word weight vs title"
   ]
  },
  {
   "cell_type": "code",
   "execution_count": null,
   "metadata": {
    "hidden": true,
    "scrolled": false
   },
   "outputs": [],
   "source": [
    "stoplist=set('for a of the and to in'.split())\n",
    "nodes = []\n",
    "words = []\n",
    "for i in range(tfidf.shape[1]):\n",
    "    node = list(graph.nodes)[i]\n",
    "    if tfidf[:,i].data.size == 0:\n",
    "        print(node, tfidf[:,i].data)\n",
    "        continue\n",
    "    top_words, idx = wiki.Model.find_top_words(tfidf[:,i], dct, top_n=5)\n",
    "    nodes += [node]\n",
    "    words += [top_words]\n",
    "pd.DataFrame(data={'Node': nodes, 'Top words': words})"
   ]
  },
  {
   "cell_type": "markdown",
   "metadata": {
    "heading_collapsed": true
   },
   "source": [
    "## Static methods"
   ]
  },
  {
   "cell_type": "markdown",
   "metadata": {
    "hidden": true
   },
   "source": [
    "### Power law"
   ]
  },
  {
   "cell_type": "code",
   "execution_count": null,
   "metadata": {
    "hidden": true
   },
   "outputs": [],
   "source": [
    "max_val = np.max(tfidf.data)\n",
    "def f(n, max_val):\n",
    "    x = fit.power_law.generate_random(n)\n",
    "    while True:\n",
    "        if np.any(x>max_val):\n",
    "            y = x > max_val\n",
    "            x[y] = fit.power_law.generate_random(np.sum(y))\n",
    "        else:\n",
    "            break\n",
    "    return x\n",
    "\n",
    "g = lambda n: np.random.choice(tfidf.data, size=n)\n",
    "\n",
    "plt.figure(figsize=(16,6))\n",
    "\n",
    "plt.subplot(121)\n",
    "plot_distribution(tfidf.data)\n",
    "plot_distribution(f(100000, max_val))\n",
    "plot_distribution(g(10000))\n",
    "plt.xlim([1e-4,1])\n",
    "plt.ylim([1e-5,1])\n",
    "# plt.yscale('linear')\n",
    "# plt.xscale('linear')\n",
    "plt.title('weights');\n",
    "\n",
    "plt.subplot(122)\n",
    "sns.distplot(tfidf.data[tfidf.data<fit.xmin])\n",
    "plt.xlabel('weight')\n",
    "plt.ylabel('count');"
   ]
  },
  {
   "cell_type": "markdown",
   "metadata": {
    "hidden": true
   },
   "source": [
    "### Mutate"
   ]
  },
  {
   "cell_type": "code",
   "execution_count": null,
   "metadata": {
    "code_folding": [],
    "hidden": true,
    "scrolled": false
   },
   "outputs": [],
   "source": [
    "x = tfidf[:,0].copy()\n",
    "y = tfidf[:,0].copy()\n",
    "T = 300\n",
    "\n",
    "sim = np.zeros(T)\n",
    "size = np.zeros(T)\n",
    "mag = np.zeros(T)\n",
    "for i in range(sim.size):\n",
    "    sim[i] = smp.cosine_similarity(x.transpose(),y.transpose())[0,0]\n",
    "    size[i] = y.size\n",
    "    mag[i] = np.sum(y.data)\n",
    "    y = wiki.Model.mutate(y, lambda n: fit.power_law.generate_random(n),\n",
    "                          point=(1,.5), insert=(1,.3,None), delete=(1,.3))\n",
    "\n",
    "plt.figure(figsize=(16,10))\n",
    "ax = plt.subplot(221)\n",
    "sns.lineplot(x=range(sim.size), y=sim)\n",
    "plt.ylabel('similarity')\n",
    "plt.xlabel('years')\n",
    "\n",
    "plt.subplot(222)\n",
    "sns.lineplot(x=range(sim.size), y=size)\n",
    "plt.ylabel('size')\n",
    "plt.xlabel('years')\n",
    "\n",
    "plt.subplot(223)\n",
    "plot_distribution(x.data)\n",
    "plot_distribution(y.data)\n",
    "plt.xlabel('tf-idf values')\n",
    "plt.legend(['before mutation', 'after mutation'])\n",
    "plt.xlabel('tf-idf values')\n",
    "\n",
    "plt.subplot(224)\n",
    "plot_distribution(x.data)\n",
    "plot_distribution(y.data)\n",
    "plt.xlabel('tf-idf values')\n",
    "plt.yscale('linear')\n",
    "plt.xscale('linear')\n",
    "plt.ylim([0,.2])\n",
    "plt.xlim([0,.1])\n",
    "plt.legend(['before mutation','after mutation']);"
   ]
  },
  {
   "cell_type": "markdown",
   "metadata": {
    "hidden": true
   },
   "source": [
    "### Connect"
   ]
  },
  {
   "cell_type": "code",
   "execution_count": null,
   "metadata": {
    "hidden": true
   },
   "outputs": [],
   "source": [
    "model = wiki.Model(graph_parent=networks[topic].graph,\n",
    "                   vectors_parent=networks[topic].graph.graph['tfidf'],\n",
    "                   year_start=-500)"
   ]
  },
  {
   "cell_type": "code",
   "execution_count": null,
   "metadata": {
    "hidden": true,
    "scrolled": false
   },
   "outputs": [],
   "source": [
    "test_graph = model.graph.copy()\n",
    "test_vector = sp.sparse.hstack([tfidf[:,list(graph.nodes).index(n)] for n in test_graph.nodes])\n",
    "\n",
    "seed = 'Meteorology'\n",
    "seed_vector = tfidf[:,list(graph.nodes).index(seed)]\n",
    "\n",
    "print('Nodes:', test_graph.nodes)\n",
    "print('Edges:', test_graph.edges, '\\n')\n",
    "print(f\"Seed: {seed}\\n\")\n",
    "wiki.Model.connect(seed_vector, test_graph, test_vector, dct, match_n=3)\n",
    "print('Nodes:', test_graph.nodes)\n",
    "print('Edges:', test_graph.edges)"
   ]
  },
  {
   "cell_type": "markdown",
   "metadata": {
    "heading_collapsed": true
   },
   "source": [
    "## Evolve"
   ]
  },
  {
   "cell_type": "markdown",
   "metadata": {
    "heading_collapsed": true,
    "hidden": true
   },
   "source": [
    "### Model"
   ]
  },
  {
   "cell_type": "code",
   "execution_count": null,
   "metadata": {
    "hidden": true,
    "scrolled": false
   },
   "outputs": [],
   "source": [
    "model = wiki.Model(graph_parent=networks[topic].graph,\n",
    "                   vectors_parent=networks[topic].graph.graph['tfidf'],\n",
    "                   year_start=1600)\n",
    "print(f\"Topic: '{graph.name}'\\n\" +\\\n",
    "      f\"Core nodes\\n\" +\\\n",
    "      f\"   {list(model.graph.nodes)}\\n\" +\\\n",
    "      f\"Parameters\\n\" +\\\n",
    "      f\"   α (power law): {fit.alpha:.2f}\\n\" +\\\n",
    "      f\"   p_insert/delete: {fit_r:.2f}/2\\n\" +\\\n",
    "      f\"   neighbor_mu, std: {fit_mu:.2f}, {fit_std:.2f}\\n\" +\\\n",
    "      f\"   crossover threshold: {fit_mu+3*fit_std:.2f}\\n\" +\\\n",
    "      f\"   point n={fit_r_sum_weight/fit_mu_weight:.2f};\" +\\\n",
    "      f\" p={fit_mu_weight:.2f}\")"
   ]
  },
  {
   "cell_type": "code",
   "execution_count": null,
   "metadata": {
    "hidden": true,
    "scrolled": false
   },
   "outputs": [],
   "source": [
    "max_val = np.max(tfidf.data)\n",
    "%lprun -f model.evolve model.evolve(year_end=1800,\\\n",
    "                                    n_seeds=2,\\\n",
    "                                    point=(fit_r_sum_weight/fit_mu_weight,\\\n",
    "                                           np.mean(tfidf.data)/fit_r_sum_weight),\\\n",
    "                                    insert=(1, fit_r/2, list(set(tfidf.indices))),\\\n",
    "                                    delete=(1, fit_r/2),\\\n",
    "                                    rvs=lambda n: np.vectorize(lambda x: max_val if x>max_val else x,\\\n",
    "                                                               otypes=[np.float64])\\\n",
    "                                                              (fit.power_law.generate_random(n)),\\\n",
    "                                    dct=dct, create=lambda n: np.random.normal(loc=fit_mu,\\\n",
    "                                                                               scale=fit_std, size=n),\\\n",
    "                                    crossover=fit_mu+3*fit_std)\n",
    "model.record"
   ]
  },
  {
   "cell_type": "markdown",
   "metadata": {
    "heading_collapsed": true,
    "hidden": true
   },
   "source": [
    "### Interesting thought\n",
    "If it weren't for the Middle Ages, we would have an amount of knowledge in the 16th Century that is similar to what we have now. But if we run the model after the Dark Ages, the model is accurate (?)."
   ]
  },
  {
   "cell_type": "code",
   "execution_count": null,
   "metadata": {
    "code_folding": [],
    "hidden": true
   },
   "outputs": [],
   "source": [
    "s = lambda a,b: smp.cosine_similarity(a.transpose(), b.transpose())[0,0]\n",
    "nodes = list(model.graph.nodes)\n",
    "model.record['Similarity to parent'] = [s(model.record.iloc[i]['Seed vectors'],\n",
    "                                          model.vectors[:,nodes.index(model.record.iloc[i]['Parent'])])\n",
    "                                        for i in range(len(model.record.index))]\n",
    "model.record['Parent seed'] = model.record['Parent'] + ' ' + model.record['Seed number'].map(str)"
   ]
  },
  {
   "cell_type": "code",
   "execution_count": null,
   "metadata": {
    "hidden": true,
    "scrolled": false
   },
   "outputs": [],
   "source": [
    "plt.figure(figsize=(16,10))\n",
    "ax = sns.lineplot(x='Year', y='Similarity to parent', hue='Parent seed', legend=False,\n",
    "                  data=model.record)\n",
    "plt.ylim([0,1.1]);"
   ]
  },
  {
   "cell_type": "markdown",
   "metadata": {
    "hidden": true
   },
   "source": [
    "### Save/load graph"
   ]
  },
  {
   "cell_type": "code",
   "execution_count": null,
   "metadata": {
    "hidden": true
   },
   "outputs": [],
   "source": [
    "# nx.write_gpickle(model, f\"model6.pickle\")"
   ]
  },
  {
   "cell_type": "code",
   "execution_count": null,
   "metadata": {
    "hidden": true
   },
   "outputs": [],
   "source": [
    "model = nx.read_gpickle(f\"model6.pickle\")\n",
    "model.record"
   ]
  },
  {
   "cell_type": "markdown",
   "metadata": {},
   "source": [
    "## Posteriors"
   ]
  },
  {
   "cell_type": "markdown",
   "metadata": {
    "heading_collapsed": true
   },
   "source": [
    "### Interactive plots\n",
    "[FigureWidgets](https://plot.ly/python/v3/figurewidget-app/)"
   ]
  },
  {
   "cell_type": "code",
   "execution_count": null,
   "metadata": {
    "hidden": true
   },
   "outputs": [],
   "source": [
    "import cufflinks as cf\n",
    "cf.go_offline()\n",
    "from ipywidgets import interact, widgets, Layout\n",
    "import plotly.express as px\n",
    "import plotly.graph_objs as go\n",
    "import plotly.figure_factory as ff\n",
    "from IPython.display import display"
   ]
  },
  {
   "cell_type": "code",
   "execution_count": null,
   "metadata": {
    "hidden": true,
    "scrolled": false
   },
   "outputs": [],
   "source": [
    "df = cf.datagen.lines(5,1000).reset_index(drop=True)\n",
    "df"
   ]
  },
  {
   "cell_type": "code",
   "execution_count": null,
   "metadata": {
    "hidden": true,
    "scrolled": false
   },
   "outputs": [],
   "source": [
    "def update(change):\n",
    "    with fig.batch_update():\n",
    "        fig.data[0].x = df.index[df.index > change.new]\n",
    "        fig.data[0].y = df[df.columns[0]][df.index > change.new]\n",
    "min_idx = min(df.index)\n",
    "max_idx = max(df.index)\n",
    "\n",
    "slider = widgets.IntSlider(value=0, min=min_idx, max=max_idx,\n",
    "                           step=1, description='Year', continuous_update=True,\n",
    "                           layout=Layout(width='auto'))\n",
    "slider.observe(update, names='value')\n",
    "display(slider)\n",
    "\n",
    "fig = go.FigureWidget()\n",
    "fig.add_trace(go.Scatter(x=df.index, y=df[df.columns[0]], name=df.columns[0], mode='lines'))\n",
    "fig.update_layout(title='Title', xaxis_title='Index', yaxis_title='Y', template='plotly_white')\n",
    "fig\n"
   ]
  },
  {
   "cell_type": "markdown",
   "metadata": {},
   "source": [
    "### Plots"
   ]
  },
  {
   "cell_type": "markdown",
   "metadata": {
    "heading_collapsed": true
   },
   "source": [
    "#### Network growth"
   ]
  },
  {
   "cell_type": "code",
   "execution_count": null,
   "metadata": {
    "hidden": true
   },
   "outputs": [],
   "source": [
    "years = pd.DataFrame([model.graph.nodes[node]['year'] for node in model.graph.nodes],\n",
    "                     columns=['Year'])\\\n",
    "          .sort_values(by='Year')\\\n",
    "          .reset_index(drop=True)\n",
    "years['count'] = 1\n",
    "years['Year (cumsum)'] = years['count'].cumsum()\n",
    "years = years.drop(columns='count')"
   ]
  },
  {
   "cell_type": "code",
   "execution_count": null,
   "metadata": {
    "hidden": true
   },
   "outputs": [],
   "source": [
    "nodes = list(model.graph.nodes)\n",
    "layout = nx.kamada_kawai_layout(model.graph, dim=2)\n",
    "# layout = nx.spring_layout(model.graph, dim=3)\n",
    "layout = np.vstack([layout[node] for node in nodes])\n",
    "Xn = [layout[k][0] for k in range(len(nodes))]\n",
    "Yn = [layout[k][1] for k in range(len(nodes))]\n",
    "# Zn = [layout[k][2] for k in range(len(nodes))]\n",
    "Xe = []\n",
    "Ye = []\n",
    "# Ze = []\n",
    "for e in model.graph.edges:\n",
    "    Xe += [layout[nodes.index(e[0])][0], layout[nodes.index(e[1])][0], None]\n",
    "    Ye += [layout[nodes.index(e[0])][1], layout[nodes.index(e[1])][1], None]\n",
    "#     Ze += [layout[nodes.index(e[0])][2], layout[nodes.index(e[1])][2], None]"
   ]
  },
  {
   "cell_type": "code",
   "execution_count": null,
   "metadata": {
    "hidden": true
   },
   "outputs": [],
   "source": [
    "def graph_layout(graph, nodes):\n",
    "    subgraph = model.graph.subgraph(nodes)\n",
    "    layout = nx.kamada_kawai_layout(graph, dim=2)\n",
    "    Xn = [layout[n][0] for n in subgraph.nodes]\n",
    "    Yn = [layout[n][1] for n in subgraph.nodes]\n",
    "    Xe = []\n",
    "    Ye = []\n",
    "    for e in subgraph.edges:\n",
    "        Xe += [layout[e[0]][0], layout[e[1]][0], None]\n",
    "        Ye += [layout[e[0]][1], layout[e[1]][1], None]\n",
    "    return (Xn, Yn), (Xe, Ye)"
   ]
  },
  {
   "cell_type": "code",
   "execution_count": null,
   "metadata": {
    "hidden": true,
    "scrolled": false
   },
   "outputs": [],
   "source": [
    "def update_network(change):\n",
    "    with fig.batch_update():\n",
    "        (Xn, Yn), (Xe, Ye) = graph_layout(model.graph,\n",
    "                                          [n for n in model.graph.nodes \n",
    "                                           if model.graph.nodes[n]['year']<=change.new])\n",
    "        fig.data[0].x = Xe\n",
    "        fig.data[0].y = Ye\n",
    "        fig.data[1].x = Xn\n",
    "        fig.data[1].y = Yn\n",
    "        fig.layout.title = model.graph.name + ', year: ' + str(change.new)\n",
    "        fig.update_xaxes(range=[-1.2,1.2])\n",
    "        fig.update_yaxes(range=[-1.2,1.2])\n",
    "\n",
    "nodes = list(model.graph.nodes)\n",
    "\n",
    "min_year = min([model.graph.nodes[n]['year'] for n in nodes])\n",
    "max_year = max([model.graph.nodes[n]['year'] for n in nodes])\n",
    "slider = widgets.IntSlider(value=min_year, min=min_year, max=max_year,\n",
    "                           step=1, description='Year', continuous_update=True,\n",
    "                           layout=Layout(width='auto'))\n",
    "slider.observe(update_network, names='value')\n",
    "display(slider)\n",
    "\n",
    "(Xn, Yn), (Xe, Ye) = graph_layout(model.graph,\n",
    "                                  [n for n in model.graph.nodes \n",
    "                                   if model.graph.nodes[n]['year']==min_year])\n",
    "\n",
    "trace1 = go.Scatter(x=Xe, y=Ye,# z=Ze, \n",
    "                    mode='lines', line=dict(color='gray', width=.5),\n",
    "                    hoverinfo='none')\n",
    "trace2 = go.Scatter(x=Xn, y=Yn,# z=Zn, \n",
    "                      mode='markers',\n",
    "                      marker=dict(symbol='circle', size=6,\n",
    "#                                color=group,\n",
    "                                  colorscale='Viridis',\n",
    "                                  line=dict(color='rgb(50,50,50)', width=0.5)),\n",
    "                      text=nodes, hoverinfo='text')\n",
    "axis = dict(showbackground=False,\n",
    "            showline=False,\n",
    "            zeroline=False,\n",
    "            showgrid=False,\n",
    "            showticklabels=False,\n",
    "            title='')\n",
    "fig = go.Figure(data=[trace1, trace2],\n",
    "                layout=go.Layout(title=topic + ', year: ' + str(min_year),\n",
    "                                 width=600,#1000,\n",
    "                                 height=600,\n",
    "                                 showlegend=False,\n",
    "                                 scene=dict(xaxis=dict(axis),\n",
    "                                            yaxis=dict(axis),\n",
    "                                            zaxis=dict(axis),),\n",
    "                                 hovermode='closest',\n",
    "                                 template='plotly_white'))\n",
    "fig = go.FigureWidget(fig)\n",
    "fig.update_xaxes(range=[-1.2,1.2])\n",
    "fig.update_yaxes(range=[-1.2,1.2])\n",
    "fig"
   ]
  },
  {
   "cell_type": "code",
   "execution_count": null,
   "metadata": {
    "hidden": true
   },
   "outputs": [],
   "source": [
    "fig = go.Figure(go.Scatter(x=years.Year, y=years['Year (cumsum)'], name='Model'))\n",
    "fig.update_layout(title='Discoveries', xaxis_title='Year', yaxis_title='Number of discoveries',\n",
    "                  template='plotly_white')"
   ]
  },
  {
   "cell_type": "markdown",
   "metadata": {
    "hidden": true
   },
   "source": [
    "**Comments**\n",
    "\n",
    "Too many connections in new nodes. So, try\n",
    "* restricting title words to uncommon words?"
   ]
  },
  {
   "cell_type": "markdown",
   "metadata": {},
   "source": [
    "#### Similarity"
   ]
  },
  {
   "cell_type": "markdown",
   "metadata": {},
   "source": [
    "##### Cosine similarity"
   ]
  },
  {
   "cell_type": "code",
   "execution_count": null,
   "metadata": {},
   "outputs": [],
   "source": [
    "sim = lambda a,b: smp.cosine_similarity(a.transpose(), b.transpose())[0,0]\n",
    "nodes = list(model.graph.nodes)\n",
    "model.record['Similarity (parent)'] = [sim(model.record.iloc[i]['Seed vectors'], \n",
    "                                  model.vectors[:,nodes.index(model.record.iloc[i]['Parent'])])\n",
    "                              for i in range(len(model.record.index))]\n",
    "model.record"
   ]
  },
  {
   "cell_type": "code",
   "execution_count": null,
   "metadata": {},
   "outputs": [],
   "source": [
    "import itertools as it\n",
    "\n",
    "nodes = list(model.graph.nodes)\n",
    "births = pd.DataFrame({'Node': nodes,\n",
    "                       'Year': [model.graph.nodes[n]['year'] for n in nodes]})\\\n",
    "           .sort_values(by=['Year'])\\\n",
    "           .reset_index(drop=True)\n",
    "births['Similarity (neighbor)'] = [[sim(model.vectors[:,nodes.index(births.iloc[i].Node)],\n",
    "                                        model.vectors[:,nodes.index(neighbor)])\n",
    "                                    for neighbor in it.chain(model.graph.successors(births.iloc[i].Node),\n",
    "                                                             model.graph.predecessors(births.iloc[i].Node))\n",
    "                                    if model.graph.nodes[neighbor]['year'] <= births.iloc[i].Year]\n",
    "                                   for i in births.index]\n",
    "births"
   ]
  },
  {
   "cell_type": "code",
   "execution_count": null,
   "metadata": {},
   "outputs": [],
   "source": [
    "max_y = 180\n",
    "\n",
    "def update_similarity(change):\n",
    "    with fig.batch_update():\n",
    "        fig.data[1].x = [j for i in births[births.Year<=change.new]['Similarity (neighbor)']\n",
    "                         for j in i]\n",
    "        fig.data[2].x = model.record['Similarity (parent)'][model.record.Year == change.new]\n",
    "        fig.update_xaxes(range=[0,1])\n",
    "        fig.update_yaxes(range=[0,max_y])\n",
    "\n",
    "min_year = min(model.record.Year)\n",
    "max_year = max(model.record.Year)\n",
    "slider = widgets.IntSlider(value=min_year, min=min_year, max=max_year,\n",
    "                           step=1, description='Year', continuous_update=True,\n",
    "                           layout=Layout(width='auto'))\n",
    "slider.observe(update_similarity, names='value')\n",
    "display(slider)\n",
    "\n",
    "fig = go.FigureWidget()\n",
    "fig.add_trace(go.Histogram(x=neighbors,\n",
    "                           name='empirical'))\n",
    "fig.add_trace(go.Histogram(x=[j for i in births[births.Year<=min_year+50]['Similarity (neighbor)']\n",
    "                              for j in i],\n",
    "                           name='model (neighbor)'))\n",
    "fig.add_trace(go.Histogram(x=model.record[model.record.Year==min_year]['Similarity (parent)'],\n",
    "                           name='model (parent)'))\n",
    "fig.update_layout(title='Cosine similarity', template='plotly_white',\n",
    "                  xaxis_title='cosine similarity', yaxis_title='number of edges')\n",
    "fig.update_xaxes(range=[0,1])\n",
    "fig.update_yaxes(range=[0,max_y])\n",
    "fig"
   ]
  },
  {
   "cell_type": "markdown",
   "metadata": {},
   "source": [
    "##### Degree distribution\n",
    "\n",
    "**Interpretation**\n",
    "\n",
    "There are too many connections. Similarity to the parent isn't actually changing that much."
   ]
  },
  {
   "cell_type": "code",
   "execution_count": null,
   "metadata": {},
   "outputs": [],
   "source": [
    "fig = go.Figure()\n",
    "fig.add_trace(go.Histogram(x=[d for _,d in graph.degree], nbinsx=30, name='empirical'))\n",
    "fig.add_trace(go.Histogram(x=[d for _,d in model.graph.degree], nbinsx=30, name='model'))\n",
    "fig.update_layout(title='Degree distribution', template='plotly_white',\n",
    "                  xaxis_title='degree', yaxis_title='number of edges')"
   ]
  },
  {
   "cell_type": "markdown",
   "metadata": {},
   "source": [
    "##### Manhattan distance"
   ]
  },
  {
   "cell_type": "code",
   "execution_count": null,
   "metadata": {},
   "outputs": [],
   "source": []
  },
  {
   "cell_type": "markdown",
   "metadata": {
    "heading_collapsed": true
   },
   "source": [
    "#### Something"
   ]
  },
  {
   "cell_type": "code",
   "execution_count": null,
   "metadata": {
    "hidden": true
   },
   "outputs": [],
   "source": [
    "plt.figure(figsize=(16,4))\n",
    "plt.subplot(121)\n",
    "sns.distplot(neighbors)\n",
    "x = np.linspace(min(neighbors), max(neighbors), 100)\n",
    "mu, std = sp.stats.norm.fit(neighbors)\n",
    "plt.plot(x, sp.stats.norm.pdf(x, mu, std))\n",
    "sns.distplot(non_neighbors)\n",
    "plt.title(topic + ' (prior)')\n",
    "plt.legend([f\"fit-neighbors (m={mu:.2f}; s={std:.2f})\", 'neighbors', 'non-neighbors'])\n",
    "plt.xlabel('cos similarity');\n",
    "plt.xlim([-.2,1.2])\n",
    "plt.subplot(122)\n",
    "neighbors_model = neighbor_similarity(model.graph, model.vectors)\n",
    "non_neighbors_model = non_neighbor_similarity(model.graph, model.vectors)\n",
    "sns.distplot(neighbors_model)\n",
    "x = np.linspace(min(neighbors_model), max(neighbors_model), 100)\n",
    "mu, std = sp.stats.norm.fit(neighbors_model)\n",
    "plt.plot(x, sp.stats.norm.pdf(x, mu, std))\n",
    "sns.distplot(non_neighbors_model)\n",
    "plt.title(topic + ' (model)')\n",
    "plt.legend([f\"fit-neighbors (m={mu:.2f}; s={std:.2f})\", 'neighbors', 'non-neighbors'])\n",
    "plt.xlabel('cos similarity')\n",
    "plt.xlim([-.2,1.2]);"
   ]
  },
  {
   "cell_type": "code",
   "execution_count": null,
   "metadata": {
    "hidden": true
   },
   "outputs": [],
   "source": [
    "plt.figure(figsize=(16,4))\n",
    "plt.subplot(121)\n",
    "bin_size=25\n",
    "years = [graph.nodes[node]['year'] for node in graph.nodes]\n",
    "sns.distplot(years, bins=bin_size, rug=True, kde=False)\n",
    "hist, bin_edges = np.histogram(years, bins=bin_size)\n",
    "popt, pcov = sp.optimize.curve_fit(lambda x,a,b: a*pow(b,x), bin_edges[1:], hist)\n",
    "x = np.linspace(min(years), max(years), 100)\n",
    "sns.lineplot(x=x, y=popt[0]*pow(popt[1],x))\n",
    "plt.legend([f\"a*b^x; a={popt[0]:.1e}, b={popt[1]:.4f}\"])\n",
    "plt.title('prior')\n",
    "plt.ylabel('discoveries')\n",
    "plt.xlabel('year');\n",
    "\n",
    "plt.subplot(122)\n",
    "years = [model.graph.nodes[node]['year'] for node in model.graph.nodes]\n",
    "sns.distplot(years, bins=bin_size, rug=True, kde=False)\n",
    "hist, bin_edges = np.histogram(years, bins=bin_size)\n",
    "popt, pcov = sp.optimize.curve_fit(lambda x,a,b: a*pow(b,x), bin_edges[1:], hist)\n",
    "x = np.linspace(min(years), max(years), 100)\n",
    "sns.lineplot(x=x, y=popt[0]*pow(popt[1],x))\n",
    "plt.legend([f\"a*b^x; a={popt[0]:.1e}, b={popt[1]:.4f}\"])\n",
    "plt.title('model')\n",
    "plt.ylabel('discoveries')\n",
    "plt.xlabel('year');\n",
    "\n",
    "plt.figure(figsize=(16,4))\n",
    "bin_size=25\n",
    "years = [graph.nodes[node]['year'] for node in graph.nodes]\n",
    "sns.distplot(years, bins=bin_size, rug=True, kde=False, hist=False)\n",
    "# hist, bin_edges = np.histogram(years, bins=bin_size)\n",
    "# popt, pcov = sp.optimize.curve_fit(lambda x,a,b: a*pow(b,x), bin_edges[1:], hist)\n",
    "# x = np.linspace(min(years), max(years), 100)\n",
    "# sns.lineplot(x=x, y=popt[0]*pow(popt[1],x))\n",
    "sns.lineplot(x=sorted(years),\n",
    "             y=np.sum(np.array([sorted(years)]).transpose() < np.array([sorted(years)]), axis=0))\n",
    "\n",
    "years = [model.graph.nodes[node]['year'] for node in model.graph.nodes]\n",
    "sns.distplot(years, bins=bin_size, rug=True, kde=False, hist=False)\n",
    "hist, bin_edges = np.histogram(years, bins=bin_size)\n",
    "# popt_model, pcov = sp.optimize.curve_fit(lambda x,a,b: a*pow(b,x), bin_edges[1:], hist)\n",
    "# x = np.linspace(min(years), max(years), 100)\n",
    "# sns.lineplot(x=x, y=popt_model[0]*pow(popt_model[1],x))\n",
    "sns.lineplot(x=sorted(years),\n",
    "             y=np.sum(np.array([sorted(years)]).transpose() < np.array([sorted(years)]), axis=0))\n",
    "\n",
    "plt.legend([#f\"prior: a*b^x; a={popt[0]:.1e}, b={popt[1]:.4f}\",\n",
    "            f\"prior: count\",\n",
    "            #f\"model: a*b^x; a={popt_model[0]:.1e}, b={popt_model[1]:.4f}\",\n",
    "            f\"model: count\"])\n",
    "plt.ylabel('discoveries')\n",
    "plt.xlabel('year');"
   ]
  },
  {
   "cell_type": "code",
   "execution_count": null,
   "metadata": {
    "hidden": true
   },
   "outputs": [],
   "source": [
    "plt.figure(figsize=(16,6))\n",
    "plt.subplot(121)\n",
    "fit.plot_pdf()\n",
    "fit.power_law.plot_pdf()\n",
    "plt.title(f\"empirical xmin={fit.xmin:.1e}, α={fit.alpha:.1f}\");\n",
    "plt.subplot(122)\n",
    "fit_model = powerlaw.Fit(model.vectors.data)\n",
    "fit_model.plot_pdf()\n",
    "fit_model.power_law.plot_pdf()\n",
    "plt.title(f\"model xmin={fit_model.xmin:.1e}, α={fit_model.alpha:.1f}\");"
   ]
  },
  {
   "cell_type": "code",
   "execution_count": null,
   "metadata": {
    "hidden": true
   },
   "outputs": [],
   "source": [
    "sns.jointplot(x=np.abs(yd), y=wd, kind='reg',\n",
    "              marginal_kws=dict(bins=15, rug=True))\n",
    "plt.xlabel('Δyear')\n",
    "plt.ylabel('manhattan distance');"
   ]
  },
  {
   "cell_type": "code",
   "execution_count": null,
   "metadata": {
    "hidden": true
   },
   "outputs": [],
   "source": [
    "n_rows = 4\n",
    "plt.figure(figsize=(16,n_rows*6))\n",
    "\n",
    "# wd = word_diffs(graph, tfidf)\n",
    "# yd = year_diffs(graph)\n",
    "\n",
    "plt.subplot(n_rows,2,1)\n",
    "sns.distplot(yd)\n",
    "plt.title(topic + ' prior')\n",
    "plt.xlabel('year difference')\n",
    "\n",
    "plt.subplot(n_rows,2,2)\n",
    "yd_model = year_diffs(model.graph)\n",
    "sns.distplot(yd_model)\n",
    "plt.title(topic + ' model')\n",
    "plt.xlabel('year difference');\n",
    "\n",
    "plt.subplot(n_rows,2,3)\n",
    "sns.scatterplot(x=np.abs(yd), y=wd)\n",
    "slope, intercept, r, p, stderr = sp.stats.linregress(np.abs(yd), wd)\n",
    "x = np.linspace(0, max(yd), 100)\n",
    "sns.lineplot(x, np.multiply(slope, x) + intercept)\n",
    "plt.title(f\"slope={slope:.2f}; r={r:.2f}; p={p:.1e} (prior)\")\n",
    "plt.xlabel('year')\n",
    "plt.ylabel('manhattan distance');\n",
    "\n",
    "plt.subplot(n_rows,2,4)\n",
    "sns.distplot(wd)\n",
    "mu, std = sp.stats.norm.fit(wd)\n",
    "x = np.linspace(min(wd), max(wd), 100)\n",
    "plt.plot(x, sp.stats.norm.pdf(x, mu, std))\n",
    "plt.xlabel('manhattan distance')\n",
    "plt.ylabel('probability distribution');\n",
    "plt.title(f\"μ={mu:.2}, σ={std:.2} (prior)\")\n",
    "\n",
    "# wd_model = word_diffs(model.graph, model.vectors)\n",
    "# yd_model = year_diffs(model.graph)\n",
    "# neighbors_model = neighbor_similarity(model.graph, model.vectors)\n",
    "\n",
    "plt.subplot(n_rows,2,5)\n",
    "sns.scatterplot(x=np.abs(yd_model), y=wd_model)\n",
    "slope, intercept, r, p, stderr = sp.stats.linregress(np.abs(yd_model), wd_model)\n",
    "x = np.linspace(0, max(np.abs(yd_model)), 100)\n",
    "sns.lineplot(x, np.multiply(slope, x) + intercept)\n",
    "plt.title(f\"slope={slope:.2f}; r={r:.2f}; p={p:.1e} (model)\")\n",
    "plt.xlabel('year')\n",
    "plt.ylabel('manhattan distance');\n",
    "\n",
    "plt.subplot(n_rows,2,6)\n",
    "sns.distplot(wd_model)\n",
    "mu, std = sp.stats.norm.fit(wd_model)\n",
    "x = np.linspace(min(wd_model), max(wd_model), 100)\n",
    "plt.plot(x, sp.stats.norm.pdf(x, mu, std))\n",
    "plt.xlabel('manhattan distance')\n",
    "plt.ylabel('probability distribution');\n",
    "plt.title(f\"μ={mu:.2}, σ={std:.2} (model)\");\n",
    "\n",
    "plt.subplot(n_rows,2,7)\n",
    "sns.scatterplot(x=np.abs(yd), y=neighbors)\n",
    "slope, intercept, r, p, stderr = sp.stats.linregress(np.abs(yd), neighbors)\n",
    "x = np.linspace(0, max(yd), 100)\n",
    "sns.lineplot(x, np.multiply(slope, x) + intercept)\n",
    "plt.title(f\"slope={slope:.2f}; r={r:.2f}; p={p:.1e} (prior)\")\n",
    "plt.xlabel('Δyear')\n",
    "plt.ylabel('cosine similarity');\n",
    "\n",
    "plt.subplot(n_rows,2,8)\n",
    "sns.scatterplot(x=np.abs(yd_model), y=neighbors_model)\n",
    "slope, intercept, r, p, stderr = sp.stats.linregress(np.abs(yd_model), neighbors_model)\n",
    "x = np.linspace(0, max(np.abs(yd_model)), 100)\n",
    "sns.lineplot(x, np.multiply(slope, x) + intercept)\n",
    "plt.title(f\"slope={slope:.2f}; r={r:.2f}; p={p:.1e} (model)\")\n",
    "plt.xlabel('Δyear')\n",
    "plt.ylabel('cosine similarity');"
   ]
  },
  {
   "cell_type": "code",
   "execution_count": null,
   "metadata": {
    "hidden": true
   },
   "outputs": [],
   "source": [
    "plt.figure(figsize=(16,6))\n",
    "\n",
    "plt.subplot(121)\n",
    "sns.scatterplot(x='index', y='weight',\n",
    "                data=pd.DataFrame({'index': model.vectors.indices,\n",
    "                                   'weight': model.vectors.data}))\n",
    "plt.ylim([-.1,1.1]);\n",
    "\n",
    "plt.subplot(122)\n",
    "plot_distribution(model.vectors.data)"
   ]
  },
  {
   "cell_type": "code",
   "execution_count": null,
   "metadata": {
    "hidden": true,
    "scrolled": false
   },
   "outputs": [],
   "source": [
    "plt.figure(figsize=(16,6))\n",
    "plt.subplot(121)\n",
    "nx.draw_networkx(graph, node_color=['r' if graph.nodes[n]['year']<-500 else 'b'\n",
    "                                    for n in graph.nodes])\n",
    "plt.title('original graph')\n",
    "plt.subplot(122)\n",
    "nx.draw_networkx(model.graph, node_color=['r' if model.graph.nodes[n]['year']<-500 else 'b'\n",
    "                                          for n in model.graph.nodes])\n",
    "plt.title('new graph');"
   ]
  },
  {
   "cell_type": "code",
   "execution_count": null,
   "metadata": {
    "hidden": true
   },
   "outputs": [],
   "source": [
    "plt.figure(figsize=(16,6))\n",
    "sns.distplot([d for _,d in graph.degree], bins=30)\n",
    "sns.distplot([d for _,d in model.graph.degree], bins=30)\n",
    "plt.legend(['prior', 'model'])\n",
    "plt.xlim([-10,110]);"
   ]
  },
  {
   "cell_type": "markdown",
   "metadata": {},
   "source": [
    "### Discussion\n",
    "\n",
    "The point of this model is that one can model knowledge discovery as incremental changes on existing knowledge.\n",
    "\n",
    "The mutation model doesn't monotonically decrease similarity with parent."
   ]
  }
 ],
 "metadata": {
  "kernelspec": {
   "display_name": "Python 3",
   "language": "python",
   "name": "python3"
  },
  "language_info": {
   "codemirror_mode": {
    "name": "ipython",
    "version": 3
   },
   "file_extension": ".py",
   "mimetype": "text/x-python",
   "name": "python",
   "nbconvert_exporter": "python",
   "pygments_lexer": "ipython3",
   "version": "3.7.6"
  },
  "toc": {
   "base_numbering": 1,
   "nav_menu": {},
   "number_sections": true,
   "sideBar": true,
   "skip_h1_title": false,
   "title_cell": "Table of Contents",
   "title_sidebar": "Contents",
   "toc_cell": false,
   "toc_position": {
    "height": "calc(100% - 180px)",
    "left": "10px",
    "top": "150px",
    "width": "205.969px"
   },
   "toc_section_display": true,
   "toc_window_display": true
  }
 },
 "nbformat": 4,
 "nbformat_minor": 2
}
