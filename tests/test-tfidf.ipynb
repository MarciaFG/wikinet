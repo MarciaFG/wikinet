{
 "cells": [
  {
   "cell_type": "code",
   "execution_count": 1,
   "metadata": {},
   "outputs": [],
   "source": [
    "%reload_ext autoreload\n",
    "%autoreload 2\n",
    "import os,sys\n",
    "sys.path.insert(1, os.path.join(sys.path[0],\n",
    "                                '..', 'module'))\n",
    "import wiki\n",
    "import pickle\n",
    "import numpy as np\n",
    "import gensim.models as gm\n",
    "import gensim.utils as gu\n",
    "import gensim.corpora as gc\n",
    "import gensim.matutils as gmat\n",
    "import matplotlib.pyplot as plt\n",
    "import sklearn.metrics.pairwise as smp"
   ]
  },
  {
   "cell_type": "code",
   "execution_count": 2,
   "metadata": {},
   "outputs": [],
   "source": [
    "path_base = '/Users/harangju/Developer/data/wiki/dumps/'\n",
    "name_xml = 'enwiki-20190801-pages-articles-multistream.xml.bz2'\n",
    "name_index = 'enwiki-20190801-pages-articles-multistream-index.txt.bz2'\n",
    "path_xml = path_base + name_xml\n",
    "path_index = path_base + name_index\n",
    "dump = wiki.Dump(path_xml, path_index)"
   ]
  },
  {
   "cell_type": "markdown",
   "metadata": {},
   "source": [
    "### Test big model\n",
    "See `preparation/build-tfidf-model.ipynb`."
   ]
  },
  {
   "cell_type": "code",
   "execution_count": 3,
   "metadata": {},
   "outputs": [],
   "source": [
    "path_save = '/Users/harangju/Developer/data/wiki/models/'\n",
    "tfidf = gu.SaveLoad.load(path_save + 'tfidf.model')\n",
    "dct = pickle.load(open(path_save + 'dict.model','rb'))"
   ]
  },
  {
   "cell_type": "code",
   "execution_count": 4,
   "metadata": {},
   "outputs": [
    {
     "name": "stdout",
     "output_type": "stream",
     "text": [
      "Dump: Loading index...\n",
      "Dump: Loaded.\n"
     ]
    }
   ],
   "source": [
    "dump.load_page('Physics')\n",
    "words = gu.simple_preprocess(dump.page.strip_code())"
   ]
  },
  {
   "cell_type": "code",
   "execution_count": 5,
   "metadata": {},
   "outputs": [
    {
     "data": {
      "text/plain": [
       "[(4, 0.0030784267402274444),\n",
       " (5, 0.2103100457446028),\n",
       " (12, 0.0333281420135526),\n",
       " (13, 0.2007292418185778),\n",
       " (17, 0.04902932080705284)]"
      ]
     },
     "execution_count": 5,
     "metadata": {},
     "output_type": "execute_result"
    }
   ],
   "source": [
    "tfidf[dct.doc2bow(words)][:5]"
   ]
  },
  {
   "cell_type": "markdown",
   "metadata": {},
   "source": [
    "### Weight graph"
   ]
  },
  {
   "cell_type": "code",
   "execution_count": 6,
   "metadata": {},
   "outputs": [
    {
     "name": "stdout",
     "output_type": "stream",
     "text": [
      "wiki.Net: traversing Wikipedia...\n",
      "wiki.Net: depth = 0\n",
      "wiki.Net: len(queue) = 530\n",
      "wiki.Net: depth = 1\n",
      "wiki.Net: removing isolates...\n",
      "wiki.Net: adding years...\n",
      "wiki.Net: filling empty years...\n"
     ]
    },
    {
     "data": {
      "text/plain": [
       "NodeView(('Planetary science', 'Earth science', 'Lithosphere', 'Hydrosphere', 'Biosphere', 'Holism', 'Geology', 'Geography', 'Chronology', 'Physics', 'Chemistry', 'Biology', 'Mathematics', 'Science', 'Planetary geology', 'Geochemistry', 'Geophysics', 'Oceanography', 'Hydrology', 'Glaciology', 'Life', 'Human geography', 'Physical geography', 'Geosphere', 'Atmospheric sciences', 'Geochronology', 'Plate tectonics', 'Paleoclimatology', 'Petrology', 'Environmental geology', \"Earth's magnetic field\", 'Geodynamics', 'Magma', 'Magnetosphere', 'Geodesy', 'Crust (geology)', 'Antarctic convergence', 'Atmospheric chemistry', 'Meteorology', 'Volcanology', 'Climatology', 'Atmospheric physics', 'Biogeography', 'Cartography', \"Earth's spheres\", 'Chemical oceanography', 'Earth (planet)', 'Erosion', 'Cryosphere', 'Mineralogy', 'Dynamo theory', 'Economic geology', 'Structural geology', 'Soil science', 'Edaphology', 'Engineering geology', 'Hydrogeology', 'Geomorphology', 'Environmental science', 'Limnology', 'Exosphere', 'Thermosphere', 'Mesosphere', 'Stratosphere', 'Troposphere', 'Gaia hypothesis', 'Gemology', 'Surveying', 'Tectonics', 'Geoinformatics', 'Geomagnetic', 'Geomicrobiology', 'Geostatistics', 'Hydrometeorology', 'Historical geology', 'Stratigraphy', 'Intertropical convergence zone', 'Marine biology', 'Paleoceanography', 'Marine geology', 'Sedimentology', 'Physical oceanography', 'Pedosphere', 'Quaternary geology', 'Seismology', 'Tropopause'))"
      ]
     },
     "execution_count": 6,
     "metadata": {},
     "output_type": "execute_result"
    }
   ],
   "source": [
    "topic = 'earth science'\n",
    "dump.load_page('Index of %s articles' % topic)\n",
    "links = [str(l) for l in dump.article_links]\n",
    "network = wiki.Net()\n",
    "network.build_graph(dump=dump, nodes=links)\n",
    "network.graph.nodes"
   ]
  },
  {
   "cell_type": "code",
   "execution_count": 7,
   "metadata": {},
   "outputs": [
    {
     "data": {
      "text/plain": [
       "AtlasView({'Earth science': {'weight': 1}, 'Geography': {'weight': 1}, 'Environmental geology': {'weight': 1}, 'Gaia hypothesis': {'weight': 1}, 'Pedosphere': {'weight': 1}, 'Physical geography': {'weight': 1}})"
      ]
     },
     "execution_count": 7,
     "metadata": {},
     "output_type": "execute_result"
    }
   ],
   "source": [
    "network.graph['Biosphere']"
   ]
  },
  {
   "cell_type": "code",
   "execution_count": 8,
   "metadata": {},
   "outputs": [
    {
     "data": {
      "text/plain": [
       "(['thumb', 'px', 'false', 'color', 'composite'],\n",
       " ['earth', 'science', 'or', 'geoscience', 'includes'])"
      ]
     },
     "execution_count": 8,
     "metadata": {},
     "output_type": "execute_result"
    }
   ],
   "source": [
    "n1 = 'Biosphere'\n",
    "n2 = 'Earth science'\n",
    "p1 = gu.simple_preprocess(dump.load_page(n1).strip_code())\n",
    "p2 = gu.simple_preprocess(dump.load_page(n2).strip_code())\n",
    "p1[:5], p2[:5]"
   ]
  },
  {
   "cell_type": "code",
   "execution_count": 9,
   "metadata": {},
   "outputs": [
    {
     "data": {
      "text/plain": [
       "([(5, 0.13155321660272415),\n",
       "  (9, 0.005814052937824806),\n",
       "  (12, 0.021480370659743037)],\n",
       " [(4, 0.018341276283594058),\n",
       "  (5, 0.12114910825706296),\n",
       "  (9, 0.005201260490809376)])"
      ]
     },
     "execution_count": 9,
     "metadata": {},
     "output_type": "execute_result"
    }
   ],
   "source": [
    "b1 = tfidf[dct.doc2bow(p1)]\n",
    "b2 = tfidf[dct.doc2bow(p2)]\n",
    "b1[:3], b2[:3]"
   ]
  },
  {
   "cell_type": "code",
   "execution_count": 10,
   "metadata": {},
   "outputs": [
    {
     "data": {
      "text/plain": [
       "(<2050373x1 sparse matrix of type '<class 'numpy.float64'>'\n",
       " \twith 660 stored elements in Compressed Sparse Column format>,\n",
       " <2050373x1 sparse matrix of type '<class 'numpy.float64'>'\n",
       " \twith 605 stored elements in Compressed Sparse Column format>)"
      ]
     },
     "execution_count": 10,
     "metadata": {},
     "output_type": "execute_result"
    }
   ],
   "source": [
    "v = gmat.corpus2csc([b1, b2])\n",
    "v[:,0], v[:,1]"
   ]
  },
  {
   "cell_type": "code",
   "execution_count": 11,
   "metadata": {},
   "outputs": [
    {
     "data": {
      "text/plain": [
       "array([[0.41726377]])"
      ]
     },
     "execution_count": 11,
     "metadata": {},
     "output_type": "execute_result"
    }
   ],
   "source": [
    "smp.cosine_similarity(X=v[:,0].transpose(), Y=v[:,1].transpose())"
   ]
  },
  {
   "cell_type": "code",
   "execution_count": 12,
   "metadata": {},
   "outputs": [
    {
     "data": {
      "text/plain": [
       "0.4172637706806667"
      ]
     },
     "execution_count": 12,
     "metadata": {},
     "output_type": "execute_result"
    }
   ],
   "source": [
    "smp.cosine_similarity(X=v[:,0].transpose(), Y=v[:,1].transpose())[0,0]"
   ]
  },
  {
   "cell_type": "markdown",
   "metadata": {},
   "source": [
    "#### Function"
   ]
  },
  {
   "cell_type": "code",
   "execution_count": 13,
   "metadata": {},
   "outputs": [],
   "source": [
    "def set_weights(graph, dump, model, dct):\n",
    "    nodes = list(graph.nodes)\n",
    "    bows = [model[dct.doc2bow(gu.simple_preprocess(dump.load_page(page).strip_code()))]\n",
    "            if page else []\n",
    "            for page in nodes]\n",
    "    vecs = gmat.corpus2csc(bows)\n",
    "    for n1, n2 in graph.edges:\n",
    "        v1 = vecs[:,nodes.index(n1)].transpose()\n",
    "        v2 = vecs[:,nodes.index(n2)].transpose()\n",
    "        graph[n1][n2]['weight'] = smp.cosine_similarity(X=v1, Y=v2)[0,0]"
   ]
  },
  {
   "cell_type": "code",
   "execution_count": 14,
   "metadata": {},
   "outputs": [
    {
     "data": {
      "text/plain": [
       "AtlasView({'Earth science': {'weight': 1}, 'Geography': {'weight': 1}, 'Environmental geology': {'weight': 1}, 'Gaia hypothesis': {'weight': 1}, 'Pedosphere': {'weight': 1}, 'Physical geography': {'weight': 1}})"
      ]
     },
     "execution_count": 14,
     "metadata": {},
     "output_type": "execute_result"
    }
   ],
   "source": [
    "network.graph['Biosphere']"
   ]
  },
  {
   "cell_type": "code",
   "execution_count": 15,
   "metadata": {},
   "outputs": [],
   "source": [
    "set_weights(network.graph, dump, tfidf, dct)"
   ]
  },
  {
   "cell_type": "code",
   "execution_count": 16,
   "metadata": {},
   "outputs": [
    {
     "data": {
      "text/plain": [
       "AtlasView({'Earth science': {'weight': 0.4172637706806667}, 'Geography': {'weight': 0.2948794573348659}, 'Environmental geology': {'weight': 0.19913703642234504}, 'Gaia hypothesis': {'weight': 0.28702049086615644}, 'Pedosphere': {'weight': 0.28738002838917165}, 'Physical geography': {'weight': 0.2802678005676159}})"
      ]
     },
     "execution_count": 16,
     "metadata": {},
     "output_type": "execute_result"
    }
   ],
   "source": [
    "network.graph['Biosphere']"
   ]
  },
  {
   "cell_type": "code",
   "execution_count": 17,
   "metadata": {},
   "outputs": [
    {
     "data": {
      "text/plain": [
       "AtlasView({'Earth science': {'weight': 0.2502682157266995}, 'Science': {'weight': 0.4431454820261675}, 'Physics': {'weight': 0.3909709005752355}, 'Atmospheric chemistry': {'weight': 0.488462080888366}, 'Atmospheric physics': {'weight': 0.24918699013654128}, 'Mineralogy': {'weight': 0.3639238071195595}, 'Soil science': {'weight': 0.14720482139517832}, 'Environmental science': {'weight': 0.2777806346954509}, 'Geochemistry': {'weight': 0.45309574688801724}, 'Limnology': {'weight': 0.23635818232782133}, 'Oceanography': {'weight': 0.29344839147227514}, 'Paleoceanography': {'weight': 0.23278909380701496}, 'Pedosphere': {'weight': 0.3651094268777166}, 'Petrology': {'weight': 0.17507917347288227}})"
      ]
     },
     "execution_count": 17,
     "metadata": {},
     "output_type": "execute_result"
    }
   ],
   "source": [
    "network.graph['Chemistry']"
   ]
  }
 ],
 "metadata": {
  "kernelspec": {
   "display_name": "Python 3",
   "language": "python",
   "name": "python3"
  },
  "language_info": {
   "codemirror_mode": {
    "name": "ipython",
    "version": 3
   },
   "file_extension": ".py",
   "mimetype": "text/x-python",
   "name": "python",
   "nbconvert_exporter": "python",
   "pygments_lexer": "ipython3",
   "version": "3.7.3"
  }
 },
 "nbformat": 4,
 "nbformat_minor": 2
}
