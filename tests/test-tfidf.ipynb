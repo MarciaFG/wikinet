{
 "cells": [
  {
   "cell_type": "code",
   "execution_count": 1,
   "metadata": {},
   "outputs": [],
   "source": [
    "%reload_ext autoreload\n",
    "%autoreload 2\n",
    "import os,sys\n",
    "sys.path.insert(1, os.path.join(sys.path[0],\n",
    "                                '..', 'module'))\n",
    "import wiki\n",
    "import pickle\n",
    "import numpy as np\n",
    "import gensim.models as gm\n",
    "import gensim.utils as gu\n",
    "import gensim.corpora as gc\n",
    "import gensim.matutils as gmat\n",
    "import matplotlib.pyplot as plt\n",
    "import sklearn.metrics.pairwise as smp"
   ]
  },
  {
   "cell_type": "code",
   "execution_count": 2,
   "metadata": {},
   "outputs": [],
   "source": [
    "path_base = '/Users/harangju/Developer/data/wiki/dumps/'\n",
    "name_xml = 'enwiki-20190801-pages-articles-multistream.xml.bz2'\n",
    "name_index = 'enwiki-20190801-pages-articles-multistream-index.txt.bz2'\n",
    "path_xml = path_base + name_xml\n",
    "path_index = path_base + name_index\n",
    "dump = wiki.Dump(path_xml, path_index)"
   ]
  },
  {
   "cell_type": "markdown",
   "metadata": {},
   "source": [
    "### Test big model\n",
    "See `preparation/build-tfidf-model.ipynb`."
   ]
  },
  {
   "cell_type": "code",
   "execution_count": 3,
   "metadata": {},
   "outputs": [],
   "source": [
    "path_save = '/Users/harangju/Developer/data/wiki/models/'\n",
    "tfidf = gu.SaveLoad.load(path_save + 'tfidf.model')\n",
    "dct = pickle.load(open(path_save + 'dict.model','rb'))"
   ]
  },
  {
   "cell_type": "code",
   "execution_count": 4,
   "metadata": {},
   "outputs": [
    {
     "name": "stdout",
     "output_type": "stream",
     "text": [
      "Dump: Loading index...\n",
      "Dump: Loaded.\n"
     ]
    }
   ],
   "source": [
    "dump.load_page('Physics')\n",
    "words = gu.simple_preprocess(dump.page.strip_code())"
   ]
  },
  {
   "cell_type": "code",
   "execution_count": 5,
   "metadata": {},
   "outputs": [
    {
     "data": {
      "text/plain": [
       "[(4, 0.0030784267402274444),\n",
       " (5, 0.2103100457446028),\n",
       " (12, 0.0333281420135526),\n",
       " (13, 0.2007292418185778),\n",
       " (17, 0.04902932080705284)]"
      ]
     },
     "execution_count": 5,
     "metadata": {},
     "output_type": "execute_result"
    }
   ],
   "source": [
    "tfidf[dct.doc2bow(words)][:5]"
   ]
  },
  {
   "cell_type": "markdown",
   "metadata": {},
   "source": [
    "### Weight graph"
   ]
  },
  {
   "cell_type": "code",
   "execution_count": 39,
   "metadata": {},
   "outputs": [
    {
     "data": {
      "text/plain": [
       "NodeView(('Planetary science', 'Earth science', 'Lithosphere', 'Hydrosphere', 'Biosphere', 'Holism', 'Geology', 'Geography', 'Chronology', 'Physics', 'Chemistry', 'Biology', 'Mathematics', 'Science', 'Planetary geology', 'Geochemistry', 'Geophysics', 'Oceanography', 'Hydrology', 'Glaciology', 'Life', 'Human geography', 'Physical geography', 'Geosphere', 'Atmospheric sciences', 'Geochronology', 'Plate tectonics', 'Paleoclimatology', 'Petrology', 'Environmental geology', \"Earth's magnetic field\", 'Geodynamics', 'Magma', 'Magnetosphere', 'Geodesy', 'Crust (geology)', 'Antarctic convergence', 'Atmospheric chemistry', 'Meteorology', 'Volcanology', 'Climatology', 'Atmospheric physics', 'Biogeography', 'Cartography', \"Earth's spheres\", 'Chemical oceanography', 'Earth (planet)', 'Erosion', 'Cryosphere', 'Mineralogy', 'Dynamo theory', 'Economic geology', 'Structural geology', 'Soil science', 'Edaphology', 'Engineering geology', 'Hydrogeology', 'Geomorphology', 'Environmental science', 'Limnology', 'Exosphere', 'Thermosphere', 'Mesosphere', 'Stratosphere', 'Troposphere', 'Gaia hypothesis', 'Gemology', 'Surveying', 'Tectonics', 'Geoinformatics', 'Geomagnetic', 'Geomicrobiology', 'Geostatistics', 'Hydrometeorology', 'Historical geology', 'Stratigraphy', 'Intertropical convergence zone', 'Marine biology', 'Paleoceanography', 'Marine geology', 'Sedimentology', 'Physical oceanography', 'Pedosphere', 'Quaternary geology', 'Seismology', 'Tropopause'))"
      ]
     },
     "execution_count": 39,
     "metadata": {},
     "output_type": "execute_result"
    }
   ],
   "source": [
    "topic = 'earth science'\n",
    "network = wiki.Net()\n",
    "network.load_graph('/Users/harangju/Developer/data/wiki/graphs/dated/'+topic+'.gexf')\n",
    "network.graph.nodes"
   ]
  },
  {
   "cell_type": "code",
   "execution_count": 40,
   "metadata": {},
   "outputs": [
    {
     "data": {
      "text/plain": [
       "AtlasView({'Earth science': {'id': '26', 'weight': 1.0}, 'Geography': {'id': '27', 'weight': 1.0}, 'Environmental geology': {'id': '28', 'weight': 1.0}, 'Gaia hypothesis': {'id': '29', 'weight': 1.0}, 'Pedosphere': {'id': '30', 'weight': 1.0}, 'Physical geography': {'id': '31', 'weight': 1.0}})"
      ]
     },
     "execution_count": 40,
     "metadata": {},
     "output_type": "execute_result"
    }
   ],
   "source": [
    "network.graph['Biosphere']"
   ]
  },
  {
   "cell_type": "code",
   "execution_count": 41,
   "metadata": {},
   "outputs": [
    {
     "data": {
      "text/plain": [
       "(['thumb', 'px', 'false', 'color', 'composite'],\n",
       " ['earth', 'science', 'or', 'geoscience', 'includes'])"
      ]
     },
     "execution_count": 41,
     "metadata": {},
     "output_type": "execute_result"
    }
   ],
   "source": [
    "n1 = 'Biosphere'\n",
    "n2 = 'Earth science'\n",
    "p1 = gu.simple_preprocess(dump.load_page(n1).strip_code())\n",
    "p2 = gu.simple_preprocess(dump.load_page(n2).strip_code())\n",
    "p1[:5], p2[:5]"
   ]
  },
  {
   "cell_type": "code",
   "execution_count": 42,
   "metadata": {},
   "outputs": [
    {
     "data": {
      "text/plain": [
       "([(5, 0.13155321660272415),\n",
       "  (9, 0.005814052937824806),\n",
       "  (12, 0.021480370659743037)],\n",
       " [(4, 0.018341276283594058),\n",
       "  (5, 0.12114910825706296),\n",
       "  (9, 0.005201260490809376)])"
      ]
     },
     "execution_count": 42,
     "metadata": {},
     "output_type": "execute_result"
    }
   ],
   "source": [
    "b1 = tfidf[dct.doc2bow(p1)]\n",
    "b2 = tfidf[dct.doc2bow(p2)]\n",
    "b1[:3], b2[:3]"
   ]
  },
  {
   "cell_type": "code",
   "execution_count": 43,
   "metadata": {},
   "outputs": [
    {
     "data": {
      "text/plain": [
       "(<2050373x1 sparse matrix of type '<class 'numpy.float64'>'\n",
       " \twith 660 stored elements in Compressed Sparse Column format>,\n",
       " <2050373x1 sparse matrix of type '<class 'numpy.float64'>'\n",
       " \twith 605 stored elements in Compressed Sparse Column format>)"
      ]
     },
     "execution_count": 43,
     "metadata": {},
     "output_type": "execute_result"
    }
   ],
   "source": [
    "v = gmat.corpus2csc([b1, b2])\n",
    "v[:,0], v[:,1]"
   ]
  },
  {
   "cell_type": "code",
   "execution_count": 44,
   "metadata": {},
   "outputs": [
    {
     "data": {
      "text/plain": [
       "array([[0.41726377]])"
      ]
     },
     "execution_count": 44,
     "metadata": {},
     "output_type": "execute_result"
    }
   ],
   "source": [
    "smp.cosine_similarity(X=v[:,0].transpose(), Y=v[:,1].transpose())"
   ]
  },
  {
   "cell_type": "markdown",
   "metadata": {},
   "source": [
    "#### Function"
   ]
  },
  {
   "cell_type": "code",
   "execution_count": 48,
   "metadata": {},
   "outputs": [],
   "source": [
    "def set_weights(graph, dump, model, dct):\n",
    "    nodes = list(graph.nodes)\n",
    "    bows = [model[dct.doc2bow(gu.simple_preprocess(dump.load_page(page).strip_code()))]\n",
    "            for page in nodes]\n",
    "    vecs = gmat.corpus2csc(bows)\n",
    "    for n1, n2 in graph.edges:\n",
    "        v1 = vecs[:,nodes.index(n1)].transpose()\n",
    "        v2 = vecs[:,nodes.index(n2)].transpose()\n",
    "        graph[n1][n2]['weight'] = smp.cosine_similarity(X=v1, Y=v2)"
   ]
  },
  {
   "cell_type": "code",
   "execution_count": 49,
   "metadata": {},
   "outputs": [
    {
     "data": {
      "text/plain": [
       "AtlasView({'Earth science': {'id': '26', 'weight': 1.0}, 'Geography': {'id': '27', 'weight': 1.0}, 'Environmental geology': {'id': '28', 'weight': 1.0}, 'Gaia hypothesis': {'id': '29', 'weight': 1.0}, 'Pedosphere': {'id': '30', 'weight': 1.0}, 'Physical geography': {'id': '31', 'weight': 1.0}})"
      ]
     },
     "execution_count": 49,
     "metadata": {},
     "output_type": "execute_result"
    }
   ],
   "source": [
    "network.graph['Biosphere']"
   ]
  },
  {
   "cell_type": "code",
   "execution_count": 50,
   "metadata": {},
   "outputs": [],
   "source": [
    "set_weights(network.graph, dump, tfidf, dct)"
   ]
  },
  {
   "cell_type": "code",
   "execution_count": 51,
   "metadata": {},
   "outputs": [
    {
     "data": {
      "text/plain": [
       "AtlasView({'Earth science': {'id': '26', 'weight': array([[0.41726377]])}, 'Geography': {'id': '27', 'weight': array([[0.29487946]])}, 'Environmental geology': {'id': '28', 'weight': array([[0.19913704]])}, 'Gaia hypothesis': {'id': '29', 'weight': array([[0.28702049]])}, 'Pedosphere': {'id': '30', 'weight': array([[0.28738003]])}, 'Physical geography': {'id': '31', 'weight': array([[0.2802678]])}})"
      ]
     },
     "execution_count": 51,
     "metadata": {},
     "output_type": "execute_result"
    }
   ],
   "source": [
    "network.graph['Biosphere']"
   ]
  },
  {
   "cell_type": "code",
   "execution_count": 55,
   "metadata": {},
   "outputs": [
    {
     "data": {
      "text/plain": [
       "AtlasView({'Earth science': {'id': '72', 'weight': array([[0.25026822]])}, 'Science': {'id': '73', 'weight': array([[0.44314548]])}, 'Physics': {'id': '74', 'weight': array([[0.3909709]])}, 'Atmospheric chemistry': {'id': '75', 'weight': array([[0.48846208]])}, 'Atmospheric physics': {'id': '76', 'weight': array([[0.24918699]])}, 'Mineralogy': {'id': '77', 'weight': array([[0.36392381]])}, 'Soil science': {'id': '78', 'weight': array([[0.14720482]])}, 'Environmental science': {'id': '79', 'weight': array([[0.27778063]])}, 'Geochemistry': {'id': '80', 'weight': array([[0.45309575]])}, 'Limnology': {'id': '81', 'weight': array([[0.23635818]])}, 'Oceanography': {'id': '82', 'weight': array([[0.29344839]])}, 'Paleoceanography': {'id': '83', 'weight': array([[0.23278909]])}, 'Pedosphere': {'id': '84', 'weight': array([[0.36510943]])}, 'Petrology': {'id': '85', 'weight': array([[0.17507917]])}})"
      ]
     },
     "execution_count": 55,
     "metadata": {},
     "output_type": "execute_result"
    }
   ],
   "source": [
    "network.graph['Chemistry']"
   ]
  }
 ],
 "metadata": {
  "kernelspec": {
   "display_name": "Python 3",
   "language": "python",
   "name": "python3"
  },
  "language_info": {
   "codemirror_mode": {
    "name": "ipython",
    "version": 3
   },
   "file_extension": ".py",
   "mimetype": "text/x-python",
   "name": "python",
   "nbconvert_exporter": "python",
   "pygments_lexer": "ipython3",
   "version": "3.7.3"
  }
 },
 "nbformat": 4,
 "nbformat_minor": 2
}
