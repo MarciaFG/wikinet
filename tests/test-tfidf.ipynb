{
 "cells": [
  {
   "cell_type": "code",
   "execution_count": 2,
   "metadata": {},
   "outputs": [],
   "source": [
    "%reload_ext autoreload\n",
    "%autoreload 2\n",
    "import os,sys\n",
    "sys.path.insert(1, os.path.join(sys.path[0],\n",
    "                                '..', 'module'))\n",
    "import wiki\n",
    "import pickle\n",
    "import numpy as np\n",
    "import gensim.models as gm\n",
    "import gensim.utils as gu\n",
    "import gensim.corpora as gc\n",
    "import gensim.matutils as gmat\n",
    "import matplotlib.pyplot as plt\n",
    "import sklearn.metrics.pairwise as smp"
   ]
  },
  {
   "cell_type": "code",
   "execution_count": 4,
   "metadata": {},
   "outputs": [
    {
     "name": "stdout",
     "output_type": "stream",
     "text": [
      "Dump: Loading index...\n",
      "Dump: Loaded.\n"
     ]
    }
   ],
   "source": [
    "path_base = '/Users/harangju/Developer/data/wiki/partition/'\n",
    "name_xml = 'enwiki-20190720-pages-articles-multistream1.xml-p10p30302.bz2'\n",
    "name_index = 'enwiki-20190720-pages-articles-multistream-index1.txt-p10p30302.bz2'\n",
    "path_xml = path_base + name_xml\n",
    "path_index = path_base + name_index\n",
    "dump = wiki.Dump(path_xml, path_index)\n",
    "corpus = wiki.Corpus(dump)"
   ]
  },
  {
   "cell_type": "code",
   "execution_count": null,
   "metadata": {},
   "outputs": [],
   "source": [
    "dct = gc.Dictionary(corpus)\n",
    "tfidf = gm.TfidfModel(dictionary=dct)"
   ]
  },
  {
   "cell_type": "code",
   "execution_count": null,
   "metadata": {},
   "outputs": [],
   "source": [
    "tfidf.save('/Users/harangju/Developer/data/wiki/models/tfidf-small.model')"
   ]
  },
  {
   "cell_type": "code",
   "execution_count": null,
   "metadata": {},
   "outputs": [],
   "source": [
    "corpus[1][:5]"
   ]
  },
  {
   "cell_type": "code",
   "execution_count": null,
   "metadata": {},
   "outputs": [],
   "source": [
    "tfidf[dct.doc2bow(corpus[1])][:5]"
   ]
  },
  {
   "cell_type": "code",
   "execution_count": null,
   "metadata": {
    "scrolled": true
   },
   "outputs": [],
   "source": [
    "vecs = [tfidf[dct.doc2bow(corpus[i])] for i in range(10)]\n",
    "svecs = gmat.corpus2csc(vecs)\n",
    "svecs"
   ]
  },
  {
   "cell_type": "code",
   "execution_count": null,
   "metadata": {},
   "outputs": [],
   "source": [
    "norm = lambda v1,v2: v1.transpose()*v2 \\\n",
    "       / np.sqrt(v1.power(2).sum()) \\\n",
    "       / np.sqrt(v2.power(2).sum())\n",
    "print(norm(svecs[:,1],svecs[:,3]))"
   ]
  },
  {
   "cell_type": "markdown",
   "metadata": {},
   "source": [
    "### Test big model\n",
    "See `preparation/build-tfidf-model.ipynb`."
   ]
  },
  {
   "cell_type": "code",
   "execution_count": 6,
   "metadata": {},
   "outputs": [],
   "source": [
    "path_save = '/Users/harangju/Developer/data/wiki/models/'\n",
    "tfidf = gu.SaveLoad.load(path_save + 'tfidf.model')\n",
    "dct = pickle.load(open(path_save + 'dict.model','rb'))"
   ]
  },
  {
   "cell_type": "code",
   "execution_count": 7,
   "metadata": {},
   "outputs": [
    {
     "data": {
      "text/plain": [
       "['transhumanism', 'abbreviated', 'as', 'or', 'is']"
      ]
     },
     "execution_count": 7,
     "metadata": {},
     "output_type": "execute_result"
    }
   ],
   "source": [
    "corpus[1][:5]"
   ]
  },
  {
   "cell_type": "code",
   "execution_count": 28,
   "metadata": {},
   "outputs": [],
   "source": [
    "tfidf[dct.doc2bow(corpus[1])][:5]"
   ]
  },
  {
   "cell_type": "markdown",
   "metadata": {},
   "source": [
    "### Weight graph"
   ]
  },
  {
   "cell_type": "code",
   "execution_count": null,
   "metadata": {},
   "outputs": [],
   "source": [
    "topic = 'earth science'\n",
    "network = wiki.Net()\n",
    "network.load_graph('/Users/harangju/Developer/data/wiki/graphs/'+topic+'.gexf')"
   ]
  },
  {
   "cell_type": "code",
   "execution_count": null,
   "metadata": {},
   "outputs": [],
   "source": [
    "def set_weights(graph, dump, model, dct):\n",
    "    for n1, n2 in graph.edges:\n",
    "        p1 = gu.simple_preprocess(dump.load_page(n1).strip_code())\n",
    "        p2 = gu.simple_preprocess(dump.load_page(n2).strip_code())\n",
    "        graph[n1][n2]['weight'] = smp.cosine_similarity(X=model[dct.doc2bow(p1)],\n",
    "                                                        Y=model[dct.doc2bow(p2)])"
   ]
  },
  {
   "cell_type": "code",
   "execution_count": null,
   "metadata": {},
   "outputs": [],
   "source": [
    "network.graph['Biosphere']"
   ]
  },
  {
   "cell_type": "code",
   "execution_count": null,
   "metadata": {},
   "outputs": [],
   "source": [
    "print(network.graph['Biosphere']['Earth'])\n",
    "print(network.graph['Biosphere']['Earth'])"
   ]
  },
  {
   "cell_type": "code",
   "execution_count": null,
   "metadata": {},
   "outputs": [],
   "source": [
    "set_weights(network.graph, dump, model, dct)"
   ]
  },
  {
   "cell_type": "code",
   "execution_count": null,
   "metadata": {},
   "outputs": [],
   "source": [
    "print(network.graph['Biosphere']['Earth'])\n",
    "print(network.graph['Biosphere']['Earth'])"
   ]
  }
 ],
 "metadata": {
  "kernelspec": {
   "display_name": "Python 3",
   "language": "python",
   "name": "python3"
  },
  "language_info": {
   "codemirror_mode": {
    "name": "ipython",
    "version": 3
   },
   "file_extension": ".py",
   "mimetype": "text/x-python",
   "name": "python",
   "nbconvert_exporter": "python",
   "pygments_lexer": "ipython3",
   "version": "3.7.3"
  }
 },
 "nbformat": 4,
 "nbformat_minor": 2
}
