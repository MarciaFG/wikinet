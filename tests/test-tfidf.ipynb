{
 "cells": [
  {
   "cell_type": "code",
   "execution_count": 1,
   "metadata": {},
   "outputs": [],
   "source": [
    "%reload_ext autoreload\n",
    "%autoreload 2\n",
    "import os,sys\n",
    "sys.path.insert(1, os.path.join(sys.path[0],\n",
    "                                '..', 'module'))\n",
    "import wiki\n",
    "import pickle\n",
    "import numpy as np\n",
    "import gensim.models as gm\n",
    "import gensim.utils as gu\n",
    "import gensim.corpora as gc\n",
    "import gensim.matutils as gmat\n",
    "import matplotlib.pyplot as plt\n",
    "import sklearn.metrics.pairwise as smp"
   ]
  },
  {
   "cell_type": "markdown",
   "metadata": {},
   "source": [
    "### Test big model\n",
    "See `preparation/build-tfidf-model.ipynb`."
   ]
  },
  {
   "cell_type": "code",
   "execution_count": 5,
   "metadata": {},
   "outputs": [],
   "source": [
    "path_save = '/Users/harangju/Developer/data/wiki/models/'\n",
    "tfidf = gu.SaveLoad.load(path_save + 'tfidf.model')\n",
    "dct = pickle.load(open(path_save + 'dict.model','rb'))"
   ]
  },
  {
   "cell_type": "code",
   "execution_count": 6,
   "metadata": {},
   "outputs": [
    {
     "data": {
      "text/plain": [
       "['transhumanism', 'abbreviated', 'as', 'or', 'is']"
      ]
     },
     "execution_count": 6,
     "metadata": {},
     "output_type": "execute_result"
    }
   ],
   "source": [
    "corpus[1][:5]"
   ]
  },
  {
   "cell_type": "code",
   "execution_count": 7,
   "metadata": {},
   "outputs": [
    {
     "data": {
      "text/plain": [
       "[(4, 0.0014903867352161592),\n",
       " (5, 0.22276491051599304),\n",
       " (9, 0.0016905889256660094),\n",
       " (12, 0.04580387652629316),\n",
       " (13, 0.2198398784494291)]"
      ]
     },
     "execution_count": 7,
     "metadata": {},
     "output_type": "execute_result"
    }
   ],
   "source": [
    "tfidf[dct.doc2bow(corpus[1])][:5]"
   ]
  },
  {
   "cell_type": "markdown",
   "metadata": {},
   "source": [
    "### Weight graph"
   ]
  },
  {
   "cell_type": "code",
   "execution_count": null,
   "metadata": {},
   "outputs": [],
   "source": [
    "topic = 'earth science'\n",
    "network = wiki.Net()\n",
    "network.load_graph('/Users/harangju/Developer/data/wiki/graphs/'+topic+'.gexf')"
   ]
  },
  {
   "cell_type": "code",
   "execution_count": null,
   "metadata": {},
   "outputs": [],
   "source": [
    "def set_weights(graph, dump, model, dct):\n",
    "    for n1, n2 in graph.edges:\n",
    "        p1 = gu.simple_preprocess(dump.load_page(n1).strip_code())\n",
    "        p2 = gu.simple_preprocess(dump.load_page(n2).strip_code())\n",
    "        graph[n1][n2]['weight'] = smp.cosine_similarity(X=model[dct.doc2bow(p1)],\n",
    "                                                        Y=model[dct.doc2bow(p2)])"
   ]
  },
  {
   "cell_type": "code",
   "execution_count": null,
   "metadata": {},
   "outputs": [],
   "source": [
    "network.graph['Biosphere']"
   ]
  },
  {
   "cell_type": "code",
   "execution_count": null,
   "metadata": {},
   "outputs": [],
   "source": [
    "print(network.graph['Biosphere']['Earth'])\n",
    "print(network.graph['Biosphere']['Earth'])"
   ]
  },
  {
   "cell_type": "code",
   "execution_count": null,
   "metadata": {},
   "outputs": [],
   "source": [
    "set_weights(network.graph, dump, model, dct)"
   ]
  },
  {
   "cell_type": "code",
   "execution_count": null,
   "metadata": {},
   "outputs": [],
   "source": [
    "print(network.graph['Biosphere']['Earth'])\n",
    "print(network.graph['Biosphere']['Earth'])"
   ]
  }
 ],
 "metadata": {
  "kernelspec": {
   "display_name": "Python 3",
   "language": "python",
   "name": "python3"
  },
  "language_info": {
   "codemirror_mode": {
    "name": "ipython",
    "version": 3
   },
   "file_extension": ".py",
   "mimetype": "text/x-python",
   "name": "python",
   "nbconvert_exporter": "python",
   "pygments_lexer": "ipython3",
   "version": "3.7.4"
  }
 },
 "nbformat": 4,
 "nbformat_minor": 2
}
