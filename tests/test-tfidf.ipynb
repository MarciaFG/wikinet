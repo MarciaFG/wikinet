{
 "cells": [
  {
   "cell_type": "code",
   "execution_count": 1,
   "metadata": {},
   "outputs": [],
   "source": [
    "%reload_ext autoreload\n",
    "%autoreload 2\n",
    "import os,sys\n",
    "sys.path.insert(1, os.path.join(sys.path[0], '..', 'module'))\n",
    "import wiki\n",
    "import gensim.models as gm\n",
    "import gensim.corpora as gc"
   ]
  },
  {
   "cell_type": "code",
   "execution_count": 87,
   "metadata": {},
   "outputs": [],
   "source": [
    "path_base = '/Users/harangju/Developer/data/wiki/partition/'\n",
    "name_xml = 'enwiki-20190720-pages-articles-multistream1.xml-p10p30302.bz2'\n",
    "name_index = 'enwiki-20190720-pages-articles-multistream-index1.txt-p10p30302.bz2'\n",
    "path_xml = path_base + name_xml\n",
    "path_index = path_base + name_index\n",
    "dump = wiki.Dump(path_xml, path_index)"
   ]
  },
  {
   "cell_type": "code",
   "execution_count": 95,
   "metadata": {},
   "outputs": [],
   "source": [
    "# tfidf = gm.TfidfModel(wiki.Corpus(dump))\n",
    "dct = gc.Dictionary(wiki.Corpus(dump))\n",
    "tfidf = gm.TfidfModel(dictionary=dct)"
   ]
  },
  {
   "cell_type": "code",
   "execution_count": 103,
   "metadata": {},
   "outputs": [
    {
     "data": {
      "text/plain": [
       "['this', 'article', 'has', 'not', 'yet']"
      ]
     },
     "execution_count": 103,
     "metadata": {},
     "output_type": "execute_result"
    }
   ],
   "source": [
    "corpus[100][:5]"
   ]
  },
  {
   "cell_type": "code",
   "execution_count": 104,
   "metadata": {},
   "outputs": [
    {
     "data": {
      "text/plain": [
       "[(56, 0.0055377706852450135),\n",
       " (80, 0.0031419130441303327),\n",
       " (92, 0.009183396811264616),\n",
       " (100, 0.03259081978446876),\n",
       " (137, 0.012063059542513159)]"
      ]
     },
     "execution_count": 104,
     "metadata": {},
     "output_type": "execute_result"
    }
   ],
   "source": [
    "tfidf[dct.doc2bow(corpus[100])][:5]"
   ]
  }
 ],
 "metadata": {
  "kernelspec": {
   "display_name": "Python 3",
   "language": "python",
   "name": "python3"
  },
  "language_info": {
   "codemirror_mode": {
    "name": "ipython",
    "version": 3
   },
   "file_extension": ".py",
   "mimetype": "text/x-python",
   "name": "python",
   "nbconvert_exporter": "python",
   "pygments_lexer": "ipython3",
   "version": "3.7.4"
  }
 },
 "nbformat": 4,
 "nbformat_minor": 2
}
