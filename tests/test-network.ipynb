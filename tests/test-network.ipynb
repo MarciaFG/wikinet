{
 "cells": [
  {
   "cell_type": "code",
   "execution_count": 1,
   "metadata": {},
   "outputs": [],
   "source": [
    "%reload_ext autoreload\n",
    "%autoreload 2"
   ]
  },
  {
   "cell_type": "code",
   "execution_count": 2,
   "metadata": {},
   "outputs": [],
   "source": [
    "import os,sys\n",
    "sys.path.insert(1, os.path.join(sys.path[0], '..', 'module'))"
   ]
  },
  {
   "cell_type": "code",
   "execution_count": 3,
   "metadata": {},
   "outputs": [],
   "source": [
    "import wiki\n",
    "\n",
    "path_base = '/Users/harangju/Developer/data/wiki/dumps/'\n",
    "name_xml = 'enwiki-20190801-pages-articles-multistream.xml.bz2'\n",
    "name_index = 'enwiki-20190801-pages-articles-multistream-index.txt.bz2'\n",
    "path_xml = path_base + name_xml\n",
    "path_index = path_base + name_index\n",
    "dump = wiki.Dump(path_xml, path_index)"
   ]
  },
  {
   "cell_type": "code",
   "execution_count": 4,
   "metadata": {},
   "outputs": [
    {
     "name": "stdout",
     "output_type": "stream",
     "text": [
      "Dump: Loading index...\n",
      "Dump: Loaded.\n",
      "CPU times: user 1min 17s, sys: 2.05 s, total: 1min 19s\n",
      "Wall time: 1min 20s\n"
     ]
    },
    {
     "data": {
      "text/plain": [
       "['File:charles Darwin by Julia Margaret Cameron 2.jpg',\n",
       " 'Charles Darwin',\n",
       " 'Evolutionary biology',\n",
       " 'The Origin of Species',\n",
       " 'Abiogenesis']"
      ]
     },
     "execution_count": 4,
     "metadata": {},
     "output_type": "execute_result"
    }
   ],
   "source": [
    "topic = 'evolutionary biology'\n",
    "%time dump.load_page('Index of {} articles'.format(topic))\n",
    "links = dump.links\n",
    "dump.links[:5]"
   ]
  },
  {
   "cell_type": "markdown",
   "metadata": {},
   "source": [
    "#### Test network generation"
   ]
  },
  {
   "cell_type": "code",
   "execution_count": 30,
   "metadata": {},
   "outputs": [],
   "source": [
    "import pickle\n",
    "import gensim.utils as gu\n",
    "\n",
    "path_save = '/Users/harangju/Developer/data/wiki/models/'\n",
    "tfidf = gu.SaveLoad.load(path_save + 'tfidf.model')\n",
    "dct = pickle.load(open(path_save + 'dict.model','rb'))"
   ]
  },
  {
   "cell_type": "code",
   "execution_count": 88,
   "metadata": {},
   "outputs": [
    {
     "name": "stdout",
     "output_type": "stream",
     "text": [
      "wiki.Net: traversing Wikipedia...\n",
      "wiki.Net: depth = 0\n",
      "wiki.Net: len(queue) = 160\n",
      "wiki.Net: depth = 1\n",
      "wiki.Net: removing isolates...\n",
      "wiki.Net: adding years...\n",
      "wiki.Net: filling empty years...\n",
      "wiki.Net: calculating weights...\n",
      "wiki.Net: computing core-periphery...\n",
      "wiki.Net: computing communities...\n",
      "wiki.Net: computing cores within communities...\n"
     ]
    }
   ],
   "source": [
    "net = wiki.Net()\n",
    "net.build_graph(name=topic, dump=dump, nodes=[str(l) for l in links],\n",
    "                model=tfidf, dct=dct)"
   ]
  },
  {
   "cell_type": "code",
   "execution_count": 93,
   "metadata": {},
   "outputs": [
    {
     "data": {
      "text/plain": [
       "[291, 265]"
      ]
     },
     "execution_count": 93,
     "metadata": {},
     "output_type": "execute_result"
    }
   ],
   "source": [
    "[len(links), len(net.graph.nodes)]\n",
    "# [291, 265] with redirects\n",
    "# [291, 234] without"
   ]
  },
  {
   "cell_type": "code",
   "execution_count": 94,
   "metadata": {},
   "outputs": [
    {
     "data": {
      "text/plain": [
       "{'name': 'evolutionary biology',\n",
       " 'num_years': 162,\n",
       " 'tfidf': <2080851x265 sparse matrix of type '<class 'numpy.float64'>'\n",
       " \twith 253947 stored elements in Compressed Sparse Column format>,\n",
       " 'coreness_be': 0.7845415242880858,\n",
       " 'coreness_rb': 371.15664031551466,\n",
       " 'modularity': 0.26006018498783096,\n",
       " 'community_coreness_be': {0: 0.45422226003541477,\n",
       "  1: 0.6516582248566232,\n",
       "  2: 0.5463887464258219,\n",
       "  3: 0.5489987317401552,\n",
       "  4: 0.4529930348224899,\n",
       "  5: 0.4817648365219904,\n",
       "  6: 0.3226592055775046,\n",
       "  7: 0.4363946077080396,\n",
       "  8: 0.5261546377021571,\n",
       "  9: 0.4313596132176271,\n",
       "  10: 0.3767651111568251,\n",
       "  11: 0.5135908413718031,\n",
       "  12: 0.6379308792362511,\n",
       "  13: 0.49311503022753006,\n",
       "  14: 0.4450362859622329,\n",
       "  15: 0.5473337965162792,\n",
       "  16: 0.701458266881393,\n",
       "  17: 0.2823447323932047,\n",
       "  18: 0.2918330493353162,\n",
       "  19: 0.41730826232683366,\n",
       "  20: 0.41832292071251853,\n",
       "  21: 0.604077692033959,\n",
       "  22: 0.2807682586635488,\n",
       "  23: 0.5,\n",
       "  24: 0.5190804142459637,\n",
       "  25: 0.33333333333333337,\n",
       "  26: 0.33333333333333337,\n",
       "  27: -5.551115123125783e-17,\n",
       "  28: 0},\n",
       " 'community_coreness_rb': {0: 8.207216150034016,\n",
       "  1: 7.656310992365283,\n",
       "  2: 3.7568423088475353,\n",
       "  3: 2.3462933836421533,\n",
       "  4: 1.8617430073896755,\n",
       "  5: 2.223329273080346,\n",
       "  6: 2.4539433810882456,\n",
       "  7: 2.3472130068607595,\n",
       "  8: 1.8958862573804813,\n",
       "  9: 0.7749459393116567,\n",
       "  10: 1.1191791622356402,\n",
       "  11: 1.0150443774671756,\n",
       "  12: 0.5184464989912886,\n",
       "  13: 0.9272368624035656,\n",
       "  14: 0.7045242130266421,\n",
       "  15: 0.8896887714574351,\n",
       "  16: 0.7417131120342811,\n",
       "  17: 0.7017378568444637,\n",
       "  18: 0.7507266885970814,\n",
       "  19: 0.517686824723856,\n",
       "  20: 0.48312296879874383,\n",
       "  21: 0.605447397690737,\n",
       "  22: 0.3295811075221707,\n",
       "  23: 0.0495943907647218,\n",
       "  24: 0.056934515859787795,\n",
       "  25: 0.03420195238643888,\n",
       "  26: 0.023280762129400796,\n",
       "  27: 0.0,\n",
       "  28: 0}}"
      ]
     },
     "execution_count": 94,
     "metadata": {},
     "output_type": "execute_result"
    }
   ],
   "source": [
    "net.graph.graph"
   ]
  },
  {
   "cell_type": "code",
   "execution_count": 91,
   "metadata": {},
   "outputs": [
    {
     "data": {
      "text/plain": [
       "{'year': 1800,\n",
       " 'core_be': 1,\n",
       " 'core_rb': 0.9292452830188679,\n",
       " 'community': 18,\n",
       " 'community_core_be': 1,\n",
       " 'community_core_rb': 0.2}"
      ]
     },
     "execution_count": 91,
     "metadata": {},
     "output_type": "execute_result"
    }
   ],
   "source": [
    "net.graph.nodes['Darwinism']"
   ]
  },
  {
   "cell_type": "code",
   "execution_count": 83,
   "metadata": {},
   "outputs": [
    {
     "data": {
      "text/plain": [
       "['The Voyage of the Beagle',\n",
       " 'Charles Darwin',\n",
       " 'Charles Lyell',\n",
       " 'Thomas Henry Huxley',\n",
       " 'Evolution']"
      ]
     },
     "execution_count": 83,
     "metadata": {},
     "output_type": "execute_result"
    }
   ],
   "source": [
    "[n for n in net.graph.nodes][:5]"
   ]
  },
  {
   "cell_type": "code",
   "execution_count": 84,
   "metadata": {},
   "outputs": [
    {
     "data": {
      "text/plain": [
       "[-9000, -3500, -1900, -600, -500]"
      ]
     },
     "execution_count": 84,
     "metadata": {},
     "output_type": "execute_result"
    }
   ],
   "source": [
    "[y for y in net.years][:5]"
   ]
  },
  {
   "cell_type": "code",
   "execution_count": 85,
   "metadata": {},
   "outputs": [
    {
     "data": {
      "text/plain": [
       "[0, 1, 36, 14, 15]"
      ]
     },
     "execution_count": 85,
     "metadata": {},
     "output_type": "execute_result"
    }
   ],
   "source": [
    "net._numbered = None\n",
    "[n for n in net.numbered.nodes][:5]"
   ]
  },
  {
   "cell_type": "markdown",
   "metadata": {},
   "source": [
    "#### Test network saving & loading"
   ]
  },
  {
   "cell_type": "code",
   "execution_count": 33,
   "metadata": {},
   "outputs": [],
   "source": [
    "net.save_graph(topic)"
   ]
  },
  {
   "cell_type": "code",
   "execution_count": 34,
   "metadata": {},
   "outputs": [
    {
     "data": {
      "text/plain": [
       "265"
      ]
     },
     "execution_count": 34,
     "metadata": {},
     "output_type": "execute_result"
    }
   ],
   "source": [
    "new_net = wiki.Net()\n",
    "new_net.load_graph(topic)\n",
    "len(new_net.graph.nodes)"
   ]
  },
  {
   "cell_type": "code",
   "execution_count": 35,
   "metadata": {
    "scrolled": true
   },
   "outputs": [
    {
     "data": {
      "text/plain": [
       "{'name': 'evolutionary biology',\n",
       " 'num_years': 162,\n",
       " 'tfidf': <2080851x265 sparse matrix of type '<class 'numpy.float64'>'\n",
       " \twith 253947 stored elements in Compressed Sparse Column format>,\n",
       " 'coreness_be': [0.0669858348599072],\n",
       " 'coreness_rb': [371.15664031551466],\n",
       " 'modularity': 0.26006018498783096}"
      ]
     },
     "execution_count": 35,
     "metadata": {},
     "output_type": "execute_result"
    }
   ],
   "source": [
    "new_net.graph.graph"
   ]
  },
  {
   "cell_type": "markdown",
   "metadata": {},
   "source": [
    "#### Test weighting with tf-idf model"
   ]
  },
  {
   "cell_type": "code",
   "execution_count": 86,
   "metadata": {},
   "outputs": [
    {
     "data": {
      "text/plain": [
       "AtlasView({'The Voyage of the Beagle': {'weight': 0.2712892805463564}, 'Charles Darwin': {'weight': 0.4313447568679566}, 'Thomas Henry Huxley': {'weight': 0.2997149409806503}, 'Phylogenetics': {'weight': 0.3081110630771805}, 'Human evolution': {'weight': 0.4969458591576819}, 'Evolutionary biology': {'weight': 0.4400523916182571}, 'Common descent': {'weight': 0.5480997893873277}, 'Paleontology': {'weight': 0.571378381990398}, 'Evolutionary developmental biology': {'weight': 0.5305819256346003}, 'The Origin of Species': {'weight': 0.5765181173462256}, 'History of evolutionary thought': {'weight': 0.72609538318932}, 'Adaptation': {'weight': 0.6818558586652332}, 'Ernst Mayr': {'weight': 0.3972277774230849}, 'Homology (biology)': {'weight': 0.4042887057442101}, 'Galápagos Islands': {'weight': 0.307717245640983}, 'Group selection': {'weight': 0.5513371852065686}, 'Domestication': {'weight': 0.4453884216606581}, 'Transitional fossil': {'weight': 0.47899815281482416}, 'Punctuated equilibrium': {'weight': 0.4455768384555889}, 'Darwinism': {'weight': 0.4040596533555473}, 'Neo-darwinism': {'weight': 0.34695240956610046}, 'Sewall Wright': {'weight': 0.3798289958810392}, 'J. B. S. Haldane': {'weight': 0.3041258035290046}, 'Evolutionary medicine': {'weight': 0.470465512044716}, 'Creation-evolution controversy': {'weight': 0.5432976990825654}, 'History of speciation': {'weight': 0.4262001866550713}, 'Microevolution': {'weight': 0.7257142948186934}, 'Anti-predator adaptation': {'weight': 0.3528309736849022}, 'Archaeopteryx': {'weight': 0.27985701037935673}, 'Origin of birds': {'weight': 0.33244949093262116}, 'Atavism': {'weight': 0.38007029772108963}, 'Evidence of common descent': {'weight': 0.7968674470658739}, 'Gene-centered view of evolution': {'weight': 0.564823956705098}, 'Cephalization': {'weight': 0.29803593027631003}, 'Chronospecies': {'weight': 0.3264603555788205}, 'Co-evolution': {'weight': 0.435903518311745}, 'Evolutionary arms race': {'weight': 0.4505408574129215}, 'Convergent evolution': {'weight': 0.49094971306719426}, 'Red Queen hypothesis': {'weight': 0.5455290785933121}, 'Co-operation (evolution)': {'weight': 0.5113070391815111}, 'Timeline of evolution': {'weight': 0.349886105255961}, 'Macroevolution': {'weight': 0.40482052550249276}, 'Darwin (unit)': {'weight': 0.4049276501924059}, 'W. D. Hamilton': {'weight': 0.40553779469539064}, 'The Selfish Gene': {'weight': 0.50491773672385}, 'Directed mutagenesis': {'weight': 0.31889300576344215}, 'Directed evolution': {'weight': 0.5259369706933262}, 'Experimental evolution': {'weight': 0.5535573102234245}, 'Endless Forms Most Beautiful (book)': {'weight': 0.4964459816578805}, 'Evolution of complexity': {'weight': 0.5645094554583647}, 'Evolution of mammalian auditory ossicles': {'weight': 0.31554373232899724}, 'Exaptation': {'weight': 0.4268902145488454}, 'Evolution of mammals': {'weight': 0.42424814071407274}, 'Molecular phylogeny': {'weight': 0.4029675940297038}, 'Evolution of Monogamy': {'weight': 0.3477230567383407}, 'Evolution of sexual reproduction': {'weight': 0.612448962123313}, 'Evolutionary dynamics': {'weight': 0.33989452613159526}, 'Evolutionary game theory': {'weight': 0.4426623666257182}, 'Evolutionary history of plants': {'weight': 0.5549480886092902}, 'Evolutionary neuroscience': {'weight': 0.4439863073597938}, 'Sociobiology': {'weight': 0.4430682996152546}, 'Evolutionary psychology': {'weight': 0.5124871595492801}, 'Evolutionarily stable strategy': {'weight': 0.2759519858348105}, 'Evolutionary tree': {'weight': 0.31561201545713563}, 'Ronald Fisher': {'weight': 0.3647572129891383}, 'Kin selection': {'weight': 0.4353405409269479}, 'Gene-centric view of evolution': {'weight': 0.564823956705098}, 'Price equation': {'weight': 0.3733270871848781}, 'Genotype-phenotype distinction': {'weight': 0.33329955834892705}, 'Human vestigiality': {'weight': 0.42921023055521457}, 'Koinophilia': {'weight': 0.5569614985939929}, 'Level of support for evolution': {'weight': 0.47578261446386694}, 'Life-history theory': {'weight': 0.5739294580125649}, 'Mass extinctions': {'weight': 0.3964043543131635}, 'Selection (biology)': {'weight': 0.7252597279491063}, 'Molecular systematics': {'weight': 0.4029675940297038}, 'Mosaic evolution': {'weight': 0.36776548359499583}, \"Muller's ratchet\": {'weight': 0.3495255081463511}, 'On The Origin of Species': {'weight': 0.5765181173462256}, 'Paleobotany': {'weight': 0.3119225671531086}, 'Vertebrate paleontology': {'weight': 0.27654265219614915}, 'Plant evolution': {'weight': 0.4438734392448035}, 'Quantum evolution': {'weight': 0.4703647422648364}, 'Quasispecies model': {'weight': 0.3441090641351691}, 'Social effects of evolutionary theory': {'weight': 0.6206094425772878}, 'Transposon': {'weight': 0.37460536539983874}, 'Viral evolution': {'weight': 0.38649084724954297}, 'Edward O. Wilson': {'weight': 0.36735602966599024}, 'List of biology topics': {'weight': 0.4028562435895592}})"
      ]
     },
     "execution_count": 86,
     "metadata": {},
     "output_type": "execute_result"
    }
   ],
   "source": [
    "net.graph['Evolution']"
   ]
  },
  {
   "cell_type": "code",
   "execution_count": 40,
   "metadata": {
    "scrolled": true
   },
   "outputs": [
    {
     "data": {
      "text/plain": [
       "AtlasView({'List of biology topics': {'weight': 0.1966936076996275}})"
      ]
     },
     "execution_count": 40,
     "metadata": {},
     "output_type": "execute_result"
    }
   ],
   "source": [
    "net.graph['Transposon']"
   ]
  },
  {
   "cell_type": "markdown",
   "metadata": {},
   "source": [
    "#### Test coreness\n",
    "\n",
    "Borgatti-Everett"
   ]
  },
  {
   "cell_type": "code",
   "execution_count": 73,
   "metadata": {},
   "outputs": [
    {
     "name": "stderr",
     "output_type": "stream",
     "text": [
      " Temperature        Energy    Accept   Improve     Elapsed   Remaining\n",
      "     0.00000       -183.90     8.00%     7.00%     0:00:02     0:00:00 Temperature        Energy    Accept   Improve     Elapsed   Remaining\n",
      "     0.00000       -183.52     2.00%     1.00%     0:00:02     0:00:00 Temperature        Energy    Accept   Improve     Elapsed   Remaining\n",
      "     0.00000       -182.72     4.00%     3.00%     0:00:02     0:00:00 Temperature        Energy    Accept   Improve     Elapsed   Remaining\n",
      "     0.00000       -182.61     4.00%     4.00%     0:00:02     0:00:00 Temperature        Energy    Accept   Improve     Elapsed   Remaining\n",
      "     0.00000       -183.11     3.00%     3.00%     0:00:02     0:00:00 Temperature        Energy    Accept   Improve     Elapsed   Remaining\n",
      "     0.00000       -183.43     4.00%     2.00%     0:00:02     0:00:00 Temperature        Energy    Accept   Improve     Elapsed   Remaining\n",
      "     0.00000       -182.16    10.00%    10.00%     0:00:02     0:00:00 Temperature        Energy    Accept   Improve     Elapsed   Remaining\n",
      "     0.00000       -183.12     5.00%     3.00%     0:00:02     0:00:00 Temperature        Energy    Accept   Improve     Elapsed   Remaining\n",
      "     0.00000       -183.54     6.00%     6.00%     0:00:02     0:00:00 Temperature        Energy    Accept   Improve     Elapsed   Remaining\n",
      "     0.00000       -181.71     4.00%     4.00%     0:00:02     0:00:00"
     ]
    },
    {
     "name": "stdout",
     "output_type": "stream",
     "text": [
      "CPU times: user 19.6 s, sys: 889 ms, total: 20.4 s\n",
      "Wall time: 20.2 s\n"
     ]
    }
   ],
   "source": [
    "%time wiki.Net.assign_core_periphery(net.graph)"
   ]
  },
  {
   "cell_type": "code",
   "execution_count": 74,
   "metadata": {},
   "outputs": [
    {
     "data": {
      "text/plain": [
       "0.7845415242880858"
      ]
     },
     "execution_count": 74,
     "metadata": {},
     "output_type": "execute_result"
    }
   ],
   "source": [
    "net.graph.graph['coreness_be']"
   ]
  },
  {
   "cell_type": "code",
   "execution_count": 75,
   "metadata": {},
   "outputs": [
    {
     "data": {
      "image/png": "[encoded data removed]",
      "text/plain": [
       "<Figure size 432x288 with 1 Axes>"
      ]
     },
     "metadata": {
      "needs_background": "light"
     },
     "output_type": "display_data"
    }
   ],
   "source": [
    "import networkx as nx\n",
    "import matplotlib.pyplot as plt\n",
    "\n",
    "matrix = nx.convert_matrix.to_numpy_array(net.graph,\n",
    "                                          nodelist=[n for n in net.graph.nodes\n",
    "                                                    if net.graph.nodes[n]['core_be']] +\n",
    "                                                   [n for n in net.graph.nodes\n",
    "                                                    if not net.graph.nodes[n]['core_be']])\n",
    "plt.imshow(matrix)\n",
    "plt.show()"
   ]
  },
  {
   "cell_type": "code",
   "execution_count": 76,
   "metadata": {},
   "outputs": [
    {
     "name": "stderr",
     "output_type": "stream",
     "text": [
      "/Users/harangju/anaconda3/envs/wikinet/lib/python3.7/site-packages/networkx/drawing/nx_pylab.py:579: MatplotlibDeprecationWarning: \n",
      "The iterable function was deprecated in Matplotlib 3.1 and will be removed in 3.3. Use np.iterable instead.\n",
      "  if not cb.iterable(width):\n",
      "/Users/harangju/anaconda3/envs/wikinet/lib/python3.7/site-packages/networkx/drawing/nx_pylab.py:676: MatplotlibDeprecationWarning: \n",
      "The iterable function was deprecated in Matplotlib 3.1 and will be removed in 3.3. Use np.iterable instead.\n",
      "  if cb.iterable(node_size):  # many node sizes\n"
     ]
    },
    {
     "data": {
      "image/png": "[encoded data removed]",
      "text/plain": [
       "<Figure size 432x288 with 1 Axes>"
      ]
     },
     "metadata": {},
     "output_type": "display_data"
    }
   ],
   "source": [
    "import networkx as nx\n",
    "pos = nx.drawing.nx_agraph.graphviz_layout(net.graph, prog='neato')\n",
    "nx.drawing.nx_pylab.draw_networkx(net.graph,\n",
    "                                  pos,\n",
    "                                  font_size=0,\n",
    "                                  alpha=0.9,\n",
    "                                  node_size=5,\n",
    "                                  node_color=[net.graph.nodes[n]['core_be']\n",
    "                                              for n in net.graph.nodes])"
   ]
  },
  {
   "cell_type": "markdown",
   "metadata": {},
   "source": [
    "Rombach"
   ]
  },
  {
   "cell_type": "code",
   "execution_count": 77,
   "metadata": {},
   "outputs": [
    {
     "data": {
      "text/plain": [
       "[183.90095514534235]"
      ]
     },
     "execution_count": 77,
     "metadata": {},
     "output_type": "execute_result"
    }
   ],
   "source": [
    "net.graph.graph['coreness_rb']"
   ]
  },
  {
   "cell_type": "code",
   "execution_count": 78,
   "metadata": {},
   "outputs": [
    {
     "data": {
      "image/png": "[encoded data removed]",
      "text/plain": [
       "<Figure size 432x288 with 1 Axes>"
      ]
     },
     "metadata": {
      "needs_background": "light"
     },
     "output_type": "display_data"
    }
   ],
   "source": [
    "import networkx as nx\n",
    "import matplotlib.pyplot as plt\n",
    "\n",
    "nodes = list(nx.get_node_attributes(net.graph, 'core_rb').items())\n",
    "nodes = nodes.sort(key=lambda x: x[1])\n",
    "matrix = nx.convert_matrix.to_numpy_array(net.graph, nodelist=nodes)\n",
    "plt.imshow(matrix)\n",
    "plt.show()"
   ]
  },
  {
   "cell_type": "code",
   "execution_count": 71,
   "metadata": {},
   "outputs": [
    {
     "data": {
      "image/png": "[encoded data removed]",
      "text/plain": [
       "<Figure size 432x288 with 1 Axes>"
      ]
     },
     "metadata": {},
     "output_type": "display_data"
    }
   ],
   "source": [
    "import networkx as nx\n",
    "pos = nx.drawing.nx_agraph.graphviz_layout(net.graph, prog='neato')\n",
    "nx.drawing.nx_pylab.draw_networkx(net.graph,\n",
    "                                  pos,\n",
    "                                  font_size=0,\n",
    "                                  alpha=0.9,\n",
    "                                  node_size=5,\n",
    "                                  node_color=[net.graph.nodes[n]['core_rb']\n",
    "                                              for n in net.graph.nodes])"
   ]
  },
  {
   "cell_type": "markdown",
   "metadata": {},
   "source": [
    "#### Test community structure"
   ]
  },
  {
   "cell_type": "code",
   "execution_count": 47,
   "metadata": {},
   "outputs": [
    {
     "data": {
      "text/plain": [
       "0.26006018498783096"
      ]
     },
     "execution_count": 47,
     "metadata": {},
     "output_type": "execute_result"
    }
   ],
   "source": [
    "net.graph.graph['modularity']"
   ]
  },
  {
   "cell_type": "code",
   "execution_count": 48,
   "metadata": {},
   "outputs": [
    {
     "data": {
      "text/plain": [
       "<matplotlib.image.AxesImage at 0x7f94267f6290>"
      ]
     },
     "execution_count": 48,
     "metadata": {},
     "output_type": "execute_result"
    },
    {
     "data": {
      "image/png": "[encoded data removed]",
      "text/plain": [
       "<Figure size 432x288 with 1 Axes>"
      ]
     },
     "metadata": {
      "needs_background": "light"
     },
     "output_type": "display_data"
    }
   ],
   "source": [
    "import matplotlib.pyplot as plt\n",
    "\n",
    "num_communities = max([net.graph.nodes[n]['community'] for n in net.graph.nodes])\n",
    "nodelist = [[n for n in net.graph.nodes if net.graph.nodes[n]['community']==i]\n",
    "            for i in range(num_communities)]\n",
    "nodelist = [n for ns in nodelist for n in ns]\n",
    "matrix = nx.convert_matrix.to_numpy_array(net.graph,\n",
    "                                          nodelist=nodelist)\n",
    "plt.imshow(matrix)"
   ]
  },
  {
   "cell_type": "markdown",
   "metadata": {},
   "source": [
    "#### Test clique to barcodes"
   ]
  },
  {
   "cell_type": "code",
   "execution_count": 49,
   "metadata": {},
   "outputs": [
    {
     "name": "stdout",
     "output_type": "stream",
     "text": [
      "CPU times: user 19.3 ms, sys: 1.22 ms, total: 20.5 ms\n",
      "Wall time: 19.9 ms\n",
      "CPU times: user 3 µs, sys: 0 ns, total: 3 µs\n",
      "Wall time: 5.72 µs\n"
     ]
    },
    {
     "data": {
      "text/plain": [
       "[[0], [1], [36], [14]]"
      ]
     },
     "execution_count": 49,
     "metadata": {},
     "output_type": "execute_result"
    }
   ],
   "source": [
    "net._cliques = None\n",
    "%time net.cliques[:4]\n",
    "%time net.cliques[:4]"
   ]
  },
  {
   "cell_type": "code",
   "execution_count": 50,
   "metadata": {},
   "outputs": [
    {
     "data": {
      "text/plain": [
       "[3,\n",
       " 5,\n",
       " 10,\n",
       " 22,\n",
       " 23,\n",
       " 32,\n",
       " 50,\n",
       " 63,\n",
       " 70,\n",
       " 80,\n",
       " 105,\n",
       " 115,\n",
       " 134,\n",
       " 152,\n",
       " 183,\n",
       " 188,\n",
       " 237,\n",
       " 240,\n",
       " 242,\n",
       " 258]"
      ]
     },
     "execution_count": 50,
     "metadata": {},
     "output_type": "execute_result"
    }
   ],
   "source": [
    "net.nodes_for_year[1800]"
   ]
  },
  {
   "cell_type": "code",
   "execution_count": 51,
   "metadata": {},
   "outputs": [
    {
     "name": "stdout",
     "output_type": "stream",
     "text": [
      "CPU times: user 3.52 s, sys: 3.93 ms, total: 3.53 s\n",
      "Wall time: 3.53 s\n"
     ]
    },
    {
     "data": {
      "text/plain": [
       "Filtration with 8797 simplices"
      ]
     },
     "execution_count": 51,
     "metadata": {},
     "output_type": "execute_result"
    }
   ],
   "source": [
    "%time net.filtration"
   ]
  },
  {
   "cell_type": "code",
   "execution_count": 52,
   "metadata": {},
   "outputs": [
    {
     "name": "stdout",
     "output_type": "stream",
     "text": [
      "CPU times: user 5.99 ms, sys: 152 µs, total: 6.14 ms\n",
      "Wall time: 6.13 ms\n"
     ]
    },
    {
     "data": {
      "text/plain": [
       "Reduced matrix with 8797 columns"
      ]
     },
     "execution_count": 52,
     "metadata": {},
     "output_type": "execute_result"
    }
   ],
   "source": [
    "%time net.persistence"
   ]
  },
  {
   "cell_type": "code",
   "execution_count": 53,
   "metadata": {},
   "outputs": [],
   "source": [
    "import pandas as pd\n",
    "pd.options.display.max_rows = 12"
   ]
  },
  {
   "cell_type": "code",
   "execution_count": 54,
   "metadata": {
    "scrolled": false
   },
   "outputs": [
    {
     "name": "stdout",
     "output_type": "stream",
     "text": [
      "wiki.Net: computing barcodes... (skip negatives)\n",
      "wiki.Net: barcode 8788/8797\n",
      "CPU times: user 2.89 s, sys: 619 ms, total: 3.51 s\n",
      "Wall time: 3.85 s\n",
      "CPU times: user 14 µs, sys: 5 µs, total: 19 µs\n",
      "Wall time: 21.7 µs\n"
     ]
    },
    {
     "data": {
      "text/html": [
       "<div>\n",
       "<style scoped>\n",
       "    .dataframe tbody tr th:only-of-type {\n",
       "        vertical-align: middle;\n",
       "    }\n",
       "\n",
       "    .dataframe tbody tr th {\n",
       "        vertical-align: top;\n",
       "    }\n",
       "\n",
       "    .dataframe thead th {\n",
       "        text-align: right;\n",
       "    }\n",
       "</style>\n",
       "<table border=\"1\" class=\"dataframe\">\n",
       "  <thead>\n",
       "    <tr style=\"text-align: right;\">\n",
       "      <th></th>\n",
       "      <th>dim</th>\n",
       "      <th>birth</th>\n",
       "      <th>death</th>\n",
       "      <th>lifetime</th>\n",
       "      <th>birth simplex</th>\n",
       "      <th>death simplex</th>\n",
       "      <th>birth nodes</th>\n",
       "      <th>death nodes</th>\n",
       "      <th>homology nodes</th>\n",
       "    </tr>\n",
       "  </thead>\n",
       "  <tbody>\n",
       "    <tr>\n",
       "      <td>0</td>\n",
       "      <td>0</td>\n",
       "      <td>-9000</td>\n",
       "      <td>inf</td>\n",
       "      <td>inf</td>\n",
       "      <td>[Domestication]</td>\n",
       "      <td>[]</td>\n",
       "      <td>[Domestication]</td>\n",
       "      <td>[]</td>\n",
       "      <td>[]</td>\n",
       "    </tr>\n",
       "    <tr>\n",
       "      <td>1</td>\n",
       "      <td>0</td>\n",
       "      <td>-3500</td>\n",
       "      <td>-3500.0</td>\n",
       "      <td>0.0</td>\n",
       "      <td>[Domestication of the horse]</td>\n",
       "      <td>[Domestication, Domestication of the horse]</td>\n",
       "      <td>[Domestication of the horse]</td>\n",
       "      <td>[Domestication of the horse]</td>\n",
       "      <td>[Domestication of the horse, Domestication]</td>\n",
       "    </tr>\n",
       "    <tr>\n",
       "      <td>2</td>\n",
       "      <td>0</td>\n",
       "      <td>-1900</td>\n",
       "      <td>1600.0</td>\n",
       "      <td>3500.0</td>\n",
       "      <td>[Language]</td>\n",
       "      <td>[Evolution, Domestication]</td>\n",
       "      <td>[Language]</td>\n",
       "      <td>[Evolution]</td>\n",
       "      <td>[Language, Domestication]</td>\n",
       "    </tr>\n",
       "    <tr>\n",
       "      <td>3</td>\n",
       "      <td>0</td>\n",
       "      <td>-600</td>\n",
       "      <td>-600.0</td>\n",
       "      <td>0.0</td>\n",
       "      <td>[Origin of language]</td>\n",
       "      <td>[Origin of language, Language]</td>\n",
       "      <td>[Origin of language]</td>\n",
       "      <td>[Origin of language]</td>\n",
       "      <td>[Language, Origin of language]</td>\n",
       "    </tr>\n",
       "    <tr>\n",
       "      <td>4</td>\n",
       "      <td>0</td>\n",
       "      <td>-500</td>\n",
       "      <td>1600.0</td>\n",
       "      <td>2100.0</td>\n",
       "      <td>[Phylogenetics]</td>\n",
       "      <td>[Evolution, Human evolution]</td>\n",
       "      <td>[Phylogenetics]</td>\n",
       "      <td>[Evolution]</td>\n",
       "      <td>[Phylogenetics, Origin of language]</td>\n",
       "    </tr>\n",
       "    <tr>\n",
       "      <td>...</td>\n",
       "      <td>...</td>\n",
       "      <td>...</td>\n",
       "      <td>...</td>\n",
       "      <td>...</td>\n",
       "      <td>...</td>\n",
       "      <td>...</td>\n",
       "      <td>...</td>\n",
       "      <td>...</td>\n",
       "      <td>...</td>\n",
       "    </tr>\n",
       "    <tr>\n",
       "      <td>4462</td>\n",
       "      <td>6</td>\n",
       "      <td>1915</td>\n",
       "      <td>1915.0</td>\n",
       "      <td>0.0</td>\n",
       "      <td>[Natural selection, Evolutionary biology, Hist...</td>\n",
       "      <td>[Evolution, Natural selection, Evolutionary bi...</td>\n",
       "      <td>[J. B. S. Haldane]</td>\n",
       "      <td>[J. B. S. Haldane]</td>\n",
       "      <td>[History of evolutionary thought, On The Origi...</td>\n",
       "    </tr>\n",
       "    <tr>\n",
       "      <td>4463</td>\n",
       "      <td>6</td>\n",
       "      <td>1915</td>\n",
       "      <td>1915.0</td>\n",
       "      <td>0.0</td>\n",
       "      <td>[Modern synthesis (20th century), Evolutionary...</td>\n",
       "      <td>[Evolution, Modern synthesis (20th century), E...</td>\n",
       "      <td>[J. B. S. Haldane]</td>\n",
       "      <td>[J. B. S. Haldane]</td>\n",
       "      <td>[History of evolutionary thought, Evolution, E...</td>\n",
       "    </tr>\n",
       "    <tr>\n",
       "      <td>4464</td>\n",
       "      <td>6</td>\n",
       "      <td>1915</td>\n",
       "      <td>1915.0</td>\n",
       "      <td>0.0</td>\n",
       "      <td>[Modern synthesis (20th century), Evolutionary...</td>\n",
       "      <td>[Evolution, Modern synthesis (20th century), E...</td>\n",
       "      <td>[J. B. S. Haldane]</td>\n",
       "      <td>[J. B. S. Haldane]</td>\n",
       "      <td>[History of evolutionary thought, On The Origi...</td>\n",
       "    </tr>\n",
       "    <tr>\n",
       "      <td>4465</td>\n",
       "      <td>7</td>\n",
       "      <td>1915</td>\n",
       "      <td>1915.0</td>\n",
       "      <td>0.0</td>\n",
       "      <td>[Natural selection, Modern synthesis (20th cen...</td>\n",
       "      <td>[Evolution, Natural selection, Modern synthesi...</td>\n",
       "      <td>[J. B. S. Haldane]</td>\n",
       "      <td>[J. B. S. Haldane]</td>\n",
       "      <td>[History of evolutionary thought, Evolution, E...</td>\n",
       "    </tr>\n",
       "    <tr>\n",
       "      <td>4466</td>\n",
       "      <td>7</td>\n",
       "      <td>1915</td>\n",
       "      <td>1915.0</td>\n",
       "      <td>0.0</td>\n",
       "      <td>[Natural selection, Modern synthesis (20th cen...</td>\n",
       "      <td>[Evolution, Natural selection, Modern synthesi...</td>\n",
       "      <td>[J. B. S. Haldane]</td>\n",
       "      <td>[J. B. S. Haldane]</td>\n",
       "      <td>[History of evolutionary thought, On The Origi...</td>\n",
       "    </tr>\n",
       "  </tbody>\n",
       "</table>\n",
       "<p>4467 rows × 9 columns</p>\n",
       "</div>"
      ],
      "text/plain": [
       "      dim  birth   death  lifetime  \\\n",
       "0       0  -9000     inf       inf   \n",
       "1       0  -3500 -3500.0       0.0   \n",
       "2       0  -1900  1600.0    3500.0   \n",
       "3       0   -600  -600.0       0.0   \n",
       "4       0   -500  1600.0    2100.0   \n",
       "...   ...    ...     ...       ...   \n",
       "4462    6   1915  1915.0       0.0   \n",
       "4463    6   1915  1915.0       0.0   \n",
       "4464    6   1915  1915.0       0.0   \n",
       "4465    7   1915  1915.0       0.0   \n",
       "4466    7   1915  1915.0       0.0   \n",
       "\n",
       "                                          birth simplex  \\\n",
       "0                                       [Domestication]   \n",
       "1                          [Domestication of the horse]   \n",
       "2                                            [Language]   \n",
       "3                                  [Origin of language]   \n",
       "4                                       [Phylogenetics]   \n",
       "...                                                 ...   \n",
       "4462  [Natural selection, Evolutionary biology, Hist...   \n",
       "4463  [Modern synthesis (20th century), Evolutionary...   \n",
       "4464  [Modern synthesis (20th century), Evolutionary...   \n",
       "4465  [Natural selection, Modern synthesis (20th cen...   \n",
       "4466  [Natural selection, Modern synthesis (20th cen...   \n",
       "\n",
       "                                          death simplex  \\\n",
       "0                                                    []   \n",
       "1           [Domestication, Domestication of the horse]   \n",
       "2                            [Evolution, Domestication]   \n",
       "3                        [Origin of language, Language]   \n",
       "4                          [Evolution, Human evolution]   \n",
       "...                                                 ...   \n",
       "4462  [Evolution, Natural selection, Evolutionary bi...   \n",
       "4463  [Evolution, Modern synthesis (20th century), E...   \n",
       "4464  [Evolution, Modern synthesis (20th century), E...   \n",
       "4465  [Evolution, Natural selection, Modern synthesi...   \n",
       "4466  [Evolution, Natural selection, Modern synthesi...   \n",
       "\n",
       "                       birth nodes                   death nodes  \\\n",
       "0                  [Domestication]                            []   \n",
       "1     [Domestication of the horse]  [Domestication of the horse]   \n",
       "2                       [Language]                   [Evolution]   \n",
       "3             [Origin of language]          [Origin of language]   \n",
       "4                  [Phylogenetics]                   [Evolution]   \n",
       "...                            ...                           ...   \n",
       "4462            [J. B. S. Haldane]            [J. B. S. Haldane]   \n",
       "4463            [J. B. S. Haldane]            [J. B. S. Haldane]   \n",
       "4464            [J. B. S. Haldane]            [J. B. S. Haldane]   \n",
       "4465            [J. B. S. Haldane]            [J. B. S. Haldane]   \n",
       "4466            [J. B. S. Haldane]            [J. B. S. Haldane]   \n",
       "\n",
       "                                         homology nodes  \n",
       "0                                                    []  \n",
       "1           [Domestication of the horse, Domestication]  \n",
       "2                             [Language, Domestication]  \n",
       "3                        [Language, Origin of language]  \n",
       "4                   [Phylogenetics, Origin of language]  \n",
       "...                                                 ...  \n",
       "4462  [History of evolutionary thought, On The Origi...  \n",
       "4463  [History of evolutionary thought, Evolution, E...  \n",
       "4464  [History of evolutionary thought, On The Origi...  \n",
       "4465  [History of evolutionary thought, Evolution, E...  \n",
       "4466  [History of evolutionary thought, On The Origi...  \n",
       "\n",
       "[4467 rows x 9 columns]"
      ]
     },
     "execution_count": 54,
     "metadata": {},
     "output_type": "execute_result"
    }
   ],
   "source": [
    "net._barcodes = None\n",
    "%time net.barcodes\n",
    "%time net.barcodes"
   ]
  },
  {
   "cell_type": "code",
   "execution_count": 55,
   "metadata": {},
   "outputs": [
    {
     "data": {
      "text/html": [
       "<div>\n",
       "<style scoped>\n",
       "    .dataframe tbody tr th:only-of-type {\n",
       "        vertical-align: middle;\n",
       "    }\n",
       "\n",
       "    .dataframe tbody tr th {\n",
       "        vertical-align: top;\n",
       "    }\n",
       "\n",
       "    .dataframe thead th {\n",
       "        text-align: right;\n",
       "    }\n",
       "</style>\n",
       "<table border=\"1\" class=\"dataframe\">\n",
       "  <thead>\n",
       "    <tr style=\"text-align: right;\">\n",
       "      <th></th>\n",
       "      <th>dim</th>\n",
       "      <th>birth</th>\n",
       "      <th>death</th>\n",
       "      <th>lifetime</th>\n",
       "      <th>birth simplex</th>\n",
       "      <th>death simplex</th>\n",
       "      <th>birth nodes</th>\n",
       "      <th>death nodes</th>\n",
       "      <th>homology nodes</th>\n",
       "    </tr>\n",
       "  </thead>\n",
       "  <tbody>\n",
       "    <tr>\n",
       "      <td>0</td>\n",
       "      <td>0</td>\n",
       "      <td>-9000</td>\n",
       "      <td>inf</td>\n",
       "      <td>inf</td>\n",
       "      <td>[Domestication]</td>\n",
       "      <td>[]</td>\n",
       "      <td>[Domestication]</td>\n",
       "      <td>[]</td>\n",
       "      <td>[]</td>\n",
       "    </tr>\n",
       "    <tr>\n",
       "      <td>2</td>\n",
       "      <td>0</td>\n",
       "      <td>-1900</td>\n",
       "      <td>1600.0</td>\n",
       "      <td>3500.0</td>\n",
       "      <td>[Language]</td>\n",
       "      <td>[Evolution, Domestication]</td>\n",
       "      <td>[Language]</td>\n",
       "      <td>[Evolution]</td>\n",
       "      <td>[Language, Domestication]</td>\n",
       "    </tr>\n",
       "    <tr>\n",
       "      <td>4</td>\n",
       "      <td>0</td>\n",
       "      <td>-500</td>\n",
       "      <td>1600.0</td>\n",
       "      <td>2100.0</td>\n",
       "      <td>[Phylogenetics]</td>\n",
       "      <td>[Evolution, Human evolution]</td>\n",
       "      <td>[Phylogenetics]</td>\n",
       "      <td>[Evolution]</td>\n",
       "      <td>[Phylogenetics, Origin of language]</td>\n",
       "    </tr>\n",
       "    <tr>\n",
       "      <td>5</td>\n",
       "      <td>0</td>\n",
       "      <td>-458</td>\n",
       "      <td>1600.0</td>\n",
       "      <td>2058.0</td>\n",
       "      <td>[Heredity]</td>\n",
       "      <td>[Evolution, Heredity]</td>\n",
       "      <td>[Heredity]</td>\n",
       "      <td>[Evolution]</td>\n",
       "      <td>[Phylogenetics, Heredity]</td>\n",
       "    </tr>\n",
       "    <tr>\n",
       "      <td>6</td>\n",
       "      <td>0</td>\n",
       "      <td>-350</td>\n",
       "      <td>1600.0</td>\n",
       "      <td>1950.0</td>\n",
       "      <td>[Anti-predator adaptation]</td>\n",
       "      <td>[Evolution, Anti-predator adaptation]</td>\n",
       "      <td>[Anti-predator adaptation]</td>\n",
       "      <td>[Evolution]</td>\n",
       "      <td>[Phylogenetics, Anti-predator adaptation]</td>\n",
       "    </tr>\n",
       "    <tr>\n",
       "      <td>...</td>\n",
       "      <td>...</td>\n",
       "      <td>...</td>\n",
       "      <td>...</td>\n",
       "      <td>...</td>\n",
       "      <td>...</td>\n",
       "      <td>...</td>\n",
       "      <td>...</td>\n",
       "      <td>...</td>\n",
       "      <td>...</td>\n",
       "    </tr>\n",
       "    <tr>\n",
       "      <td>2764</td>\n",
       "      <td>2</td>\n",
       "      <td>2020</td>\n",
       "      <td>inf</td>\n",
       "      <td>inf</td>\n",
       "      <td>[Systematics, Phylogenetic tree, Evolutionary ...</td>\n",
       "      <td>[]</td>\n",
       "      <td>[Systematics]</td>\n",
       "      <td>[]</td>\n",
       "      <td>[]</td>\n",
       "    </tr>\n",
       "    <tr>\n",
       "      <td>2765</td>\n",
       "      <td>2</td>\n",
       "      <td>2020</td>\n",
       "      <td>inf</td>\n",
       "      <td>inf</td>\n",
       "      <td>[Systematics, History of speciation, List of b...</td>\n",
       "      <td>[]</td>\n",
       "      <td>[Systematics]</td>\n",
       "      <td>[]</td>\n",
       "      <td>[]</td>\n",
       "    </tr>\n",
       "    <tr>\n",
       "      <td>2767</td>\n",
       "      <td>2</td>\n",
       "      <td>2020</td>\n",
       "      <td>inf</td>\n",
       "      <td>inf</td>\n",
       "      <td>[Systematics, Joe Felsenstein, Molecular syste...</td>\n",
       "      <td>[]</td>\n",
       "      <td>[Systematics]</td>\n",
       "      <td>[]</td>\n",
       "      <td>[]</td>\n",
       "    </tr>\n",
       "    <tr>\n",
       "      <td>2770</td>\n",
       "      <td>2</td>\n",
       "      <td>2020</td>\n",
       "      <td>inf</td>\n",
       "      <td>inf</td>\n",
       "      <td>[History of evolutionary thought, Jean-baptist...</td>\n",
       "      <td>[]</td>\n",
       "      <td>[Jean-baptiste Lamarck]</td>\n",
       "      <td>[]</td>\n",
       "      <td>[]</td>\n",
       "    </tr>\n",
       "    <tr>\n",
       "      <td>2773</td>\n",
       "      <td>2</td>\n",
       "      <td>2020</td>\n",
       "      <td>inf</td>\n",
       "      <td>inf</td>\n",
       "      <td>[Gradualism, Creation-evolution controversy, O...</td>\n",
       "      <td>[]</td>\n",
       "      <td>[Gradualism]</td>\n",
       "      <td>[]</td>\n",
       "      <td>[]</td>\n",
       "    </tr>\n",
       "  </tbody>\n",
       "</table>\n",
       "<p>183 rows × 9 columns</p>\n",
       "</div>"
      ],
      "text/plain": [
       "      dim  birth   death  lifetime  \\\n",
       "0       0  -9000     inf       inf   \n",
       "2       0  -1900  1600.0    3500.0   \n",
       "4       0   -500  1600.0    2100.0   \n",
       "5       0   -458  1600.0    2058.0   \n",
       "6       0   -350  1600.0    1950.0   \n",
       "...   ...    ...     ...       ...   \n",
       "2764    2   2020     inf       inf   \n",
       "2765    2   2020     inf       inf   \n",
       "2767    2   2020     inf       inf   \n",
       "2770    2   2020     inf       inf   \n",
       "2773    2   2020     inf       inf   \n",
       "\n",
       "                                          birth simplex  \\\n",
       "0                                       [Domestication]   \n",
       "2                                            [Language]   \n",
       "4                                       [Phylogenetics]   \n",
       "5                                            [Heredity]   \n",
       "6                            [Anti-predator adaptation]   \n",
       "...                                                 ...   \n",
       "2764  [Systematics, Phylogenetic tree, Evolutionary ...   \n",
       "2765  [Systematics, History of speciation, List of b...   \n",
       "2767  [Systematics, Joe Felsenstein, Molecular syste...   \n",
       "2770  [History of evolutionary thought, Jean-baptist...   \n",
       "2773  [Gradualism, Creation-evolution controversy, O...   \n",
       "\n",
       "                              death simplex                 birth nodes  \\\n",
       "0                                        []             [Domestication]   \n",
       "2                [Evolution, Domestication]                  [Language]   \n",
       "4              [Evolution, Human evolution]             [Phylogenetics]   \n",
       "5                     [Evolution, Heredity]                  [Heredity]   \n",
       "6     [Evolution, Anti-predator adaptation]  [Anti-predator adaptation]   \n",
       "...                                     ...                         ...   \n",
       "2764                                     []               [Systematics]   \n",
       "2765                                     []               [Systematics]   \n",
       "2767                                     []               [Systematics]   \n",
       "2770                                     []     [Jean-baptiste Lamarck]   \n",
       "2773                                     []                [Gradualism]   \n",
       "\n",
       "      death nodes                             homology nodes  \n",
       "0              []                                         []  \n",
       "2     [Evolution]                  [Language, Domestication]  \n",
       "4     [Evolution]        [Phylogenetics, Origin of language]  \n",
       "5     [Evolution]                  [Phylogenetics, Heredity]  \n",
       "6     [Evolution]  [Phylogenetics, Anti-predator adaptation]  \n",
       "...           ...                                        ...  \n",
       "2764           []                                         []  \n",
       "2765           []                                         []  \n",
       "2767           []                                         []  \n",
       "2770           []                                         []  \n",
       "2773           []                                         []  \n",
       "\n",
       "[183 rows x 9 columns]"
      ]
     },
     "execution_count": 55,
     "metadata": {},
     "output_type": "execute_result"
    }
   ],
   "source": [
    "net.barcodes[net.barcodes.lifetime!=0]"
   ]
  }
 ],
 "metadata": {
  "kernelspec": {
   "display_name": "Python 3",
   "language": "python",
   "name": "python3"
  },
  "language_info": {
   "codemirror_mode": {
    "name": "ipython",
    "version": 3
   },
   "file_extension": ".py",
   "mimetype": "text/x-python",
   "name": "python",
   "nbconvert_exporter": "python",
   "pygments_lexer": "ipython3",
   "version": "3.7.4"
  }
 },
 "nbformat": 4,
 "nbformat_minor": 2
}
