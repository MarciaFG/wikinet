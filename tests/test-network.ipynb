{
 "cells": [
  {
   "cell_type": "code",
   "execution_count": 1,
   "metadata": {},
   "outputs": [],
   "source": [
    "%reload_ext autoreload\n",
    "%autoreload 2"
   ]
  },
  {
   "cell_type": "code",
   "execution_count": 2,
   "metadata": {},
   "outputs": [],
   "source": [
    "import os,sys\n",
    "sys.path.insert(1, os.path.join(sys.path[0], '..', 'module'))"
   ]
  },
  {
   "cell_type": "code",
   "execution_count": 3,
   "metadata": {},
   "outputs": [],
   "source": [
    "import wiki\n",
    "\n",
    "path_base = '/Users/harangju/Developer/data/wiki/dumps/'\n",
    "name_xml = 'enwiki-20190801-pages-articles-multistream.xml.bz2'\n",
    "name_index = 'enwiki-20190801-pages-articles-multistream-index.txt.bz2'\n",
    "path_xml = path_base + name_xml\n",
    "path_index = path_base + name_index\n",
    "dump = wiki.Dump(path_xml, path_index)"
   ]
  },
  {
   "cell_type": "code",
   "execution_count": 4,
   "metadata": {},
   "outputs": [
    {
     "name": "stdout",
     "output_type": "stream",
     "text": [
      "Dump: Loading index...\n",
      "Dump: Loaded.\n",
      "CPU times: user 1min 19s, sys: 2.17 s, total: 1min 21s\n",
      "Wall time: 1min 21s\n"
     ]
    },
    {
     "data": {
      "text/plain": [
       "['File:charles Darwin by Julia Margaret Cameron 2.jpg',\n",
       " 'Charles Darwin',\n",
       " 'Evolutionary biology',\n",
       " 'The Origin of Species',\n",
       " 'Abiogenesis']"
      ]
     },
     "execution_count": 4,
     "metadata": {},
     "output_type": "execute_result"
    }
   ],
   "source": [
    "topic = 'evolutionary biology'\n",
    "%time dump.load_page('Index of {} articles'.format(topic))\n",
    "links = dump.links\n",
    "dump.links[:5]"
   ]
  },
  {
   "cell_type": "code",
   "execution_count": 5,
   "metadata": {},
   "outputs": [
    {
     "name": "stdout",
     "output_type": "stream",
     "text": [
      "wiki.Net: traversing Wikipedia...\n",
      "wiki.Net: depth = 0\n",
      "wiki.Net: len(queue) = 160\n",
      "wiki.Net: depth = 1\n",
      "wiki.Net: removing isolates...\n",
      "wiki.Net: adding years...\n",
      "wiki.Net: filling empty years...\n"
     ]
    }
   ],
   "source": [
    "net = wiki.Net()\n",
    "net.build_graph(name=topic, dump=dump, nodes=[str(l) for l in links],\n",
    "                compute_core_periphery=False, compute_communities=False)"
   ]
  },
  {
   "cell_type": "code",
   "execution_count": 6,
   "metadata": {},
   "outputs": [
    {
     "data": {
      "text/plain": [
       "{'year': 1800}"
      ]
     },
     "execution_count": 6,
     "metadata": {},
     "output_type": "execute_result"
    }
   ],
   "source": [
    "net.graph.nodes['Darwinism']"
   ]
  },
  {
   "cell_type": "code",
   "execution_count": 7,
   "metadata": {},
   "outputs": [
    {
     "data": {
      "text/plain": [
       "[291, 265]"
      ]
     },
     "execution_count": 7,
     "metadata": {},
     "output_type": "execute_result"
    }
   ],
   "source": [
    "[len(links), len(net.graph.nodes)]\n",
    "# [291, 265] with redirects\n",
    "# [291, 234] without"
   ]
  },
  {
   "cell_type": "code",
   "execution_count": 8,
   "metadata": {},
   "outputs": [
    {
     "data": {
      "text/plain": [
       "[291, 265]"
      ]
     },
     "execution_count": 8,
     "metadata": {},
     "output_type": "execute_result"
    }
   ],
   "source": [
    "[len(links), len(net.graph.nodes)]"
   ]
  },
  {
   "cell_type": "markdown",
   "metadata": {},
   "source": [
    "#### Test network generation"
   ]
  },
  {
   "cell_type": "code",
   "execution_count": 9,
   "metadata": {},
   "outputs": [],
   "source": [
    "import pickle\n",
    "import gensim.utils as gu\n",
    "\n",
    "path_save = '/Users/harangju/Developer/data/wiki/models/'\n",
    "tfidf = gu.SaveLoad.load(path_save + 'tfidf.model')\n",
    "dct = pickle.load(open(path_save + 'dict.model','rb'))"
   ]
  },
  {
   "cell_type": "code",
   "execution_count": 10,
   "metadata": {},
   "outputs": [
    {
     "name": "stdout",
     "output_type": "stream",
     "text": [
      "wiki.Net: traversing Wikipedia...\n",
      "wiki.Net: depth = 0\n",
      "wiki.Net: len(queue) = 160\n",
      "wiki.Net: depth = 1\n",
      "wiki.Net: removing isolates...\n",
      "wiki.Net: adding years...\n",
      "wiki.Net: filling empty years...\n",
      "wiki.Net: calculating weights...\n",
      "wiki.Net: computing core-periphery...\n",
      "wiki.Net: computing communities...\n"
     ]
    }
   ],
   "source": [
    "net = wiki.Net()\n",
    "net.build_graph(name=topic, dump=dump, nodes=[str(l) for l in links],\n",
    "                model=tfidf, dct=dct)"
   ]
  },
  {
   "cell_type": "code",
   "execution_count": 11,
   "metadata": {},
   "outputs": [
    {
     "data": {
      "text/plain": [
       "[291, 265]"
      ]
     },
     "execution_count": 11,
     "metadata": {},
     "output_type": "execute_result"
    }
   ],
   "source": [
    "[len(links), len(net.graph.nodes)]\n",
    "# [291, 265] with redirects\n",
    "# [291, 234] without"
   ]
  },
  {
   "cell_type": "code",
   "execution_count": 12,
   "metadata": {},
   "outputs": [],
   "source": [
    "net.save_graph(topic)"
   ]
  },
  {
   "cell_type": "code",
   "execution_count": 13,
   "metadata": {},
   "outputs": [
    {
     "data": {
      "text/plain": [
       "265"
      ]
     },
     "execution_count": 13,
     "metadata": {},
     "output_type": "execute_result"
    }
   ],
   "source": [
    "new_net = wiki.Net()\n",
    "new_net.load_graph(topic)\n",
    "len(new_net.graph.nodes)"
   ]
  },
  {
   "cell_type": "code",
   "execution_count": 14,
   "metadata": {},
   "outputs": [
    {
     "data": {
      "text/plain": [
       "{'name': 'evolutionary biology',\n",
       " 'tfidf': <2080851x265 sparse matrix of type '<class 'numpy.float64'>'\n",
       " \twith 253947 stored elements in Compressed Sparse Column format>,\n",
       " 'coreness': 0.7845415242880858,\n",
       " 'modularity': 0.26006018498783096}"
      ]
     },
     "execution_count": 14,
     "metadata": {},
     "output_type": "execute_result"
    }
   ],
   "source": [
    "new_net.graph.graph"
   ]
  },
  {
   "cell_type": "code",
   "execution_count": 15,
   "metadata": {},
   "outputs": [
    {
     "data": {
      "text/plain": [
       "['The Voyage of the Beagle',\n",
       " 'Charles Darwin',\n",
       " 'Charles Lyell',\n",
       " 'Thomas Henry Huxley',\n",
       " 'Evolution']"
      ]
     },
     "execution_count": 15,
     "metadata": {},
     "output_type": "execute_result"
    }
   ],
   "source": [
    "[n for n in net.graph.nodes][:5]"
   ]
  },
  {
   "cell_type": "code",
   "execution_count": 16,
   "metadata": {},
   "outputs": [
    {
     "data": {
      "text/plain": [
       "[-9000, -3500, -1900, -600, -500]"
      ]
     },
     "execution_count": 16,
     "metadata": {},
     "output_type": "execute_result"
    }
   ],
   "source": [
    "[y for y in net.years][:5]"
   ]
  },
  {
   "cell_type": "code",
   "execution_count": 17,
   "metadata": {},
   "outputs": [
    {
     "data": {
      "text/plain": [
       "[0, 1, 36, 23, 85]"
      ]
     },
     "execution_count": 17,
     "metadata": {},
     "output_type": "execute_result"
    }
   ],
   "source": [
    "net._numbered = None\n",
    "[n for n in net.numbered.nodes][:5]"
   ]
  },
  {
   "cell_type": "markdown",
   "metadata": {},
   "source": [
    "#### Test weighting with tf-idf model"
   ]
  },
  {
   "cell_type": "code",
   "execution_count": 18,
   "metadata": {},
   "outputs": [
    {
     "data": {
      "text/plain": [
       "AtlasView({'Charles Darwin': {'weight': 0.4313447568679566}, 'Evolutionary biology': {'weight': 0.4400523916182571}, 'The Origin of Species': {'weight': 0.5765181173462256}, 'Adaptation': {'weight': 0.6818558586652332}, 'Anti-predator adaptation': {'weight': 0.3528309736849022}, 'Archaeopteryx': {'weight': 0.27985701037935673}, 'Atavism': {'weight': 0.38007029772108963}, 'Gene-centered view of evolution': {'weight': 0.564823956705098}, 'Cephalization': {'weight': 0.29803593027631003}, 'Chronospecies': {'weight': 0.3264603555788205}, 'Co-evolution': {'weight': 0.435903518311745}, 'Co-operation (evolution)': {'weight': 0.5113070391815111}, 'Common descent': {'weight': 0.5480997893873277}, 'Convergent evolution': {'weight': 0.49094971306719426}, 'Creation-evolution controversy': {'weight': 0.5432976990825654}, 'Darwin (unit)': {'weight': 0.4049276501924059}, 'Darwinism': {'weight': 0.4040596533555473}, 'Directed mutagenesis': {'weight': 0.31889300576344215}, 'Directed evolution': {'weight': 0.5259369706933262}, 'Domestication': {'weight': 0.4453884216606581}, 'Endless Forms Most Beautiful (book)': {'weight': 0.4964459816578805}, 'Evidence of common descent': {'weight': 0.7968674470658739}, 'Evolutionary arms race': {'weight': 0.4505408574129215}, 'Evolution of complexity': {'weight': 0.5645094554583647}, 'Evolution of mammalian auditory ossicles': {'weight': 0.31554373232899724}, 'Evolution of mammals': {'weight': 0.42424814071407274}, 'Evolution of Monogamy': {'weight': 0.3477230567383407}, 'Evolution of sexual reproduction': {'weight': 0.612448962123313}, 'Evolutionary developmental biology': {'weight': 0.5305819256346003}, 'Evolutionary dynamics': {'weight': 0.33989452613159526}, 'Evolutionary game theory': {'weight': 0.4426623666257182}, 'Evolutionary history of plants': {'weight': 0.5549480886092902}, 'Evolutionary medicine': {'weight': 0.470465512044716}, 'Evolutionary neuroscience': {'weight': 0.4439863073597938}, 'Evolutionary psychology': {'weight': 0.5124871595492801}, 'Evolutionarily stable strategy': {'weight': 0.2759519858348105}, 'Evolutionary tree': {'weight': 0.31561201545713563}, 'Experimental evolution': {'weight': 0.5535573102234245}, 'Exaptation': {'weight': 0.4268902145488454}, 'Ronald Fisher': {'weight': 0.3647572129891383}, 'Galápagos Islands': {'weight': 0.307717245640983}, 'Gene-centric view of evolution': {'weight': 0.564823956705098}, 'Genotype-phenotype distinction': {'weight': 0.33329955834892705}, 'Group selection': {'weight': 0.5513371852065686}, 'J. B. S. Haldane': {'weight': 0.3041258035290046}, 'W. D. Hamilton': {'weight': 0.40553779469539064}, 'History of evolutionary thought': {'weight': 0.72609538318932}, 'History of speciation': {'weight': 0.4262001866550713}, 'Homology (biology)': {'weight': 0.4042887057442101}, 'Human evolution': {'weight': 0.4969458591576819}, 'Human vestigiality': {'weight': 0.42921023055521457}, 'Thomas Henry Huxley': {'weight': 0.2997149409806503}, 'Kin selection': {'weight': 0.4353405409269479}, 'Koinophilia': {'weight': 0.5569614985939929}, 'Level of support for evolution': {'weight': 0.47578261446386694}, 'Life-history theory': {'weight': 0.5739294580125649}, 'Macroevolution': {'weight': 0.40482052550249276}, 'Mass extinctions': {'weight': 0.3964043543131635}, 'Ernst Mayr': {'weight': 0.3972277774230849}, 'Microevolution': {'weight': 0.7257142948186934}, 'Molecular phylogeny': {'weight': 0.4029675940297038}, 'Molecular systematics': {'weight': 0.4029675940297038}, 'Mosaic evolution': {'weight': 0.36776548359499583}, \"Muller's ratchet\": {'weight': 0.3495255081463511}, 'Neo-darwinism': {'weight': 0.34695240956610046}, 'On The Origin of Species': {'weight': 0.5765181173462256}, 'Origin of birds': {'weight': 0.33244949093262116}, 'Paleobotany': {'weight': 0.3119225671531086}, 'Paleontology': {'weight': 0.571378381990398}, 'Vertebrate paleontology': {'weight': 0.27654265219614915}, 'Phylogenetics': {'weight': 0.3081110630771805}, 'Plant evolution': {'weight': 0.4438734392448035}, 'Price equation': {'weight': 0.3733270871848781}, 'Punctuated equilibrium': {'weight': 0.4455768384555889}, 'Quantum evolution': {'weight': 0.4703647422648364}, 'Quasispecies model': {'weight': 0.3441090641351691}, 'Red Queen hypothesis': {'weight': 0.5455290785933121}, 'Selection (biology)': {'weight': 0.7252597279491063}, 'The Selfish Gene': {'weight': 0.50491773672385}, 'Sociobiology': {'weight': 0.4430682996152546}, 'Social effects of evolutionary theory': {'weight': 0.6206094425772878}, 'Timeline of evolution': {'weight': 0.349886105255961}, 'Transitional fossil': {'weight': 0.47899815281482416}, 'Transposon': {'weight': 0.37460536539983874}, 'Viral evolution': {'weight': 0.38649084724954297}, 'The Voyage of the Beagle': {'weight': 0.2712892805463564}, 'Edward O. Wilson': {'weight': 0.36735602966599024}, 'Sewall Wright': {'weight': 0.3798289958810392}, 'List of biology topics': {'weight': 0.4028562435895592}})"
      ]
     },
     "execution_count": 18,
     "metadata": {},
     "output_type": "execute_result"
    }
   ],
   "source": [
    "net.graph['Evolution']"
   ]
  },
  {
   "cell_type": "code",
   "execution_count": 19,
   "metadata": {
    "scrolled": true
   },
   "outputs": [
    {
     "data": {
      "text/plain": [
       "AtlasView({'List of biology topics': {'weight': 0.1966936076996275}})"
      ]
     },
     "execution_count": 19,
     "metadata": {},
     "output_type": "execute_result"
    }
   ],
   "source": [
    "net.graph['Transposon']"
   ]
  },
  {
   "cell_type": "markdown",
   "metadata": {},
   "source": [
    "#### Test coreness"
   ]
  },
  {
   "cell_type": "code",
   "execution_count": 20,
   "metadata": {},
   "outputs": [
    {
     "data": {
      "text/plain": [
       "0.7845415242880858"
      ]
     },
     "execution_count": 20,
     "metadata": {},
     "output_type": "execute_result"
    }
   ],
   "source": [
    "net.graph.graph['coreness']"
   ]
  },
  {
   "cell_type": "code",
   "execution_count": 21,
   "metadata": {},
   "outputs": [
    {
     "data": {
      "text/plain": [
       "<matplotlib.image.AxesImage at 0x7fdd69238d90>"
      ]
     },
     "execution_count": 21,
     "metadata": {},
     "output_type": "execute_result"
    }
   ],
   "source": [
    "import networkx as nx\n",
    "import matplotlib.pyplot as plt\n",
    "\n",
    "matrix = nx.convert_matrix.to_numpy_array(net.graph,\n",
    "                                          nodelist=[n for n in net.graph.nodes\n",
    "                                                    if net.graph.nodes[n]['core']] +\n",
    "                                                   [n for n in net.graph.nodes\n",
    "                                                    if not net.graph.nodes[n]['core']])\n",
    "plt.imshow(matrix)"
   ]
  },
  {
   "cell_type": "code",
   "execution_count": 22,
   "metadata": {},
   "outputs": [
    {
     "ename": "ImportError",
     "evalue": "('requires pygraphviz ', 'http://pygraphviz.github.io/')",
     "output_type": "error",
     "traceback": [
      "\u001b[0;31m---------------------------------------------------------------------------\u001b[0m",
      "\u001b[0;31mModuleNotFoundError\u001b[0m                       Traceback (most recent call last)",
      "\u001b[0;32m~/anaconda3/envs/wikinet/lib/python3.7/site-packages/networkx/drawing/nx_agraph.py\u001b[0m in \u001b[0;36mpygraphviz_layout\u001b[0;34m(G, prog, root, args)\u001b[0m\n\u001b[1;32m    282\u001b[0m     \u001b[0;32mtry\u001b[0m\u001b[0;34m:\u001b[0m\u001b[0;34m\u001b[0m\u001b[0;34m\u001b[0m\u001b[0m\n\u001b[0;32m--> 283\u001b[0;31m         \u001b[0;32mimport\u001b[0m \u001b[0mpygraphviz\u001b[0m\u001b[0;34m\u001b[0m\u001b[0;34m\u001b[0m\u001b[0m\n\u001b[0m\u001b[1;32m    284\u001b[0m     \u001b[0;32mexcept\u001b[0m \u001b[0mImportError\u001b[0m\u001b[0;34m:\u001b[0m\u001b[0;34m\u001b[0m\u001b[0;34m\u001b[0m\u001b[0m\n",
      "\u001b[0;31mModuleNotFoundError\u001b[0m: No module named 'pygraphviz'",
      "\nDuring handling of the above exception, another exception occurred:\n",
      "\u001b[0;31mImportError\u001b[0m                               Traceback (most recent call last)",
      "\u001b[0;32m<ipython-input-22-a41fedce1f1c>\u001b[0m in \u001b[0;36m<module>\u001b[0;34m\u001b[0m\n\u001b[1;32m      1\u001b[0m \u001b[0;32mimport\u001b[0m \u001b[0mnetworkx\u001b[0m \u001b[0;32mas\u001b[0m \u001b[0mnx\u001b[0m\u001b[0;34m\u001b[0m\u001b[0;34m\u001b[0m\u001b[0m\n\u001b[0;32m----> 2\u001b[0;31m \u001b[0mpos\u001b[0m \u001b[0;34m=\u001b[0m \u001b[0mnx\u001b[0m\u001b[0;34m.\u001b[0m\u001b[0mdrawing\u001b[0m\u001b[0;34m.\u001b[0m\u001b[0mnx_agraph\u001b[0m\u001b[0;34m.\u001b[0m\u001b[0mgraphviz_layout\u001b[0m\u001b[0;34m(\u001b[0m\u001b[0mnet\u001b[0m\u001b[0;34m.\u001b[0m\u001b[0mgraph\u001b[0m\u001b[0;34m,\u001b[0m \u001b[0mprog\u001b[0m\u001b[0;34m=\u001b[0m\u001b[0;34m'neato'\u001b[0m\u001b[0;34m)\u001b[0m\u001b[0;34m\u001b[0m\u001b[0;34m\u001b[0m\u001b[0m\n\u001b[0m\u001b[1;32m      3\u001b[0m nx.drawing.nx_pylab.draw_networkx(net.graph,\n\u001b[1;32m      4\u001b[0m                                   \u001b[0mpos\u001b[0m\u001b[0;34m,\u001b[0m\u001b[0;34m\u001b[0m\u001b[0;34m\u001b[0m\u001b[0m\n\u001b[1;32m      5\u001b[0m                                   \u001b[0mfont_size\u001b[0m\u001b[0;34m=\u001b[0m\u001b[0;36m0\u001b[0m\u001b[0;34m,\u001b[0m\u001b[0;34m\u001b[0m\u001b[0;34m\u001b[0m\u001b[0m\n",
      "\u001b[0;32m~/anaconda3/envs/wikinet/lib/python3.7/site-packages/networkx/drawing/nx_agraph.py\u001b[0m in \u001b[0;36mgraphviz_layout\u001b[0;34m(G, prog, root, args)\u001b[0m\n\u001b[1;32m    241\u001b[0m     \u001b[0mThis\u001b[0m \u001b[0;32mis\u001b[0m \u001b[0ma\u001b[0m \u001b[0mwrapper\u001b[0m \u001b[0;32mfor\u001b[0m \u001b[0mpygraphviz_layout\u001b[0m\u001b[0;34m.\u001b[0m\u001b[0;34m\u001b[0m\u001b[0;34m\u001b[0m\u001b[0m\n\u001b[1;32m    242\u001b[0m     \"\"\"\n\u001b[0;32m--> 243\u001b[0;31m     \u001b[0;32mreturn\u001b[0m \u001b[0mpygraphviz_layout\u001b[0m\u001b[0;34m(\u001b[0m\u001b[0mG\u001b[0m\u001b[0;34m,\u001b[0m \u001b[0mprog\u001b[0m\u001b[0;34m=\u001b[0m\u001b[0mprog\u001b[0m\u001b[0;34m,\u001b[0m \u001b[0mroot\u001b[0m\u001b[0;34m=\u001b[0m\u001b[0mroot\u001b[0m\u001b[0;34m,\u001b[0m \u001b[0margs\u001b[0m\u001b[0;34m=\u001b[0m\u001b[0margs\u001b[0m\u001b[0;34m)\u001b[0m\u001b[0;34m\u001b[0m\u001b[0;34m\u001b[0m\u001b[0m\n\u001b[0m\u001b[1;32m    244\u001b[0m \u001b[0;34m\u001b[0m\u001b[0m\n\u001b[1;32m    245\u001b[0m \u001b[0;34m\u001b[0m\u001b[0m\n",
      "\u001b[0;32m~/anaconda3/envs/wikinet/lib/python3.7/site-packages/networkx/drawing/nx_agraph.py\u001b[0m in \u001b[0;36mpygraphviz_layout\u001b[0;34m(G, prog, root, args)\u001b[0m\n\u001b[1;32m    284\u001b[0m     \u001b[0;32mexcept\u001b[0m \u001b[0mImportError\u001b[0m\u001b[0;34m:\u001b[0m\u001b[0;34m\u001b[0m\u001b[0;34m\u001b[0m\u001b[0m\n\u001b[1;32m    285\u001b[0m         raise ImportError('requires pygraphviz ',\n\u001b[0;32m--> 286\u001b[0;31m                           'http://pygraphviz.github.io/')\n\u001b[0m\u001b[1;32m    287\u001b[0m     \u001b[0;32mif\u001b[0m \u001b[0mroot\u001b[0m \u001b[0;32mis\u001b[0m \u001b[0;32mnot\u001b[0m \u001b[0;32mNone\u001b[0m\u001b[0;34m:\u001b[0m\u001b[0;34m\u001b[0m\u001b[0;34m\u001b[0m\u001b[0m\n\u001b[1;32m    288\u001b[0m         \u001b[0margs\u001b[0m \u001b[0;34m+=\u001b[0m \u001b[0;34m\"-Groot=%s\"\u001b[0m \u001b[0;34m%\u001b[0m \u001b[0mroot\u001b[0m\u001b[0;34m\u001b[0m\u001b[0;34m\u001b[0m\u001b[0m\n",
      "\u001b[0;31mImportError\u001b[0m: ('requires pygraphviz ', 'http://pygraphviz.github.io/')"
     ]
    }
   ],
   "source": [
    "import networkx as nx\n",
    "pos = nx.drawing.nx_agraph.graphviz_layout(net.graph, prog='neato')\n",
    "nx.drawing.nx_pylab.draw_networkx(net.graph,\n",
    "                                  pos,\n",
    "                                  font_size=0,\n",
    "                                  alpha=0.9,\n",
    "                                  node_size=5,\n",
    "                                  node_color=[net.graph.nodes[n]['core']\n",
    "                                              for n in net.graph.nodes])"
   ]
  },
  {
   "cell_type": "markdown",
   "metadata": {},
   "source": [
    "#### Test community structure"
   ]
  },
  {
   "cell_type": "code",
   "execution_count": null,
   "metadata": {},
   "outputs": [],
   "source": [
    "net.graph.graph['modularity']"
   ]
  },
  {
   "cell_type": "code",
   "execution_count": null,
   "metadata": {},
   "outputs": [],
   "source": [
    "import matplotlib.pyplot as plt\n",
    "\n",
    "num_communities = max([net.graph.nodes[n]['community'] for n in net.graph.nodes])\n",
    "nodelist = [[n for n in net.graph.nodes if net.graph.nodes[n]['community']==i]\n",
    "            for i in range(num_communities)]\n",
    "nodelist = [n for ns in nodelist for n in ns]\n",
    "matrix = nx.convert_matrix.to_numpy_array(net.graph,\n",
    "                                          nodelist=nodelist)\n",
    "plt.imshow(matrix)"
   ]
  },
  {
   "cell_type": "markdown",
   "metadata": {},
   "source": [
    "#### Test clique to barcodes"
   ]
  },
  {
   "cell_type": "code",
   "execution_count": null,
   "metadata": {},
   "outputs": [],
   "source": [
    "net._cliques = None\n",
    "%time net.cliques[:4]\n",
    "%time net.cliques[:4]"
   ]
  },
  {
   "cell_type": "code",
   "execution_count": null,
   "metadata": {},
   "outputs": [],
   "source": [
    "net.nodes_for_year[-4000]"
   ]
  },
  {
   "cell_type": "code",
   "execution_count": null,
   "metadata": {},
   "outputs": [],
   "source": [
    "%time net.filtration"
   ]
  },
  {
   "cell_type": "code",
   "execution_count": null,
   "metadata": {},
   "outputs": [],
   "source": [
    "%time net.persistence"
   ]
  },
  {
   "cell_type": "code",
   "execution_count": null,
   "metadata": {},
   "outputs": [],
   "source": [
    "import pandas as pd\n",
    "pd.options.display.max_rows = 12"
   ]
  },
  {
   "cell_type": "code",
   "execution_count": null,
   "metadata": {
    "scrolled": false
   },
   "outputs": [],
   "source": [
    "net._barcodes = None\n",
    "%time net.barcodes\n",
    "%time net.barcodes"
   ]
  },
  {
   "cell_type": "code",
   "execution_count": null,
   "metadata": {},
   "outputs": [],
   "source": [
    "net.barcodes[net.barcodes.lifetime!=0]"
   ]
  }
 ],
 "metadata": {
  "kernelspec": {
   "display_name": "Python 3",
   "language": "python",
   "name": "python3"
  },
  "language_info": {
   "codemirror_mode": {
    "name": "ipython",
    "version": 3
   },
   "file_extension": ".py",
   "mimetype": "text/x-python",
   "name": "python",
   "nbconvert_exporter": "python",
   "pygments_lexer": "ipython3",
   "version": "3.7.4"
  }
 },
 "nbformat": 4,
 "nbformat_minor": 2
}
