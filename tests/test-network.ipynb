{
 "cells": [
  {
   "cell_type": "code",
   "execution_count": 1,
   "metadata": {},
   "outputs": [],
   "source": [
    "%load_ext autoreload\n",
    "%autoreload 2"
   ]
  },
  {
   "cell_type": "code",
   "execution_count": 2,
   "metadata": {},
   "outputs": [],
   "source": [
    "import os,sys\n",
    "sys.path.insert(1, os.path.join(sys.path[0], '..', 'module'))"
   ]
  },
  {
   "cell_type": "code",
   "execution_count": 3,
   "metadata": {},
   "outputs": [],
   "source": [
    "import wiki\n",
    "\n",
    "path_base = '/Users/harangju/Developer/data/wiki/dumps/'\n",
    "name_xml = 'enwiki-20190801-pages-articles-multistream.xml.bz2'\n",
    "name_index = 'enwiki-20190801-pages-articles-multistream-index.txt.bz2'\n",
    "path_xml = path_base + name_xml\n",
    "path_index = path_base + name_index\n",
    "dump = wiki.Dump(path_xml, path_index)"
   ]
  },
  {
   "cell_type": "code",
   "execution_count": 4,
   "metadata": {},
   "outputs": [
    {
     "name": "stdout",
     "output_type": "stream",
     "text": [
      "Dump: Loading index...\n",
      "Dump: Loaded.\n",
      "CPU times: user 1min 7s, sys: 2.16 s, total: 1min 9s\n",
      "Wall time: 1min 9s\n"
     ]
    },
    {
     "data": {
      "text/plain": [
       "['Chemistry', 'Organism', 'Structure', 'Protein', 'Carbohydrate']"
      ]
     },
     "execution_count": 4,
     "metadata": {},
     "output_type": "execute_result"
    }
   ],
   "source": [
    "topic = 'biochemistry'\n",
    "%time dump.load_page('Index of {} articles'.format(topic))\n",
    "links = dump.links\n",
    "dump.links[:5]"
   ]
  },
  {
   "cell_type": "markdown",
   "metadata": {},
   "source": [
    "#### Test network generation"
   ]
  },
  {
   "cell_type": "code",
   "execution_count": 5,
   "metadata": {},
   "outputs": [
    {
     "name": "stdout",
     "output_type": "stream",
     "text": [
      "wiki.Net: traversing Wikipedia...\n",
      "wiki.Net: depth = 0\n",
      "wiki.Net: len(queue) = 4390\n",
      "wiki.Net: depth = 1\n",
      "wiki.Net: len(queue) = 438wiki.Net: removing isolates...\n",
      "wiki.Net: adding years...\n",
      "wiki.Net: filling empty years...\n"
     ]
    }
   ],
   "source": [
    "net = wiki.Net()\n",
    "net.build_graph(dump, nodes=[str(l) for l in links])"
   ]
  },
  {
   "cell_type": "code",
   "execution_count": 6,
   "metadata": {},
   "outputs": [
    {
     "data": {
      "text/plain": [
       "[1221, 902]"
      ]
     },
     "execution_count": 6,
     "metadata": {},
     "output_type": "execute_result"
    }
   ],
   "source": [
    "[len(links), len(net.graph.nodes)]"
   ]
  },
  {
   "cell_type": "code",
   "execution_count": 7,
   "metadata": {},
   "outputs": [],
   "source": [
    "net.save_graph('test.gexf')"
   ]
  },
  {
   "cell_type": "code",
   "execution_count": 8,
   "metadata": {},
   "outputs": [
    {
     "data": {
      "text/plain": [
       "902"
      ]
     },
     "execution_count": 8,
     "metadata": {},
     "output_type": "execute_result"
    }
   ],
   "source": [
    "new_net = wiki.Net()\n",
    "new_net.load_graph('test.gexf')\n",
    "len(new_net.graph.nodes)"
   ]
  },
  {
   "cell_type": "code",
   "execution_count": 9,
   "metadata": {},
   "outputs": [
    {
     "data": {
      "text/plain": [
       "['Chemical element', 'Chemistry', 'Chemical compound', 'Atom', 'Molecule']"
      ]
     },
     "execution_count": 9,
     "metadata": {},
     "output_type": "execute_result"
    }
   ],
   "source": [
    "[n for n in net.graph.nodes][:5]"
   ]
  },
  {
   "cell_type": "code",
   "execution_count": 10,
   "metadata": {},
   "outputs": [
    {
     "data": {
      "text/plain": [
       "[-2500, -2000, -1999, -700, -500]"
      ]
     },
     "execution_count": 10,
     "metadata": {},
     "output_type": "execute_result"
    }
   ],
   "source": [
    "[y for y in net.years][:5]"
   ]
  },
  {
   "cell_type": "code",
   "execution_count": 11,
   "metadata": {},
   "outputs": [
    {
     "data": {
      "text/plain": [
       "[0, 1, 30, 173, 175]"
      ]
     },
     "execution_count": 11,
     "metadata": {},
     "output_type": "execute_result"
    }
   ],
   "source": [
    "net._numbered = None\n",
    "[n for n in net.numbered.nodes][:5]"
   ]
  },
  {
   "cell_type": "markdown",
   "metadata": {},
   "source": [
    "#### Test clique to barcodes"
   ]
  },
  {
   "cell_type": "code",
   "execution_count": 12,
   "metadata": {},
   "outputs": [
    {
     "name": "stdout",
     "output_type": "stream",
     "text": [
      "CPU times: user 66.3 ms, sys: 1.03 ms, total: 67.3 ms\n",
      "Wall time: 66.6 ms\n",
      "CPU times: user 3 µs, sys: 1 µs, total: 4 µs\n",
      "Wall time: 5.01 µs\n"
     ]
    },
    {
     "data": {
      "text/plain": [
       "[[0], [1], [30], [173]]"
      ]
     },
     "execution_count": 12,
     "metadata": {},
     "output_type": "execute_result"
    }
   ],
   "source": [
    "net._cliques = None\n",
    "%time net.cliques[:4]\n",
    "%time net.cliques[:4]"
   ]
  },
  {
   "cell_type": "code",
   "execution_count": 13,
   "metadata": {},
   "outputs": [
    {
     "data": {
      "text/plain": [
       "[60, 206]"
      ]
     },
     "execution_count": 13,
     "metadata": {},
     "output_type": "execute_result"
    }
   ],
   "source": [
    "net.nodes_for_year[-2500]"
   ]
  },
  {
   "cell_type": "code",
   "execution_count": 15,
   "metadata": {},
   "outputs": [
    {
     "name": "stdout",
     "output_type": "stream",
     "text": [
      "CPU times: user 4 µs, sys: 1e+03 ns, total: 5 µs\n",
      "Wall time: 6.91 µs\n"
     ]
    },
    {
     "data": {
      "text/plain": [
       "Filtration with 8192 simplices"
      ]
     },
     "execution_count": 15,
     "metadata": {},
     "output_type": "execute_result"
    }
   ],
   "source": [
    "%time net.filtration"
   ]
  },
  {
   "cell_type": "code",
   "execution_count": 16,
   "metadata": {},
   "outputs": [
    {
     "name": "stdout",
     "output_type": "stream",
     "text": [
      "CPU times: user 5.16 ms, sys: 21 µs, total: 5.18 ms\n",
      "Wall time: 5.19 ms\n"
     ]
    },
    {
     "data": {
      "text/plain": [
       "Reduced matrix with 8192 columns"
      ]
     },
     "execution_count": 16,
     "metadata": {},
     "output_type": "execute_result"
    }
   ],
   "source": [
    "%time net.persistence"
   ]
  },
  {
   "cell_type": "code",
   "execution_count": 17,
   "metadata": {
    "scrolled": true
   },
   "outputs": [
    {
     "name": "stdout",
     "output_type": "stream",
     "text": [
      "wiki.Net: computing barcodes... (skip negatives)\n",
      "wiki.Net: barcode 8188/8192\n",
      "CPU times: user 2.03 s, sys: 568 ms, total: 2.6 s\n",
      "Wall time: 2.24 s\n",
      "CPU times: user 10 µs, sys: 0 ns, total: 10 µs\n",
      "Wall time: 11.2 µs\n"
     ]
    },
    {
     "data": {
      "text/html": [
       "<div>\n",
       "<style scoped>\n",
       "    .dataframe tbody tr th:only-of-type {\n",
       "        vertical-align: middle;\n",
       "    }\n",
       "\n",
       "    .dataframe tbody tr th {\n",
       "        vertical-align: top;\n",
       "    }\n",
       "\n",
       "    .dataframe thead th {\n",
       "        text-align: right;\n",
       "    }\n",
       "</style>\n",
       "<table border=\"1\" class=\"dataframe\">\n",
       "  <thead>\n",
       "    <tr style=\"text-align: right;\">\n",
       "      <th></th>\n",
       "      <th>dim</th>\n",
       "      <th>birth</th>\n",
       "      <th>death</th>\n",
       "      <th>birth simplex</th>\n",
       "      <th>death simplex</th>\n",
       "      <th>birth nodes</th>\n",
       "      <th>death nodes</th>\n",
       "    </tr>\n",
       "  </thead>\n",
       "  <tbody>\n",
       "    <tr>\n",
       "      <th>0</th>\n",
       "      <td>0</td>\n",
       "      <td>-2500</td>\n",
       "      <td>inf</td>\n",
       "      <td>[Carbon]</td>\n",
       "      <td>[]</td>\n",
       "      <td>[Carbon]</td>\n",
       "      <td>[]</td>\n",
       "    </tr>\n",
       "    <tr>\n",
       "      <th>1</th>\n",
       "      <td>0</td>\n",
       "      <td>-2500</td>\n",
       "      <td>800.0</td>\n",
       "      <td>[Nutrition]</td>\n",
       "      <td>[Ethanol, Ammonia]</td>\n",
       "      <td>[Nutrition]</td>\n",
       "      <td>[Ethanol]</td>\n",
       "    </tr>\n",
       "    <tr>\n",
       "      <th>2</th>\n",
       "      <td>0</td>\n",
       "      <td>-2000</td>\n",
       "      <td>-2000.0</td>\n",
       "      <td>[Alcohol]</td>\n",
       "      <td>[Carbon, Alcohol]</td>\n",
       "      <td>[Alcohol]</td>\n",
       "      <td>[Alcohol]</td>\n",
       "    </tr>\n",
       "    <tr>\n",
       "      <th>3</th>\n",
       "      <td>0</td>\n",
       "      <td>-2000</td>\n",
       "      <td>1669.0</td>\n",
       "      <td>[Pesticide]</td>\n",
       "      <td>[Phosphorus, Pesticide]</td>\n",
       "      <td>[Pesticide]</td>\n",
       "      <td>[Phosphorus]</td>\n",
       "    </tr>\n",
       "    <tr>\n",
       "      <th>4</th>\n",
       "      <td>0</td>\n",
       "      <td>-2000</td>\n",
       "      <td>1600.0</td>\n",
       "      <td>[Medicine]</td>\n",
       "      <td>[Cell biology, Microscope]</td>\n",
       "      <td>[Medicine]</td>\n",
       "      <td>[Cell biology]</td>\n",
       "    </tr>\n",
       "    <tr>\n",
       "      <th>5</th>\n",
       "      <td>0</td>\n",
       "      <td>-1999</td>\n",
       "      <td>-1999.0</td>\n",
       "      <td>[Pharmacist]</td>\n",
       "      <td>[Medicine, Pharmacist]</td>\n",
       "      <td>[Pharmacist]</td>\n",
       "      <td>[Pharmacist]</td>\n",
       "    </tr>\n",
       "    <tr>\n",
       "      <th>6</th>\n",
       "      <td>0</td>\n",
       "      <td>-700</td>\n",
       "      <td>800.0</td>\n",
       "      <td>[Sugar]</td>\n",
       "      <td>[Sugar, Ethanol]</td>\n",
       "      <td>[Sugar]</td>\n",
       "      <td>[Ethanol]</td>\n",
       "    </tr>\n",
       "    <tr>\n",
       "      <th>7</th>\n",
       "      <td>0</td>\n",
       "      <td>-500</td>\n",
       "      <td>1600.0</td>\n",
       "      <td>[Phylogenetics]</td>\n",
       "      <td>[Evolution, Phylogenetics]</td>\n",
       "      <td>[Phylogenetics]</td>\n",
       "      <td>[Evolution]</td>\n",
       "    </tr>\n",
       "    <tr>\n",
       "      <th>8</th>\n",
       "      <td>0</td>\n",
       "      <td>-500</td>\n",
       "      <td>1599.0</td>\n",
       "      <td>[Microbiology]</td>\n",
       "      <td>[Medicine, Virology]</td>\n",
       "      <td>[Microbiology]</td>\n",
       "      <td>[Virology]</td>\n",
       "    </tr>\n",
       "    <tr>\n",
       "      <th>9</th>\n",
       "      <td>0</td>\n",
       "      <td>-500</td>\n",
       "      <td>-360.0</td>\n",
       "      <td>[Sulfur]</td>\n",
       "      <td>[Chemical element, Sulfur]</td>\n",
       "      <td>[Sulfur]</td>\n",
       "      <td>[Chemical element]</td>\n",
       "    </tr>\n",
       "    <tr>\n",
       "      <th>10</th>\n",
       "      <td>0</td>\n",
       "      <td>-430</td>\n",
       "      <td>1600.0</td>\n",
       "      <td>[Immune system]</td>\n",
       "      <td>[Immune system, Evolution]</td>\n",
       "      <td>[Immune system]</td>\n",
       "      <td>[Evolution]</td>\n",
       "    </tr>\n",
       "    <tr>\n",
       "      <th>11</th>\n",
       "      <td>0</td>\n",
       "      <td>-429</td>\n",
       "      <td>-429.0</td>\n",
       "      <td>[T cell]</td>\n",
       "      <td>[Immune system, T cell]</td>\n",
       "      <td>[T cell]</td>\n",
       "      <td>[T cell]</td>\n",
       "    </tr>\n",
       "    <tr>\n",
       "      <th>12</th>\n",
       "      <td>0</td>\n",
       "      <td>-400</td>\n",
       "      <td>-300.0</td>\n",
       "      <td>[Physiology]</td>\n",
       "      <td>[Chemistry, Physiology]</td>\n",
       "      <td>[Physiology]</td>\n",
       "      <td>[Chemistry]</td>\n",
       "    </tr>\n",
       "    <tr>\n",
       "      <th>13</th>\n",
       "      <td>0</td>\n",
       "      <td>-400</td>\n",
       "      <td>-400.0</td>\n",
       "      <td>[Microscope]</td>\n",
       "      <td>[Microbiology, Microscope]</td>\n",
       "      <td>[Microscope]</td>\n",
       "      <td>[Microscope]</td>\n",
       "    </tr>\n",
       "    <tr>\n",
       "      <th>14</th>\n",
       "      <td>0</td>\n",
       "      <td>-360</td>\n",
       "      <td>-360.0</td>\n",
       "      <td>[Chemical element]</td>\n",
       "      <td>[Chemical element, Carbon]</td>\n",
       "      <td>[Chemical element]</td>\n",
       "      <td>[Chemical element]</td>\n",
       "    </tr>\n",
       "    <tr>\n",
       "      <th>15</th>\n",
       "      <td>0</td>\n",
       "      <td>-300</td>\n",
       "      <td>-300.0</td>\n",
       "      <td>[Chemistry]</td>\n",
       "      <td>[Chemical element, Chemistry]</td>\n",
       "      <td>[Chemistry]</td>\n",
       "      <td>[Chemistry]</td>\n",
       "    </tr>\n",
       "    <tr>\n",
       "      <th>16</th>\n",
       "      <td>0</td>\n",
       "      <td>-299</td>\n",
       "      <td>-299.0</td>\n",
       "      <td>[Solution]</td>\n",
       "      <td>[Chemistry, Solution]</td>\n",
       "      <td>[Solution]</td>\n",
       "      <td>[Solution]</td>\n",
       "    </tr>\n",
       "    <tr>\n",
       "      <th>17</th>\n",
       "      <td>0</td>\n",
       "      <td>-298</td>\n",
       "      <td>-298.0</td>\n",
       "      <td>[Mixture]</td>\n",
       "      <td>[Chemical element, Mixture]</td>\n",
       "      <td>[Mixture]</td>\n",
       "      <td>[Mixture]</td>\n",
       "    </tr>\n",
       "    <tr>\n",
       "      <th>18</th>\n",
       "      <td>0</td>\n",
       "      <td>-298</td>\n",
       "      <td>-298.0</td>\n",
       "      <td>[Concentration]</td>\n",
       "      <td>[Chemistry, Concentration]</td>\n",
       "      <td>[Concentration]</td>\n",
       "      <td>[Concentration]</td>\n",
       "    </tr>\n",
       "    <tr>\n",
       "      <th>19</th>\n",
       "      <td>0</td>\n",
       "      <td>-297</td>\n",
       "      <td>-297.0</td>\n",
       "      <td>[Colorimeter (chemistry)]</td>\n",
       "      <td>[Concentration, Colorimeter (chemistry)]</td>\n",
       "      <td>[Colorimeter (chemistry)]</td>\n",
       "      <td>[Colorimeter (chemistry)]</td>\n",
       "    </tr>\n",
       "    <tr>\n",
       "      <th>20</th>\n",
       "      <td>0</td>\n",
       "      <td>-297</td>\n",
       "      <td>-297.0</td>\n",
       "      <td>[Emulsion]</td>\n",
       "      <td>[Mixture, Emulsion]</td>\n",
       "      <td>[Emulsion]</td>\n",
       "      <td>[Emulsion]</td>\n",
       "    </tr>\n",
       "    <tr>\n",
       "      <th>21</th>\n",
       "      <td>0</td>\n",
       "      <td>100</td>\n",
       "      <td>100.0</td>\n",
       "      <td>[Atomic number]</td>\n",
       "      <td>[Chemical element, Atomic number]</td>\n",
       "      <td>[Atomic number]</td>\n",
       "      <td>[Atomic number]</td>\n",
       "    </tr>\n",
       "    <tr>\n",
       "      <th>22</th>\n",
       "      <td>0</td>\n",
       "      <td>100</td>\n",
       "      <td>100.0</td>\n",
       "      <td>[Mole (unit)]</td>\n",
       "      <td>[Carbon, Mole (unit)]</td>\n",
       "      <td>[Mole (unit)]</td>\n",
       "      <td>[Mole (unit)]</td>\n",
       "    </tr>\n",
       "    <tr>\n",
       "      <th>23</th>\n",
       "      <td>0</td>\n",
       "      <td>100</td>\n",
       "      <td>1614.0</td>\n",
       "      <td>[Lipid]</td>\n",
       "      <td>[Metabolism, Lipid]</td>\n",
       "      <td>[Lipid]</td>\n",
       "      <td>[Metabolism]</td>\n",
       "    </tr>\n",
       "    <tr>\n",
       "      <th>24</th>\n",
       "      <td>0</td>\n",
       "      <td>101</td>\n",
       "      <td>101.0</td>\n",
       "      <td>[Electrochemical potential]</td>\n",
       "      <td>[Mole (unit), Electrochemical potential]</td>\n",
       "      <td>[Electrochemical potential]</td>\n",
       "      <td>[Electrochemical potential]</td>\n",
       "    </tr>\n",
       "    <tr>\n",
       "      <th>25</th>\n",
       "      <td>0</td>\n",
       "      <td>111</td>\n",
       "      <td>111.0</td>\n",
       "      <td>[Ammonia]</td>\n",
       "      <td>[Ammonia, Nutrition]</td>\n",
       "      <td>[Ammonia]</td>\n",
       "      <td>[Ammonia]</td>\n",
       "    </tr>\n",
       "    <tr>\n",
       "      <th>26</th>\n",
       "      <td>0</td>\n",
       "      <td>126</td>\n",
       "      <td>126.0</td>\n",
       "      <td>[Osmosis]</td>\n",
       "      <td>[Solution, Osmosis]</td>\n",
       "      <td>[Osmosis]</td>\n",
       "      <td>[Osmosis]</td>\n",
       "    </tr>\n",
       "    <tr>\n",
       "      <th>27</th>\n",
       "      <td>0</td>\n",
       "      <td>160</td>\n",
       "      <td>1671.0</td>\n",
       "      <td>[Deuterium]</td>\n",
       "      <td>[Hydrogen, Deuterium]</td>\n",
       "      <td>[Deuterium]</td>\n",
       "      <td>[Hydrogen]</td>\n",
       "    </tr>\n",
       "    <tr>\n",
       "      <th>28</th>\n",
       "      <td>0</td>\n",
       "      <td>182</td>\n",
       "      <td>1838.0</td>\n",
       "      <td>[Intein]</td>\n",
       "      <td>[Protein, Intein]</td>\n",
       "      <td>[Intein]</td>\n",
       "      <td>[Protein]</td>\n",
       "    </tr>\n",
       "    <tr>\n",
       "      <th>29</th>\n",
       "      <td>0</td>\n",
       "      <td>273</td>\n",
       "      <td>1735.0</td>\n",
       "      <td>[Kelvin]</td>\n",
       "      <td>[Biology, Entropy]</td>\n",
       "      <td>[Kelvin]</td>\n",
       "      <td>[Biology]</td>\n",
       "    </tr>\n",
       "    <tr>\n",
       "      <th>...</th>\n",
       "      <td>...</td>\n",
       "      <td>...</td>\n",
       "      <td>...</td>\n",
       "      <td>...</td>\n",
       "      <td>...</td>\n",
       "      <td>...</td>\n",
       "      <td>...</td>\n",
       "    </tr>\n",
       "    <tr>\n",
       "      <th>4315</th>\n",
       "      <td>4</td>\n",
       "      <td>1911</td>\n",
       "      <td>1911.0</td>\n",
       "      <td>[Hydrogen, Proton, Atomic nucleus, Neutron, At...</td>\n",
       "      <td>[Atom, Hydrogen, Proton, Atomic nucleus, Neutr...</td>\n",
       "      <td>[Atomic nucleus]</td>\n",
       "      <td>[Atomic nucleus]</td>\n",
       "    </tr>\n",
       "    <tr>\n",
       "      <th>4316</th>\n",
       "      <td>4</td>\n",
       "      <td>1911</td>\n",
       "      <td>1911.0</td>\n",
       "      <td>[Electron, Atomic nucleus, Neutron, Atomic mas...</td>\n",
       "      <td>[Atom, Electron, Atomic nucleus, Neutron, Atom...</td>\n",
       "      <td>[Atomic nucleus]</td>\n",
       "      <td>[Atomic nucleus]</td>\n",
       "    </tr>\n",
       "    <tr>\n",
       "      <th>4317</th>\n",
       "      <td>4</td>\n",
       "      <td>1911</td>\n",
       "      <td>1911.0</td>\n",
       "      <td>[Electron, Proton, Atomic nucleus, Neutron, At...</td>\n",
       "      <td>[Atom, Electron, Proton, Atomic nucleus, Neutr...</td>\n",
       "      <td>[Atomic nucleus]</td>\n",
       "      <td>[Atomic nucleus]</td>\n",
       "    </tr>\n",
       "    <tr>\n",
       "      <th>4318</th>\n",
       "      <td>4</td>\n",
       "      <td>1911</td>\n",
       "      <td>1911.0</td>\n",
       "      <td>[Hydrogen, Proton, Atomic nucleus, Neutron, De...</td>\n",
       "      <td>[Atom, Hydrogen, Proton, Atomic nucleus, Neutr...</td>\n",
       "      <td>[Atomic nucleus]</td>\n",
       "      <td>[Atomic nucleus]</td>\n",
       "    </tr>\n",
       "    <tr>\n",
       "      <th>4319</th>\n",
       "      <td>4</td>\n",
       "      <td>1917</td>\n",
       "      <td>1917.0</td>\n",
       "      <td>[Chemistry, Chemical compound, Atom, Chemical ...</td>\n",
       "      <td>[Chemical element, Chemistry, Chemical compoun...</td>\n",
       "      <td>[Chemical compound]</td>\n",
       "      <td>[Chemical compound]</td>\n",
       "    </tr>\n",
       "    <tr>\n",
       "      <th>4320</th>\n",
       "      <td>4</td>\n",
       "      <td>1917</td>\n",
       "      <td>1917.0</td>\n",
       "      <td>[Chemistry, Chemical compound, Atom, Molecule,...</td>\n",
       "      <td>[Chemical element, Chemistry, Chemical compoun...</td>\n",
       "      <td>[Chemical compound]</td>\n",
       "      <td>[Chemical compound]</td>\n",
       "    </tr>\n",
       "    <tr>\n",
       "      <th>4321</th>\n",
       "      <td>4</td>\n",
       "      <td>1917</td>\n",
       "      <td>1917.0</td>\n",
       "      <td>[Chemical compound, Amino acid, Carbon, Hydrog...</td>\n",
       "      <td>[Chemical element, Chemical compound, Amino ac...</td>\n",
       "      <td>[Chemical compound]</td>\n",
       "      <td>[Chemical compound]</td>\n",
       "    </tr>\n",
       "    <tr>\n",
       "      <th>4322</th>\n",
       "      <td>4</td>\n",
       "      <td>1917</td>\n",
       "      <td>1917.0</td>\n",
       "      <td>[Chemical compound, Atom, Chemical reaction, C...</td>\n",
       "      <td>[Chemical element, Chemical compound, Atom, Ch...</td>\n",
       "      <td>[Chemical compound, Chemical formula]</td>\n",
       "      <td>[Chemical compound, Chemical formula]</td>\n",
       "    </tr>\n",
       "    <tr>\n",
       "      <th>4323</th>\n",
       "      <td>4</td>\n",
       "      <td>1917</td>\n",
       "      <td>1917.0</td>\n",
       "      <td>[Chemical compound, Atom, Molecule, Chemical b...</td>\n",
       "      <td>[Chemical element, Chemical compound, Atom, Mo...</td>\n",
       "      <td>[Chemical compound, Chemical formula]</td>\n",
       "      <td>[Chemical compound, Chemical formula]</td>\n",
       "    </tr>\n",
       "    <tr>\n",
       "      <th>4324</th>\n",
       "      <td>4</td>\n",
       "      <td>1917</td>\n",
       "      <td>1917.0</td>\n",
       "      <td>[Chemical compound, Atom, Chemical bond, Hydro...</td>\n",
       "      <td>[Chemical element, Chemical compound, Atom, Ch...</td>\n",
       "      <td>[Chemical compound]</td>\n",
       "      <td>[Chemical compound]</td>\n",
       "    </tr>\n",
       "    <tr>\n",
       "      <th>4325</th>\n",
       "      <td>4</td>\n",
       "      <td>1917</td>\n",
       "      <td>1917.0</td>\n",
       "      <td>[Chemical compound, Chemical bond, Carbon, Hyd...</td>\n",
       "      <td>[Chemical element, Chemical compound, Chemical...</td>\n",
       "      <td>[Chemical compound]</td>\n",
       "      <td>[Chemical compound]</td>\n",
       "    </tr>\n",
       "    <tr>\n",
       "      <th>4326</th>\n",
       "      <td>4</td>\n",
       "      <td>1917</td>\n",
       "      <td>1917.0</td>\n",
       "      <td>[Chemical compound, Molecule, Chemical bond, C...</td>\n",
       "      <td>[Chemical compound, Atom, Molecule, Chemical b...</td>\n",
       "      <td>[Chemical compound, Chemical formula]</td>\n",
       "      <td>[Chemical compound, Chemical formula]</td>\n",
       "    </tr>\n",
       "    <tr>\n",
       "      <th>4327</th>\n",
       "      <td>4</td>\n",
       "      <td>1918</td>\n",
       "      <td>1918.0</td>\n",
       "      <td>[Chemical compound, Amino acid, Hydrogen, Oxyg...</td>\n",
       "      <td>[Chemical element, Chemical compound, Amino ac...</td>\n",
       "      <td>[Water]</td>\n",
       "      <td>[Water]</td>\n",
       "    </tr>\n",
       "    <tr>\n",
       "      <th>4328</th>\n",
       "      <td>4</td>\n",
       "      <td>1918</td>\n",
       "      <td>1918.0</td>\n",
       "      <td>[Chemical compound, Atom, Molecule, Chemical f...</td>\n",
       "      <td>[Chemical element, Chemical compound, Atom, Mo...</td>\n",
       "      <td>[Water]</td>\n",
       "      <td>[Water]</td>\n",
       "    </tr>\n",
       "    <tr>\n",
       "      <th>4329</th>\n",
       "      <td>4</td>\n",
       "      <td>1918</td>\n",
       "      <td>1918.0</td>\n",
       "      <td>[Chemical compound, Molecule, Chemical formula...</td>\n",
       "      <td>[Chemical compound, Atom, Molecule, Chemical f...</td>\n",
       "      <td>[Water]</td>\n",
       "      <td>[Water]</td>\n",
       "    </tr>\n",
       "    <tr>\n",
       "      <th>4330</th>\n",
       "      <td>4</td>\n",
       "      <td>1928</td>\n",
       "      <td>1928.0</td>\n",
       "      <td>[Atom, Hydrogen, Atomic nucleus, Atomic number...</td>\n",
       "      <td>[Chemical element, Atom, Hydrogen, Atomic nucl...</td>\n",
       "      <td>[Electronegativity]</td>\n",
       "      <td>[Electronegativity]</td>\n",
       "    </tr>\n",
       "    <tr>\n",
       "      <th>4331</th>\n",
       "      <td>4</td>\n",
       "      <td>1928</td>\n",
       "      <td>1928.0</td>\n",
       "      <td>[Electron, Proton, Atomic nucleus, Atomic numb...</td>\n",
       "      <td>[Atom, Electron, Proton, Atomic nucleus, Atomi...</td>\n",
       "      <td>[Electron capture]</td>\n",
       "      <td>[Electron capture]</td>\n",
       "    </tr>\n",
       "    <tr>\n",
       "      <th>4332</th>\n",
       "      <td>4</td>\n",
       "      <td>1954</td>\n",
       "      <td>1954.0</td>\n",
       "      <td>[Organism, Archaea, Cell nucleus, Protein, Gen...</td>\n",
       "      <td>[Organism, Archaea, Cell nucleus, Gene, Protei...</td>\n",
       "      <td>[Gene expression]</td>\n",
       "      <td>[Gene expression]</td>\n",
       "    </tr>\n",
       "    <tr>\n",
       "      <th>4333</th>\n",
       "      <td>4</td>\n",
       "      <td>1955</td>\n",
       "      <td>1955.0</td>\n",
       "      <td>[Polysaccharide, Carbohydrate, Glucose, Starch...</td>\n",
       "      <td>[Polysaccharide, Carbohydrate, Glucose, Monosa...</td>\n",
       "      <td>[Carbohydrate]</td>\n",
       "      <td>[Carbohydrate]</td>\n",
       "    </tr>\n",
       "    <tr>\n",
       "      <th>4334</th>\n",
       "      <td>4</td>\n",
       "      <td>1974</td>\n",
       "      <td>1974.0</td>\n",
       "      <td>[Protein, Peptide, Oligopeptide, Alanine, C-te...</td>\n",
       "      <td>[Protein, Amino acid, Peptide, Oligopeptide, A...</td>\n",
       "      <td>[C-terminus]</td>\n",
       "      <td>[C-terminus]</td>\n",
       "    </tr>\n",
       "    <tr>\n",
       "      <th>4335</th>\n",
       "      <td>5</td>\n",
       "      <td>1817</td>\n",
       "      <td>1817.0</td>\n",
       "      <td>[Electron, Proton, Neutron, Atomic number, Ato...</td>\n",
       "      <td>[Atom, Electron, Proton, Neutron, Atomic numbe...</td>\n",
       "      <td>[Neutron]</td>\n",
       "      <td>[Neutron]</td>\n",
       "    </tr>\n",
       "    <tr>\n",
       "      <th>4336</th>\n",
       "      <td>5</td>\n",
       "      <td>1906</td>\n",
       "      <td>1906.0</td>\n",
       "      <td>[Organism, Bacteria, Eukaryote, Cell nucleus, ...</td>\n",
       "      <td>[Prokaryote, Organism, Bacteria, Eukaryote, Ce...</td>\n",
       "      <td>[Organism]</td>\n",
       "      <td>[Organism]</td>\n",
       "    </tr>\n",
       "    <tr>\n",
       "      <th>4337</th>\n",
       "      <td>5</td>\n",
       "      <td>1911</td>\n",
       "      <td>1911.0</td>\n",
       "      <td>[Electron, Proton, Atomic nucleus, Atomic numb...</td>\n",
       "      <td>[Atom, Electron, Proton, Atomic nucleus, Atomi...</td>\n",
       "      <td>[Atomic nucleus]</td>\n",
       "      <td>[Atomic nucleus]</td>\n",
       "    </tr>\n",
       "    <tr>\n",
       "      <th>4338</th>\n",
       "      <td>5</td>\n",
       "      <td>1911</td>\n",
       "      <td>1911.0</td>\n",
       "      <td>[Proton, Atomic nucleus, Neutron, Atomic numbe...</td>\n",
       "      <td>[Atom, Proton, Atomic nucleus, Neutron, Atomic...</td>\n",
       "      <td>[Atomic nucleus]</td>\n",
       "      <td>[Atomic nucleus]</td>\n",
       "    </tr>\n",
       "    <tr>\n",
       "      <th>4339</th>\n",
       "      <td>5</td>\n",
       "      <td>1911</td>\n",
       "      <td>1911.0</td>\n",
       "      <td>[Electron, Proton, Atomic nucleus, Neutron, At...</td>\n",
       "      <td>[Atom, Electron, Proton, Atomic nucleus, Neutr...</td>\n",
       "      <td>[Atomic nucleus]</td>\n",
       "      <td>[Atomic nucleus]</td>\n",
       "    </tr>\n",
       "    <tr>\n",
       "      <th>4340</th>\n",
       "      <td>5</td>\n",
       "      <td>1911</td>\n",
       "      <td>1911.0</td>\n",
       "      <td>[Hydrogen, Proton, Atomic nucleus, Neutron, At...</td>\n",
       "      <td>[Atom, Hydrogen, Proton, Atomic nucleus, Neutr...</td>\n",
       "      <td>[Atomic nucleus]</td>\n",
       "      <td>[Atomic nucleus]</td>\n",
       "    </tr>\n",
       "    <tr>\n",
       "      <th>4341</th>\n",
       "      <td>5</td>\n",
       "      <td>1911</td>\n",
       "      <td>1911.0</td>\n",
       "      <td>[Electron, Atomic nucleus, Neutron, Atomic num...</td>\n",
       "      <td>[Atom, Electron, Atomic nucleus, Neutron, Atom...</td>\n",
       "      <td>[Atomic nucleus]</td>\n",
       "      <td>[Atomic nucleus]</td>\n",
       "    </tr>\n",
       "    <tr>\n",
       "      <th>4342</th>\n",
       "      <td>5</td>\n",
       "      <td>1911</td>\n",
       "      <td>1911.0</td>\n",
       "      <td>[Electron, Proton, Atomic nucleus, Neutron, At...</td>\n",
       "      <td>[Atom, Electron, Proton, Atomic nucleus, Neutr...</td>\n",
       "      <td>[Atomic nucleus]</td>\n",
       "      <td>[Atomic nucleus]</td>\n",
       "    </tr>\n",
       "    <tr>\n",
       "      <th>4343</th>\n",
       "      <td>5</td>\n",
       "      <td>1911</td>\n",
       "      <td>1911.0</td>\n",
       "      <td>[Electron, Proton, Atomic nucleus, Neutron, At...</td>\n",
       "      <td>[Atom, Electron, Proton, Atomic nucleus, Neutr...</td>\n",
       "      <td>[Atomic nucleus]</td>\n",
       "      <td>[Atomic nucleus]</td>\n",
       "    </tr>\n",
       "    <tr>\n",
       "      <th>4344</th>\n",
       "      <td>6</td>\n",
       "      <td>1911</td>\n",
       "      <td>1911.0</td>\n",
       "      <td>[Electron, Proton, Atomic nucleus, Neutron, At...</td>\n",
       "      <td>[Atom, Electron, Proton, Atomic nucleus, Neutr...</td>\n",
       "      <td>[Atomic nucleus]</td>\n",
       "      <td>[Atomic nucleus]</td>\n",
       "    </tr>\n",
       "  </tbody>\n",
       "</table>\n",
       "<p>4345 rows × 7 columns</p>\n",
       "</div>"
      ],
      "text/plain": [
       "      dim  birth   death                                      birth simplex  \\\n",
       "0       0  -2500     inf                                           [Carbon]   \n",
       "1       0  -2500   800.0                                        [Nutrition]   \n",
       "2       0  -2000 -2000.0                                          [Alcohol]   \n",
       "3       0  -2000  1669.0                                        [Pesticide]   \n",
       "4       0  -2000  1600.0                                         [Medicine]   \n",
       "...   ...    ...     ...                                                ...   \n",
       "4340    5   1911  1911.0  [Hydrogen, Proton, Atomic nucleus, Neutron, At...   \n",
       "4341    5   1911  1911.0  [Electron, Atomic nucleus, Neutron, Atomic num...   \n",
       "4342    5   1911  1911.0  [Electron, Proton, Atomic nucleus, Neutron, At...   \n",
       "4343    5   1911  1911.0  [Electron, Proton, Atomic nucleus, Neutron, At...   \n",
       "4344    6   1911  1911.0  [Electron, Proton, Atomic nucleus, Neutron, At...   \n",
       "\n",
       "                                          death simplex       birth nodes  \\\n",
       "0                                                    []          [Carbon]   \n",
       "1                                    [Ethanol, Ammonia]       [Nutrition]   \n",
       "2                                     [Carbon, Alcohol]         [Alcohol]   \n",
       "3                               [Phosphorus, Pesticide]       [Pesticide]   \n",
       "4                            [Cell biology, Microscope]        [Medicine]   \n",
       "...                                                 ...               ...   \n",
       "4340  [Atom, Hydrogen, Proton, Atomic nucleus, Neutr...  [Atomic nucleus]   \n",
       "4341  [Atom, Electron, Atomic nucleus, Neutron, Atom...  [Atomic nucleus]   \n",
       "4342  [Atom, Electron, Proton, Atomic nucleus, Neutr...  [Atomic nucleus]   \n",
       "4343  [Atom, Electron, Proton, Atomic nucleus, Neutr...  [Atomic nucleus]   \n",
       "4344  [Atom, Electron, Proton, Atomic nucleus, Neutr...  [Atomic nucleus]   \n",
       "\n",
       "           death nodes  \n",
       "0                   []  \n",
       "1            [Ethanol]  \n",
       "2            [Alcohol]  \n",
       "3         [Phosphorus]  \n",
       "4       [Cell biology]  \n",
       "...                ...  \n",
       "4340  [Atomic nucleus]  \n",
       "4341  [Atomic nucleus]  \n",
       "4342  [Atomic nucleus]  \n",
       "4343  [Atomic nucleus]  \n",
       "4344  [Atomic nucleus]  \n",
       "\n",
       "[4345 rows x 7 columns]"
      ]
     },
     "execution_count": 17,
     "metadata": {},
     "output_type": "execute_result"
    }
   ],
   "source": [
    "net._barcodes = None\n",
    "%time net.barcodes\n",
    "%time net.barcodes"
   ]
  },
  {
   "cell_type": "markdown",
   "metadata": {},
   "source": [
    "#### Test weighting with tf-idf model"
   ]
  },
  {
   "cell_type": "code",
   "execution_count": 18,
   "metadata": {},
   "outputs": [],
   "source": [
    "import pickle\n",
    "import gensim.utils as gu\n",
    "\n",
    "path_save = '/Users/harangju/Developer/data/wiki/models/'\n",
    "tfidf = gu.SaveLoad.load(path_save + 'tfidf.model')\n",
    "dct = pickle.load(open(path_save + 'dict.model','rb'))"
   ]
  },
  {
   "cell_type": "code",
   "execution_count": 19,
   "metadata": {},
   "outputs": [
    {
     "data": {
      "text/plain": [
       "AtlasView({'Activation energy': {'weight': 1}, 'Alcohol': {'weight': 1}, 'Alkali': {'weight': 1}, 'Atomic mass unit': {'weight': 1}, 'Biochemistry': {'weight': 1}, 'Chemical biology': {'weight': 1}, 'Chemical property': {'weight': 1}, 'Cheminformatics': {'weight': 1}, 'Chemist': {'weight': 1}, 'Colloid': {'weight': 1}, 'Competitive inhibition': {'weight': 1}, 'Computational biology': {'weight': 1}, 'Computational chemistry': {'weight': 1}, 'Concentration': {'weight': 1}, 'Diffusion': {'weight': 1}, 'Dissociation constant': {'weight': 1}, 'Electron shell': {'weight': 1}, 'Electrophile': {'weight': 1}, 'Energy level': {'weight': 1}, 'Ester': {'weight': 1}, 'Ethanol': {'weight': 1}, 'Fatty acid': {'weight': 1}, 'Hydrophobe': {'weight': 1}, 'Isomer': {'weight': 1}, 'Mixture': {'weight': 1}, 'Molecular engineering': {'weight': 1}, 'Molecular orbital': {'weight': 1}, 'Neurotransmitter': {'weight': 1}, 'Nucleon': {'weight': 1}, 'Organic chemistry': {'weight': 1}, 'Organic compound': {'weight': 1}, 'Phosphorylation': {'weight': 1}, 'Physical chemistry': {'weight': 1}, 'Physiology': {'weight': 1}, 'Quantum chemistry': {'weight': 1}, 'Reflux': {'weight': 1}, 'Solution': {'weight': 1}, 'Spectroscopy': {'weight': 1}, 'Stereochemistry': {'weight': 1}, 'Suspension (chemistry)': {'weight': 1}, 'Valence bond theory': {'weight': 1}})"
      ]
     },
     "execution_count": 19,
     "metadata": {},
     "output_type": "execute_result"
    }
   ],
   "source": [
    "net.graph['Chemistry']"
   ]
  },
  {
   "cell_type": "code",
   "execution_count": 20,
   "metadata": {},
   "outputs": [
    {
     "name": "stdout",
     "output_type": "stream",
     "text": [
      "wiki.Net: traversing Wikipedia...\n",
      "wiki.Net: depth = 0\n",
      "wiki.Net: len(queue) = 4390\n",
      "wiki.Net: depth = 1\n",
      "wiki.Net: len(queue) = 438wiki.Net: removing isolates...\n",
      "wiki.Net: adding years...\n",
      "wiki.Net: filling empty years...\n",
      "wiki.Net: calculating weights...\n"
     ]
    }
   ],
   "source": [
    "w_net = wiki.Net()\n",
    "w_net.build_graph(dump, nodes=[str(l) for l in links], model=tfidf, dct=dct)"
   ]
  },
  {
   "cell_type": "code",
   "execution_count": 21,
   "metadata": {},
   "outputs": [
    {
     "data": {
      "text/plain": [
       "AtlasView({'Activation energy': {'weight': array([[0.35918677]])}, 'Alcohol': {'weight': array([[0.2417242]])}, 'Alkali': {'weight': array([[0.22986483]])}, 'Atomic mass unit': {'weight': array([[0.37801507]])}, 'Biochemistry': {'weight': array([[0.45564846]])}, 'Chemical biology': {'weight': array([[0.46953734]])}, 'Chemical property': {'weight': array([[0.4983038]])}, 'Cheminformatics': {'weight': array([[0.37195845]])}, 'Chemist': {'weight': array([[0.65778113]])}, 'Colloid': {'weight': array([[0.2864258]])}, 'Competitive inhibition': {'weight': array([[0.20522618]])}, 'Computational biology': {'weight': array([[0.20443557]])}, 'Computational chemistry': {'weight': array([[0.5475628]])}, 'Concentration': {'weight': array([[0.22337339]])}, 'Diffusion': {'weight': array([[0.27894364]])}, 'Dissociation constant': {'weight': array([[0.26312483]])}, 'Electron shell': {'weight': array([[0.31375614]])}, 'Electrophile': {'weight': array([[0.40621243]])}, 'Energy level': {'weight': array([[0.44288982]])}, 'Ester': {'weight': array([[0.25693975]])}, 'Ethanol': {'weight': array([[0.20050475]])}, 'Fatty acid': {'weight': array([[0.16278325]])}, 'Hydrophobe': {'weight': array([[0.24755235]])}, 'Isomer': {'weight': array([[0.29888749]])}, 'Mixture': {'weight': array([[0.36130136]])}, 'Molecular engineering': {'weight': array([[0.31393248]])}, 'Molecular orbital': {'weight': array([[0.28418025]])}, 'Neurotransmitter': {'weight': array([[0.23769299]])}, 'Nucleon': {'weight': array([[0.26424849]])}, 'Organic chemistry': {'weight': array([[0.53912514]])}, 'Organic compound': {'weight': array([[0.31953652]])}, 'Phosphorylation': {'weight': array([[0.1535886]])}, 'Physical chemistry': {'weight': array([[0.67703344]])}, 'Physiology': {'weight': array([[0.21255286]])}, 'Quantum chemistry': {'weight': array([[0.55094186]])}, 'Reflux': {'weight': array([[0.23034413]])}, 'Solution': {'weight': array([[0.31662725]])}, 'Spectroscopy': {'weight': array([[0.25820933]])}, 'Stereochemistry': {'weight': array([[0.27238806]])}, 'Suspension (chemistry)': {'weight': array([[0.27806614]])}, 'Valence bond theory': {'weight': array([[0.35991177]])}})"
      ]
     },
     "execution_count": 21,
     "metadata": {},
     "output_type": "execute_result"
    }
   ],
   "source": [
    "w_net.graph['Chemistry']"
   ]
  }
 ],
 "metadata": {
  "kernelspec": {
   "display_name": "Python 3",
   "language": "python",
   "name": "python3"
  },
  "language_info": {
   "codemirror_mode": {
    "name": "ipython",
    "version": 3
   },
   "file_extension": ".py",
   "mimetype": "text/x-python",
   "name": "python",
   "nbconvert_exporter": "python",
   "pygments_lexer": "ipython3",
   "version": "3.7.3"
  }
 },
 "nbformat": 4,
 "nbformat_minor": 2
}
