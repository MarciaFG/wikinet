{
 "cells": [
  {
   "cell_type": "code",
   "execution_count": 28,
   "metadata": {},
   "outputs": [],
   "source": [
    "%reload_ext autoreload\n",
    "%autoreload 2"
   ]
  },
  {
   "cell_type": "code",
   "execution_count": 2,
   "metadata": {},
   "outputs": [],
   "source": [
    "import os,sys\n",
    "sys.path.insert(1, os.path.join(sys.path[0], '..', 'module'))"
   ]
  },
  {
   "cell_type": "code",
   "execution_count": 3,
   "metadata": {},
   "outputs": [],
   "source": [
    "import wiki\n",
    "\n",
    "path_base = '/Users/harangju/Developer/data/wiki/dumps/'\n",
    "name_xml = 'enwiki-20190801-pages-articles-multistream.xml.bz2'\n",
    "name_index = 'enwiki-20190801-pages-articles-multistream-index.txt.bz2'\n",
    "path_xml = path_base + name_xml\n",
    "path_index = path_base + name_index\n",
    "dump = wiki.Dump(path_xml, path_index)"
   ]
  },
  {
   "cell_type": "code",
   "execution_count": 4,
   "metadata": {},
   "outputs": [
    {
     "name": "stdout",
     "output_type": "stream",
     "text": [
      "Dump: Loading index...\n",
      "Dump: Loaded.\n",
      "CPU times: user 1min 14s, sys: 2.41 s, total: 1min 16s\n",
      "Wall time: 1min 17s\n"
     ]
    },
    {
     "data": {
      "text/plain": [
       "['Meteorology',\n",
       " 'Interdisciplinary',\n",
       " \"Earth's atmosphere\",\n",
       " 'Weather',\n",
       " 'List of meteorological phenomena']"
      ]
     },
     "execution_count": 4,
     "metadata": {},
     "output_type": "execute_result"
    }
   ],
   "source": [
    "topic = 'meteorology'\n",
    "%time dump.load_page('Index of {} articles'.format(topic))\n",
    "links = dump.links\n",
    "dump.links[:5]"
   ]
  },
  {
   "cell_type": "markdown",
   "metadata": {},
   "source": [
    "#### Test network generation"
   ]
  },
  {
   "cell_type": "code",
   "execution_count": 5,
   "metadata": {},
   "outputs": [],
   "source": [
    "import pickle\n",
    "import gensim.utils as gu\n",
    "\n",
    "path_save = '/Users/harangju/Developer/data/wiki/models/'\n",
    "tfidf = gu.SaveLoad.load(path_save + 'tfidf.model')\n",
    "dct = pickle.load(open(path_save + 'dict.model','rb'))"
   ]
  },
  {
   "cell_type": "code",
   "execution_count": 29,
   "metadata": {},
   "outputs": [
    {
     "name": "stdout",
     "output_type": "stream",
     "text": [
      "wiki.Net: traversing Wikipedia...\n",
      "wiki.Net: depth = 0\n",
      "wiki.Net: len(queue) = 269\n",
      "wiki.Net: depth = 1\n",
      "wiki.Net: removing isolates...\n",
      "wiki.Net: adding years...\n",
      "wiki.Net: filling empty years...\n",
      "wiki.Net: calculating weights...\n",
      "wiki.Net: computing core-periphery...\n",
      "wiki.Net: computing communities...\n"
     ]
    }
   ],
   "source": [
    "net = wiki.Net()\n",
    "net.build_graph(name=topic, dump=dump, nodes=[str(l) for l in links],\n",
    "                model=tfidf, dct=dct)"
   ]
  },
  {
   "cell_type": "code",
   "execution_count": 30,
   "metadata": {},
   "outputs": [
    {
     "data": {
      "text/plain": [
       "[771, 523]"
      ]
     },
     "execution_count": 30,
     "metadata": {},
     "output_type": "execute_result"
    }
   ],
   "source": [
    "[len(links), len(net.graph.nodes)]"
   ]
  },
  {
   "cell_type": "code",
   "execution_count": 31,
   "metadata": {},
   "outputs": [],
   "source": [
    "net.save_graph(topic)"
   ]
  },
  {
   "cell_type": "code",
   "execution_count": 32,
   "metadata": {},
   "outputs": [
    {
     "data": {
      "text/plain": [
       "523"
      ]
     },
     "execution_count": 32,
     "metadata": {},
     "output_type": "execute_result"
    }
   ],
   "source": [
    "new_net = wiki.Net()\n",
    "new_net.load_graph(topic)\n",
    "len(new_net.graph.nodes)"
   ]
  },
  {
   "cell_type": "code",
   "execution_count": 33,
   "metadata": {},
   "outputs": [
    {
     "data": {
      "text/plain": [
       "{'name': 'meteorology',\n",
       " 'coreness': 0.8559803726733699,\n",
       " 'modularity': 0.5436774495575821}"
      ]
     },
     "execution_count": 33,
     "metadata": {},
     "output_type": "execute_result"
    }
   ],
   "source": [
    "new_net.graph.graph"
   ]
  },
  {
   "cell_type": "code",
   "execution_count": 34,
   "metadata": {},
   "outputs": [
    {
     "data": {
      "text/plain": [
       "['Atmospheric sciences',\n",
       " 'Meteorology',\n",
       " 'Atmospheric chemistry',\n",
       " 'Atmospheric physics',\n",
       " 'Weather forecasting']"
      ]
     },
     "execution_count": 34,
     "metadata": {},
     "output_type": "execute_result"
    }
   ],
   "source": [
    "[n for n in net.graph.nodes][:5]"
   ]
  },
  {
   "cell_type": "code",
   "execution_count": 35,
   "metadata": {},
   "outputs": [
    {
     "data": {
      "text/plain": [
       "[-4000, -1500, -650, -426, -364]"
      ]
     },
     "execution_count": 35,
     "metadata": {},
     "output_type": "execute_result"
    }
   ],
   "source": [
    "[y for y in net.years][:5]"
   ]
  },
  {
   "cell_type": "code",
   "execution_count": 36,
   "metadata": {},
   "outputs": [
    {
     "data": {
      "text/plain": [
       "[0, 1, 8, 306, 64]"
      ]
     },
     "execution_count": 36,
     "metadata": {},
     "output_type": "execute_result"
    }
   ],
   "source": [
    "net._numbered = None\n",
    "[n for n in net.numbered.nodes][:5]"
   ]
  },
  {
   "cell_type": "markdown",
   "metadata": {},
   "source": [
    "#### Test weighting with tf-idf model"
   ]
  },
  {
   "cell_type": "code",
   "execution_count": 37,
   "metadata": {},
   "outputs": [
    {
     "data": {
      "text/plain": [
       "AtlasView({'Advection': {'weight': 0.18022466979139873}, 'Airshed': {'weight': 0.17401933295261143}, 'Anemometer': {'weight': 0.2732645219540093}, 'Atmospheric dispersion modeling': {'weight': 0.2908627096277108}, 'Atmospheric electricity': {'weight': 0.4417092466670953}, 'Baroclinity': {'weight': 0.25324345231204415}, 'Chaos theory': {'weight': 0.30695854384233096}, 'Climate': {'weight': 0.3879762077084722}, 'Cloud': {'weight': 0.29820005121622983}, 'Cloud forcing': {'weight': 0.24009233461350216}, 'Convective available potential energy': {'weight': 0.3086178955082231}, 'Convective inhibition': {'weight': 0.2290024995044583}, 'Convective instability': {'weight': 0.23175751714841555}, 'Cyclone': {'weight': 0.35127786515804216}, 'Dry punch': {'weight': 0.1324607137245272}, 'Equilibrium level': {'weight': 0.2194368977151252}, 'Forensic meteorology': {'weight': 0.42789021164385116}, 'Frontolysis': {'weight': 0.442617154122274}, 'Glossary of tornado terms': {'weight': 0.25481846738033187}, 'Geostatistics': {'weight': 0.12547440755523037}, 'Halo (optical phenomenon)': {'weight': 0.2512944487081277}, 'Invest (meteorology)': {'weight': 0.2147995982481612}, 'Thermodynamics': {'weight': 0.26781981206246985}, 'Storm surge': {'weight': 0.28535254422191014}, 'Mesonet': {'weight': 0.3242551709117307}, 'Microscale meteorology': {'weight': 0.43284446156736434}, 'Misoscale meteorology': {'weight': 0.25815110441862893}, 'Observatory': {'weight': 0.15550792638783034}, 'Precipitation': {'weight': 0.3675094186560957}, 'Rain gauge': {'weight': 0.29646137759622315}, 'Rainbow': {'weight': 0.2721090997785326}, 'Sun dog': {'weight': 0.27765262248455824}, 'Synoptic scale meteorology': {'weight': 0.5919267226976802}, 'Thermometer': {'weight': 0.24428422255822296}, 'Wind': {'weight': 0.3666316588416061}})"
      ]
     },
     "execution_count": 37,
     "metadata": {},
     "output_type": "execute_result"
    }
   ],
   "source": [
    "net.graph['Meteorology']"
   ]
  },
  {
   "cell_type": "code",
   "execution_count": 38,
   "metadata": {
    "scrolled": true
   },
   "outputs": [
    {
     "data": {
      "text/plain": [
       "AtlasView({'List of meteorological phenomena': {'weight': 0.024656055649653248}, 'Anemometer': {'weight': 0.4598547913229778}, 'Climate': {'weight': 0.2738313460534317}, 'Convective instability': {'weight': 0.19854743504306346}, 'Cyclone': {'weight': 0.4003563509248247}, 'Darrieus wind turbine': {'weight': 0.37646834703118415}, 'Fire whirl': {'weight': 0.27434310149182434}, 'Gustnado': {'weight': 0.2559108564787846}, 'Geostrophic wind': {'weight': 0.38384749983511574}, 'Katabatic wind': {'weight': 0.532887497474919}, 'Thunderstorm': {'weight': 0.40907479229507043}, 'Mesoscale convective complex': {'weight': 0.26033738609187373}, 'Outflow boundary': {'weight': 0.4188912627484696}, 'Radiosonde': {'weight': 0.20967185691066775}, 'Storm': {'weight': 0.5278344839765078}, 'Urban heat island': {'weight': 0.3283317665353934}, 'Wind direction': {'weight': 0.662957265411941}, 'Wind gradient': {'weight': 0.6631996001146545}, 'Wind profiler': {'weight': 0.48408088764478197}})"
      ]
     },
     "execution_count": 38,
     "metadata": {},
     "output_type": "execute_result"
    }
   ],
   "source": [
    "net.graph['Wind']"
   ]
  },
  {
   "cell_type": "markdown",
   "metadata": {},
   "source": [
    "#### Test coreness"
   ]
  },
  {
   "cell_type": "code",
   "execution_count": 39,
   "metadata": {},
   "outputs": [
    {
     "data": {
      "text/plain": [
       "0.8559803726733699"
      ]
     },
     "execution_count": 39,
     "metadata": {},
     "output_type": "execute_result"
    }
   ],
   "source": [
    "net.graph.graph['coreness']"
   ]
  },
  {
   "cell_type": "code",
   "execution_count": 40,
   "metadata": {},
   "outputs": [
    {
     "data": {
      "text/plain": [
       "<matplotlib.image.AxesImage at 0x7f7e59888978>"
      ]
     },
     "execution_count": 40,
     "metadata": {},
     "output_type": "execute_result"
    }
   ],
   "source": [
    "import matplotlib.pyplot as plt\n",
    "\n",
    "matrix = nx.convert_matrix.to_numpy_array(net.graph,\n",
    "                                          nodelist=[n for n in net.graph.nodes\n",
    "                                                    if net.graph.nodes[n]['core']] +\n",
    "                                                   [n for n in net.graph.nodes\n",
    "                                                    if not net.graph.nodes[n]['core']])\n",
    "plt.imshow(matrix)"
   ]
  },
  {
   "cell_type": "code",
   "execution_count": 41,
   "metadata": {},
   "outputs": [
    {
     "name": "stderr",
     "output_type": "stream",
     "text": [
      "/anaconda3/envs/wikinet/lib/python3.7/site-packages/networkx/drawing/nx_pylab.py:579: MatplotlibDeprecationWarning: \n",
      "The iterable function was deprecated in Matplotlib 3.1 and will be removed in 3.3. Use np.iterable instead.\n",
      "  if not cb.iterable(width):\n",
      "/anaconda3/envs/wikinet/lib/python3.7/site-packages/networkx/drawing/nx_pylab.py:676: MatplotlibDeprecationWarning: \n",
      "The iterable function was deprecated in Matplotlib 3.1 and will be removed in 3.3. Use np.iterable instead.\n",
      "  if cb.iterable(node_size):  # many node sizes\n"
     ]
    },
    {
     "data": {
      "image/png": "[encoded data removed]",
      "text/plain": [
       "<Figure size 432x288 with 1 Axes>"
      ]
     },
     "metadata": {},
     "output_type": "display_data"
    }
   ],
   "source": [
    "import networkx as nx\n",
    "pos = nx.drawing.nx_agraph.graphviz_layout(net.graph, prog='neato')\n",
    "nx.drawing.nx_pylab.draw_networkx(net.graph,\n",
    "                                  pos,\n",
    "                                  font_size=0,\n",
    "                                  alpha=0.9,\n",
    "                                  node_size=5,\n",
    "                                  node_color=[net.graph.nodes[n]['core']\n",
    "                                              for n in net.graph.nodes])"
   ]
  },
  {
   "cell_type": "markdown",
   "metadata": {},
   "source": [
    "#### Test community structure"
   ]
  },
  {
   "cell_type": "code",
   "execution_count": 42,
   "metadata": {},
   "outputs": [
    {
     "data": {
      "text/plain": [
       "0.5436774495575821"
      ]
     },
     "execution_count": 42,
     "metadata": {},
     "output_type": "execute_result"
    }
   ],
   "source": [
    "net.graph.graph['modularity']"
   ]
  },
  {
   "cell_type": "code",
   "execution_count": 43,
   "metadata": {},
   "outputs": [
    {
     "data": {
      "text/plain": [
       "<matplotlib.image.AxesImage at 0x7f7e626b9f60>"
      ]
     },
     "execution_count": 43,
     "metadata": {},
     "output_type": "execute_result"
    },
    {
     "data": {
      "image/png": "[encoded data removed]",
      "text/plain": [
       "<Figure size 432x288 with 1 Axes>"
      ]
     },
     "metadata": {
      "needs_background": "light"
     },
     "output_type": "display_data"
    }
   ],
   "source": [
    "import matplotlib.pyplot as plt\n",
    "\n",
    "num_communities = max([net.graph.nodes[n]['community'] for n in net.graph.nodes])\n",
    "nodelist = [[n for n in net.graph.nodes if net.graph.nodes[n]['community']==i]\n",
    "            for i in range(num_communities)]\n",
    "nodelist = [n for ns in nodelist for n in ns]\n",
    "matrix = nx.convert_matrix.to_numpy_array(net.graph,\n",
    "                                          nodelist=nodelist)\n",
    "plt.imshow(matrix)"
   ]
  },
  {
   "cell_type": "markdown",
   "metadata": {},
   "source": [
    "#### Test clique to barcodes"
   ]
  },
  {
   "cell_type": "code",
   "execution_count": 44,
   "metadata": {},
   "outputs": [
    {
     "name": "stdout",
     "output_type": "stream",
     "text": [
      "CPU times: user 10.6 ms, sys: 521 µs, total: 11.1 ms\n",
      "Wall time: 10.9 ms\n",
      "CPU times: user 4 µs, sys: 0 ns, total: 4 µs\n",
      "Wall time: 5.01 µs\n"
     ]
    },
    {
     "data": {
      "text/plain": [
       "[[0], [1], [8], [306]]"
      ]
     },
     "execution_count": 44,
     "metadata": {},
     "output_type": "execute_result"
    }
   ],
   "source": [
    "net._cliques = None\n",
    "%time net.cliques[:4]\n",
    "%time net.cliques[:4]"
   ]
  },
  {
   "cell_type": "code",
   "execution_count": 45,
   "metadata": {},
   "outputs": [
    {
     "data": {
      "text/plain": [
       "[9]"
      ]
     },
     "execution_count": 45,
     "metadata": {},
     "output_type": "execute_result"
    }
   ],
   "source": [
    "net.nodes_for_year[-4000]"
   ]
  },
  {
   "cell_type": "code",
   "execution_count": 46,
   "metadata": {},
   "outputs": [
    {
     "name": "stdout",
     "output_type": "stream",
     "text": [
      "CPU times: user 1.19 s, sys: 2.5 ms, total: 1.19 s\n",
      "Wall time: 1.2 s\n"
     ]
    },
    {
     "data": {
      "text/plain": [
       "Filtration with 3460 simplices"
      ]
     },
     "execution_count": 46,
     "metadata": {},
     "output_type": "execute_result"
    }
   ],
   "source": [
    "%time net.filtration"
   ]
  },
  {
   "cell_type": "code",
   "execution_count": 47,
   "metadata": {},
   "outputs": [
    {
     "name": "stdout",
     "output_type": "stream",
     "text": [
      "CPU times: user 2.53 ms, sys: 67 µs, total: 2.6 ms\n",
      "Wall time: 2.63 ms\n"
     ]
    },
    {
     "data": {
      "text/plain": [
       "Reduced matrix with 3460 columns"
      ]
     },
     "execution_count": 47,
     "metadata": {},
     "output_type": "execute_result"
    }
   ],
   "source": [
    "%time net.persistence"
   ]
  },
  {
   "cell_type": "code",
   "execution_count": 48,
   "metadata": {
    "scrolled": true
   },
   "outputs": [
    {
     "name": "stdout",
     "output_type": "stream",
     "text": [
      "wiki.Net: computing barcodes... (skip negatives)\n",
      "wiki.Net: barcode 3460/3460\n",
      "CPU times: user 1.13 s, sys: 310 ms, total: 1.44 s\n",
      "Wall time: 1.26 s\n",
      "CPU times: user 22 µs, sys: 19 µs, total: 41 µs\n",
      "Wall time: 45.1 µs\n"
     ]
    },
    {
     "data": {
      "text/html": [
       "<div>\n",
       "<style scoped>\n",
       "    .dataframe tbody tr th:only-of-type {\n",
       "        vertical-align: middle;\n",
       "    }\n",
       "\n",
       "    .dataframe tbody tr th {\n",
       "        vertical-align: top;\n",
       "    }\n",
       "\n",
       "    .dataframe thead th {\n",
       "        text-align: right;\n",
       "    }\n",
       "</style>\n",
       "<table border=\"1\" class=\"dataframe\">\n",
       "  <thead>\n",
       "    <tr style=\"text-align: right;\">\n",
       "      <th></th>\n",
       "      <th>dim</th>\n",
       "      <th>birth</th>\n",
       "      <th>death</th>\n",
       "      <th>birth simplex</th>\n",
       "      <th>death simplex</th>\n",
       "      <th>birth nodes</th>\n",
       "      <th>death nodes</th>\n",
       "    </tr>\n",
       "  </thead>\n",
       "  <tbody>\n",
       "    <tr>\n",
       "      <th>0</th>\n",
       "      <td>0</td>\n",
       "      <td>-4000</td>\n",
       "      <td>inf</td>\n",
       "      <td>[Hydrology]</td>\n",
       "      <td>[]</td>\n",
       "      <td>[Hydrology]</td>\n",
       "      <td>[]</td>\n",
       "    </tr>\n",
       "    <tr>\n",
       "      <th>1</th>\n",
       "      <td>0</td>\n",
       "      <td>-1500</td>\n",
       "      <td>-349.0</td>\n",
       "      <td>[Mercury (element)]</td>\n",
       "      <td>[Thermometer, Mercury (element)]</td>\n",
       "      <td>[Mercury (element)]</td>\n",
       "      <td>[Thermometer]</td>\n",
       "    </tr>\n",
       "    <tr>\n",
       "      <th>2</th>\n",
       "      <td>0</td>\n",
       "      <td>-650</td>\n",
       "      <td>-350.0</td>\n",
       "      <td>[Weather forecasting]</td>\n",
       "      <td>[Meteorology, Hydrology]</td>\n",
       "      <td>[Weather forecasting]</td>\n",
       "      <td>[Meteorology]</td>\n",
       "    </tr>\n",
       "    <tr>\n",
       "      <th>3</th>\n",
       "      <td>0</td>\n",
       "      <td>-426</td>\n",
       "      <td>1865.0</td>\n",
       "      <td>[Tsunami]</td>\n",
       "      <td>[Storm surge, Tsunami]</td>\n",
       "      <td>[Tsunami]</td>\n",
       "      <td>[Storm surge]</td>\n",
       "    </tr>\n",
       "    <tr>\n",
       "      <th>4</th>\n",
       "      <td>0</td>\n",
       "      <td>-364</td>\n",
       "      <td>1599.0</td>\n",
       "      <td>[Sunspot]</td>\n",
       "      <td>[Sun, Sunspot]</td>\n",
       "      <td>[Sunspot]</td>\n",
       "      <td>[Sun]</td>\n",
       "    </tr>\n",
       "    <tr>\n",
       "      <th>5</th>\n",
       "      <td>0</td>\n",
       "      <td>-363</td>\n",
       "      <td>-363.0</td>\n",
       "      <td>[List of solar cycles]</td>\n",
       "      <td>[List of solar cycles, Sunspot]</td>\n",
       "      <td>[List of solar cycles]</td>\n",
       "      <td>[List of solar cycles]</td>\n",
       "    </tr>\n",
       "    <tr>\n",
       "      <th>6</th>\n",
       "      <td>0</td>\n",
       "      <td>-350</td>\n",
       "      <td>-350.0</td>\n",
       "      <td>[Meteorology]</td>\n",
       "      <td>[Meteorology, Weather forecasting]</td>\n",
       "      <td>[Meteorology]</td>\n",
       "      <td>[Meteorology]</td>\n",
       "    </tr>\n",
       "    <tr>\n",
       "      <th>7</th>\n",
       "      <td>0</td>\n",
       "      <td>-349</td>\n",
       "      <td>-349.0</td>\n",
       "      <td>[Rainbow]</td>\n",
       "      <td>[Meteorology, Rainbow]</td>\n",
       "      <td>[Rainbow]</td>\n",
       "      <td>[Rainbow]</td>\n",
       "    </tr>\n",
       "    <tr>\n",
       "      <th>8</th>\n",
       "      <td>0</td>\n",
       "      <td>-349</td>\n",
       "      <td>-349.0</td>\n",
       "      <td>[Atmospheric dispersion modeling]</td>\n",
       "      <td>[Meteorology, Atmospheric dispersion modeling]</td>\n",
       "      <td>[Atmospheric dispersion modeling]</td>\n",
       "      <td>[Atmospheric dispersion modeling]</td>\n",
       "    </tr>\n",
       "    <tr>\n",
       "      <th>9</th>\n",
       "      <td>0</td>\n",
       "      <td>-349</td>\n",
       "      <td>-349.0</td>\n",
       "      <td>[Thermometer]</td>\n",
       "      <td>[Meteorology, Thermometer]</td>\n",
       "      <td>[Thermometer]</td>\n",
       "      <td>[Thermometer]</td>\n",
       "    </tr>\n",
       "    <tr>\n",
       "      <th>10</th>\n",
       "      <td>0</td>\n",
       "      <td>-349</td>\n",
       "      <td>-349.0</td>\n",
       "      <td>[Geostatistics]</td>\n",
       "      <td>[Meteorology, Geostatistics]</td>\n",
       "      <td>[Geostatistics]</td>\n",
       "      <td>[Geostatistics]</td>\n",
       "    </tr>\n",
       "    <tr>\n",
       "      <th>11</th>\n",
       "      <td>0</td>\n",
       "      <td>-348</td>\n",
       "      <td>-348.0</td>\n",
       "      <td>[Temperature]</td>\n",
       "      <td>[Meteorology, Temperature]</td>\n",
       "      <td>[Temperature]</td>\n",
       "      <td>[Temperature]</td>\n",
       "    </tr>\n",
       "    <tr>\n",
       "      <th>12</th>\n",
       "      <td>0</td>\n",
       "      <td>-348</td>\n",
       "      <td>-348.0</td>\n",
       "      <td>[Galileo thermometer]</td>\n",
       "      <td>[Thermometer, Galileo thermometer]</td>\n",
       "      <td>[Galileo thermometer]</td>\n",
       "      <td>[Galileo thermometer]</td>\n",
       "    </tr>\n",
       "    <tr>\n",
       "      <th>13</th>\n",
       "      <td>0</td>\n",
       "      <td>-347</td>\n",
       "      <td>-347.0</td>\n",
       "      <td>[Thunder]</td>\n",
       "      <td>[Temperature, Thunder]</td>\n",
       "      <td>[Thunder]</td>\n",
       "      <td>[Thunder]</td>\n",
       "    </tr>\n",
       "    <tr>\n",
       "      <th>14</th>\n",
       "      <td>0</td>\n",
       "      <td>-347</td>\n",
       "      <td>-347.0</td>\n",
       "      <td>[Chinook wind]</td>\n",
       "      <td>[Temperature, Chinook wind]</td>\n",
       "      <td>[Chinook wind]</td>\n",
       "      <td>[Chinook wind]</td>\n",
       "    </tr>\n",
       "    <tr>\n",
       "      <th>15</th>\n",
       "      <td>0</td>\n",
       "      <td>-347</td>\n",
       "      <td>-347.0</td>\n",
       "      <td>[Degree (temperature)]</td>\n",
       "      <td>[Temperature, Degree (temperature)]</td>\n",
       "      <td>[Degree (temperature)]</td>\n",
       "      <td>[Degree (temperature)]</td>\n",
       "    </tr>\n",
       "    <tr>\n",
       "      <th>16</th>\n",
       "      <td>0</td>\n",
       "      <td>-347</td>\n",
       "      <td>-347.0</td>\n",
       "      <td>[Potential temperature]</td>\n",
       "      <td>[Temperature, Potential temperature]</td>\n",
       "      <td>[Potential temperature]</td>\n",
       "      <td>[Potential temperature]</td>\n",
       "    </tr>\n",
       "    <tr>\n",
       "      <th>17</th>\n",
       "      <td>0</td>\n",
       "      <td>-347</td>\n",
       "      <td>-347.0</td>\n",
       "      <td>[Heating degree day]</td>\n",
       "      <td>[Temperature, Heating degree day]</td>\n",
       "      <td>[Heating degree day]</td>\n",
       "      <td>[Heating degree day]</td>\n",
       "    </tr>\n",
       "    <tr>\n",
       "      <th>18</th>\n",
       "      <td>0</td>\n",
       "      <td>-347</td>\n",
       "      <td>-347.0</td>\n",
       "      <td>[Standard conditions for temperature and press...</td>\n",
       "      <td>[Temperature, Standard conditions for temperat...</td>\n",
       "      <td>[Standard conditions for temperature and press...</td>\n",
       "      <td>[Standard conditions for temperature and press...</td>\n",
       "    </tr>\n",
       "    <tr>\n",
       "      <th>19</th>\n",
       "      <td>0</td>\n",
       "      <td>-346</td>\n",
       "      <td>-346.0</td>\n",
       "      <td>[Lightning]</td>\n",
       "      <td>[Lightning, Thunder]</td>\n",
       "      <td>[Lightning]</td>\n",
       "      <td>[Lightning]</td>\n",
       "    </tr>\n",
       "    <tr>\n",
       "      <th>20</th>\n",
       "      <td>0</td>\n",
       "      <td>-346</td>\n",
       "      <td>-346.0</td>\n",
       "      <td>[Mixed layer]</td>\n",
       "      <td>[Potential temperature, Mixed layer]</td>\n",
       "      <td>[Mixed layer]</td>\n",
       "      <td>[Mixed layer]</td>\n",
       "    </tr>\n",
       "    <tr>\n",
       "      <th>21</th>\n",
       "      <td>0</td>\n",
       "      <td>-345</td>\n",
       "      <td>-345.0</td>\n",
       "      <td>[Fulgurite]</td>\n",
       "      <td>[Lightning, Fulgurite]</td>\n",
       "      <td>[Fulgurite]</td>\n",
       "      <td>[Fulgurite]</td>\n",
       "    </tr>\n",
       "    <tr>\n",
       "      <th>22</th>\n",
       "      <td>0</td>\n",
       "      <td>-345</td>\n",
       "      <td>-345.0</td>\n",
       "      <td>[Positive streamer]</td>\n",
       "      <td>[Lightning, Positive streamer]</td>\n",
       "      <td>[Positive streamer]</td>\n",
       "      <td>[Positive streamer]</td>\n",
       "    </tr>\n",
       "    <tr>\n",
       "      <th>23</th>\n",
       "      <td>0</td>\n",
       "      <td>-300</td>\n",
       "      <td>-300.0</td>\n",
       "      <td>[Water cycle]</td>\n",
       "      <td>[Temperature, Water cycle]</td>\n",
       "      <td>[Water cycle]</td>\n",
       "      <td>[Water cycle]</td>\n",
       "    </tr>\n",
       "    <tr>\n",
       "      <th>24</th>\n",
       "      <td>0</td>\n",
       "      <td>100</td>\n",
       "      <td>100.0</td>\n",
       "      <td>[Celsius]</td>\n",
       "      <td>[Temperature, Celsius]</td>\n",
       "      <td>[Celsius]</td>\n",
       "      <td>[Celsius]</td>\n",
       "    </tr>\n",
       "    <tr>\n",
       "      <th>25</th>\n",
       "      <td>0</td>\n",
       "      <td>100</td>\n",
       "      <td>100.0</td>\n",
       "      <td>[Thermodynamic temperature]</td>\n",
       "      <td>[Temperature, Thermodynamic temperature]</td>\n",
       "      <td>[Thermodynamic temperature]</td>\n",
       "      <td>[Thermodynamic temperature]</td>\n",
       "    </tr>\n",
       "    <tr>\n",
       "      <th>26</th>\n",
       "      <td>0</td>\n",
       "      <td>100</td>\n",
       "      <td>100.0</td>\n",
       "      <td>[Mercury-in-glass thermometer]</td>\n",
       "      <td>[Thermometer, Mercury-in-glass thermometer]</td>\n",
       "      <td>[Mercury-in-glass thermometer]</td>\n",
       "      <td>[Mercury-in-glass thermometer]</td>\n",
       "    </tr>\n",
       "    <tr>\n",
       "      <th>27</th>\n",
       "      <td>0</td>\n",
       "      <td>100</td>\n",
       "      <td>1955.0</td>\n",
       "      <td>[Solar updraft tower]</td>\n",
       "      <td>[Convection, Solar updraft tower]</td>\n",
       "      <td>[Solar updraft tower]</td>\n",
       "      <td>[Convection]</td>\n",
       "    </tr>\n",
       "    <tr>\n",
       "      <th>28</th>\n",
       "      <td>0</td>\n",
       "      <td>113</td>\n",
       "      <td>500.0</td>\n",
       "      <td>[Geomagnetic storm]</td>\n",
       "      <td>[Ionosphere, Solar flare]</td>\n",
       "      <td>[Geomagnetic storm]</td>\n",
       "      <td>[Ionosphere]</td>\n",
       "    </tr>\n",
       "    <tr>\n",
       "      <th>29</th>\n",
       "      <td>0</td>\n",
       "      <td>114</td>\n",
       "      <td>114.0</td>\n",
       "      <td>[Magnetic storm]</td>\n",
       "      <td>[Geomagnetic storm, Magnetic storm]</td>\n",
       "      <td>[Magnetic storm]</td>\n",
       "      <td>[Magnetic storm]</td>\n",
       "    </tr>\n",
       "    <tr>\n",
       "      <th>...</th>\n",
       "      <td>...</td>\n",
       "      <td>...</td>\n",
       "      <td>...</td>\n",
       "      <td>...</td>\n",
       "      <td>...</td>\n",
       "      <td>...</td>\n",
       "      <td>...</td>\n",
       "    </tr>\n",
       "    <tr>\n",
       "      <th>1906</th>\n",
       "      <td>3</td>\n",
       "      <td>1954</td>\n",
       "      <td>1954.0</td>\n",
       "      <td>[Mesocyclone, Supercell, Thunderstorm, Watersp...</td>\n",
       "      <td>[List of meteorological phenomena, Mesocyclone...</td>\n",
       "      <td>[Thunderstorm, Waterspout]</td>\n",
       "      <td>[Thunderstorm, Waterspout]</td>\n",
       "    </tr>\n",
       "    <tr>\n",
       "      <th>1907</th>\n",
       "      <td>3</td>\n",
       "      <td>1954</td>\n",
       "      <td>1954.0</td>\n",
       "      <td>[Mesocyclone, Supercell, Tornado, Waterspout]</td>\n",
       "      <td>[List of meteorological phenomena, Mesocyclone...</td>\n",
       "      <td>[Waterspout]</td>\n",
       "      <td>[Waterspout]</td>\n",
       "    </tr>\n",
       "    <tr>\n",
       "      <th>1908</th>\n",
       "      <td>3</td>\n",
       "      <td>1954</td>\n",
       "      <td>1954.0</td>\n",
       "      <td>[Mesocyclone, Thunderstorm, Tornado, Waterspout]</td>\n",
       "      <td>[List of meteorological phenomena, Mesocyclone...</td>\n",
       "      <td>[Thunderstorm, Waterspout]</td>\n",
       "      <td>[Thunderstorm, Waterspout]</td>\n",
       "    </tr>\n",
       "    <tr>\n",
       "      <th>1909</th>\n",
       "      <td>3</td>\n",
       "      <td>1954</td>\n",
       "      <td>1954.0</td>\n",
       "      <td>[Squall line, Supercell, Thunderstorm, Tornado]</td>\n",
       "      <td>[List of meteorological phenomena, Squall line...</td>\n",
       "      <td>[Thunderstorm]</td>\n",
       "      <td>[Thunderstorm]</td>\n",
       "    </tr>\n",
       "    <tr>\n",
       "      <th>1910</th>\n",
       "      <td>3</td>\n",
       "      <td>1954</td>\n",
       "      <td>1954.0</td>\n",
       "      <td>[Supercell, Thunderstorm, Tornado, Waterspout]</td>\n",
       "      <td>[List of meteorological phenomena, Supercell, ...</td>\n",
       "      <td>[Thunderstorm, Waterspout]</td>\n",
       "      <td>[Thunderstorm, Waterspout]</td>\n",
       "    </tr>\n",
       "    <tr>\n",
       "      <th>1911</th>\n",
       "      <td>3</td>\n",
       "      <td>1955</td>\n",
       "      <td>1955.0</td>\n",
       "      <td>[Tropical cyclone, Thunderstorm, Tornado, Cycl...</td>\n",
       "      <td>[Extratropical cyclone, Tropical cyclone, Thun...</td>\n",
       "      <td>[Cyclone]</td>\n",
       "      <td>[Cyclone]</td>\n",
       "    </tr>\n",
       "    <tr>\n",
       "      <th>1912</th>\n",
       "      <td>3</td>\n",
       "      <td>1955</td>\n",
       "      <td>1955.0</td>\n",
       "      <td>[Tropical cyclone, Thunderstorm, Tornado, Seve...</td>\n",
       "      <td>[Extratropical cyclone, Tropical cyclone, Thun...</td>\n",
       "      <td>[Severe weather]</td>\n",
       "      <td>[Severe weather]</td>\n",
       "    </tr>\n",
       "    <tr>\n",
       "      <th>1913</th>\n",
       "      <td>3</td>\n",
       "      <td>1955</td>\n",
       "      <td>1955.0</td>\n",
       "      <td>[Tropical cyclone, Thunderstorm, Cyclone, Seve...</td>\n",
       "      <td>[Extratropical cyclone, Tropical cyclone, Thun...</td>\n",
       "      <td>[Cyclone, Severe weather]</td>\n",
       "      <td>[Cyclone, Severe weather]</td>\n",
       "    </tr>\n",
       "    <tr>\n",
       "      <th>1914</th>\n",
       "      <td>3</td>\n",
       "      <td>1955</td>\n",
       "      <td>1955.0</td>\n",
       "      <td>[Tropical cyclone, Tornado, Cyclone, Severe we...</td>\n",
       "      <td>[Extratropical cyclone, Tropical cyclone, Torn...</td>\n",
       "      <td>[Cyclone, Severe weather]</td>\n",
       "      <td>[Cyclone, Severe weather]</td>\n",
       "    </tr>\n",
       "    <tr>\n",
       "      <th>1915</th>\n",
       "      <td>3</td>\n",
       "      <td>1955</td>\n",
       "      <td>1955.0</td>\n",
       "      <td>[Squall line, Thunderstorm, Tornado, Cyclone]</td>\n",
       "      <td>[Mesocyclone, Squall line, Thunderstorm, Torna...</td>\n",
       "      <td>[Cyclone]</td>\n",
       "      <td>[Cyclone]</td>\n",
       "    </tr>\n",
       "    <tr>\n",
       "      <th>1916</th>\n",
       "      <td>3</td>\n",
       "      <td>1955</td>\n",
       "      <td>1955.0</td>\n",
       "      <td>[Thunderstorm, Tornado, Waterspout, Cyclone]</td>\n",
       "      <td>[Mesocyclone, Thunderstorm, Tornado, Waterspou...</td>\n",
       "      <td>[Cyclone]</td>\n",
       "      <td>[Cyclone]</td>\n",
       "    </tr>\n",
       "    <tr>\n",
       "      <th>1917</th>\n",
       "      <td>3</td>\n",
       "      <td>1955</td>\n",
       "      <td>1955.0</td>\n",
       "      <td>[Thunderstorm, Tornado, Cyclone, Severe weather]</td>\n",
       "      <td>[Extratropical cyclone, Thunderstorm, Tornado,...</td>\n",
       "      <td>[Cyclone, Severe weather]</td>\n",
       "      <td>[Cyclone, Severe weather]</td>\n",
       "    </tr>\n",
       "    <tr>\n",
       "      <th>1918</th>\n",
       "      <td>3</td>\n",
       "      <td>1955</td>\n",
       "      <td>1955.0</td>\n",
       "      <td>[Thunderstorm, Tornado, Storm, Severe weather]</td>\n",
       "      <td>[Tropical cyclone, Thunderstorm, Tornado, Stor...</td>\n",
       "      <td>[Severe weather]</td>\n",
       "      <td>[Severe weather]</td>\n",
       "    </tr>\n",
       "    <tr>\n",
       "      <th>1919</th>\n",
       "      <td>3</td>\n",
       "      <td>1955</td>\n",
       "      <td>1955.0</td>\n",
       "      <td>[Thunderstorm, Weather front, Cyclone, Severe ...</td>\n",
       "      <td>[Extratropical cyclone, Thunderstorm, Weather ...</td>\n",
       "      <td>[Cyclone, Severe weather]</td>\n",
       "      <td>[Cyclone, Severe weather]</td>\n",
       "    </tr>\n",
       "    <tr>\n",
       "      <th>1920</th>\n",
       "      <td>3</td>\n",
       "      <td>1955</td>\n",
       "      <td>1955.0</td>\n",
       "      <td>[Tornado, Waterspout, Cyclone, Severe weather]</td>\n",
       "      <td>[Thunderstorm, Tornado, Waterspout, Cyclone, S...</td>\n",
       "      <td>[Cyclone, Severe weather]</td>\n",
       "      <td>[Cyclone, Severe weather]</td>\n",
       "    </tr>\n",
       "    <tr>\n",
       "      <th>1921</th>\n",
       "      <td>3</td>\n",
       "      <td>1955</td>\n",
       "      <td>1955.0</td>\n",
       "      <td>[Tornado, Waterspout, Severe weather, Storm ch...</td>\n",
       "      <td>[Thunderstorm, Tornado, Waterspout, Severe wea...</td>\n",
       "      <td>[Severe weather]</td>\n",
       "      <td>[Severe weather]</td>\n",
       "    </tr>\n",
       "    <tr>\n",
       "      <th>1922</th>\n",
       "      <td>3</td>\n",
       "      <td>1956</td>\n",
       "      <td>1956.0</td>\n",
       "      <td>[Tropical cyclone, Tornado, Cyclone, Cyclogene...</td>\n",
       "      <td>[Extratropical cyclone, Tropical cyclone, Torn...</td>\n",
       "      <td>[Cyclogenesis]</td>\n",
       "      <td>[Cyclogenesis]</td>\n",
       "    </tr>\n",
       "    <tr>\n",
       "      <th>1923</th>\n",
       "      <td>3</td>\n",
       "      <td>1956</td>\n",
       "      <td>1956.0</td>\n",
       "      <td>[Weather front, Cyclone, Severe weather, Dry l...</td>\n",
       "      <td>[Extratropical cyclone, Weather front, Cyclone...</td>\n",
       "      <td>[Dry line]</td>\n",
       "      <td>[Dry line]</td>\n",
       "    </tr>\n",
       "    <tr>\n",
       "      <th>1924</th>\n",
       "      <td>3</td>\n",
       "      <td>1960</td>\n",
       "      <td>1960.0</td>\n",
       "      <td>[Thunderstorm, Cyclone, Severe weather, Wind s...</td>\n",
       "      <td>[Tropical cyclone, Thunderstorm, Cyclone, Seve...</td>\n",
       "      <td>[Wind shear]</td>\n",
       "      <td>[Wind shear]</td>\n",
       "    </tr>\n",
       "    <tr>\n",
       "      <th>1925</th>\n",
       "      <td>3</td>\n",
       "      <td>1960</td>\n",
       "      <td>1960.0</td>\n",
       "      <td>[Thunderstorm, Storm, Severe weather, Wind shear]</td>\n",
       "      <td>[Tropical cyclone, Thunderstorm, Storm, Severe...</td>\n",
       "      <td>[Wind shear]</td>\n",
       "      <td>[Wind shear]</td>\n",
       "    </tr>\n",
       "    <tr>\n",
       "      <th>1926</th>\n",
       "      <td>3</td>\n",
       "      <td>1960</td>\n",
       "      <td>1960.0</td>\n",
       "      <td>[Cyclone, Tropical cyclogenesis, Cyclogenesis,...</td>\n",
       "      <td>[Tropical cyclone, Cyclone, Tropical cyclogene...</td>\n",
       "      <td>[Wind shear]</td>\n",
       "      <td>[Wind shear]</td>\n",
       "    </tr>\n",
       "    <tr>\n",
       "      <th>1927</th>\n",
       "      <td>3</td>\n",
       "      <td>1961</td>\n",
       "      <td>1961.0</td>\n",
       "      <td>[Cyclone, Tropical cyclogenesis, Wind shear, T...</td>\n",
       "      <td>[Tropical cyclone, Cyclone, Tropical cyclogene...</td>\n",
       "      <td>[Tropical upper tropospheric trough]</td>\n",
       "      <td>[Tropical upper tropospheric trough]</td>\n",
       "    </tr>\n",
       "    <tr>\n",
       "      <th>1928</th>\n",
       "      <td>3</td>\n",
       "      <td>1962</td>\n",
       "      <td>1962.0</td>\n",
       "      <td>[Cloud base, Lifted condensation level, Convec...</td>\n",
       "      <td>[Cloud, Cloud base, Lifted condensation level,...</td>\n",
       "      <td>[Free convective layer]</td>\n",
       "      <td>[Free convective layer]</td>\n",
       "    </tr>\n",
       "    <tr>\n",
       "      <th>1929</th>\n",
       "      <td>3</td>\n",
       "      <td>2020</td>\n",
       "      <td>2020.0</td>\n",
       "      <td>[Air parcel, Convective inhibition, Level of f...</td>\n",
       "      <td>[Air parcel, Convective available potential en...</td>\n",
       "      <td>[Air parcel]</td>\n",
       "      <td>[Air parcel]</td>\n",
       "    </tr>\n",
       "    <tr>\n",
       "      <th>1930</th>\n",
       "      <td>3</td>\n",
       "      <td>2020</td>\n",
       "      <td>2020.0</td>\n",
       "      <td>[Air parcel, Equilibrium level, Maximum parcel...</td>\n",
       "      <td>[Air parcel, Level of free convection, Equilib...</td>\n",
       "      <td>[Air parcel]</td>\n",
       "      <td>[Air parcel]</td>\n",
       "    </tr>\n",
       "    <tr>\n",
       "      <th>1931</th>\n",
       "      <td>4</td>\n",
       "      <td>1803</td>\n",
       "      <td>1803.0</td>\n",
       "      <td>[Solar maximum, Sunspot, Solar cycle, Solar fl...</td>\n",
       "      <td>[Sun, Solar maximum, Sunspot, Solar cycle, Sol...</td>\n",
       "      <td>[Solar minimum]</td>\n",
       "      <td>[Solar minimum]</td>\n",
       "    </tr>\n",
       "    <tr>\n",
       "      <th>1932</th>\n",
       "      <td>4</td>\n",
       "      <td>1954</td>\n",
       "      <td>1954.0</td>\n",
       "      <td>[Gustnado, Mesocyclone, Supercell, Thunderstor...</td>\n",
       "      <td>[List of meteorological phenomena, Gustnado, M...</td>\n",
       "      <td>[Thunderstorm]</td>\n",
       "      <td>[Thunderstorm]</td>\n",
       "    </tr>\n",
       "    <tr>\n",
       "      <th>1933</th>\n",
       "      <td>4</td>\n",
       "      <td>1954</td>\n",
       "      <td>1954.0</td>\n",
       "      <td>[Mesocyclone, Squall line, Supercell, Thunders...</td>\n",
       "      <td>[List of meteorological phenomena, Mesocyclone...</td>\n",
       "      <td>[Thunderstorm]</td>\n",
       "      <td>[Thunderstorm]</td>\n",
       "    </tr>\n",
       "    <tr>\n",
       "      <th>1934</th>\n",
       "      <td>4</td>\n",
       "      <td>1954</td>\n",
       "      <td>1954.0</td>\n",
       "      <td>[Mesocyclone, Supercell, Thunderstorm, Tornado...</td>\n",
       "      <td>[List of meteorological phenomena, Mesocyclone...</td>\n",
       "      <td>[Thunderstorm, Waterspout]</td>\n",
       "      <td>[Thunderstorm, Waterspout]</td>\n",
       "    </tr>\n",
       "    <tr>\n",
       "      <th>1935</th>\n",
       "      <td>4</td>\n",
       "      <td>1955</td>\n",
       "      <td>1955.0</td>\n",
       "      <td>[Tropical cyclone, Thunderstorm, Tornado, Cycl...</td>\n",
       "      <td>[Extratropical cyclone, Tropical cyclone, Thun...</td>\n",
       "      <td>[Cyclone, Severe weather]</td>\n",
       "      <td>[Cyclone, Severe weather]</td>\n",
       "    </tr>\n",
       "  </tbody>\n",
       "</table>\n",
       "<p>1936 rows × 7 columns</p>\n",
       "</div>"
      ],
      "text/plain": [
       "      dim  birth   death                                      birth simplex  \\\n",
       "0       0  -4000     inf                                        [Hydrology]   \n",
       "1       0  -1500  -349.0                                [Mercury (element)]   \n",
       "2       0   -650  -350.0                              [Weather forecasting]   \n",
       "3       0   -426  1865.0                                          [Tsunami]   \n",
       "4       0   -364  1599.0                                          [Sunspot]   \n",
       "...   ...    ...     ...                                                ...   \n",
       "1931    4   1803  1803.0  [Solar maximum, Sunspot, Solar cycle, Solar fl...   \n",
       "1932    4   1954  1954.0  [Gustnado, Mesocyclone, Supercell, Thunderstor...   \n",
       "1933    4   1954  1954.0  [Mesocyclone, Squall line, Supercell, Thunders...   \n",
       "1934    4   1954  1954.0  [Mesocyclone, Supercell, Thunderstorm, Tornado...   \n",
       "1935    4   1955  1955.0  [Tropical cyclone, Thunderstorm, Tornado, Cycl...   \n",
       "\n",
       "                                          death simplex  \\\n",
       "0                                                    []   \n",
       "1                      [Thermometer, Mercury (element)]   \n",
       "2                              [Meteorology, Hydrology]   \n",
       "3                                [Storm surge, Tsunami]   \n",
       "4                                        [Sun, Sunspot]   \n",
       "...                                                 ...   \n",
       "1931  [Sun, Solar maximum, Sunspot, Solar cycle, Sol...   \n",
       "1932  [List of meteorological phenomena, Gustnado, M...   \n",
       "1933  [List of meteorological phenomena, Mesocyclone...   \n",
       "1934  [List of meteorological phenomena, Mesocyclone...   \n",
       "1935  [Extratropical cyclone, Tropical cyclone, Thun...   \n",
       "\n",
       "                     birth nodes                 death nodes  \n",
       "0                    [Hydrology]                          []  \n",
       "1            [Mercury (element)]               [Thermometer]  \n",
       "2          [Weather forecasting]               [Meteorology]  \n",
       "3                      [Tsunami]               [Storm surge]  \n",
       "4                      [Sunspot]                       [Sun]  \n",
       "...                          ...                         ...  \n",
       "1931             [Solar minimum]             [Solar minimum]  \n",
       "1932              [Thunderstorm]              [Thunderstorm]  \n",
       "1933              [Thunderstorm]              [Thunderstorm]  \n",
       "1934  [Thunderstorm, Waterspout]  [Thunderstorm, Waterspout]  \n",
       "1935   [Cyclone, Severe weather]   [Cyclone, Severe weather]  \n",
       "\n",
       "[1936 rows x 7 columns]"
      ]
     },
     "execution_count": 48,
     "metadata": {},
     "output_type": "execute_result"
    }
   ],
   "source": [
    "net._barcodes = None\n",
    "%time net.barcodes\n",
    "%time net.barcodes"
   ]
  }
 ],
 "metadata": {
  "kernelspec": {
   "display_name": "Python 3",
   "language": "python",
   "name": "python3"
  },
  "language_info": {
   "codemirror_mode": {
    "name": "ipython",
    "version": 3
   },
   "file_extension": ".py",
   "mimetype": "text/x-python",
   "name": "python",
   "nbconvert_exporter": "python",
   "pygments_lexer": "ipython3",
   "version": "3.7.3"
  }
 },
 "nbformat": 4,
 "nbformat_minor": 2
}
