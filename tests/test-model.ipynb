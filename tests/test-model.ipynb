{
 "cells": [
  {
   "cell_type": "code",
   "execution_count": null,
   "metadata": {},
   "outputs": [],
   "source": [
    "%reload_ext autoreload\n",
    "%autoreload 2\n",
    "import os,sys\n",
    "sys.path.insert(1, os.path.join(sys.path[0], '..', 'module'))\n",
    "import wiki\n",
    "import numpy as np\n",
    "import pandas as pd\n",
    "import networkx as nx\n",
    "import scipy as sp"
   ]
  },
  {
   "cell_type": "markdown",
   "metadata": {},
   "source": [
    "### Condensed sparse column matrices"
   ]
  },
  {
   "cell_type": "code",
   "execution_count": null,
   "metadata": {},
   "outputs": [],
   "source": [
    "data = np.array([1, 2, 3, 4, 5, 6])\n",
    "row = np.array([0, 2, 2, 0, 1, 2])\n",
    "col = np.array([0, 0, 1, 2, 2, 2])\n",
    "sp.sparse.csc_matrix((data, (row, col)), shape=(3, 3)).toarray()"
   ]
  },
  {
   "cell_type": "code",
   "execution_count": null,
   "metadata": {},
   "outputs": [],
   "source": [
    "# topics = ['anatomy', 'biochemistry', 'cognitive science', 'evolutionary biology',\n",
    "#           'genetics', 'immunology', 'molecular biology', 'chemistry', 'biophysics',\n",
    "#           'energy', 'optics', 'earth science', 'geology', 'meteorology']\n",
    "topics = ['earth science']"
   ]
  },
  {
   "cell_type": "code",
   "execution_count": null,
   "metadata": {},
   "outputs": [],
   "source": [
    "path_saved = '/Users/harangju/Developer/data/wiki/graphs/dated/'\n",
    "networks = {}\n",
    "for topic in topics:\n",
    "    print(topic, end=' ')\n",
    "    networks[topic] = wiki.Net()\n",
    "    networks[topic].load_graph(path_saved + topic + '.pickle')"
   ]
  },
  {
   "cell_type": "code",
   "execution_count": null,
   "metadata": {},
   "outputs": [],
   "source": [
    "len(networks[topic].graph.nodes)"
   ]
  },
  {
   "cell_type": "code",
   "execution_count": null,
   "metadata": {},
   "outputs": [],
   "source": [
    "v = networks[topic].graph.graph['tfidf']\n",
    "v"
   ]
  },
  {
   "cell_type": "code",
   "execution_count": null,
   "metadata": {},
   "outputs": [],
   "source": [
    "v.sum()"
   ]
  },
  {
   "cell_type": "code",
   "execution_count": null,
   "metadata": {},
   "outputs": [],
   "source": [
    "v[:,0].indices[:5]"
   ]
  },
  {
   "cell_type": "code",
   "execution_count": null,
   "metadata": {},
   "outputs": [],
   "source": [
    "v[4,0]"
   ]
  },
  {
   "cell_type": "code",
   "execution_count": null,
   "metadata": {},
   "outputs": [],
   "source": [
    "networks[topic].graph.name"
   ]
  },
  {
   "cell_type": "code",
   "execution_count": null,
   "metadata": {},
   "outputs": [],
   "source": [
    "networks[topic].graph.nodes['Biology']"
   ]
  },
  {
   "cell_type": "code",
   "execution_count": null,
   "metadata": {},
   "outputs": [],
   "source": [
    "core = [n for n in networks[topic].graph.nodes if networks[topic].graph.nodes[n]['core_rb']>.9]\n",
    "core"
   ]
  },
  {
   "cell_type": "code",
   "execution_count": null,
   "metadata": {},
   "outputs": [],
   "source": [
    "[(i,n) for i,n in enumerate(networks[topic].graph.nodes) if networks[topic].graph.nodes[n]['year']<-1800]"
   ]
  },
  {
   "cell_type": "code",
   "execution_count": null,
   "metadata": {},
   "outputs": [],
   "source": [
    "vi = v[:,9]\n",
    "vi"
   ]
  },
  {
   "cell_type": "markdown",
   "metadata": {},
   "source": [
    "### Distributions"
   ]
  },
  {
   "cell_type": "code",
   "execution_count": null,
   "metadata": {},
   "outputs": [],
   "source": [
    "list(networks[topic].graph.successors('Cryosphere'))"
   ]
  },
  {
   "cell_type": "code",
   "execution_count": null,
   "metadata": {},
   "outputs": [],
   "source": [
    "list(networks[topic].graph.predecessors('Cryosphere'))"
   ]
  },
  {
   "cell_type": "code",
   "execution_count": null,
   "metadata": {},
   "outputs": [],
   "source": [
    "graph = networks[topic].graph\n",
    "year_diffs = [[graph.nodes[node]['year'] - graph.nodes[neighbor]['year']\n",
    "               for neighbor in list(graph.successors(node))]# + list(graph.predecessors(node))]\n",
    "              for node in graph.nodes]"
   ]
  },
  {
   "cell_type": "code",
   "execution_count": null,
   "metadata": {},
   "outputs": [],
   "source": [
    "year_diffs[0]"
   ]
  },
  {
   "cell_type": "code",
   "execution_count": null,
   "metadata": {},
   "outputs": [],
   "source": [
    "import seaborn as sns\n",
    "import matplotlib.pyplot as plt"
   ]
  },
  {
   "cell_type": "code",
   "execution_count": null,
   "metadata": {},
   "outputs": [],
   "source": [
    "sns.distplot([y for ys in year_diffs for y in ys])\n",
    "plt.title(topic)\n",
    "plt.xlabel('year difference');"
   ]
  },
  {
   "cell_type": "code",
   "execution_count": null,
   "metadata": {},
   "outputs": [],
   "source": [
    "import sklearn.metrics.pairwise as smp"
   ]
  },
  {
   "cell_type": "code",
   "execution_count": null,
   "metadata": {},
   "outputs": [],
   "source": [
    "similarities = [[smp.cosine_similarity(v[:,list(graph.nodes).index(node)].transpose(),\n",
    "                                       v[:,list(graph.nodes).index(neighbor)].transpose())[0,0]\n",
    "                 for neighbor in list(graph.successors(node))\n",
    "                 if neighbor is not node]# + list(graph.predecessors(node))]\n",
    "                for node in graph.nodes]"
   ]
  },
  {
   "cell_type": "code",
   "execution_count": null,
   "metadata": {},
   "outputs": [],
   "source": [
    "similarities[0]"
   ]
  },
  {
   "cell_type": "code",
   "execution_count": null,
   "metadata": {},
   "outputs": [],
   "source": [
    "from scipy.stats import norm"
   ]
  },
  {
   "cell_type": "code",
   "execution_count": null,
   "metadata": {},
   "outputs": [],
   "source": [
    "mu, std = norm.fit([s for ss in similarities for s in ss])"
   ]
  },
  {
   "cell_type": "code",
   "execution_count": null,
   "metadata": {},
   "outputs": [],
   "source": [
    "sns.distplot([s for ss in similarities for s in ss])\n",
    "xmin, xmax = plt.xlim()\n",
    "x = np.linspace(xmin, xmax, 100)\n",
    "p = norm.pdf(x, mu, std)\n",
    "plt.plot(x, p, 'k', linewidth=2)\n",
    "print(\"Fit results: mu = %.2f,  std = %.2f\" % (mu, std))\n",
    "plt.title(topic + '; neighbors')\n",
    "plt.xlabel('cos similarity');"
   ]
  },
  {
   "cell_type": "code",
   "execution_count": null,
   "metadata": {},
   "outputs": [],
   "source": [
    "non_neighbors = [[smp.cosine_similarity(v[:,list(graph.nodes).index(n1)].transpose(),\n",
    "                                        v[:,list(graph.nodes).index(n2)].transpose())[0,0]\n",
    "                  for n2 in graph.nodes\n",
    "                  if (n2 is not n1) and (n2 not in list(graph.neighbors(n1)))]\n",
    "                 for n1 in graph.nodes]"
   ]
  },
  {
   "cell_type": "code",
   "execution_count": null,
   "metadata": {},
   "outputs": [],
   "source": [
    "plt.figure\n",
    "sns.distplot([s for ss in similarities for s in ss])\n",
    "sns.distplot([s for ss in non_neighbors for s in ss])\n",
    "print(\"Fit results: mu = %.2f,  std = %.2f\" % (mu, std))\n",
    "plt.title(topic)\n",
    "plt.legend(['neighbors', 'non-neighbors'])\n",
    "plt.xlabel('cos similarity');"
   ]
  },
  {
   "cell_type": "markdown",
   "metadata": {},
   "source": [
    "### CSC & networkx operations"
   ]
  },
  {
   "cell_type": "code",
   "execution_count": null,
   "metadata": {},
   "outputs": [],
   "source": [
    "core = [n for n in networks[topic].graph.nodes if networks[topic].graph.nodes[n]['year']<-2000]\n",
    "subgraph = graph.subgraph(core).copy()"
   ]
  },
  {
   "cell_type": "code",
   "execution_count": null,
   "metadata": {},
   "outputs": [],
   "source": [
    "import scipy.sparse as ss"
   ]
  },
  {
   "cell_type": "code",
   "execution_count": null,
   "metadata": {},
   "outputs": [],
   "source": [
    "tfidf = ss.hstack([v[:,list(graph.nodes).index(n)] for n in subgraph.nodes])\n",
    "tfidf"
   ]
  },
  {
   "cell_type": "code",
   "execution_count": null,
   "metadata": {},
   "outputs": [],
   "source": [
    "subgraph.nodes"
   ]
  },
  {
   "cell_type": "code",
   "execution_count": null,
   "metadata": {},
   "outputs": [],
   "source": [
    "subgraph.add_node('Hello')"
   ]
  },
  {
   "cell_type": "code",
   "execution_count": null,
   "metadata": {},
   "outputs": [],
   "source": [
    "subgraph.nodes"
   ]
  },
  {
   "cell_type": "markdown",
   "metadata": {},
   "source": [
    "### Random numbers"
   ]
  },
  {
   "cell_type": "code",
   "execution_count": null,
   "metadata": {},
   "outputs": [],
   "source": [
    "import powerlaw\n",
    "import matplotlib.pyplot as plt\n",
    "tpl = powerlaw.Truncated_Power_Law(xmin=1e-2, parameters=[1, 1e-3])\n",
    "x = tpl.generate_random(3000)\n",
    "powerlaw.plot_pdf(x)\n",
    "plt.show()"
   ]
  },
  {
   "cell_type": "code",
   "execution_count": null,
   "metadata": {},
   "outputs": [],
   "source": [
    "pl = powerlaw.Power_Law(xmin=1., parameters=[1.5])\n",
    "powerlaw.plot_pdf(pl.generate_random(1000))\n",
    "plt.show()"
   ]
  },
  {
   "cell_type": "markdown",
   "metadata": {},
   "source": [
    "### Algorithm\n",
    "\n",
    "Initialize with core set of nodes.\\\n",
    "For each year,\\\n",
    "initialize an \"baby\" node for each existing node that doesn't already have a baby node,\\\n",
    "mutate tf-idf for each \"baby\" node (including the name),\\\n",
    "and if the \"baby\" node gets a probability drawn from the distribution of similarities (to what?),\n",
    "the \"baby\" node is born."
   ]
  },
  {
   "cell_type": "code",
   "execution_count": null,
   "metadata": {},
   "outputs": [],
   "source": [
    "import sklearn.metrics.pairwise as smp\n",
    "import scipy.sparse as ss\n",
    "from scipy.stats import norm\n",
    "import powerlaw\n",
    "\n",
    "def algorithm(graph):\n",
    "    \"\"\"Grows a new graph with a core set of nodes selected from ``graph``.\n",
    "    Assumes ``graph.graph['tfidf']`` holds a ``scipy.sparse.csc_matrix`` of \n",
    "    tf-idf vectors.\n",
    "    \"\"\"\n",
    "    core = [n for n in graph.nodes if graph.nodes[n]['year'] < -2000]\n",
    "    tfidf = ss.hstack([graph.graph['tfidf'][:,list(graph.nodes).index(n)] for n in core])\n",
    "    subgraph = graph.subgraph(core).copy()\n",
    "    subgraph.graph.clear()\n",
    "    subgraph.name = graph.name + '-graft'\n",
    "    new_graph, new_tfidf = evolve(subgraph, tfidf)\n",
    "    new_graph.graph['tfidf'] = new_tfidf\n",
    "    return new_graph\n",
    "\n",
    "def evolve(graph, tfidf, year_end=2020):\n",
    "    \"\"\"Evolves a graph based on tf-idf representations.\"\"\"\n",
    "    year_start = max([graph.nodes[n]['year'] for n in graph.nodes])+1\n",
    "    seed_nodes = {}\n",
    "    for year in range(year_start, year_start+1):#year_end+1):\n",
    "        for node in graph.nodes:\n",
    "            if node not in seed_nodes.keys():\n",
    "                seed_nodes[node] = tfidf[:,list(graph.nodes).index(node)].copy()\n",
    "        for node, vec in seed_nodes.items():\n",
    "            seed_nodes[node] = mutate(vec)\n",
    "#         vecs = hh.stack([])\n",
    "        # join seeds/crossover\n",
    "        for node, vec in seed_nodes.items():\n",
    "            if False:\n",
    "                graph.add_node(node)\n",
    "                # connect node\n",
    "                tfidf = ss.hstack([tfidf,vec])\n",
    "                seed_nodes[node] = None\n",
    "        print(year, '\\t', seed_nodes, '\\n')\n",
    "    return graph, tfidf\n",
    "\n",
    "def crossover():\n",
    "    pass\n",
    "\n",
    "def walk(x, rvs=lambda: norm.rvs):\n",
    "    \"\"\"\n",
    "    \n",
    "    Parameters\n",
    "    ----------\n",
    "    x: spipy.sparse.csc_matrix\n",
    "    rvs: lambda ()-> float\n",
    "        returns a random distance\n",
    "    \"\"\"\n",
    "    data = x.data\n",
    "    idx = x.indices\n",
    "    # which vector elements should I modify, maintain sparseness\n",
    "    # L1 norm?\n",
    "    y = ss.csc_matrix((data, (idx, np.zeros(idx.shape, dtype=int))),\n",
    "                      shape=x.shape)\n",
    "    return y"
   ]
  },
  {
   "cell_type": "code",
   "execution_count": null,
   "metadata": {},
   "outputs": [],
   "source": [
    "import seaborn as sn\n",
    "# algorithm(networks[topic].graph).graph\n",
    "graph = networks[topic].graph\n",
    "tfidf = graph.graph['tfidf']\n",
    "x = tfidf[:,1].copy()\n",
    "y = tfidf[:,1].copy()\n",
    "T = 10\n",
    "sim = np.zeros(T)\n",
    "size = np.zeros(T)\n",
    "for i in range(sim.size):\n",
    "    sim[i] = smp.cosine_similarity(x.transpose(),y.transpose())[0,0]\n",
    "    size[i] = y.size\n",
    "#     y = mutate(y)\n",
    "    y = walk(y)\n",
    "plt.figure()\n",
    "sn.lineplot(x=range(sim.size), y=sim)\n",
    "plt.title(graph.name)\n",
    "plt.ylabel('similarity')\n",
    "plt.xlabel('years');\n",
    "plt.figure()\n",
    "sn.lineplot(x=range(sim.size), y=size)\n",
    "plt.title(graph.name)\n",
    "plt.ylabel('size')\n",
    "plt.xlabel('years');"
   ]
  },
  {
   "cell_type": "code",
   "execution_count": null,
   "metadata": {},
   "outputs": [],
   "source": []
  },
  {
   "cell_type": "code",
   "execution_count": null,
   "metadata": {},
   "outputs": [],
   "source": [
    "# not mutate, but a walk\n",
    "# magnitude: Levy vs random\n",
    "# direction: random vs objective"
   ]
  },
  {
   "cell_type": "markdown",
   "metadata": {},
   "source": [
    "#### Draw distances from distribution & calculate direction"
   ]
  },
  {
   "cell_type": "code",
   "execution_count": null,
   "metadata": {},
   "outputs": [],
   "source": [
    "x = tfidf[:,1]\n",
    "idx = x.indices\n",
    "data = x.data"
   ]
  },
  {
   "cell_type": "code",
   "execution_count": null,
   "metadata": {},
   "outputs": [],
   "source": [
    "idx.size"
   ]
  },
  {
   "cell_type": "code",
   "execution_count": null,
   "metadata": {},
   "outputs": [],
   "source": [
    "distr = lambda: norm.rvs()\n",
    "distance = distr()\n",
    "distance = distance if distance >= 0 else distance*-1"
   ]
  },
  {
   "cell_type": "code",
   "execution_count": null,
   "metadata": {},
   "outputs": [],
   "source": [
    "vi = np.zeros(idx.shape)\n",
    "balance = distance\n",
    "for i in range(idx.size):#np.random.permutation(idx.size):\n",
    "    sign = 2*np.random.randint(2)-1\n",
    "    vi[i] = sign * np.sqrt(balance) * np.random.rand()\n",
    "#     print(sign, vi[i], end=' ')\n",
    "    balance -= vi[i]**2\n",
    "    if balance < 0: break\n",
    "print(distance, np.sqrt(np.sum(np.power(vi,2))))"
   ]
  },
  {
   "cell_type": "markdown",
   "metadata": {},
   "source": [
    "#### Distributions"
   ]
  },
  {
   "cell_type": "code",
   "execution_count": null,
   "metadata": {},
   "outputs": [],
   "source": [
    "plt.figure()\n",
    "data = graph.graph['tfidf'][:,1].data\n",
    "bins = np.logspace(np.log10(min(data)), np.log10(max(data)), 30)\n",
    "hist, edges = np.histogram(data, bins=bins)\n",
    "plt.plot(bins[:-1], hist/(bins[1:] - bins[:-1]), '.')\n",
    "plt.title(graph.name + ' before mutation')\n",
    "plt.yscale('log')\n",
    "plt.xscale('log')\n",
    "plt.xlabel('tf-idf values');\n",
    "plt.figure()\n",
    "sns.distplot(y.data)\n",
    "plt.title(graph.name + ' after mutation')\n",
    "plt.yscale('log')\n",
    "# plt.xscale('log')\n",
    "plt.xlabel('tf-idf values');"
   ]
  },
  {
   "cell_type": "code",
   "execution_count": null,
   "metadata": {},
   "outputs": [],
   "source": [
    "sns.distplot(graph.graph['tfidf'].sum(0))\n",
    "plt.title(graph.name)\n",
    "plt.xlabel('sum of tf-idf weights');"
   ]
  },
  {
   "cell_type": "code",
   "execution_count": null,
   "metadata": {},
   "outputs": [],
   "source": [
    "# https://stackoverflow.com/questions/37170511/scaled-logarithmic-binning-in-python\n",
    "data = graph.graph['tfidf'].data\n",
    "bins = np.logspace(np.log10(min(data)), np.log10(max(data)), 30)\n",
    "hist, edges = np.histogram(data, bins=bins)\n",
    "plt.plot(bins[:-1], hist/(bins[1:] - bins[:-1]), '.')\n",
    "plt.title(graph.name)\n",
    "plt.yscale('log')\n",
    "plt.xscale('log')\n",
    "plt.xlabel('tf-idf weights');"
   ]
  },
  {
   "cell_type": "code",
   "execution_count": null,
   "metadata": {
    "scrolled": true
   },
   "outputs": [],
   "source": [
    "for i in range(20):\n",
    "    plt.figure()\n",
    "    data = graph.graph['tfidf'][:,i].data\n",
    "    bins = np.logspace(np.log10(min(data)), np.log10(max(data)), 30)\n",
    "    hist, edges = np.histogram(data, bins=bins)\n",
    "    plt.plot(bins[:-1], hist/(bins[1:] - bins[:-1]), '.')\n",
    "    plt.title(graph.name)\n",
    "    plt.yscale('log')\n",
    "    plt.xscale('log')\n",
    "    plt.xlabel('tf-idf weights');"
   ]
  },
  {
   "cell_type": "code",
   "execution_count": null,
   "metadata": {},
   "outputs": [],
   "source": [
    "# check after mutation"
   ]
  }
 ],
 "metadata": {
  "kernelspec": {
   "display_name": "Python 3",
   "language": "python",
   "name": "python3"
  },
  "language_info": {
   "codemirror_mode": {
    "name": "ipython",
    "version": 3
   },
   "file_extension": ".py",
   "mimetype": "text/x-python",
   "name": "python",
   "nbconvert_exporter": "python",
   "pygments_lexer": "ipython3",
   "version": "3.7.5"
  }
 },
 "nbformat": 4,
 "nbformat_minor": 2
}
