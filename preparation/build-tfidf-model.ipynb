{
 "cells": [
  {
   "cell_type": "code",
   "execution_count": 1,
   "metadata": {},
   "outputs": [],
   "source": [
    "%reload_ext autoreload\n",
    "%autoreload 2\n",
    "import os,sys\n",
    "sys.path.insert(1, os.path.join(sys.path[0],\n",
    "                                '..', 'module'))\n",
    "import wiki\n",
    "import pickle\n",
    "import numpy as np\n",
    "import gensim.models as gm\n",
    "import gensim.corpora as gc\n",
    "import gensim.matutils as gmat\n",
    "import matplotlib.pyplot as plt\n",
    "import sklearn.metrics.pairwise as smp"
   ]
  },
  {
   "cell_type": "code",
   "execution_count": null,
   "metadata": {},
   "outputs": [
    {
     "name": "stdout",
     "output_type": "stream",
     "text": [
      "Dump: Loading index...\n",
      "Dump: Loaded.\n",
      "Corpus index: 9781982/19567244"
     ]
    }
   ],
   "source": [
    "path_base = '/Users/harangju/Developer/data/wiki/'\n",
    "name_xml = 'enwiki-20190801-pages-articles-multistream.xml.bz2'\n",
    "name_idx = 'enwiki-20190801-pages-articles-multistream-index.txt.bz2'\n",
    "path_xml = path_base + name_xml\n",
    "path_idx = path_base + name_idx\n",
    "dump = wiki.Dump(path_xml, path_idx)\n",
    "corpus = wiki.Corpus(dump)\n",
    "%time dct = gc.Dictionary(corpus)\n",
    "tfidf = gm.TfidfModel(dictionary=dct)"
   ]
  },
  {
   "cell_type": "code",
   "execution_count": null,
   "metadata": {},
   "outputs": [],
   "source": [
    "path_save = '/Users/harangju/Developer/data/wiki/models/'\n",
    "tfidf.save(path_save + 'tfidf.model')\n",
    "pickle.dump(dct, open(path_save + 'dict.model','wb'))"
   ]
  }
 ],
 "metadata": {
  "kernelspec": {
   "display_name": "Python 3",
   "language": "python",
   "name": "python3"
  },
  "language_info": {
   "codemirror_mode": {
    "name": "ipython",
    "version": 3
   },
   "file_extension": ".py",
   "mimetype": "text/x-python",
   "name": "python",
   "nbconvert_exporter": "python",
   "pygments_lexer": "ipython3",
   "version": "3.7.3"
  }
 },
 "nbformat": 4,
 "nbformat_minor": 2
}
