{
 "cells": [
  {
   "cell_type": "markdown",
   "metadata": {},
   "source": [
    "# Initialization"
   ]
  },
  {
   "cell_type": "code",
   "execution_count": null,
   "metadata": {
    "scrolled": false
   },
   "outputs": [],
   "source": [
    "%reload_ext autoreload\n",
    "%autoreload 2\n",
    "%reload_ext cython\n",
    "%reload_ext line_profiler\n",
    "import os,sys\n",
    "sys.path.insert(1, os.path.join(sys.path[0], '..', 'module'))\n",
    "import wiki\n",
    "import numpy as np\n",
    "import pandas as pd\n",
    "import networkx as nx\n",
    "import scipy as sp\n",
    "import seaborn as sns\n",
    "import cufflinks as cf\n",
    "import matplotlib.pyplot as plt"
   ]
  },
  {
   "cell_type": "code",
   "execution_count": null,
   "metadata": {},
   "outputs": [],
   "source": [
    "topics = ['anatomy', 'biochemistry', 'cognitive science', 'evolutionary biology',\n",
    "          'genetics', 'immunology', 'molecular biology', 'chemistry', 'biophysics',\n",
    "          'energy', 'optics', 'earth science', 'geology', 'meteorology',\n",
    "          'philosophy of language', 'philosophy of law', 'philosophy of mind',\n",
    "          'philosophy of science', 'economics', 'accounting', 'education',\n",
    "          'linguistics', 'law', 'psychology', 'sociology', 'electronics',\n",
    "          'software engineering', 'robotics',\n",
    "          'calculus', 'geometry', 'abstract algebra',\n",
    "          'Boolean algebra', 'commutative algebra', 'group theory', 'linear algebra',\n",
    "          'number theory', 'dynamical systems and differential equations']"
   ]
  },
  {
   "cell_type": "code",
   "execution_count": null,
   "metadata": {},
   "outputs": [],
   "source": [
    "path_saved = '/Users/harangju/Developer/data/wiki/graphs/dated/'"
   ]
  },
  {
   "cell_type": "code",
   "execution_count": null,
   "metadata": {
    "scrolled": false
   },
   "outputs": [],
   "source": [
    "networks = {}\n",
    "for topic in topics:\n",
    "    print(topic, end=' ')\n",
    "    networks[topic] = wiki.Net()\n",
    "    networks[topic].load_graph(path_saved + topic + '.pickle')"
   ]
  },
  {
   "cell_type": "code",
   "execution_count": null,
   "metadata": {
    "scrolled": false
   },
   "outputs": [],
   "source": [
    "import pickle\n",
    "dct = pickle.load(open('/Users/harangju/Developer/data/wiki/models/' + 'dict.model','rb'))"
   ]
  },
  {
   "cell_type": "markdown",
   "metadata": {},
   "source": [
    "# Auxiliary methods"
   ]
  },
  {
   "cell_type": "code",
   "execution_count": null,
   "metadata": {
    "scrolled": false
   },
   "outputs": [],
   "source": [
    "%%cython -f\n",
    "\n",
    "import numpy as np\n",
    "cimport numpy as np\n",
    "from cython cimport floating,boundscheck,wraparound\n",
    "from cython.parallel import prange\n",
    "\n",
    "from libc.math cimport fabs\n",
    "\n",
    "np.import_array()\n",
    "\n",
    "@boundscheck(False)  # Deactivate bounds checking\n",
    "@wraparound(False)\n",
    "def cython_manhattan(floating[::1] X_data, int[:] X_indices, int[:] X_indptr,\n",
    "                     floating[::1] Y_data, int[:] Y_indices, int[:] Y_indptr,\n",
    "                     double[:, ::1] D):\n",
    "    \"\"\"Pairwise L1 distances for CSR matrices.\n",
    "    Usage:\n",
    "    >>> D = np.zeros(X.shape[0], Y.shape[0])\n",
    "    >>> cython_manhattan(X.data, X.indices, X.indptr,\n",
    "    ...                  Y.data, Y.indices, Y.indptr,\n",
    "    ...                  D)\n",
    "    \"\"\"\n",
    "    cdef np.npy_intp px, py, i, j, ix, iy\n",
    "    cdef double d = 0.0\n",
    "    \n",
    "    cdef int m = D.shape[0]\n",
    "    cdef int n = D.shape[1]\n",
    "    \n",
    "    with nogil:                          \n",
    "        for px in prange(m):\n",
    "            for py in range(n):\n",
    "                i = X_indptr[px]\n",
    "                j = Y_indptr[py]\n",
    "                d = 0.0\n",
    "                while i < X_indptr[px+1] and j < Y_indptr[py+1]:\n",
    "                    if i < X_indptr[px+1]: ix = X_indices[i]\n",
    "                    if j < Y_indptr[py+1]: iy = Y_indices[j]\n",
    "                    \n",
    "                    if ix==iy:\n",
    "                        d = d+fabs(X_data[i]-Y_data[j])\n",
    "                        i = i+1\n",
    "                        j = j+1\n",
    "                    \n",
    "                    elif ix<iy:\n",
    "                        d = d+fabs(X_data[i])\n",
    "                        i = i+1\n",
    "                    else:\n",
    "                        d = d+fabs(Y_data[j])\n",
    "                        j = j+1\n",
    "                \n",
    "                if i== X_indptr[px+1]:\n",
    "                    while j < Y_indptr[py+1]:\n",
    "                        iy = Y_indices[j]\n",
    "                        d = d+fabs(Y_data[j])\n",
    "                        j = j+1                                            \n",
    "                else:\n",
    "                    while i < X_indptr[px+1]:\n",
    "                        ix = X_indices[i]\n",
    "                        d = d+fabs(X_data[i])\n",
    "                        i = i+1\n",
    "                        \n",
    "                D[px,py] = d"
   ]
  },
  {
   "cell_type": "code",
   "execution_count": null,
   "metadata": {},
   "outputs": [],
   "source": [
    "import sklearn.preprocessing as skp\n",
    "import sklearn.metrics.pairwise as smp\n",
    "\n",
    "def year_diffs(graph):\n",
    "    return [graph.nodes[node]['year'] - graph.nodes[neighbor]['year']\n",
    "            for node in graph.nodes\n",
    "            for neighbor in list(graph.successors(node))]\n",
    "\n",
    "def neighbor_similarity(graph, tfidf):\n",
    "    nodes = list(graph.nodes)\n",
    "    return [smp.cosine_similarity(tfidf[:,nodes.index(node)].transpose(),\n",
    "                                  tfidf[:,nodes.index(neighbor)].transpose())[0,0]\n",
    "            for node in nodes\n",
    "            for neighbor in list(graph.successors(node))]\n",
    "\n",
    "def sparse_manhattan(X,Y=None):\n",
    "    X, Y = smp.check_pairwise_arrays(X, Y)\n",
    "    X = sp.sparse.csr_matrix(X, copy=False)\n",
    "    Y = sp.sparse.csr_matrix(Y, copy=False)\n",
    "    res = np.empty(shape=(X.shape[0],Y.shape[0]))\n",
    "    cython_manhattan(X.data,X.indices,X.indptr,\n",
    "                     Y.data,Y.indices,Y.indptr,\n",
    "                             res)\n",
    "    return res\n",
    "\n",
    "def word_diffs(graph, tfidf):\n",
    "    dists = sparse_manhattan(X=skp.binarize(tfidf).transpose())\n",
    "    nodes = list(graph.nodes)\n",
    "    return [dists[nodes.index(node), nodes.index(neighbor)]\n",
    "            for node in nodes\n",
    "            for neighbor in list(graph.successors(node))]\n",
    "\n",
    "def sum_abs_weight_differences(graph, tfidf):\n",
    "    nodes = list(graph.nodes)\n",
    "    diff = []\n",
    "    for node in nodes:\n",
    "        for neighbor in graph.successors(node):\n",
    "            v1 = tfidf[:,nodes.index(node)]\n",
    "            v2 = tfidf[:,nodes.index(neighbor)]\n",
    "            idx = np.concatenate([v1.indices, v2.indices])\n",
    "            diff.append( np.sum(np.absolute(v1[idx]-v2[idx])) )\n",
    "    return diff\n",
    "\n",
    "def sum_weight_differences(graph, tfidf):\n",
    "    nodes = list(graph.nodes)\n",
    "    diff = []\n",
    "    for node in nodes:\n",
    "        for neighbor in graph.successors(node):\n",
    "            v1 = tfidf[:,nodes.index(node)]\n",
    "            v2 = tfidf[:,nodes.index(neighbor)]\n",
    "            idx = np.concatenate([v1.indices, v2.indices])\n",
    "            diff.append( np.sum(v1[idx]-v2[idx]) )\n",
    "    return diff\n",
    "\n",
    "def bin_distribution(data, steps=30, scale='log'):\n",
    "    if scale=='log':\n",
    "        bins = np.logspace(np.log10(np.min(data)), np.log10(np.max(data)), steps)\n",
    "    elif scale=='linear':\n",
    "        bins = np.linspace(np.min(data), np.max(data), num=steps)\n",
    "    hist, edges = np.histogram(data, bins=bins)\n",
    "    return hist, edges, bins\n",
    "\n",
    "def plot_distribution(data):\n",
    "    hist, edges, bins = bin_distribution(data)\n",
    "#     hist_norm = hist/(bins[1:] - bins[:-1])\n",
    "    fig = go.Figure()\n",
    "    fig.add_trace(go.Scatter(x=bins[:-1],\n",
    "                             y=hist/len(data),\n",
    "                             mode='markers'))\n",
    "    fig.update_layout(template='plotly_white',\n",
    "                      xaxis={'type': 'log',\n",
    "                             'title': 'x'},\n",
    "                      yaxis={'type': 'log',\n",
    "                             'title': 'P(x)'})\n",
    "    fig.show()\n",
    "    return fig"
   ]
  },
  {
   "cell_type": "markdown",
   "metadata": {},
   "source": [
    "# Priors - example"
   ]
  },
  {
   "cell_type": "code",
   "execution_count": null,
   "metadata": {},
   "outputs": [],
   "source": [
    "import os\n",
    "import numpy as np\n",
    "import plotly.express as px\n",
    "import plotly.graph_objects as go\n",
    "import pandas as pd\n",
    "path_fig = '/Users/harangju/Box Sync/Research/my papers/wikipedia/results/'\n",
    "save_fig = False"
   ]
  },
  {
   "cell_type": "code",
   "execution_count": null,
   "metadata": {},
   "outputs": [],
   "source": [
    "import os\n",
    "\n",
    "topic = 'anatomy'\n",
    "path_plot = '3 model ex prior'\n",
    "\n",
    "if not os.path.exists(os.path.join(path_fig, path_plot, topic)):\n",
    "    os.mkdir(os.path.join(path_fig, path_plot, topic))"
   ]
  },
  {
   "cell_type": "code",
   "execution_count": null,
   "metadata": {},
   "outputs": [],
   "source": [
    "fig = plot_distribution(networks[topic].graph.graph['tfidf'].data)\n",
    "if save_fig:\n",
    "    fig.write_image(os.path.join(path_fig, path_plot, topic, 'tf_idf_distribution.pdf'))"
   ]
  },
  {
   "cell_type": "code",
   "execution_count": null,
   "metadata": {},
   "outputs": [],
   "source": [
    "yd = year_diffs(networks[topic].graph)\n",
    "wd = word_diffs(networks[topic].graph, networks[topic].graph.graph['tfidf'])\n",
    "a, b, fit_r, p, stderr = sp.stats.linregress(np.abs(yd), wd)\n",
    "fig = go.Figure()\n",
    "x = np.linspace(0, max(yd), 100)\n",
    "fig.add_trace(go.Scatter(x=np.abs(yd), y=wd,\n",
    "                         mode='markers',\n",
    "                         marker={'size': 3},\n",
    "                         name='edges'))\n",
    "fig.add_trace(go.Scatter(x=x, y=np.multiply(a, x) + b,\n",
    "                         name=f\"y = {a:.1f} x + {b:.1f}\"))\n",
    "fig.update_layout(template='plotly_white',\n",
    "                  title=f\"{topic} (r = {fit_r:.2f}, p = {p:.1e})\",\n",
    "                  xaxis={'title': 'Δyear'},\n",
    "                  yaxis={'title': 'manhattan distance'})\n",
    "fig.show()\n",
    "if save_fig:\n",
    "    fig.write_image(os.path.join(path_fig, path_plot, topic, 'manhattan.pdf'))"
   ]
  },
  {
   "cell_type": "code",
   "execution_count": null,
   "metadata": {},
   "outputs": [],
   "source": [
    "sum_weight_diffs = sum_weight_differences(networks[topic].graph,\n",
    "                                          networks[topic].graph.graph['tfidf'])\n",
    "a, b, fit_r_sum_weight, p, stderr = sp.stats.linregress(np.abs(yd), sum_weight_diffs)\n",
    "fig = go.Figure()\n",
    "fig.add_trace(go.Scatter(x=np.abs(yd),\n",
    "                         y=sum_weight_diffs,\n",
    "                         mode='markers',\n",
    "                         marker={'size': 3},\n",
    "                         name='edges'))\n",
    "x = np.linspace(0, max(yd), 100)\n",
    "fig.add_trace(go.Scatter(x=x, y=np.multiply(a, x) + b,\n",
    "                         name=f\"y = {a:.1e} x + {b:.1f}\\n\"))\n",
    "fig.update_layout(template='plotly_white',\n",
    "                  title=f\"{topic} (r = {fit_r_sum_weight:.2f}; p = {p:.1e})\",\n",
    "                  xaxis={'title': 'Δyear'},\n",
    "                  yaxis={'title': 'Σ Δw_i'})\n",
    "fig.show()\n",
    "if save_fig:\n",
    "    fig.write_image(os.path.join(path_fig, path_plot, topic, 'sum_diff_weights.pdf'))"
   ]
  },
  {
   "cell_type": "markdown",
   "metadata": {},
   "source": [
    "The distribution of word weights are not changing significantly across time."
   ]
  },
  {
   "cell_type": "code",
   "execution_count": null,
   "metadata": {},
   "outputs": [],
   "source": [
    "import plotly.figure_factory as ff\n",
    "a, b, fit_r_sum_weight, p, stderr = sp.stats.linregress(np.abs(yd), sum_weight_diffs)\n",
    "mu_swd, std_swd = np.mean(sum_weight_diffs), np.std(sum_weight_diffs)\n",
    "fig = ff.create_distplot([sum_weight_diffs], ['edges'], bin_size=1)\n",
    "x = np.linspace(min(sum_weight_diffs), max(sum_weight_diffs), 100)\n",
    "fig.add_trace(go.Scatter(x=x, y=sp.stats.norm.pdf(x, mu_swd, std_swd),\n",
    "                         name='normal fit'))\n",
    "fig.update_layout(template='plotly_white', title=topic,\n",
    "                  xaxis={'title': 'Σ Δw_i'})\n",
    "fig.show()\n",
    "if save_fig:\n",
    "    fig.write_image(os.path.join(path_fig, path_plot, topic, 'sum_diff_weights_dstr.pdf'))"
   ]
  },
  {
   "cell_type": "code",
   "execution_count": null,
   "metadata": {},
   "outputs": [],
   "source": [
    "sum_abs_weight_diffs = sum_abs_weight_differences(networks[topic].graph,\n",
    "                                                  networks[topic].graph.graph['tfidf'])\n",
    "a, b, fit_r_sum_abs_weight, p, stderr = sp.stats.linregress(np.abs(yd), sum_abs_weight_diffs)\n",
    "fig = go.Figure()\n",
    "fig.add_trace(go.Scatter(x=np.abs(yd),\n",
    "                         y=sum_abs_weight_diffs,\n",
    "                         mode='markers',\n",
    "                         marker={'size': 3},\n",
    "                         name='edges'))\n",
    "x = np.linspace(0, max(yd), 100)\n",
    "fig.add_trace(go.Scatter(x=x, y=np.multiply(a, x) + b,\n",
    "                         name=f\"y = {a:.1e} x + {b:.1f}\\n\"))\n",
    "fig.update_layout(template='plotly_white',\n",
    "                  title=f\"{topic} (r = {fit_r_sum_abs_weight:.2f}; p = {p:.1e})\",\n",
    "                  xaxis={'title': 'Δyear'},\n",
    "                  yaxis={'title': 'Σ |Δw_i|'})\n",
    "fig.show()\n",
    "if save_fig:\n",
    "    fig.write_image(os.path.join(path_fig, path_plot, topic, 'sum_abs_diff_weights.pdf'))"
   ]
  },
  {
   "cell_type": "code",
   "execution_count": null,
   "metadata": {},
   "outputs": [],
   "source": [
    "neighbors = neighbor_similarity(networks[topic].graph, networks[topic].graph.graph['tfidf'])\n",
    "mu_n, std_n = sp.stats.norm.fit(neighbors)\n",
    "mu_n, std_n"
   ]
  },
  {
   "cell_type": "code",
   "execution_count": null,
   "metadata": {},
   "outputs": [],
   "source": [
    "import plotly.figure_factory as ff\n",
    "fig = ff.create_distplot([neighbors], ['edges'], bin_size=.05)\n",
    "x = np.linspace(min(neighbors), max(neighbors), 100)\n",
    "fig.add_trace(go.Scatter(x=x, y=sp.stats.norm.pdf(x, mu_n, std_n),\n",
    "                         name='normal fit'))\n",
    "fig.update_layout(template='plotly_white', title=topic,\n",
    "                  xaxis={'title': 'cosine similarity'})\n",
    "fig.show()\n",
    "if save_fig:\n",
    "    fig.write_image(os.path.join(path_fig, path_plot, topic, 'cosine_distribution.pdf'))"
   ]
  },
  {
   "cell_type": "code",
   "execution_count": null,
   "metadata": {
    "scrolled": false
   },
   "outputs": [],
   "source": [
    "from gensim.parsing.preprocessing import remove_stopwords\n",
    "stoplist=set('for a of the and to in'.split())\n",
    "nodes = []\n",
    "words = []\n",
    "graph = networks[topic].graph\n",
    "tfidf = networks[topic].graph.graph['tfidf']\n",
    "for i in range(tfidf.shape[1]):\n",
    "    node = list(graph.nodes)[i]\n",
    "    if tfidf[:,i].data.size == 0:\n",
    "#         print(node, tfidf[:,i].data)\n",
    "        continue\n",
    "    top_words, idx = wiki.Model.find_top_words(tfidf[:,i], dct, top_n=5)\n",
    "    nodes += [node]\n",
    "    words += [top_words]\n",
    "pd.DataFrame(data={'Node': nodes, 'Top words': words})"
   ]
  },
  {
   "cell_type": "code",
   "execution_count": null,
   "metadata": {},
   "outputs": [],
   "source": [
    "n=10\n",
    "k=4\n",
    "x = np.sum(np.abs(np.random.randint(0,n,(k,100000))-np.random.randint(0,n,(k,100000))), axis=0)\n",
    "# np.mean(x), k*2*np.sum(np.arange(1,n)*np.flip(np.arange(1,n))) * ((1/n)**2)\n",
    "np.mean(x), k * np.sum( ((1/n)**2) * np.sum(np.abs(np.array([np.arange(n)]).transpose()-np.arange(n)),\n",
    "                                            axis=0) )\n",
    "# k * Σ_i P(x_i) * Σ_j |x_i-x_j|"
   ]
  },
  {
   "cell_type": "code",
   "execution_count": null,
   "metadata": {},
   "outputs": [],
   "source": [
    "tfidf = networks[topic].graph.graph['tfidf']\n",
    "rvs = lambda n: tfidf.data[np.random.choice(tfidf.data.size, size=n)]\n",
    "emp = np.mean(np.sum(np.abs(rvs((1,100000))-rvs((1,100000))), axis=0))"
   ]
  },
  {
   "cell_type": "code",
   "execution_count": null,
   "metadata": {},
   "outputs": [],
   "source": [
    "h,e,_ = bin_distribution(tfidf.data, 100, 'linear')\n",
    "p_x = h/len(tfidf.data)\n",
    "x = np.array([np.average([e[:-1],e[1:]], axis=0)])\n",
    "the = np.sum(p_x * np.sum(np.abs(p_x*x.transpose() - x), axis=0))\n",
    "emp, the"
   ]
  },
  {
   "cell_type": "markdown",
   "metadata": {},
   "source": [
    "# Run models"
   ]
  },
  {
   "cell_type": "markdown",
   "metadata": {},
   "source": [
    "## Initialize"
   ]
  },
  {
   "cell_type": "code",
   "execution_count": null,
   "metadata": {},
   "outputs": [],
   "source": [
    "from IPython.display import display, HTML\n",
    "import os\n",
    "import dill\n",
    "import datetime"
   ]
  },
  {
   "cell_type": "code",
   "execution_count": null,
   "metadata": {},
   "outputs": [],
   "source": [
    "first_n_nodes = 10\n",
    "n_seeds = 2\n",
    "n_models = 3\n",
    "start_condition = lambda m: [n for n in m.graph_parent.nodes\n",
    "                             if m.graph_parent.nodes[n]['year'] <=\\\n",
    "                                 sorted(list(nx.get_node_attributes(m.graph_parent, 'year')\\\n",
    "                                               .values()))[first_n_nodes]]\n",
    "end_condition = lambda m: (len(m.graph.nodes) >= len(m.graph_parent.nodes)) or \\\n",
    "                          (m.year > 2200)"
   ]
  },
  {
   "cell_type": "code",
   "execution_count": null,
   "metadata": {},
   "outputs": [],
   "source": [
    "base_dir = os.path.join('/','Users','harangju','Developer','data','wiki','simulations')\n",
    "save_models = True\n",
    "base_dir"
   ]
  },
  {
   "cell_type": "markdown",
   "metadata": {},
   "source": [
    "## Run models"
   ]
  },
  {
   "cell_type": "code",
   "execution_count": null,
   "metadata": {},
   "outputs": [],
   "source": [
    "now = datetime.datetime.now().strftime('%Y%m%d_%H%M')\n",
    "os.mkdir(os.path.join(base_dir, now))"
   ]
  },
  {
   "cell_type": "code",
   "execution_count": null,
   "metadata": {},
   "outputs": [],
   "source": [
    "_networks = {'earth science': networks['earth science']}"
   ]
  },
  {
   "cell_type": "code",
   "execution_count": null,
   "metadata": {},
   "outputs": [],
   "source": [
    "stats = pd.DataFrame()"
   ]
  },
  {
   "cell_type": "code",
   "execution_count": null,
   "metadata": {
    "scrolled": false
   },
   "outputs": [],
   "source": [
    "for topic, network in networks.items():\n",
    "    print(topic)\n",
    "    print('Analyzing priors...')\n",
    "    tfidf = network.graph.graph['tfidf']\n",
    "    yd = year_diffs(network.graph)\n",
    "    md = word_diffs(network.graph, tfidf)\n",
    "    a_md, b_md, r_md, p_md, stderr = sp.stats.linregress(np.abs(yd), md)\n",
    "    swd = sum_abs_weight_differences(network.graph, tfidf)\n",
    "    a_swd, b_swd, r_swd, p_swd, stderr = sp.stats.linregress(np.abs(yd), swd)\n",
    "    rvs = lambda n: tfidf.data[np.random.choice(tfidf.data.size, size=n)]\n",
    "    mu_sawd = np.mean(np.sum(np.abs(rvs((1,100000))-rvs((1,100000))), axis=0))\n",
    "    nb = neighbor_similarity(network.graph, tfidf)\n",
    "    mu_nb, std_nb = sp.stats.norm.fit(nb)\n",
    "    p_point, p_insert, p_delete = a_swd/mu_sawd, a_md/2, a_md/2\n",
    "    new_stats = pd.DataFrame([[p_point,p_insert,p_delete,\n",
    "                               a_md,b_md,r_md,p_md,\n",
    "                               a_swd,b_swd,r_swd,p_swd,\n",
    "                               mu_sawd,mu_nb,std_nb]],\n",
    "                             columns=['p_pt', 'p_in', 'p_de',\n",
    "                                      'a (man)', 'b (man)', 'r (man)', 'p (man)',\n",
    "                                      'a (swd)', 'b (swd)', 'r (swd)', 'p (swd)',\n",
    "                                      'mu (sawd)', 'mu (nei)', 'std (nei)'\n",
    "                                     ])\n",
    "    display(HTML(new_stats.to_html()))\n",
    "    stats = pd.concat([stats, new_stats], ignore_index=True)\n",
    "    for i in range(n_models):\n",
    "        print(f\"Running model {i}...\")\n",
    "        model = wiki.Model(graph_parent=network.graph,\n",
    "                           vectors_parent=tfidf,\n",
    "                           year_start=sorted(list(nx.get_node_attributes(network.graph, 'year')\\\n",
    "                                                    .values()))[first_n_nodes],\n",
    "                           start_nodes=start_condition,\n",
    "                           n_seeds=n_seeds,\n",
    "                           dct=dct,\n",
    "                           point=(1, p_point),\n",
    "                           insert=(1, p_insert, list(set(tfidf.indices))),\n",
    "                           delete=(1, p_delete),\n",
    "                           rvs=rvs,\n",
    "                           create=lambda n: np.random.normal(loc=mu_nb, scale=std_nb, size=n))\n",
    "        model.evolve(until=end_condition)\n",
    "        if save_models:\n",
    "            dill.dump(model,\n",
    "                      open(os.path.join(base_dir, now, f\"model_{topic}_{i}.pickle\"), 'wb'))\n",
    "    print('')\n",
    "pickle.dump(stats, open(os.path.join(base_dir, now, 'stats.pickle'), 'wb'))"
   ]
  },
  {
   "cell_type": "markdown",
   "metadata": {},
   "source": [
    "# Network stats"
   ]
  },
  {
   "cell_type": "code",
   "execution_count": null,
   "metadata": {},
   "outputs": [],
   "source": [
    "import dill"
   ]
  },
  {
   "cell_type": "code",
   "execution_count": null,
   "metadata": {},
   "outputs": [],
   "source": [
    "simulation = '20200422_1318'\n",
    "base_dir = os.path.join('/','Users','harangju','Developer','data','wiki','simulations')"
   ]
  },
  {
   "cell_type": "code",
   "execution_count": null,
   "metadata": {},
   "outputs": [],
   "source": [
    "session_dir = os.path.join(base_dir, simulation)"
   ]
  },
  {
   "cell_type": "code",
   "execution_count": null,
   "metadata": {},
   "outputs": [],
   "source": [
    "filenames = sorted(os.listdir(session_dir))\n",
    "model_topics = list(set([filename.split('_')[1] for filename in filenames[:-1]]))\n",
    "model_paths = {topic: [os.path.join(session_dir, filename)\n",
    "                       for filename in filenames[:-1]\n",
    "                       if filename.split('_')[1]==topic]\n",
    "               for topic in model_topics}"
   ]
  },
  {
   "cell_type": "code",
   "execution_count": null,
   "metadata": {},
   "outputs": [],
   "source": [
    "for topic in topics:\n",
    "    print(topic)\n",
    "    for i, model_path in enumerate(model_paths[topic]):\n",
    "        print(i, end=' ')\n",
    "        model = dill.load(open(model_path, 'rb'))\n",
    "        wiki.Net.assign_core_periphery(model.graph)\n",
    "        wiki.Net.assign_communities(model.graph)\n",
    "        print(model.graph.graph['coreness_be'], model.graph.graph['modularity'])\n",
    "    print('')"
   ]
  },
  {
   "cell_type": "code",
   "execution_count": null,
   "metadata": {},
   "outputs": [],
   "source": []
  }
 ],
 "metadata": {
  "kernelspec": {
   "display_name": "Python 3",
   "language": "python",
   "name": "python3"
  },
  "language_info": {
   "codemirror_mode": {
    "name": "ipython",
    "version": 3
   },
   "file_extension": ".py",
   "mimetype": "text/x-python",
   "name": "python",
   "nbconvert_exporter": "python",
   "pygments_lexer": "ipython3",
   "version": "3.7.6"
  },
  "toc": {
   "base_numbering": 1,
   "nav_menu": {},
   "number_sections": true,
   "sideBar": true,
   "skip_h1_title": false,
   "title_cell": "Table of Contents",
   "title_sidebar": "Contents",
   "toc_cell": false,
   "toc_position": {
    "height": "calc(100% - 180px)",
    "left": "10px",
    "top": "150px",
    "width": "205.969px"
   },
   "toc_section_display": true,
   "toc_window_display": true
  }
 },
 "nbformat": 4,
 "nbformat_minor": 2
}
