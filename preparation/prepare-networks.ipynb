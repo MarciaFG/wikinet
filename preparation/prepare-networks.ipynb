{
 "cells": [
  {
   "cell_type": "code",
   "execution_count": 1,
   "metadata": {},
   "outputs": [],
   "source": [
    "%load_ext autoreload\n",
    "%autoreload 2\n",
    "import os,sys\n",
    "sys.path.insert(1, os.path.join(sys.path[0], '..', 'module'))"
   ]
  },
  {
   "cell_type": "markdown",
   "metadata": {},
   "source": [
    "## Exploring the wiki dump"
   ]
  },
  {
   "cell_type": "code",
   "execution_count": 2,
   "metadata": {},
   "outputs": [],
   "source": [
    "import wiki\n",
    "\n",
    "path_base = '/Users/harangju/Developer/data/wiki/'\n",
    "name_xml = 'enwiki-20190801-pages-articles-multistream.xml.bz2'\n",
    "name_index = 'enwiki-20190801-pages-articles-multistream-index.txt.bz2'\n",
    "path_xml = path_base + name_xml\n",
    "path_index = path_base + name_index\n",
    "dump = wiki.Dump(path_xml, path_index)"
   ]
  },
  {
   "cell_type": "code",
   "execution_count": 3,
   "metadata": {},
   "outputs": [
    {
     "name": "stdout",
     "output_type": "stream",
     "text": [
      "Dump: Loading index...\n",
      "Dump: Loaded.\n",
      "CPU times: user 1min 5s, sys: 1.63 s, total: 1min 7s\n",
      "Wall time: 1min 7s\n"
     ]
    },
    {
     "data": {
      "text/plain": [
       "['Classical physics', 'Mechanics', 'Optics', 'Electricity', 'Magnetism']"
      ]
     },
     "execution_count": 3,
     "metadata": {},
     "output_type": "execute_result"
    }
   ],
   "source": [
    "%time dump.load_page('Portal:Physics/Topics')\n",
    "dump.links[:5]"
   ]
  },
  {
   "cell_type": "code",
   "execution_count": 4,
   "metadata": {},
   "outputs": [
    {
     "data": {
      "text/plain": [
       "['University of pennsylvania',\n",
       " 'Pennsylvania state university',\n",
       " 'University of cambridge',\n",
       " 'Sloan research fellowship']"
      ]
     },
     "execution_count": 4,
     "metadata": {},
     "output_type": "execute_result"
    }
   ],
   "source": [
    "dump.load_page('Danielle Bassett')\n",
    "dump.links[:4]"
   ]
  },
  {
   "cell_type": "code",
   "execution_count": 5,
   "metadata": {},
   "outputs": [
    {
     "data": {
      "text/plain": [
       "\"In classical physics and general chemistry, '''matter''' is any substance that has mass and takes up space by having volume. All everyday objects that can be touched are ultimately composed of atoms, \""
      ]
     },
     "execution_count": 5,
     "metadata": {},
     "output_type": "execute_result"
    }
   ],
   "source": [
    "dump.load_page('Matter', filter_top=True).strip_code()[:200]"
   ]
  },
  {
   "cell_type": "markdown",
   "metadata": {},
   "source": [
    "## Get index of physics articles\n",
    "\n",
    "* [all indices on Wikipedia](https://en.wikipedia.org/wiki/Portal:Contents/Indices)\n",
    "* topics not searched\n",
    "* international trade (\"topics\"), theory of constraints (small)\n",
    "* too big: mathematics, neuroscience"
   ]
  },
  {
   "cell_type": "code",
   "execution_count": 6,
   "metadata": {},
   "outputs": [],
   "source": [
    "# natural & physical sciences\n",
    "topics = ['anatomy', 'biochemistry', 'cognitive science', 'evolutionary biology',\n",
    "          'genetics', 'immunology', 'molecular biology']\n",
    "topics += ['chemistry', 'biophysics', 'energy', 'optics', \n",
    "           'earth science', 'geology', 'meteorology']\n",
    "# philosophy\n",
    "# topics += []\n",
    "topics += ['philosophy of language', 'philosophy of law', \n",
    "           'philosophy of mind', 'philosophy of science']\n",
    "# social sciences\n",
    "topics += ['economics', 'accounting', 'education', 'linguistics', 'law', 'psychology', 'sociology']\n",
    "# technology & applied sciences\n",
    "topics += ['electronics', 'software engineering', 'robotics']"
   ]
  },
  {
   "cell_type": "code",
   "execution_count": 7,
   "metadata": {},
   "outputs": [
    {
     "name": "stdout",
     "output_type": "stream",
     "text": [
      "Topic \"anatomy\" has 2331 articles.\n",
      "Topic \"biochemistry\" has 1216 articles.\n",
      "Topic \"cognitive science\" has 127 articles.\n",
      "Topic \"evolutionary biology\" has 287 articles.\n",
      "Topic \"genetics\" has 1441 articles.\n",
      "Topic \"immunology\" has 572 articles.\n",
      "Topic \"molecular biology\" has 507 articles.\n",
      "Topic \"chemistry\" has 1088 articles.\n",
      "Topic \"biophysics\" has 773 articles.\n",
      "Topic \"energy\" has 158 articles.\n",
      "Topic \"optics\" has 386 articles.\n",
      "Topic \"earth science\" has 135 articles.\n",
      "Topic \"geology\" has 116 articles.\n",
      "Topic \"meteorology\" has 761 articles.\n",
      "Topic \"philosophy of language\" has 275 articles.\n",
      "Topic \"philosophy of law\" has 208 articles.\n",
      "Topic \"philosophy of mind\" has 109 articles.\n",
      "Topic \"philosophy of science\" has 448 articles.\n",
      "Topic \"economics\" has 562 articles.\n",
      "Topic \"accounting\" has 154 articles.\n",
      "Topic \"education\" has 872 articles.\n",
      "Topic \"linguistics\" has 420 articles.\n",
      "Topic \"law\" has 3657 articles.\n",
      "Topic \"psychology\" has 1801 articles.\n",
      "Topic \"sociology\" has 772 articles.\n",
      "Topic \"electronics\" has 1274 articles.\n",
      "Topic \"software engineering\" has 251 articles.\n",
      "Topic \"robotics\" has 1432 articles.\n"
     ]
    }
   ],
   "source": [
    "links = {}\n",
    "for topic in topics:\n",
    "    dump.load_page('Index of %s articles' % topic)\n",
    "    links[topic] = [str(l) for l in dump.article_links]\n",
    "    print('Topic \"' + topic + '\" has ' + str(len(links[topic])) + ' articles.')"
   ]
  },
  {
   "cell_type": "code",
   "execution_count": 8,
   "metadata": {},
   "outputs": [
    {
     "name": "stdout",
     "output_type": "stream",
     "text": [
      "Topic \"physics\" has 15215 articles.\n"
     ]
    }
   ],
   "source": [
    "import string\n",
    "\n",
    "links['physics'] = []\n",
    "for letter in ['!$@', '0–9'] + list(string.ascii_uppercase):\n",
    "    dump.load_page('Index of physics articles (%s)' % letter)\n",
    "    links['physics'].extend([str(l) for l in dump.article_links])\n",
    "print('Topic \"' + 'physics' + '\" has ' + str(len(links['physics'])) + ' articles.')"
   ]
  },
  {
   "cell_type": "markdown",
   "metadata": {},
   "source": [
    "## Build graphs of topics\n",
    "\n",
    "### 1 network per topic"
   ]
  },
  {
   "cell_type": "code",
   "execution_count": 9,
   "metadata": {},
   "outputs": [
    {
     "name": "stdout",
     "output_type": "stream",
     "text": [
      "Topic: anatomy\n",
      "wiki.Net: traversing Wikipedia...\n",
      "wiki.Net: depth = 0\n",
      "wiki.Net: len(queue) = 7760\n",
      "wiki.Net: depth = 1\n",
      "\n",
      "wiki.Net: removing isolates...\n",
      "wiki.Net: adding years...\n",
      "wiki.Net: filling empty years...\n",
      "Topic: biochemistry\n",
      "wiki.Net: traversing Wikipedia...\n",
      "wiki.Net: depth = 0\n",
      "wiki.Net: len(queue) = 4390\n",
      "wiki.Net: depth = 1\n",
      "\n",
      "wiki.Net: removing isolates...\n",
      "wiki.Net: adding years...\n",
      "wiki.Net: filling empty years...\n",
      "Topic: cognitive science\n",
      "wiki.Net: traversing Wikipedia...\n",
      "wiki.Net: depth = 0\n",
      "wiki.Net: len(queue) = 480\n",
      "wiki.Net: depth = 1\n",
      "\n",
      "wiki.Net: removing isolates...\n",
      "wiki.Net: adding years...\n",
      "wiki.Net: filling empty years...\n",
      "Topic: evolutionary biology\n",
      "wiki.Net: traversing Wikipedia...\n",
      "wiki.Net: depth = 0\n",
      "wiki.Net: len(queue) = 116\n",
      "wiki.Net: depth = 1\n",
      "\n",
      "wiki.Net: removing isolates...\n",
      "wiki.Net: adding years...\n",
      "wiki.Net: filling empty years...\n",
      "Topic: genetics\n",
      "wiki.Net: traversing Wikipedia...\n",
      "wiki.Net: depth = 0\n",
      "wiki.Net: len(queue) = 4260\n",
      "wiki.Net: depth = 1\n",
      "wiki.Net: len(queue) = 425\n",
      "wiki.Net: removing isolates...\n",
      "wiki.Net: adding years...\n",
      "wiki.Net: filling empty years...\n",
      "Topic: immunology\n",
      "wiki.Net: traversing Wikipedia...\n",
      "wiki.Net: depth = 0\n",
      "wiki.Net: len(queue) = 142\n",
      "wiki.Net: depth = 1\n",
      "wiki.Net: len(queue) = 141\n",
      "wiki.Net: removing isolates...\n",
      "wiki.Net: adding years...\n",
      "wiki.Net: filling empty years...\n",
      "Topic: molecular biology\n",
      "wiki.Net: traversing Wikipedia...\n",
      "wiki.Net: depth = 0\n",
      "wiki.Net: len(queue) = 160\n",
      "wiki.Net: depth = 1\n",
      "\n",
      "wiki.Net: removing isolates...\n",
      "wiki.Net: adding years...\n",
      "wiki.Net: filling empty years...\n",
      "Topic: chemistry\n",
      "wiki.Net: traversing Wikipedia...\n",
      "wiki.Net: depth = 0\n",
      "wiki.Net: len(queue) = 4120\n",
      "wiki.Net: depth = 1\n",
      "\n",
      "wiki.Net: removing isolates...\n",
      "wiki.Net: adding years...\n",
      "wiki.Net: filling empty years...\n",
      "Topic: biophysics\n",
      "wiki.Net: traversing Wikipedia...\n",
      "wiki.Net: depth = 0\n",
      "wiki.Net: len(queue) = 119\n",
      "wiki.Net: depth = 1\n",
      "wiki.Net: len(queue) = 118\n",
      "wiki.Net: removing isolates...\n",
      "wiki.Net: adding years...\n",
      "wiki.Net: filling empty years...\n",
      "Topic: energy\n",
      "wiki.Net: traversing Wikipedia...\n",
      "wiki.Net: depth = 0\n",
      "wiki.Net: len(queue) = 370\n",
      "wiki.Net: depth = 1\n",
      "\n",
      "wiki.Net: removing isolates...\n",
      "wiki.Net: adding years...\n",
      "wiki.Net: filling empty years...\n",
      "Topic: optics\n",
      "wiki.Net: traversing Wikipedia...\n",
      "wiki.Net: depth = 0\n",
      "wiki.Net: len(queue) = 128\n",
      "wiki.Net: depth = 1\n",
      "\n",
      "wiki.Net: removing isolates...\n",
      "wiki.Net: adding years...\n",
      "wiki.Net: filling empty years...\n",
      "Topic: earth science\n",
      "wiki.Net: traversing Wikipedia...\n",
      "wiki.Net: depth = 0\n",
      "wiki.Net: len(queue) = 530\n",
      "wiki.Net: depth = 1\n",
      "\n",
      "wiki.Net: removing isolates...\n",
      "wiki.Net: adding years...\n",
      "wiki.Net: filling empty years...\n",
      "Topic: geology\n",
      "wiki.Net: traversing Wikipedia...\n",
      "wiki.Net: depth = 0\n",
      "wiki.Net: len(queue) = 310\n",
      "wiki.Net: depth = 1\n",
      "\n",
      "wiki.Net: removing isolates...\n",
      "wiki.Net: adding years...\n",
      "wiki.Net: filling empty years...\n",
      "Topic: meteorology\n",
      "wiki.Net: traversing Wikipedia...\n",
      "wiki.Net: depth = 0\n",
      "wiki.Net: len(queue) = 269\n",
      "wiki.Net: depth = 1\n",
      "\n",
      "wiki.Net: removing isolates...\n",
      "wiki.Net: adding years...\n",
      "wiki.Net: filling empty years...\n",
      "Topic: philosophy of language\n",
      "wiki.Net: traversing Wikipedia...\n",
      "wiki.Net: depth = 0\n",
      "wiki.Net: len(queue) = 850\n",
      "wiki.Net: depth = 1\n",
      "\n",
      "wiki.Net: removing isolates...\n",
      "wiki.Net: adding years...\n",
      "wiki.Net: filling empty years...\n",
      "Topic: philosophy of law\n",
      "wiki.Net: traversing Wikipedia...\n",
      "wiki.Net: depth = 0\n",
      "wiki.Net: len(queue) = 390\n",
      "wiki.Net: depth = 1\n",
      "wiki.Net: len(queue) = 38\n",
      "wiki.Net: removing isolates...\n",
      "wiki.Net: adding years...\n",
      "wiki.Net: filling empty years...\n",
      "Topic: philosophy of mind\n",
      "wiki.Net: traversing Wikipedia...\n",
      "wiki.Net: depth = 0\n",
      "wiki.Net: len(queue) = 340\n",
      "wiki.Net: depth = 1\n",
      "\n",
      "wiki.Net: removing isolates...\n",
      "wiki.Net: adding years...\n",
      "wiki.Net: filling empty years...\n",
      "Topic: philosophy of science\n",
      "wiki.Net: traversing Wikipedia...\n",
      "wiki.Net: depth = 0\n",
      "wiki.Net: len(queue) = 113\n",
      "wiki.Net: depth = 1\n",
      "\n",
      "wiki.Net: removing isolates...\n",
      "wiki.Net: adding years...\n",
      "wiki.Net: filling empty years...\n",
      "Topic: economics\n",
      "wiki.Net: traversing Wikipedia...\n",
      "wiki.Net: depth = 0\n",
      "wiki.Net: len(queue) = 213\n",
      "wiki.Net: depth = 1\n",
      "\n",
      "wiki.Net: removing isolates...\n",
      "wiki.Net: adding years...\n",
      "wiki.Net: filling empty years...\n",
      "Topic: accounting\n",
      "wiki.Net: traversing Wikipedia...\n",
      "wiki.Net: depth = 0\n",
      "wiki.Net: len(queue) = 450\n",
      "wiki.Net: depth = 1\n",
      "\n",
      "wiki.Net: removing isolates...\n",
      "wiki.Net: adding years...\n",
      "wiki.Net: filling empty years...\n",
      "Topic: education\n",
      "wiki.Net: traversing Wikipedia...\n",
      "wiki.Net: depth = 0\n",
      "wiki.Net: len(queue) = 196\n",
      "wiki.Net: depth = 1\n",
      "\n",
      "wiki.Net: removing isolates...\n",
      "wiki.Net: adding years...\n",
      "wiki.Net: filling empty years...\n",
      "Topic: linguistics\n",
      "wiki.Net: traversing Wikipedia...\n",
      "wiki.Net: depth = 0\n",
      "wiki.Net: len(queue) = 165\n",
      "wiki.Net: depth = 1\n",
      "\n",
      "wiki.Net: removing isolates...\n",
      "wiki.Net: adding years...\n",
      "wiki.Net: filling empty years...\n",
      "Topic: law\n",
      "wiki.Net: traversing Wikipedia...\n",
      "wiki.Net: depth = 0\n",
      "wiki.Net: len(queue) = 1088\n",
      "wiki.Net: depth = 1\n",
      "\n",
      "wiki.Net: removing isolates...\n",
      "wiki.Net: adding years...\n",
      "wiki.Net: filling empty years...\n",
      "Topic: psychology\n",
      "wiki.Net: traversing Wikipedia...\n",
      "wiki.Net: depth = 0\n",
      "wiki.Net: len(queue) = 4990\n",
      "wiki.Net: depth = 1\n",
      "\n",
      "wiki.Net: removing isolates...\n",
      "wiki.Net: adding years...\n",
      "wiki.Net: filling empty years...\n",
      "Topic: sociology\n",
      "wiki.Net: traversing Wikipedia...\n",
      "wiki.Net: depth = 0\n",
      "wiki.Net: len(queue) = 244\n",
      "wiki.Net: depth = 1\n",
      "\n",
      "wiki.Net: removing isolates...\n",
      "wiki.Net: adding years...\n",
      "wiki.Net: filling empty years...\n",
      "Topic: electronics\n",
      "wiki.Net: traversing Wikipedia...\n",
      "wiki.Net: depth = 0\n",
      "wiki.Net: len(queue) = 4100\n",
      "wiki.Net: depth = 1\n",
      "\n",
      "wiki.Net: removing isolates...\n",
      "wiki.Net: adding years...\n",
      "wiki.Net: filling empty years...\n",
      "Topic: software engineering\n",
      "wiki.Net: traversing Wikipedia...\n",
      "wiki.Net: depth = 0\n",
      "wiki.Net: len(queue) = 101\n",
      "wiki.Net: depth = 1\n",
      "\n",
      "wiki.Net: removing isolates...\n",
      "wiki.Net: adding years...\n",
      "wiki.Net: filling empty years...\n",
      "Topic: robotics\n",
      "wiki.Net: traversing Wikipedia...\n",
      "wiki.Net: depth = 0\n",
      "wiki.Net: len(queue) = 2920\n",
      "wiki.Net: depth = 1\n",
      "wiki.Net: len(queue) = 291\n",
      "wiki.Net: removing isolates...\n",
      "wiki.Net: adding years...\n",
      "wiki.Net: filling empty years...\n",
      "Topic: physics\n",
      "wiki.Net: traversing Wikipedia...\n",
      "wiki.Net: depth = 0\n",
      "wiki.Net: len(queue) = 45160\n",
      "wiki.Net: depth = 1\n",
      "wiki.Net: len(queue) = 4515\n",
      "wiki.Net: removing isolates...\n",
      "wiki.Net: adding years...\n",
      "wiki.Net: filling empty years...\n"
     ]
    }
   ],
   "source": [
    "path_to_save = '/Users/harangju/Box Sync/Research/my papers/wikipedia paper/data/graphs/full/'\n",
    "\n",
    "networks = {}\n",
    "for topic, ls in links.items():\n",
    "    print('Topic: ' + topic)\n",
    "    networks[topic] = wiki.Net()\n",
    "    networks[topic].build_graph(dump, nodes=ls)\n",
    "    networks[topic].save_graph(path_to_save + topic + '.gexf')"
   ]
  },
  {
   "cell_type": "markdown",
   "metadata": {},
   "source": [
    "Gephi notes\n",
    "* node size, fruchterman reingold = [10, 40], force atlas 2 = [4 16]\n",
    "* text size = [1 1.4]\n",
    "* preview font size = 5"
   ]
  }
 ],
 "metadata": {
  "kernelspec": {
   "display_name": "Python 3",
   "language": "python",
   "name": "python3"
  },
  "language_info": {
   "codemirror_mode": {
    "name": "ipython",
    "version": 3
   },
   "file_extension": ".py",
   "mimetype": "text/x-python",
   "name": "python",
   "nbconvert_exporter": "python",
   "pygments_lexer": "ipython3",
   "version": "3.7.4"
  }
 },
 "nbformat": 4,
 "nbformat_minor": 2
}
