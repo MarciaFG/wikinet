{
 "cells": [
  {
   "cell_type": "code",
   "execution_count": 1,
   "metadata": {},
   "outputs": [],
   "source": [
    "%reload_ext autoreload\n",
    "%autoreload 2\n",
    "import os,sys\n",
    "sys.path.insert(1, os.path.join(sys.path[0], '..', 'module'))\n",
    "import wiki"
   ]
  },
  {
   "cell_type": "markdown",
   "metadata": {},
   "source": [
    "## Get index of articles\n",
    "\n",
    "* [all indices on Wikipedia](https://en.wikipedia.org/wiki/Portal:Contents/Indices)\n",
    "* topics not searched\n",
    "* international trade (\"topics\"), theory of constraints (small)\n",
    "* too big: mathematics, neuroscience"
   ]
  },
  {
   "cell_type": "code",
   "execution_count": 2,
   "metadata": {},
   "outputs": [],
   "source": [
    "path_base = '/Users/harangju/Developer/data/wiki/dumps/'\n",
    "name_xml = 'enwiki-20190801-pages-articles-multistream.xml.bz2'\n",
    "name_index = 'enwiki-20190801-pages-articles-multistream-index.txt.bz2'\n",
    "path_xml = path_base + name_xml\n",
    "path_index = path_base + name_index\n",
    "dump = wiki.Dump(path_xml, path_index)"
   ]
  },
  {
   "cell_type": "code",
   "execution_count": 15,
   "metadata": {},
   "outputs": [],
   "source": [
    "# natural & physical sciences\n",
    "topics = ['anatomy', 'biochemistry', 'cognitive science', 'evolutionary biology',\n",
    "          'genetics', 'immunology', 'molecular biology']\n",
    "topics += ['chemistry', 'biophysics', 'energy', 'optics', \n",
    "           'earth science', 'geology', 'meteorology']\n",
    "# philosophy\n",
    "# topics += []\n",
    "topics += ['philosophy of language', 'philosophy of law', \n",
    "           'philosophy of mind', 'philosophy of science']\n",
    "# social sciences\n",
    "topics += ['economics', 'accounting', 'education', 'linguistics', 'law', 'psychology',\n",
    "           'sociology']\n",
    "# technology & applied sciences\n",
    "topics += ['electronics', 'software engineering', 'robotics']"
   ]
  },
  {
   "cell_type": "code",
   "execution_count": 17,
   "metadata": {},
   "outputs": [
    {
     "name": "stdout",
     "output_type": "stream",
     "text": [
      "Topic \"anatomy\" has 2331 articles.\n",
      "Topic \"biochemistry\" has 1216 articles.\n",
      "Topic \"cognitive science\" has 127 articles.\n",
      "Topic \"evolutionary biology\" has 287 articles.\n",
      "Topic \"genetics\" has 1441 articles.\n",
      "Topic \"immunology\" has 572 articles.\n",
      "Topic \"molecular biology\" has 507 articles.\n",
      "Topic \"chemistry\" has 1088 articles.\n",
      "Topic \"biophysics\" has 773 articles.\n",
      "Topic \"energy\" has 158 articles.\n",
      "Topic \"optics\" has 386 articles.\n",
      "Topic \"earth science\" has 135 articles.\n",
      "Topic \"geology\" has 116 articles.\n",
      "Topic \"meteorology\" has 761 articles.\n",
      "Topic \"philosophy of language\" has 275 articles.\n",
      "Topic \"philosophy of law\" has 208 articles.\n",
      "Topic \"philosophy of mind\" has 109 articles.\n",
      "Topic \"philosophy of science\" has 448 articles.\n",
      "Topic \"economics\" has 562 articles.\n",
      "Topic \"accounting\" has 154 articles.\n",
      "Topic \"education\" has 872 articles.\n",
      "Topic \"linguistics\" has 420 articles.\n",
      "Topic \"law\" has 3657 articles.\n",
      "Topic \"psychology\" has 1801 articles.\n",
      "Topic \"sociology\" has 772 articles.\n",
      "Topic \"electronics\" has 1274 articles.\n",
      "Topic \"software engineering\" has 251 articles.\n",
      "Topic \"robotics\" has 1432 articles.\n"
     ]
    }
   ],
   "source": [
    "links = {}\n",
    "for topic in topics:\n",
    "    dump.load_page('Index of %s articles' % topic)\n",
    "    links[topic] = [str(l) for l in dump.article_links]\n",
    "    print('Topic \"' + topic + '\" has ' + str(len(links[topic])) + ' articles.')"
   ]
  },
  {
   "cell_type": "code",
   "execution_count": 5,
   "metadata": {},
   "outputs": [
    {
     "name": "stdout",
     "output_type": "stream",
     "text": [
      "Topic \"physics\" has 15215 articles.\n"
     ]
    }
   ],
   "source": [
    "import string\n",
    "\n",
    "topic = 'physics'\n",
    "links[topic] = []\n",
    "for letter in ['!$@', '0–9'] + list(string.ascii_uppercase):\n",
    "    dump.load_page('Index of physics articles (%s)' % letter)\n",
    "    links[topic].extend([str(l) for l in dump.article_links])\n",
    "print('Topic \"' + topic + '\" has ' + str(len(links[topic])) + ' articles.')"
   ]
  },
  {
   "cell_type": "code",
   "execution_count": 6,
   "metadata": {},
   "outputs": [
    {
     "name": "stdout",
     "output_type": "stream",
     "text": [
      "Topic \"mathematics\" has 26001 articles.\n"
     ]
    }
   ],
   "source": [
    "topic = 'mathematics'\n",
    "links[topic] = []\n",
    "for letter in ['0–9'] + list(string.ascii_uppercase):\n",
    "    dump.load_page('Wikipedia:WikiProject Mathematics/List of mathematics articles (%s)'\n",
    "                   % letter)\n",
    "    links[topic].extend([str(l) for l in dump.article_links])\n",
    "print('Topic \"' + topic + '\" has ' + str(len(links[topic])) + ' articles.')"
   ]
  },
  {
   "cell_type": "markdown",
   "metadata": {},
   "source": [
    "## Build graphs of topics\n",
    "\n",
    "### 1 network per topic"
   ]
  },
  {
   "cell_type": "code",
   "execution_count": 10,
   "metadata": {},
   "outputs": [],
   "source": [
    "import pickle\n",
    "import gensim.utils as gu\n",
    "\n",
    "path_save = '/Users/harangju/Developer/data/wiki/models/'\n",
    "tfidf = gu.SaveLoad.load(path_save + 'tfidf.model')\n",
    "dct = pickle.load(open(path_save + 'dict.model','rb'))"
   ]
  },
  {
   "cell_type": "code",
   "execution_count": null,
   "metadata": {
    "scrolled": true
   },
   "outputs": [],
   "source": [
    "path_to_save = '/Users/harangju/Developer/data/wiki/graphs/dated/'\n",
    "\n",
    "networks = {}\n",
    "for topic, ls in links.items():\n",
    "    print('\\nTopic: ' + topic)\n",
    "    networks[topic] = wiki.Net()\n",
    "    networks[topic].build_graph(name=topic, dump=dump, nodes=ls, model=tfidf, dct=dct)\n",
    "    networks[topic].save_graph(path_to_save + topic + '.pickle')\n",
    "    networks[topic].save_barcodes(path_to_save + topic + '.barcode')"
   ]
  },
  {
   "cell_type": "code",
   "execution_count": 20,
   "metadata": {},
   "outputs": [],
   "source": [
    "# networks['mathematics'].save_graph(topic + '.pickle')\n",
    "# networks['mathematics'].save_barcodes(topic + '.barcode')"
   ]
  },
  {
   "cell_type": "markdown",
   "metadata": {},
   "source": [
    "## Generate null networks"
   ]
  },
  {
   "cell_type": "code",
   "execution_count": 10,
   "metadata": {},
   "outputs": [],
   "source": [
    "path_to_save = '/Users/harangju/Developer/data/wiki/graphs/dated/'\n",
    "networks = {}\n",
    "for topic in links.keys():\n",
    "    networks[topic] = wiki.Net()\n",
    "    networks[topic].load_graph(path_to_save + topic + '.pickle')"
   ]
  },
  {
   "cell_type": "markdown",
   "metadata": {},
   "source": [
    "## Randomized target, year, & both?\n",
    "\n",
    "Just randomizing year -> you get the same structures, it's just a matter of when you get those structures.\n",
    "If you randomize year & target, then you're randomizing the structure & how they come about without changing any basic network statistics."
   ]
  },
  {
   "cell_type": "code",
   "execution_count": 11,
   "metadata": {
    "scrolled": true
   },
   "outputs": [
    {
     "name": "stdout",
     "output_type": "stream",
     "text": [
      "Null model: year\n",
      "Topic: anatomy\n",
      "Null: 0\n",
      "wiki.Net: computing core-periphery...\n",
      "wiki.Net: computing communities...\n",
      "wiki.Net: computing barcodes... (skip negatives)\n",
      "wiki.Net: barcode 12883/13087Null: 1\n",
      "wiki.Net: computing core-periphery...\n",
      "wiki.Net: computing communities...\n",
      "wiki.Net: computing barcodes... (skip negatives)\n",
      "wiki.Net: barcode 13080/13087\n",
      "Topic: biochemistry\n",
      "Null: 0\n",
      "wiki.Net: computing core-periphery...\n",
      "wiki.Net: computing communities...\n",
      "wiki.Net: computing barcodes... (skip negatives)\n",
      "wiki.Net: barcode 8552/11251Null: 1\n",
      "wiki.Net: computing core-periphery...\n",
      "wiki.Net: computing communities...\n",
      "wiki.Net: computing barcodes... (skip negatives)\n",
      "wiki.Net: barcode 8995/11251wiki.Net: computing barcodes... (skip negatives)\n",
      "wiki.Net: barcode 9743/9748\n",
      "Null: 1\n",
      "wiki.Net: computing core-periphery...\n",
      "wiki.Net: computing communities...\n",
      "wiki.Net: computing barcodes... (skip negatives)\n",
      "wiki.Net: barcode 9736/9748\n",
      "Topic: immunology\n",
      "Null: 0\n",
      "wiki.Net: computing core-periphery...\n",
      "wiki.Net: computing communities...\n",
      "wiki.Net: computing barcodes... (skip negatives)\n",
      "wiki.Net: barcode 1767/1777\n",
      "Null: 1\n",
      "wiki.Net: computing core-periphery...\n",
      "wiki.Net: computing communities...\n",
      "wiki.Net: computing barcodes... (skip negatives)\n",
      "wiki.Net: barcode 1773/1777\n",
      "Topic: molecular biology\n",
      "Null: 0\n",
      "wiki.Net: computing core-periphery...\n",
      "wiki.Net: computing communities...\n",
      "wiki.Net: computing barcodes... (skip negatives)\n",
      "wiki.Net: barcode 2469/2473\n",
      "Null: 1\n",
      "wiki.Net: computing core-periphery...\n",
      "wiki.Net: computing communities...\n",
      "wiki.Net: computing barcodes... (skip negatives)\n",
      "wiki.Net: barcode 2469/2473\n",
      "Topic: chemistry\n",
      "Null: 0\n",
      "wiki.Net: computing core-periphery...\n",
      "wiki.Net: computing communities...\n",
      "wiki.Net: computing barcodes... (skip negatives)\n",
      "wiki.Net: barcode 17432/17444\n",
      "Null: 1\n",
      "wiki.Net: computing core-periphery...\n",
      "wiki.Net: computing communities...\n",
      "wiki.Net: computing barcodes... (skip negatives)\n",
      "wiki.Net: barcode 17442/17444\n",
      "Topic: biophysics\n",
      "Null: 0\n",
      "wiki.Net: computing core-periphery...\n",
      "wiki.Net: computing communities...\n",
      "wiki.Net: computing barcodes... (skip negatives)\n",
      "wiki.Net: barcode 905/909\n",
      "Null: 1\n",
      "wiki.Net: computing core-periphery...\n",
      "wiki.Net: computing communities...\n",
      "wiki.Net: computing barcodes... (skip negatives)\n",
      "wiki.Net: barcode 905/909\n",
      "Topic: energy\n",
      "Null: 0\n",
      "wiki.Net: computing core-periphery...\n",
      "wiki.Net: computing communities...\n",
      "wiki.Net: computing barcodes... (skip negatives)\n",
      "wiki.Net: barcode 362/365\n",
      "Null: 1\n",
      "wiki.Net: computing core-periphery...\n",
      "wiki.Net: computing communities...\n",
      "wiki.Net: computing barcodes... (skip negatives)\n",
      "wiki.Net: barcode 361/365\n",
      "Topic: optics\n",
      "Null: 0\n",
      "wiki.Net: computing core-periphery...\n",
      "wiki.Net: computing communities...\n",
      "wiki.Net: computing barcodes... (skip negatives)\n",
      "wiki.Net: barcode 2507/2511\n",
      "Null: 1\n",
      "wiki.Net: computing core-periphery...\n",
      "wiki.Net: computing communities...\n",
      "wiki.Net: computing barcodes... (skip negatives)\n",
      "wiki.Net: barcode 2503/2511\n",
      "Topic: earth science\n",
      "Null: 0\n",
      "wiki.Net: computing core-periphery...\n",
      "wiki.Net: computing communities...\n",
      "wiki.Net: computing barcodes... (skip negatives)\n",
      "wiki.Net: barcode 563/567\n",
      "Null: 1\n",
      "wiki.Net: computing core-periphery...\n",
      "wiki.Net: computing communities...\n",
      "wiki.Net: computing barcodes... (skip negatives)\n",
      "wiki.Net: barcode 563/567\n",
      "Topic: geology\n",
      "Null: 0\n",
      "wiki.Net: computing core-periphery...\n",
      "wiki.Net: computing communities...\n",
      "wiki.Net: computing barcodes... (skip negatives)\n",
      "wiki.Net: barcode 353/355\n",
      "Null: 1\n",
      "wiki.Net: computing core-periphery...\n",
      "wiki.Net: computing communities...\n",
      "wiki.Net: computing barcodes... (skip negatives)\n",
      "wiki.Net: barcode 350/355\n",
      "Topic: meteorology\n",
      "Null: 0\n",
      "wiki.Net: computing core-periphery...\n",
      "wiki.Net: computing communities...\n",
      "wiki.Net: computing barcodes... (skip negatives)\n",
      "wiki.Net: barcode 3459/3460\n",
      "Null: 1\n",
      "wiki.Net: computing core-periphery...\n",
      "wiki.Net: computing communities...\n",
      "wiki.Net: computing barcodes... (skip negatives)\n",
      "wiki.Net: barcode 3457/3460\n",
      "Topic: philosophy of language\n",
      "Null: 0\n",
      "wiki.Net: computing core-periphery...\n",
      "wiki.Net: computing communities...\n",
      "wiki.Net: computing barcodes... (skip negatives)\n",
      "wiki.Net: barcode 576/584\n",
      "Null: 1\n",
      "wiki.Net: computing core-periphery...\n",
      "wiki.Net: computing communities...\n",
      "wiki.Net: computing barcodes... (skip negatives)\n",
      "wiki.Net: barcode 576/584\n",
      "Topic: philosophy of law\n",
      "Null: 0\n",
      "wiki.Net: computing core-periphery...\n",
      "wiki.Net: computing communities...\n",
      "wiki.Net: computing barcodes... (skip negatives)\n",
      "wiki.Net: barcode 218/238\n",
      "Null: 1\n",
      "wiki.Net: computing core-periphery...\n",
      "wiki.Net: computing communities...\n",
      "wiki.Net: computing barcodes... (skip negatives)\n",
      "wiki.Net: barcode 213/238\n",
      "Topic: philosophy of mind\n",
      "Null: 0\n",
      "wiki.Net: computing core-periphery...\n",
      "wiki.Net: computing communities...\n",
      "wiki.Net: computing barcodes... (skip negatives)\n",
      "wiki.Net: barcode 284/289\n",
      "Null: 1\n",
      "wiki.Net: computing core-periphery...\n",
      "wiki.Net: computing communities...\n",
      "wiki.Net: computing barcodes... (skip negatives)\n",
      "wiki.Net: barcode 283/289\n",
      "Topic: philosophy of science\n",
      "Null: 0\n",
      "wiki.Net: computing core-periphery...\n",
      "wiki.Net: computing communities...\n",
      "wiki.Net: computing barcodes... (skip negatives)\n",
      "wiki.Net: barcode 755/767\n",
      "Null: 1\n",
      "wiki.Net: computing core-periphery...\n",
      "wiki.Net: computing communities...\n",
      "wiki.Net: computing barcodes... (skip negatives)\n",
      "wiki.Net: barcode 758/767\n",
      "Topic: economics\n",
      "Null: 0\n",
      "wiki.Net: computing core-periphery...\n",
      "wiki.Net: computing communities...\n",
      "wiki.Net: computing barcodes... (skip negatives)\n",
      "wiki.Net: barcode 2695/2705\n",
      "Null: 1\n",
      "wiki.Net: computing core-periphery...\n",
      "wiki.Net: computing communities...\n",
      "wiki.Net: computing barcodes... (skip negatives)\n",
      "wiki.Net: barcode 2692/2705\n",
      "Topic: accounting\n",
      "Null: 0\n",
      "wiki.Net: computing core-periphery...\n",
      "wiki.Net: computing communities...\n",
      "wiki.Net: computing barcodes... (skip negatives)\n",
      "wiki.Net: barcode 272/290\n",
      "Null: 1\n",
      "wiki.Net: computing core-periphery...\n",
      "wiki.Net: computing communities...\n",
      "wiki.Net: computing barcodes... (skip negatives)\n",
      "wiki.Net: barcode 272/290\n",
      "Topic: education\n",
      "Null: 0\n",
      "wiki.Net: computing core-periphery...\n",
      "wiki.Net: computing communities...\n",
      "wiki.Net: computing barcodes... (skip negatives)\n",
      "wiki.Net: barcode 1578/1590\n",
      "Null: 1\n",
      "wiki.Net: computing core-periphery...\n",
      "wiki.Net: computing communities...\n",
      "wiki.Net: computing barcodes... (skip negatives)\n",
      "wiki.Net: barcode 1577/1590\n",
      "Topic: linguistics\n",
      "Null: 0\n",
      "wiki.Net: computing core-periphery...\n",
      "wiki.Net: computing communities...\n",
      "wiki.Net: computing barcodes... (skip negatives)\n",
      "wiki.Net: barcode 3660/3664\n",
      "Null: 1\n",
      "wiki.Net: computing core-periphery...\n",
      "wiki.Net: computing communities...\n",
      "wiki.Net: computing barcodes... (skip negatives)\n",
      "wiki.Net: barcode 3653/3664\n",
      "Topic: law\n",
      "Null: 0\n",
      "wiki.Net: computing core-periphery...\n",
      "wiki.Net: computing communities...\n",
      "wiki.Net: computing barcodes... (skip negatives)\n",
      "wiki.Net: barcode 13812/13816\n",
      "Null: 1\n",
      "wiki.Net: computing core-periphery...\n",
      "wiki.Net: computing communities...\n",
      "wiki.Net: computing barcodes... (skip negatives)\n",
      "wiki.Net: barcode 13580/13816wiki.Net: computing core-periphery...\n",
      "wiki.Net: computing communities...\n",
      "wiki.Net: computing barcodes... (skip negatives)\n",
      "wiki.Net: barcode 6551/6558\n",
      "Null: 1\n",
      "wiki.Net: computing core-periphery...\n",
      "wiki.Net: computing communities...\n",
      "wiki.Net: computing barcodes... (skip negatives)\n",
      "wiki.Net: barcode 6551/6558\n",
      "Topic: sociology\n",
      "Null: 0\n",
      "wiki.Net: computing core-periphery...\n",
      "wiki.Net: computing communities...\n",
      "wiki.Net: computing barcodes... (skip negatives)\n",
      "wiki.Net: barcode 2226/2234\n",
      "Null: 1\n",
      "wiki.Net: computing core-periphery...\n",
      "wiki.Net: computing communities...\n",
      "wiki.Net: computing barcodes... (skip negatives)\n",
      "wiki.Net: barcode 2223/2234\n",
      "Topic: electronics\n",
      "Null: 0\n",
      "wiki.Net: computing core-periphery...\n",
      "wiki.Net: computing communities...\n",
      "wiki.Net: computing barcodes... (skip negatives)\n",
      "wiki.Net: barcode 6197/6209\n",
      "Null: 1\n",
      "wiki.Net: computing core-periphery...\n",
      "wiki.Net: computing communities...\n",
      "wiki.Net: computing barcodes... (skip negatives)\n",
      "wiki.Net: barcode 6200/6209\n",
      "Topic: software engineering\n",
      "Null: 0\n",
      "wiki.Net: computing core-periphery...\n",
      "wiki.Net: computing communities...\n",
      "wiki.Net: computing barcodes... (skip negatives)\n",
      "wiki.Net: barcode 1196/1219\n",
      "Null: 1\n",
      "wiki.Net: computing core-periphery...\n",
      "wiki.Net: computing communities...\n",
      "wiki.Net: computing barcodes... (skip negatives)\n"
     ]
    },
    {
     "name": "stdout",
     "output_type": "stream",
     "text": [
      "wiki.Net: barcode 1207/1219\n",
      "Topic: robotics\n",
      "Null: 0\n",
      "wiki.Net: computing core-periphery...\n",
      "wiki.Net: computing communities...\n",
      "wiki.Net: computing barcodes... (skip negatives)\n",
      "wiki.Net: barcode 2245/2247\n",
      "Null: 1\n",
      "wiki.Net: computing core-periphery...\n",
      "wiki.Net: computing communities...\n",
      "wiki.Net: computing barcodes... (skip negatives)\n",
      "wiki.Net: barcode 2244/2247\n"
     ]
    }
   ],
   "source": [
    "null_models = ['year']#['target', 'year']\n",
    "num_nulls = 2\n",
    "nulls = {}\n",
    "for null_model in null_models:\n",
    "    print('Null model: ' + null_model)\n",
    "    path_to_save_null = '/Users/harangju/Developer/data/wiki/graphs/null-'+null_model+'/'\n",
    "    nulls[null_model] = {}\n",
    "    for topic, network in networks.items():\n",
    "        print('Topic: ' + topic)\n",
    "        nulls[null_model][topic] = []\n",
    "        for i in range(num_nulls):\n",
    "            print('Null: ' + str(i))\n",
    "            null = network.randomize(null_model)\n",
    "            null.graph.name = topic+'-null-'+str(i)\n",
    "            null.save_graph(path_to_save_null + null.graph.name + '.pickle')\n",
    "            null.save_barcodes(path_to_save_null + null.graph.name + '.barcode')\n",
    "            nulls[null_model][topic].append(null)"
   ]
  },
  {
   "cell_type": "markdown",
   "metadata": {},
   "source": [
    "## Post hoc\n",
    "\n",
    "To avoid re-running graph building..."
   ]
  },
  {
   "cell_type": "code",
   "execution_count": 7,
   "metadata": {},
   "outputs": [],
   "source": [
    "path_saved = '/Users/harangju/Developer/data/wiki/graphs/dated/'\n",
    "\n",
    "networks = {}\n",
    "for topic, ls in links.items():\n",
    "    networks[topic] = wiki.Net(path_graph=path_saved + topic + '.pickle')"
   ]
  },
  {
   "cell_type": "code",
   "execution_count": 12,
   "metadata": {},
   "outputs": [
    {
     "name": "stdout",
     "output_type": "stream",
     "text": [
      "anatomy wiki.Net: computing barcodes... (skip negatives)\n",
      "wiki.Net: barcode 13082/13087\n",
      "biochemistry wiki.Net: computing barcodes... (skip negatives)\n",
      "wiki.Net: barcode 11250/11251\n",
      "cognitive science wiki.Net: computing barcodes... (skip negatives)\n",
      "wiki.Net: barcode 794/796\n",
      "evolutionary biology wiki.Net: computing barcodes... (skip negatives)\n",
      "wiki.Net: barcode 2143/2171\n",
      "genetics wiki.Net: computing barcodes... (skip negatives)\n",
      "wiki.Net: barcode 9743/9748\n",
      "immunology wiki.Net: computing barcodes... (skip negatives)\n",
      "wiki.Net: barcode 1775/1777\n",
      "molecular biology wiki.Net: computing barcodes... (skip negatives)\n",
      "wiki.Net: barcode 2472/2473\n",
      "chemistry wiki.Net: computing barcodes... (skip negatives)\n",
      "wiki.Net: barcode 17428/17444\n",
      "biophysics wiki.Net: computing barcodes... (skip negatives)\n",
      "wiki.Net: barcode 908/909\n",
      "energy wiki.Net: computing barcodes... (skip negatives)\n",
      "wiki.Net: barcode 346/365\n",
      "optics wiki.Net: computing barcodes... (skip negatives)\n",
      "wiki.Net: barcode 2508/2511\n",
      "earth science wiki.Net: computing barcodes... (skip negatives)\n",
      "wiki.Net: barcode 565/567\n",
      "geology wiki.Net: computing barcodes... (skip negatives)\n",
      "wiki.Net: barcode 355/355\n",
      "meteorology wiki.Net: computing barcodes... (skip negatives)\n",
      "wiki.Net: barcode 3460/3460\n",
      "philosophy of language wiki.Net: computing barcodes... (skip negatives)\n",
      "wiki.Net: barcode 578/584\n",
      "philosophy of law wiki.Net: computing barcodes... (skip negatives)\n",
      "wiki.Net: barcode 226/238\n",
      "philosophy of mind wiki.Net: computing barcodes... (skip negatives)\n",
      "wiki.Net: barcode 286/289\n",
      "philosophy of science wiki.Net: computing barcodes... (skip negatives)\n",
      "wiki.Net: barcode 750/767\n",
      "economics wiki.Net: computing barcodes... (skip negatives)\n",
      "wiki.Net: barcode 2698/2705\n",
      "accounting wiki.Net: computing barcodes... (skip negatives)\n",
      "wiki.Net: barcode 277/290\n",
      "education wiki.Net: computing barcodes... (skip negatives)\n",
      "wiki.Net: barcode 1553/1590\n",
      "linguistics wiki.Net: computing barcodes... (skip negatives)\n",
      "wiki.Net: barcode 3658/3664\n",
      "law wiki.Net: computing barcodes... (skip negatives)\n",
      "wiki.Net: barcode 13752/13816\n",
      "psychology wiki.Net: computing barcodes... (skip negatives)\n",
      "wiki.Net: barcode 6557/6558\n",
      "sociology wiki.Net: computing barcodes... (skip negatives)\n",
      "wiki.Net: barcode 2231/2234\n",
      "electronics wiki.Net: computing barcodes... (skip negatives)\n",
      "wiki.Net: barcode 6203/6209\n",
      "software engineering wiki.Net: computing barcodes... (skip negatives)\n",
      "wiki.Net: barcode 1204/1219\n",
      "robotics wiki.Net: computing barcodes... (skip negatives)\n",
      "wiki.Net: barcode 2195/2247\n",
      "physics wiki.Net: computing barcodes... (skip negatives)\n",
      "wiki.Net: barcode 113806/114156mathematics "
     ]
    },
    {
     "ename": "KeyboardInterrupt",
     "evalue": "",
     "output_type": "error",
     "traceback": [
      "\u001b[0;31m---------------------------------------------------------------------------\u001b[0m",
      "\u001b[0;31mKeyboardInterrupt\u001b[0m                         Traceback (most recent call last)",
      "\u001b[0;32m<ipython-input-12-26d7f64159ea>\u001b[0m in \u001b[0;36m<module>\u001b[0;34m\u001b[0m\n\u001b[1;32m      3\u001b[0m     \u001b[0mnetwork\u001b[0m\u001b[0;34m.\u001b[0m\u001b[0mgraph\u001b[0m\u001b[0;34m.\u001b[0m\u001b[0mgraph\u001b[0m\u001b[0;34m[\u001b[0m\u001b[0;34m'tfidf'\u001b[0m\u001b[0;34m]\u001b[0m \u001b[0;34m=\u001b[0m \u001b[0mwiki\u001b[0m\u001b[0;34m.\u001b[0m\u001b[0mNet\u001b[0m\u001b[0;34m.\u001b[0m\u001b[0mcompute_tfidf\u001b[0m\u001b[0;34m(\u001b[0m\u001b[0mnetwork\u001b[0m\u001b[0;34m.\u001b[0m\u001b[0mnodes\u001b[0m\u001b[0;34m,\u001b[0m \u001b[0mdump\u001b[0m\u001b[0;34m,\u001b[0m \u001b[0mtfidf\u001b[0m\u001b[0;34m,\u001b[0m \u001b[0mdct\u001b[0m\u001b[0;34m)\u001b[0m\u001b[0;34m\u001b[0m\u001b[0;34m\u001b[0m\u001b[0m\n\u001b[1;32m      4\u001b[0m     \u001b[0mnetwork\u001b[0m\u001b[0;34m.\u001b[0m\u001b[0msave_graph\u001b[0m\u001b[0;34m(\u001b[0m\u001b[0mpath_saved\u001b[0m \u001b[0;34m+\u001b[0m \u001b[0mtopic\u001b[0m \u001b[0;34m+\u001b[0m \u001b[0;34m'.pickle'\u001b[0m\u001b[0;34m)\u001b[0m\u001b[0;34m\u001b[0m\u001b[0;34m\u001b[0m\u001b[0m\n\u001b[0;32m----> 5\u001b[0;31m     \u001b[0mnetwork\u001b[0m\u001b[0;34m.\u001b[0m\u001b[0msave_barcodes\u001b[0m\u001b[0;34m(\u001b[0m\u001b[0mpath_saved\u001b[0m \u001b[0;34m+\u001b[0m \u001b[0mtopic\u001b[0m \u001b[0;34m+\u001b[0m \u001b[0;34m'.barcode'\u001b[0m\u001b[0;34m)\u001b[0m\u001b[0;34m\u001b[0m\u001b[0;34m\u001b[0m\u001b[0m\n\u001b[0m",
      "\u001b[0;32m~/Developer/wikinet/preparation/../module/wiki.py\u001b[0m in \u001b[0;36msave_barcodes\u001b[0;34m(self, path)\u001b[0m\n\u001b[1;32m    467\u001b[0m     \u001b[0;32mdef\u001b[0m \u001b[0msave_barcodes\u001b[0m\u001b[0;34m(\u001b[0m\u001b[0mself\u001b[0m\u001b[0;34m,\u001b[0m \u001b[0mpath\u001b[0m\u001b[0;34m)\u001b[0m\u001b[0;34m:\u001b[0m\u001b[0;34m\u001b[0m\u001b[0;34m\u001b[0m\u001b[0m\n\u001b[1;32m    468\u001b[0m         \u001b[0;34m\"\"\"Saves ``barcodes`` as ``pickle``.\"\"\"\u001b[0m\u001b[0;34m\u001b[0m\u001b[0;34m\u001b[0m\u001b[0m\n\u001b[0;32m--> 469\u001b[0;31m         \u001b[0mpickle\u001b[0m\u001b[0;34m.\u001b[0m\u001b[0mdump\u001b[0m\u001b[0;34m(\u001b[0m\u001b[0mself\u001b[0m\u001b[0;34m.\u001b[0m\u001b[0mbarcodes\u001b[0m\u001b[0;34m,\u001b[0m \u001b[0mopen\u001b[0m\u001b[0;34m(\u001b[0m\u001b[0mpath\u001b[0m\u001b[0;34m,\u001b[0m \u001b[0;34m'wb'\u001b[0m\u001b[0;34m)\u001b[0m\u001b[0;34m)\u001b[0m\u001b[0;34m\u001b[0m\u001b[0;34m\u001b[0m\u001b[0m\n\u001b[0m\u001b[1;32m    470\u001b[0m \u001b[0;34m\u001b[0m\u001b[0m\n\u001b[1;32m    471\u001b[0m     def randomize(self, null_type,\n",
      "\u001b[0;32m~/Developer/wikinet/preparation/../module/wiki.py\u001b[0m in \u001b[0;36mbarcodes\u001b[0;34m(self)\u001b[0m\n\u001b[1;32m    393\u001b[0m             \u001b[0;32mreturn\u001b[0m \u001b[0mself\u001b[0m\u001b[0;34m.\u001b[0m\u001b[0m_barcodes\u001b[0m\u001b[0;34m\u001b[0m\u001b[0;34m\u001b[0m\u001b[0m\n\u001b[1;32m    394\u001b[0m         \u001b[0;32melse\u001b[0m\u001b[0;34m:\u001b[0m\u001b[0;34m\u001b[0m\u001b[0;34m\u001b[0m\u001b[0m\n\u001b[0;32m--> 395\u001b[0;31m             self._barcodes = Net.compute_barcodes(self.filtration,\n\u001b[0m\u001b[1;32m    396\u001b[0m                                                   \u001b[0mself\u001b[0m\u001b[0;34m.\u001b[0m\u001b[0mpersistence\u001b[0m\u001b[0;34m,\u001b[0m\u001b[0;34m\u001b[0m\u001b[0;34m\u001b[0m\u001b[0m\n\u001b[1;32m    397\u001b[0m                                                   self.graph, self.nodes)\n",
      "\u001b[0;32m~/Developer/wikinet/preparation/../module/wiki.py\u001b[0m in \u001b[0;36mfiltration\u001b[0;34m(self)\u001b[0m\n\u001b[1;32m    374\u001b[0m                 \u001b[0mnodes_so_far\u001b[0m\u001b[0;34m.\u001b[0m\u001b[0mextend\u001b[0m\u001b[0;34m(\u001b[0m\u001b[0mnodes_now\u001b[0m\u001b[0;34m)\u001b[0m\u001b[0;34m\u001b[0m\u001b[0;34m\u001b[0m\u001b[0m\n\u001b[1;32m    375\u001b[0m                 \u001b[0;32mfor\u001b[0m \u001b[0mclique\u001b[0m \u001b[0;32min\u001b[0m \u001b[0mself\u001b[0m\u001b[0;34m.\u001b[0m\u001b[0mcliques\u001b[0m\u001b[0;34m:\u001b[0m\u001b[0;34m\u001b[0m\u001b[0;34m\u001b[0m\u001b[0m\n\u001b[0;32m--> 376\u001b[0;31m                     \u001b[0;32mif\u001b[0m \u001b[0mall\u001b[0m\u001b[0;34m(\u001b[0m\u001b[0;34m[\u001b[0m\u001b[0mn\u001b[0m \u001b[0;32min\u001b[0m \u001b[0mnodes_so_far\u001b[0m \u001b[0;32mfor\u001b[0m \u001b[0mn\u001b[0m \u001b[0;32min\u001b[0m \u001b[0mclique\u001b[0m\u001b[0;34m]\u001b[0m\u001b[0;34m)\u001b[0m\u001b[0;34m:\u001b[0m\u001b[0;34m\u001b[0m\u001b[0;34m\u001b[0m\u001b[0m\n\u001b[0m\u001b[1;32m    377\u001b[0m                         \u001b[0mself\u001b[0m\u001b[0;34m.\u001b[0m\u001b[0m_filtration\u001b[0m\u001b[0;34m.\u001b[0m\u001b[0mappend\u001b[0m\u001b[0;34m(\u001b[0m\u001b[0md\u001b[0m\u001b[0;34m.\u001b[0m\u001b[0mSimplex\u001b[0m\u001b[0;34m(\u001b[0m\u001b[0mclique\u001b[0m\u001b[0;34m,\u001b[0m \u001b[0myear\u001b[0m\u001b[0;34m)\u001b[0m\u001b[0;34m)\u001b[0m\u001b[0;34m\u001b[0m\u001b[0;34m\u001b[0m\u001b[0m\n\u001b[1;32m    378\u001b[0m             \u001b[0mself\u001b[0m\u001b[0;34m.\u001b[0m\u001b[0m_filtration\u001b[0m\u001b[0;34m.\u001b[0m\u001b[0msort\u001b[0m\u001b[0;34m(\u001b[0m\u001b[0;34m)\u001b[0m\u001b[0;34m\u001b[0m\u001b[0;34m\u001b[0m\u001b[0m\n",
      "\u001b[0;32m~/Developer/wikinet/preparation/../module/wiki.py\u001b[0m in \u001b[0;36m<listcomp>\u001b[0;34m(.0)\u001b[0m\n\u001b[1;32m    374\u001b[0m                 \u001b[0mnodes_so_far\u001b[0m\u001b[0;34m.\u001b[0m\u001b[0mextend\u001b[0m\u001b[0;34m(\u001b[0m\u001b[0mnodes_now\u001b[0m\u001b[0;34m)\u001b[0m\u001b[0;34m\u001b[0m\u001b[0;34m\u001b[0m\u001b[0m\n\u001b[1;32m    375\u001b[0m                 \u001b[0;32mfor\u001b[0m \u001b[0mclique\u001b[0m \u001b[0;32min\u001b[0m \u001b[0mself\u001b[0m\u001b[0;34m.\u001b[0m\u001b[0mcliques\u001b[0m\u001b[0;34m:\u001b[0m\u001b[0;34m\u001b[0m\u001b[0;34m\u001b[0m\u001b[0m\n\u001b[0;32m--> 376\u001b[0;31m                     \u001b[0;32mif\u001b[0m \u001b[0mall\u001b[0m\u001b[0;34m(\u001b[0m\u001b[0;34m[\u001b[0m\u001b[0mn\u001b[0m \u001b[0;32min\u001b[0m \u001b[0mnodes_so_far\u001b[0m \u001b[0;32mfor\u001b[0m \u001b[0mn\u001b[0m \u001b[0;32min\u001b[0m \u001b[0mclique\u001b[0m\u001b[0;34m]\u001b[0m\u001b[0;34m)\u001b[0m\u001b[0;34m:\u001b[0m\u001b[0;34m\u001b[0m\u001b[0;34m\u001b[0m\u001b[0m\n\u001b[0m\u001b[1;32m    377\u001b[0m                         \u001b[0mself\u001b[0m\u001b[0;34m.\u001b[0m\u001b[0m_filtration\u001b[0m\u001b[0;34m.\u001b[0m\u001b[0mappend\u001b[0m\u001b[0;34m(\u001b[0m\u001b[0md\u001b[0m\u001b[0;34m.\u001b[0m\u001b[0mSimplex\u001b[0m\u001b[0;34m(\u001b[0m\u001b[0mclique\u001b[0m\u001b[0;34m,\u001b[0m \u001b[0myear\u001b[0m\u001b[0;34m)\u001b[0m\u001b[0;34m)\u001b[0m\u001b[0;34m\u001b[0m\u001b[0;34m\u001b[0m\u001b[0m\n\u001b[1;32m    378\u001b[0m             \u001b[0mself\u001b[0m\u001b[0;34m.\u001b[0m\u001b[0m_filtration\u001b[0m\u001b[0;34m.\u001b[0m\u001b[0msort\u001b[0m\u001b[0;34m(\u001b[0m\u001b[0;34m)\u001b[0m\u001b[0;34m\u001b[0m\u001b[0;34m\u001b[0m\u001b[0m\n",
      "\u001b[0;31mKeyboardInterrupt\u001b[0m: "
     ]
    }
   ],
   "source": [
    "for topic, network in networks.items():\n",
    "    print(topic, end=' ')\n",
    "    network.graph.graph['tfidf'] = wiki.Net.compute_tfidf(network.nodes, dump, tfidf, dct)\n",
    "    network.save_graph(path_saved + topic + '.pickle')\n",
    "    network.save_barcodes(path_saved + topic + '.barcode')"
   ]
  },
  {
   "cell_type": "code",
   "execution_count": 26,
   "metadata": {},
   "outputs": [],
   "source": [
    "path_null = '/Users/harangju/Developer/data/wiki/graphs/null-target/'\n",
    "num_nulls = 2\n",
    "null_targets = {}\n",
    "for topic, ls in links.items():\n",
    "    null_targets[topic] = [None for i in range(num_nulls)]\n",
    "    for i in range(num_nulls):\n",
    "        null_targets[topic][i] = wiki.Net(path_graph=path_null + topic + '-null-' + str(i) + '.pickle')"
   ]
  },
  {
   "cell_type": "code",
   "execution_count": 27,
   "metadata": {},
   "outputs": [],
   "source": [
    "path_null = '/Users/harangju/Developer/data/wiki/graphs/null-year/'\n",
    "num_nulls = 2\n",
    "null_years = {}\n",
    "for topic, ls in links.items():\n",
    "    null_years[topic] = [None for i in range(num_nulls)]\n",
    "    for i in range(num_nulls):\n",
    "        null_years[topic][i] = wiki.Net(path_graph=path_null + topic + '-null-' + str(i) + '.pickle')"
   ]
  },
  {
   "cell_type": "code",
   "execution_count": null,
   "metadata": {},
   "outputs": [],
   "source": [
    "path_null = '/Users/harangju/Developer/data/wiki/graphs/null-target/'\n",
    "for topic, nulls in null_targets.items():\n",
    "    print(topic)\n",
    "    for network in nulls:\n",
    "        network.graph.graph['tfidf'] = networks[topic].graph.graph['tfidf']\n",
    "        #wiki.Net.compute_tfidf(network.nodes, dump, tfidf, dct)\n",
    "        network.save_graph(path_null + topic + '-null-' + str(i) + '.pickle')\n",
    "        network.save_barcodes(path_null + topic + '-null-' + str(i) + '.barcode')"
   ]
  },
  {
   "cell_type": "code",
   "execution_count": null,
   "metadata": {
    "scrolled": true
   },
   "outputs": [],
   "source": [
    "path_null = '/Users/harangju/Developer/data/wiki/graphs/null-year/'\n",
    "for topic, nulls in null_years.items():\n",
    "    for i, network in enumerate(nulls):\n",
    "        network.graph.graph['tfidf'] = networks[topic].graph.graph['tfidf']\n",
    "        #wiki.Net.compute_tfidf(network.nodes, dump, tfidf, dct)\n",
    "        network.save_graph(path_null + topic + '-null-' + str(i) + '.pickle')\n",
    "        network.save_barcodes(path_null + topic + '-null-' + str(i) + '.barcode')"
   ]
  },
  {
   "cell_type": "code",
   "execution_count": null,
   "metadata": {
    "scrolled": false
   },
   "outputs": [],
   "source": [
    "null_targets['biochemistry'][0].barcodes"
   ]
  },
  {
   "cell_type": "markdown",
   "metadata": {},
   "source": [
    "Gephi notes\n",
    "* node size, fruchterman reingold = [10, 40], force atlas 2 = [4 16]\n",
    "* text size = [1 1.4]\n",
    "* preview font size = 5"
   ]
  }
 ],
 "metadata": {
  "kernelspec": {
   "display_name": "Python 3",
   "language": "python",
   "name": "python3"
  },
  "language_info": {
   "codemirror_mode": {
    "name": "ipython",
    "version": 3
   },
   "file_extension": ".py",
   "mimetype": "text/x-python",
   "name": "python",
   "nbconvert_exporter": "python",
   "pygments_lexer": "ipython3",
   "version": "3.7.3"
  }
 },
 "nbformat": 4,
 "nbformat_minor": 2
}
