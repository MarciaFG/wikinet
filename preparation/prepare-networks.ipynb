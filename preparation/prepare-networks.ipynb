{
 "cells": [
  {
   "cell_type": "code",
   "execution_count": null,
   "metadata": {},
   "outputs": [],
   "source": [
    "%reload_ext autoreload\n",
    "%autoreload 2\n",
    "import os,sys\n",
    "sys.path.insert(1, os.path.join(sys.path[0], '..', 'module'))\n",
    "import wiki"
   ]
  },
  {
   "cell_type": "markdown",
   "metadata": {},
   "source": [
    "## Get index of articles\n",
    "\n",
    "* [all indices on Wikipedia](https://en.wikipedia.org/wiki/Portal:Contents/Indices)\n",
    "* topics not searched\n",
    "* international trade (\"topics\"), theory of constraints (small)\n",
    "* too big: mathematics, neuroscience"
   ]
  },
  {
   "cell_type": "code",
   "execution_count": null,
   "metadata": {},
   "outputs": [],
   "source": [
    "path_base = '/Users/harangju/Developer/data/wiki/dumps/'\n",
    "name_xml = 'enwiki-20190801-pages-articles-multistream.xml.bz2'\n",
    "name_index = 'enwiki-20190801-pages-articles-multistream-index.txt.bz2'\n",
    "path_xml = path_base + name_xml\n",
    "path_index = path_base + name_index\n",
    "dump = wiki.Dump(path_xml, path_index)"
   ]
  },
  {
   "cell_type": "code",
   "execution_count": null,
   "metadata": {},
   "outputs": [],
   "source": [
    "# natural & physical sciences\n",
    "topics = ['anatomy', 'biochemistry', 'cognitive science', 'evolutionary biology',\n",
    "          'genetics', 'immunology', 'molecular biology']\n",
    "topics += ['chemistry', 'biophysics', 'energy', 'optics', \n",
    "           'earth science', 'geology', 'meteorology']\n",
    "# philosophy\n",
    "# topics += []\n",
    "topics += ['philosophy of language', 'philosophy of law', \n",
    "           'philosophy of mind', 'philosophy of science']\n",
    "# social sciences\n",
    "topics += ['economics', 'accounting', 'education', 'linguistics', 'law', 'psychology',\n",
    "           'sociology']\n",
    "# technology & applied sciences\n",
    "topics += ['electronics', 'software engineering', 'robotics']"
   ]
  },
  {
   "cell_type": "code",
   "execution_count": null,
   "metadata": {},
   "outputs": [],
   "source": [
    "links = {}\n",
    "for topic in topics:\n",
    "    dump.load_page('Index of %s articles' % topic)\n",
    "    links[topic] = [str(l) for l in dump.article_links]\n",
    "    print('Topic \"' + topic + '\" has ' + str(len(links[topic])) + ' articles.')"
   ]
  },
  {
   "cell_type": "code",
   "execution_count": null,
   "metadata": {},
   "outputs": [],
   "source": [
    "# https://en.wikipedia.org/wiki/Lists_of_mathematics_topics\n",
    "# algebra\n",
    "math_topics = ['calculus', 'geometry', 'abstract algebra',\n",
    "               'Boolean algebra', 'commutative algebra',# 'homological algebra',\n",
    "               'group theory',# 'representation theory', \n",
    "               'linear algebra']\n",
    "# calculus & analysis\n",
    "# math_topics += ['complex analysis', 'functional analysis',\n",
    "#                 'integration and measure theory', 'harmonic analysis',\n",
    "#                 'Fourier analysis', 'multivariable calculus', 'real analysis',\n",
    "#                 'variational']\n",
    "# geometry\n",
    "# math_topics += ['geometry', 'curves', 'triangle', 'circle', 'general topology',\n",
    "#                 'differential geometry', 'algebraic geometry', 'algebraic topology',\n",
    "#                 'geometric topology', 'know theory', 'Lie groups']\n",
    "# number theory\n",
    "math_topics += [#'algebraic number theory',\n",
    "                'number theory']\n",
    "# applied math\n",
    "math_topics += ['dynamical systems and differential equations']\n",
    "#                 'partial differential equation']\n",
    "topics += math_topics"
   ]
  },
  {
   "cell_type": "code",
   "execution_count": null,
   "metadata": {},
   "outputs": [],
   "source": [
    "for topic in math_topics:\n",
    "    dump.load_page('List of %s topics' % topic)\n",
    "    links[topic] = [str(l) for l in dump.article_links]\n",
    "    print('Topic \"' + topic + '\" has ' + str(len(links[topic])) + ' articles.')"
   ]
  },
  {
   "cell_type": "code",
   "execution_count": null,
   "metadata": {},
   "outputs": [],
   "source": [
    "# topics += ['physics']"
   ]
  },
  {
   "cell_type": "code",
   "execution_count": null,
   "metadata": {},
   "outputs": [],
   "source": [
    "# import string\n",
    "\n",
    "# topic = 'physics'\n",
    "# links[topic] = []\n",
    "# for letter in ['!$@', '0–9'] + list(string.ascii_uppercase):\n",
    "#     dump.load_page('Index of physics articles (%s)' % letter)\n",
    "#     links[topic].extend([str(l) for l in dump.article_links])\n",
    "# print('Topic \"' + topic + '\" has ' + str(len(links[topic])) + ' articles.')"
   ]
  },
  {
   "cell_type": "code",
   "execution_count": null,
   "metadata": {},
   "outputs": [],
   "source": [
    "# topics += ['mathematics']"
   ]
  },
  {
   "cell_type": "code",
   "execution_count": null,
   "metadata": {},
   "outputs": [],
   "source": [
    "# topic = 'mathematics'\n",
    "# links[topic] = []\n",
    "# for letter in ['0–9'] + list(string.ascii_uppercase):\n",
    "#     dump.load_page('Wikipedia:WikiProject Mathematics/List of mathematics articles (%s)'\n",
    "#                    % letter)\n",
    "#     links[topic].extend([str(l) for l in dump.article_links])\n",
    "# print('Topic \"' + topic + '\" has ' + str(len(links[topic])) + ' articles.')"
   ]
  },
  {
   "cell_type": "markdown",
   "metadata": {},
   "source": [
    "## Build graphs of topics\n",
    "\n",
    "### 1 network per topic"
   ]
  },
  {
   "cell_type": "code",
   "execution_count": null,
   "metadata": {},
   "outputs": [],
   "source": [
    "import pickle\n",
    "import gensim.utils as gu\n",
    "\n",
    "path_save = '/Users/harangju/Developer/data/wiki/models/'\n",
    "tfidf = gu.SaveLoad.load(path_save + 'tfidf.model')\n",
    "dct = pickle.load(open(path_save + 'dict.model','rb'))"
   ]
  },
  {
   "cell_type": "code",
   "execution_count": null,
   "metadata": {
    "scrolled": true
   },
   "outputs": [],
   "source": [
    "path_to_save = '/Users/harangju/Developer/data/wiki/graphs/dated/'\n",
    "\n",
    "networks = {}\n",
    "# for topic, ls in links.items():\n",
    "for topic in math_topics:\n",
    "    ls = links[topic]\n",
    "    print('\\nTopic: ' + topic)\n",
    "    networks[topic] = wiki.Net()\n",
    "    networks[topic].build_graph(name=topic, dump=dump, nodes=ls, model=tfidf, dct=dct)\n",
    "    networks[topic].save_graph(path_to_save + topic + '.pickle')\n",
    "    networks[topic].save_barcodes(path_to_save + topic + '.barcode')"
   ]
  },
  {
   "cell_type": "markdown",
   "metadata": {},
   "source": [
    "## Generate null networks"
   ]
  },
  {
   "cell_type": "code",
   "execution_count": null,
   "metadata": {},
   "outputs": [],
   "source": [
    "path_to_save = '/Users/harangju/Developer/data/wiki/graphs/dated/'\n",
    "networks = {}\n",
    "for topic in topics:\n",
    "    networks[topic] = wiki.Net()\n",
    "    networks[topic].load_graph(path_to_save + topic + '.pickle')"
   ]
  },
  {
   "cell_type": "markdown",
   "metadata": {},
   "source": [
    "### Randomized target, year, & both?\n",
    "\n",
    "Just randomizing year -> you get the same structures, it's just a matter of when you get those structures.\n",
    "If you randomize year & target, then you're randomizing the structure & how they come about without changing any basic network statistics."
   ]
  },
  {
   "cell_type": "code",
   "execution_count": null,
   "metadata": {
    "scrolled": true
   },
   "outputs": [],
   "source": [
    "null_models = ['target', 'year']\n",
    "num_nulls = 2\n",
    "nulls = {}\n",
    "for null_model in null_models:\n",
    "    print('Null model: ' + null_model)\n",
    "    path_to_save_null = '/Users/harangju/Developer/data/wiki/graphs/null-'+null_model+'/'\n",
    "    nulls[null_model] = {}\n",
    "    for topic, network in networks.items():\n",
    "        print('Topic: ' + topic)\n",
    "        nulls[null_model][topic] = []\n",
    "        for i in range(num_nulls):\n",
    "            print('Null: ' + str(i))\n",
    "            null = network.randomize(null_model)\n",
    "            null.graph.name = topic+'-null-'+str(i)\n",
    "            null.save_graph(path_to_save_null + null.graph.name + '.pickle')\n",
    "            null.save_barcodes(path_to_save_null + null.graph.name + '.barcode')\n",
    "            nulls[null_model][topic].append(null)"
   ]
  },
  {
   "cell_type": "markdown",
   "metadata": {},
   "source": [
    "## Post hoc"
   ]
  },
  {
   "cell_type": "code",
   "execution_count": null,
   "metadata": {},
   "outputs": [],
   "source": [
    "path = '/Users/harangju/Developer/data/wiki/graphs/dated/'\n",
    "path_null_target = '/Users/harangju/Developer/data/wiki/graphs/null-target/'\n",
    "path_null_year = '/Users/harangju/Developer/data/wiki/graphs/null-year/'\n",
    "networks = {}\n",
    "num_nulls = 2\n",
    "null_target = {}\n",
    "null_year = {}\n",
    "for topic in topics:\n",
    "    networks[topic] = wiki.Net()\n",
    "    networks[topic].load_graph(path + topic + '.pickle')\n",
    "    null_target[topic] = [None for i in range(num_nulls)]\n",
    "    null_year[topic] = [None for i in range(num_nulls)]\n",
    "    for i in range(num_nulls):\n",
    "        null_target[topic][i] = wiki.Net()\n",
    "        null_target[topic][i].load_graph(path_null_target + topic +\n",
    "                                         '-null-' + str(i) + '.pickle')\n",
    "        null_year[topic][i] = wiki.Net()\n",
    "        null_year[topic][i].load_graph(path_null_year + topic +\n",
    "                                       '-null-' + str(i) + '.pickle')"
   ]
  },
  {
   "cell_type": "code",
   "execution_count": null,
   "metadata": {},
   "outputs": [],
   "source": [
    "all_nets = list(networks.values()) + \\\n",
    "           [n for ns in null_target.values() for n in ns] + \\\n",
    "           [n for ns in null_year.values() for n in ns]\n",
    "len(all_nets)"
   ]
  },
  {
   "cell_type": "code",
   "execution_count": null,
   "metadata": {},
   "outputs": [],
   "source": [
    "for network in all_nets:\n",
    "    print(network.graph.name)\n",
    "    wiki.Net.assign_core_periphery(network.graph)"
   ]
  },
  {
   "cell_type": "code",
   "execution_count": null,
   "metadata": {},
   "outputs": [],
   "source": [
    "networks['evolutionary biology'].graph.graph"
   ]
  },
  {
   "cell_type": "code",
   "execution_count": null,
   "metadata": {},
   "outputs": [],
   "source": [
    "for topic in topics:\n",
    "    networks[topic].save_graph(path + topic + '.pickle')\n",
    "    for i in range(num_nulls):\n",
    "        null_target[topic][i].save_graph(path_null_target + topic +\n",
    "                                         '-null-' + str(i) + '.pickle')\n",
    "        null_year[topic][i].save_graph(path_null_year + topic +\n",
    "                                       '-null-' + str(i) + '.pickle')"
   ]
  },
  {
   "cell_type": "markdown",
   "metadata": {},
   "source": [
    "Gephi notes\n",
    "* node size, fruchterman reingold = [10, 40], force atlas 2 = [4 16]\n",
    "* text size = [1 1.4]\n",
    "* preview font size = 5"
   ]
  }
 ],
 "metadata": {
  "kernelspec": {
   "display_name": "Python 3",
   "language": "python",
   "name": "python3"
  },
  "language_info": {
   "codemirror_mode": {
    "name": "ipython",
    "version": 3
   },
   "file_extension": ".py",
   "mimetype": "text/x-python",
   "name": "python",
   "nbconvert_exporter": "python",
   "pygments_lexer": "ipython3",
   "version": "3.7.4"
  }
 },
 "nbformat": 4,
 "nbformat_minor": 2
}
