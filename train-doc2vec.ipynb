{
 "cells": [
  {
   "cell_type": "markdown",
   "metadata": {},
   "source": [
    "### Custom WikiCorpus\n",
    "* [tutorial](https://github.com/RaRe-Technologies/gensim/blob/develop/docs/notebooks/doc2vec-lee.ipynb)\n",
    "* [Wiki Corpus processing](https://radimrehurek.com/gensim/corpora/wikicorpus.html)\n",
    "* [doc](https://radimrehurek.com/gensim/models/doc2vec.html)\n",
    "* [intro](https://medium.com/scaleabout/a-gentle-introduction-to-doc2vec-db3e8c0cce5e)\n",
    "* iterable/iterator [tutorial](https://www.programiz.com/python-programming/iterator)\n",
    "* [3 epochs](https://stackoverflow.com/questions/46856838/how-many-epochs-should-word2vec-be-trained-what-is-a-recommended-training-datas)"
   ]
  },
  {
   "cell_type": "markdown",
   "metadata": {},
   "source": [
    "**Test WikiCorpus**"
   ]
  },
  {
   "cell_type": "code",
   "execution_count": null,
   "metadata": {},
   "outputs": [],
   "source": [
    "import wiki\n",
    "\n",
    "path_base = '/Users/harangju/Developer/data/wiki/partition/'\n",
    "name_xml = 'enwiki-20190720-pages-articles-multistream1.xml-p10p30302.bz2'\n",
    "name_index = 'enwiki-20190720-pages-articles-multistream-index1.txt-p10p30302.bz2'\n",
    "path_xml = path_base + name_xml\n",
    "path_index = path_base + name_index\n",
    "corpus = wiki.Corpus(path_xml, path_index)\n",
    "i = iter(corpus)\n",
    "td = next(i)\n",
    "td.words[:7]"
   ]
  },
  {
   "cell_type": "markdown",
   "metadata": {},
   "source": [
    "### Train small model"
   ]
  },
  {
   "cell_type": "code",
   "execution_count": null,
   "metadata": {},
   "outputs": [],
   "source": [
    "# small model\n",
    "from gensim.models.doc2vec import Doc2Vec\n",
    "\n",
    "model = Doc2Vec(vector_size=50,\n",
    "                min_count=10,\n",
    "                epochs=1)"
   ]
  },
  {
   "cell_type": "code",
   "execution_count": null,
   "metadata": {},
   "outputs": [],
   "source": [
    "print('Building vocabulary...')\n",
    "model.build_vocab(corpus)\n",
    "print('\\nTraining...')\n",
    "%time model.train(corpus,\\\n",
    "                  total_examples=model.corpus_count,\\\n",
    "                  epochs=model.epochs)\n",
    "print('')"
   ]
  },
  {
   "cell_type": "code",
   "execution_count": null,
   "metadata": {},
   "outputs": [],
   "source": [
    "model.infer_vector(['hello', 'world', 'how', 'are', 'you'])"
   ]
  },
  {
   "cell_type": "code",
   "execution_count": null,
   "metadata": {},
   "outputs": [],
   "source": [
    "model.save(path_base + name_xml[:-4] + '-d2v-model-small')"
   ]
  },
  {
   "cell_type": "markdown",
   "metadata": {},
   "source": [
    "### Test model"
   ]
  },
  {
   "cell_type": "code",
   "execution_count": null,
   "metadata": {},
   "outputs": [],
   "source": [
    "# Pick a random document from the test corpus and infer a vector from the model\n",
    "import random\n",
    "\n",
    "doc_id = random.randint(0, len(corpus.names) - 1)\n",
    "inferred_vector = model.infer_vector(corpus.doc_at(doc_id))\n",
    "sims = model.docvecs.most_similar([inferred_vector], topn=len(model.docvecs))\n",
    "\n",
    "print('Test Document (\\\"{}\\\" at {}): «{}...»\\n'.\\\n",
    "      format(corpus.names[doc_id], doc_id, ' '.join(corpus.doc_at(doc_id)[:10])))\n",
    "\n",
    "for i in range(10):\n",
    "    print('Similarity rank {}: \\\"{}\\\" at {} with {}'.\\\n",
    "          format(i, corpus.names[sims[i][0]], sims[i][0], sims[i][1]))"
   ]
  },
  {
   "cell_type": "markdown",
   "metadata": {},
   "source": [
    "### Go full wikipedia"
   ]
  },
  {
   "cell_type": "code",
   "execution_count": 2,
   "metadata": {},
   "outputs": [],
   "source": [
    "import wiki\n",
    "from gensim.models.doc2vec import Doc2Vec"
   ]
  },
  {
   "cell_type": "code",
   "execution_count": 1,
   "metadata": {},
   "outputs": [
    {
     "name": "stdout",
     "output_type": "stream",
     "text": [
      "Dump: Loading index...\n",
      "Dump: Loaded.\n",
      "CPU times: user 1min 11s, sys: 2.45 s, total: 1min 13s\n",
      "Wall time: 1min 14s\n"
     ]
    }
   ],
   "source": [
    "import wiki\n",
    "\n",
    "path_base = '/Users/harangju/Developer/data/wiki/'\n",
    "name_xml = 'enwiki-20190801-pages-articles-multistream.xml.bz2'\n",
    "name_index = 'enwiki-20190801-pages-articles-multistream-index.txt.bz2'\n",
    "path_xml = path_base + name_xml\n",
    "path_index = path_base + name_index\n",
    "%time corpus = wiki.Corpus(path_xml, path_index)"
   ]
  },
  {
   "cell_type": "code",
   "execution_count": 2,
   "metadata": {},
   "outputs": [],
   "source": [
    "model = Doc2Vec(dm=1, # PV-DM distributed memory\n",
    "                vector_size=300,\n",
    "                min_count=10,\n",
    "                workers=4,\n",
    "                epochs=3)"
   ]
  },
  {
   "cell_type": "code",
   "execution_count": null,
   "metadata": {
    "scrolled": true
   },
   "outputs": [],
   "source": [
    "print('Building vocabulary...')\n",
    "model.build_vocab(corpus)\n",
    "model.save(path_base + 'models/' + name_xml[:-4] + '-d2v-model-full')"
   ]
  },
  {
   "cell_type": "code",
   "execution_count": 4,
   "metadata": {},
   "outputs": [],
   "source": [
    "model = Doc2Vec.load(path_base + 'models/' + name_xml[:-4] + '-d2v-model-full')"
   ]
  },
  {
   "cell_type": "code",
   "execution_count": null,
   "metadata": {},
   "outputs": [
    {
     "name": "stdout",
     "output_type": "stream",
     "text": [
      "\n",
      "Training...\n",
      "Epoch: 0\n",
      "Corpus index: 306606/19567244"
     ]
    }
   ],
   "source": [
    "print('\\nTraining...')\n",
    "for i in range(3):\n",
    "    print('Epoch: ' + str(i))\n",
    "    %time model.train(corpus,\\\n",
    "                      total_examples=model.corpus_count,\\\n",
    "                      epochs=1)\n",
    "    print('')\n",
    "    model.save(path_base + name_xml[:-4] + '-d2v-model-full')"
   ]
  }
 ],
 "metadata": {
  "kernelspec": {
   "display_name": "Python 3",
   "language": "python",
   "name": "python3"
  },
  "language_info": {
   "codemirror_mode": {
    "name": "ipython",
    "version": 3
   },
   "file_extension": ".py",
   "mimetype": "text/x-python",
   "name": "python",
   "nbconvert_exporter": "python",
   "pygments_lexer": "ipython3",
   "version": "3.7.3"
  }
 },
 "nbformat": 4,
 "nbformat_minor": 2
}
