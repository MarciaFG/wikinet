{
 "cells": [
  {
   "cell_type": "code",
   "execution_count": 1,
   "metadata": {},
   "outputs": [],
   "source": [
    "import bz2\n",
    "import xml.sax\n",
    "import mwparserfromhell as mph"
   ]
  },
  {
   "cell_type": "code",
   "execution_count": 2,
   "metadata": {},
   "outputs": [],
   "source": [
    "base_path = '/Users/harangju/Developer/data/wiki/'\n",
    "xml_name = 'enwiki-20190801-pages-articles-multistream.xml'\n",
    "index_name = 'enwiki-20190801-pages-articles-multistream-index.txt'\n",
    "xml_path = base_path + xml_name\n",
    "xml_bz2_path = xml_path + '.bz2'\n",
    "index_path = base_path + index_name\n",
    "index_bz2_path = index_path + '.bz2'"
   ]
  },
  {
   "cell_type": "markdown",
   "metadata": {},
   "source": [
    "#### Get page indices"
   ]
  },
  {
   "cell_type": "code",
   "execution_count": null,
   "metadata": {},
   "outputs": [],
   "source": [
    "indices = {}\n",
    "with open(index_path, 'r', encoding = 'utf-8') as f:\n",
    "    for line in f:\n",
    "        [n1, n2, name] = line.strip().split(':',2)\n",
    "        indices[name] = {'offset': n1, 'id': n2} #indices.append((n1, n2, name))"
   ]
  },
  {
   "cell_type": "code",
   "execution_count": 40,
   "metadata": {},
   "outputs": [
    {
     "data": {
      "text/plain": [
       "['AccessibleComputing',\n",
       " 'Anarchism',\n",
       " 'AfghanistanHistory',\n",
       " 'AfghanistanGeography',\n",
       " 'AfghanistanPeople']"
      ]
     },
     "execution_count": 40,
     "metadata": {},
     "output_type": "execute_result"
    }
   ],
   "source": [
    "x = list(indices.keys())\n",
    "x[:5]"
   ]
  },
  {
   "cell_type": "markdown",
   "metadata": {},
   "source": [
    "#### Find pages"
   ]
  },
  {
   "cell_type": "code",
   "execution_count": 102,
   "metadata": {},
   "outputs": [],
   "source": [
    "page_id = 12\n",
    "byte_offset = 615"
   ]
  },
  {
   "cell_type": "code",
   "execution_count": 103,
   "metadata": {},
   "outputs": [
    {
     "data": {
      "text/plain": [
       "b'  <page>\\n    <title>Anarchism</title>\\n    <ns>0</ns>\\n    <id>12</id>\\n    <revision>\\n      <id>908640'"
      ]
     },
     "execution_count": 103,
     "metadata": {},
     "output_type": "execute_result"
    }
   ],
   "source": [
    "data = b''\n",
    "page_save = False\n",
    "page_id_str = b'<id>' + str(page_id).encode('utf-8') + b'</id>'\n",
    "with bz2.BZ2File(xml_bz2_path, 'rb') as file:\n",
    "    file.seek(byte_offset)\n",
    "    for _ in range(10000):\n",
    "        line = file.readline()\n",
    "        if b'<page>' in line:\n",
    "            data = b''\n",
    "        data = data + line\n",
    "        if page_id_str in line:\n",
    "            page_save = True\n",
    "        if b'</page>' in line:\n",
    "            if page_save:\n",
    "                break\n",
    "data[:100]"
   ]
  },
  {
   "cell_type": "markdown",
   "metadata": {},
   "source": [
    "#### Parse XML"
   ]
  },
  {
   "cell_type": "code",
   "execution_count": 115,
   "metadata": {},
   "outputs": [],
   "source": [
    "class WikiXmlHandler(xml.sax.handler.ContentHandler):\n",
    "    \"\"\"Content handler for Wiki XML data using SAX\"\"\"\n",
    "    def __init__(self):\n",
    "        xml.sax.handler.ContentHandler.__init__(self)\n",
    "        self._buffer = None\n",
    "        self._values = {}\n",
    "        self._current_tag = None\n",
    "        self._pages = []\n",
    "\n",
    "    def characters(self, content):\n",
    "        \"\"\"Characters between opening and closing tags\"\"\"\n",
    "        if self._current_tag:\n",
    "            if self._current_tag == 'id' and self._buffer:\n",
    "                return\n",
    "            self._buffer.append(content)\n",
    "\n",
    "    def startElement(self, name, attrs):\n",
    "        \"\"\"Opening tag of element\"\"\"\n",
    "        if name in ('title', 'text', 'id'):\n",
    "            if name == 'id' and name in self._values.keys():\n",
    "                return\n",
    "            self._current_tag = name\n",
    "            self._buffer = []\n",
    "\n",
    "    def endElement(self, name):\n",
    "        \"\"\"Closing tag of element\"\"\"\n",
    "        if name == self._current_tag:\n",
    "            self._values[name] = ' '.join(self._buffer)\n",
    "        if name == 'page':\n",
    "            self._pages.append((self._values['title'], self._values['text'], self._values['id']))"
   ]
  },
  {
   "cell_type": "code",
   "execution_count": 116,
   "metadata": {},
   "outputs": [
    {
     "data": {
      "text/plain": [
       "'Anarchism'"
      ]
     },
     "execution_count": 116,
     "metadata": {},
     "output_type": "execute_result"
    }
   ],
   "source": [
    "handler = WikiXmlHandler()\n",
    "parser = xml.sax.make_parser()\n",
    "parser.setContentHandler(handler)\n",
    "for line in data.split(b'\\n'):\n",
    "    parser.feed(line)\n",
    "handler._pages[0][0]"
   ]
  },
  {
   "cell_type": "markdown",
   "metadata": {},
   "source": [
    "#### Parse wiki"
   ]
  },
  {
   "cell_type": "code",
   "execution_count": 118,
   "metadata": {},
   "outputs": [],
   "source": [
    "wiki = mph.parse(handler._pages[0][1])"
   ]
  },
  {
   "cell_type": "code",
   "execution_count": 119,
   "metadata": {},
   "outputs": [
    {
     "name": "stdout",
     "output_type": "stream",
     "text": [
      "There are 519 wikilinks.\n"
     ]
    },
    {
     "data": {
      "text/plain": [
       "['Anti-authoritarianism',\n",
       " 'political philosophy',\n",
       " 'Hierarchy',\n",
       " \"Workers' self-management\",\n",
       " 'Self-governance']"
      ]
     },
     "execution_count": 119,
     "metadata": {},
     "output_type": "execute_result"
    }
   ],
   "source": [
    "wikilinks = [x.title for x in wiki.filter_wikilinks()]\n",
    "print(f'There are {len(wikilinks)} wikilinks.')\n",
    "wikilinks[:5]"
   ]
  }
 ],
 "metadata": {
  "kernelspec": {
   "display_name": "Python 3",
   "language": "python",
   "name": "python3"
  },
  "language_info": {
   "codemirror_mode": {
    "name": "ipython",
    "version": 3
   },
   "file_extension": ".py",
   "mimetype": "text/x-python",
   "name": "python",
   "nbconvert_exporter": "python",
   "pygments_lexer": "ipython3",
   "version": "3.7.3"
  }
 },
 "nbformat": 4,
 "nbformat_minor": 2
}
