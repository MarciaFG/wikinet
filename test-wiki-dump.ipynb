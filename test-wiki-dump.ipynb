{
 "cells": [
  {
   "cell_type": "markdown",
   "metadata": {},
   "source": [
    "### Engine"
   ]
  },
  {
   "cell_type": "code",
   "execution_count": 1,
   "metadata": {},
   "outputs": [
    {
     "data": {
      "text/plain": [
       "module"
      ]
     },
     "execution_count": 1,
     "metadata": {},
     "output_type": "execute_result"
    }
   ],
   "source": [
    "import wiki\n",
    "type(wiki)"
   ]
  },
  {
   "cell_type": "markdown",
   "metadata": {},
   "source": [
    "### Test"
   ]
  },
  {
   "cell_type": "code",
   "execution_count": 2,
   "metadata": {},
   "outputs": [],
   "source": [
    "path_base = '/Users/harangju/Developer/data/wiki/partition/'\n",
    "name_xml = 'enwiki-20190720-pages-articles-multistream1.xml-p10p30302.bz2'\n",
    "name_index = 'enwiki-20190720-pages-articles-multistream-index1.txt-p10p30302.bz2'\n",
    "path_xml = path_base + name_xml\n",
    "path_index = path_base + name_index\n",
    "dump = wiki.Dump(path_xml, path_index)"
   ]
  },
  {
   "cell_type": "code",
   "execution_count": 3,
   "metadata": {},
   "outputs": [
    {
     "name": "stdout",
     "output_type": "stream",
     "text": [
      "Dump: Loading index...\n",
      "Dump: Loaded.\n"
     ]
    },
    {
     "data": {
      "text/plain": [
       "['TARDIS', 'Transhumanism', 'Tax']"
      ]
     },
     "execution_count": 3,
     "metadata": {},
     "output_type": "execute_result"
    }
   ],
   "source": [
    "# test initial idx\n",
    "# should load indices & calculate block sizes\n",
    "l = list(dump.idx)\n",
    "l[:3]"
   ]
  },
  {
   "cell_type": "code",
   "execution_count": 4,
   "metadata": {
    "scrolled": false
   },
   "outputs": [
    {
     "data": {
      "text/plain": [
       "['TARDIS', 'Transhumanism', 'Tax']"
      ]
     },
     "execution_count": 4,
     "metadata": {},
     "output_type": "execute_result"
    }
   ],
   "source": [
    "# test subsequent idx\n",
    "# this time, should just return the indices\n",
    "l = list(dump.idx)\n",
    "l[:3]"
   ]
  },
  {
   "cell_type": "code",
   "execution_count": 5,
   "metadata": {},
   "outputs": [
    {
     "data": {
      "text/plain": [
       "b'  <page>\\n    <title>AccessibleComputing</title>\\n    <ns>0</ns>\\n    <id>10</id>\\n    <redirect title=\"'"
      ]
     },
     "execution_count": 5,
     "metadata": {},
     "output_type": "execute_result"
    }
   ],
   "source": [
    "# test fetch_block()\n",
    "# should return the XML block starting with alchemy\n",
    "offset, i, block_size = dump.idx['Alchemy']\n",
    "xml = wiki.Dump.fetch_block(path_xml, offset, block_size)\n",
    "xml[:100]"
   ]
  },
  {
   "cell_type": "code",
   "execution_count": 6,
   "metadata": {},
   "outputs": [
    {
     "data": {
      "text/plain": [
       "'{{redirect2|Anarchist|Anarchists|other uses|Anarchists (disambiguation)}}\\n{{pp-move-indef}}{{short description|Political philosophy that advocates self-governed societies}}\\n{{use dmy dates|date=July 2'"
      ]
     },
     "execution_count": 6,
     "metadata": {},
     "output_type": "execute_result"
    }
   ],
   "source": [
    "# test search_id()\n",
    "import xml.etree.ElementTree as ET\n",
    "\n",
    "root = ET.fromstring(b'<root>' + xml + b'</root>')\n",
    "page_text = wiki.Dump.search_id(root, 12)\n",
    "page_text[:200]"
   ]
  },
  {
   "cell_type": "code",
   "execution_count": 7,
   "metadata": {},
   "outputs": [
    {
     "data": {
      "text/plain": [
       "\"{{redirect2|Anarchist|Anarchists|other uses|Anarchists (disambiguation)}}\\n{{pp-move-indef}}{{short description|Political philosophy that advocates self-governed societies}}\\n{{use dmy dates|date=July 2018}}\\n{{use British English|date=January 2014}}\\n{{anarchism sidebar}}\\n{{libertarianism sidebar}}\\n{{revolution sidebar}}\\n{{basic forms of government}}\\n'''Anarchism''' is an [[Anti-authoritarianism|anti\""
      ]
     },
     "execution_count": 7,
     "metadata": {},
     "output_type": "execute_result"
    }
   ],
   "source": [
    "# test filter_top_section\n",
    "wiki.Dump.filter_top_section(page_text)[:400]"
   ]
  },
  {
   "cell_type": "code",
   "execution_count": 8,
   "metadata": {},
   "outputs": [
    {
     "data": {
      "text/plain": [
       "\"{{redirect2|Anarchist|Anarchists|other uses|Anarchists (disambiguation)}}\\n{{pp-move-indef}}{{short description|Political philosophy that advocates self-governed societies}}\\n{{use dmy dates|date=July 2018}}\\n{{use British English|date=January 2014}}\\n{{anarchism sidebar}}\\n{{libertarianism sidebar}}\\n{{revolution sidebar}}\\n{{basic forms of government}}\\n'''Anarchism''' is an [[Anti-authoritarianism|anti\""
      ]
     },
     "execution_count": 8,
     "metadata": {},
     "output_type": "execute_result"
    }
   ],
   "source": [
    "# test load_page()\n",
    "# page_name = 'AccessibleComputing'\n",
    "page_name = 'Anarchism'\n",
    "# page_name = 'Artificial languages'\n",
    "# page_name = 'Abstract (law)'\n",
    "# page_name = 'Anxiety'\n",
    "# page_name = 'Foreign relations of Azerbaijan'\n",
    "# page_name = 'Alfonso Cuarón'\n",
    "# page_name = 'ADHD'\n",
    "page = dump.load_page(page_name, filter_top=True)\n",
    "page[:400]"
   ]
  },
  {
   "cell_type": "code",
   "execution_count": 9,
   "metadata": {},
   "outputs": [
    {
     "name": "stdout",
     "output_type": "stream",
     "text": [
      "CPU times: user 325 µs, sys: 0 ns, total: 325 µs\n",
      "Wall time: 329 µs\n",
      "CPU times: user 112 ms, sys: 3.4 ms, total: 115 ms\n",
      "Wall time: 128 ms\n",
      "CPU times: user 323 ms, sys: 12.5 ms, total: 335 ms\n",
      "Wall time: 420 ms\n"
     ]
    }
   ],
   "source": [
    "# testing XML cache\n",
    "%time page = dump.load_page('AccessibleComputing')\n",
    "%time page = dump.load_page('Anarchism')\n",
    "%time page = dump.load_page('Angola')"
   ]
  },
  {
   "cell_type": "code",
   "execution_count": 10,
   "metadata": {},
   "outputs": [
    {
     "name": "stdout",
     "output_type": "stream",
     "text": [
      "Number of links: 576\n"
     ]
    }
   ],
   "source": [
    "print('Number of links: ' + str(len(dump.links)))"
   ]
  },
  {
   "cell_type": "code",
   "execution_count": null,
   "metadata": {},
   "outputs": [],
   "source": [
    "dump.links"
   ]
  }
 ],
 "metadata": {
  "kernelspec": {
   "display_name": "Python 3",
   "language": "python",
   "name": "python3"
  },
  "language_info": {
   "codemirror_mode": {
    "name": "ipython",
    "version": 3
   },
   "file_extension": ".py",
   "mimetype": "text/x-python",
   "name": "python",
   "nbconvert_exporter": "python",
   "pygments_lexer": "ipython3",
   "version": "3.7.3"
  }
 },
 "nbformat": 4,
 "nbformat_minor": 2
}
