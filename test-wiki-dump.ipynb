{
 "cells": [
  {
   "cell_type": "markdown",
   "metadata": {},
   "source": [
    "### Engine"
   ]
  },
  {
   "cell_type": "code",
   "execution_count": 1,
   "metadata": {},
   "outputs": [
    {
     "data": {
      "text/plain": [
       "module"
      ]
     },
     "execution_count": 1,
     "metadata": {},
     "output_type": "execute_result"
    }
   ],
   "source": [
    "%load_ext autoreload\n",
    "%autoreload 2\n",
    "\n",
    "import wiki\n",
    "type(wiki)"
   ]
  },
  {
   "cell_type": "markdown",
   "metadata": {},
   "source": [
    "### Test"
   ]
  },
  {
   "cell_type": "code",
   "execution_count": 2,
   "metadata": {},
   "outputs": [],
   "source": [
    "path_base = '/Users/harangju/Developer/data/wiki/partition/'\n",
    "name_xml = 'enwiki-20190720-pages-articles-multistream1.xml-p10p30302.bz2'\n",
    "name_index = 'enwiki-20190720-pages-articles-multistream-index1.txt-p10p30302.bz2'\n",
    "path_xml = path_base + name_xml\n",
    "path_index = path_base + name_index\n",
    "dump = wiki.Dump(path_xml, path_index)"
   ]
  },
  {
   "cell_type": "code",
   "execution_count": 3,
   "metadata": {},
   "outputs": [
    {
     "name": "stdout",
     "output_type": "stream",
     "text": [
      "Dump: Loading index...\n",
      "Dump: Loaded.\n"
     ]
    },
    {
     "data": {
      "text/plain": [
       "['TARDIS', 'Transhumanism', 'Tax']"
      ]
     },
     "execution_count": 3,
     "metadata": {},
     "output_type": "execute_result"
    }
   ],
   "source": [
    "# test initial idx\n",
    "# should load indices & calculate block sizes\n",
    "l = list(dump.idx)\n",
    "l[:3]"
   ]
  },
  {
   "cell_type": "code",
   "execution_count": 4,
   "metadata": {
    "scrolled": false
   },
   "outputs": [
    {
     "data": {
      "text/plain": [
       "['TARDIS', 'Transhumanism', 'Tax']"
      ]
     },
     "execution_count": 4,
     "metadata": {},
     "output_type": "execute_result"
    }
   ],
   "source": [
    "# test subsequent idx\n",
    "# this time, should just return the indices\n",
    "l = list(dump.idx)\n",
    "l[:3]"
   ]
  },
  {
   "cell_type": "code",
   "execution_count": 5,
   "metadata": {},
   "outputs": [
    {
     "data": {
      "text/plain": [
       "b'  <page>\\n    <title>AccessibleComputing</title>\\n    <ns>0</ns>\\n    <id>10</id>\\n    <redirect title=\"'"
      ]
     },
     "execution_count": 5,
     "metadata": {},
     "output_type": "execute_result"
    }
   ],
   "source": [
    "# test fetch_block()\n",
    "# should return the XML block starting with alchemy\n",
    "offset, i, block_size = dump.idx['Alchemy']\n",
    "xml = wiki.Dump.fetch_block(path_xml, offset, block_size)\n",
    "xml[:100]"
   ]
  },
  {
   "cell_type": "code",
   "execution_count": 6,
   "metadata": {},
   "outputs": [
    {
     "data": {
      "text/plain": [
       "'{{redirect2|Anarchist|Anarchists|other uses|Anarchists (disambiguation)}}\\n{{pp-move-indef}}{{short description|Political philosophy that advocates self-governed societies}}\\n{{use dmy dates|date=July 2'"
      ]
     },
     "execution_count": 6,
     "metadata": {},
     "output_type": "execute_result"
    }
   ],
   "source": [
    "# test search_id()\n",
    "import xml.etree.ElementTree as ET\n",
    "\n",
    "root = ET.fromstring(b'<root>' + xml + b'</root>')\n",
    "page_text = wiki.Dump.search_id(root, 12)\n",
    "page_text[:200]"
   ]
  },
  {
   "cell_type": "code",
   "execution_count": 7,
   "metadata": {},
   "outputs": [
    {
     "data": {
      "text/plain": [
       "\"{{redirect2|Anarchist|Anarchists|other uses|Anarchists (disambiguation)}}\\n{{pp-move-indef}}{{short description|Political philosophy that advocates self-governed societies}}\\n{{use dmy dates|date=July 2018}}\\n{{use British English|date=January 2014}}\\n{{anarchism sidebar}}\\n{{libertarianism sidebar}}\\n{{revolution sidebar}}\\n{{basic forms of government}}\\n'''Anarchism''' is an [[Anti-authoritarianism|anti\""
      ]
     },
     "execution_count": 7,
     "metadata": {},
     "output_type": "execute_result"
    }
   ],
   "source": [
    "# test filter_top_section\n",
    "wiki.Dump.filter_top_section(page_text)[:400]"
   ]
  },
  {
   "cell_type": "code",
   "execution_count": 8,
   "metadata": {},
   "outputs": [
    {
     "data": {
      "text/plain": [
       "\"{{redirect2|Anarchist|Anarchists|other uses|Anarchists (disambiguation)}}\\n{{pp-move-indef}}{{short description|Political philosophy that advocates self-governed societies}}\\n{{use dmy dates|date=July 2018}}\\n{{use British English|date=January 2014}}\\n{{anarchism sidebar}}\\n{{libertarianism sidebar}}\\n{{revolution sidebar}}\\n{{basic forms of government}}\\n'''Anarchism''' is an [[Anti-authoritarianism|anti\""
      ]
     },
     "execution_count": 8,
     "metadata": {},
     "output_type": "execute_result"
    }
   ],
   "source": [
    "# test load_page()\n",
    "# page_name = 'AccessibleComputing'\n",
    "page_name = 'Anarchism'\n",
    "# page_name = 'Artificial languages'\n",
    "# page_name = 'Abstract (law)'\n",
    "# page_name = 'Anxiety'\n",
    "# page_name = 'Foreign relations of Azerbaijan'\n",
    "# page_name = 'Alfonso Cuarón'\n",
    "# page_name = 'ADHD'\n",
    "page = dump.load_page(page_name, filter_top=True)\n",
    "page[:400]"
   ]
  },
  {
   "cell_type": "code",
   "execution_count": 9,
   "metadata": {},
   "outputs": [
    {
     "name": "stdout",
     "output_type": "stream",
     "text": [
      "CPU times: user 220 µs, sys: 1 µs, total: 221 µs\n",
      "Wall time: 223 µs\n",
      "CPU times: user 91.9 ms, sys: 2.07 ms, total: 94 ms\n",
      "Wall time: 94.2 ms\n",
      "CPU times: user 243 ms, sys: 13.8 ms, total: 257 ms\n",
      "Wall time: 258 ms\n"
     ]
    }
   ],
   "source": [
    "# testing XML cache\n",
    "%time page = dump.load_page('AccessibleComputing')\n",
    "%time page = dump.load_page('Anarchism')\n",
    "%time page = dump.load_page('Angola')"
   ]
  },
  {
   "cell_type": "code",
   "execution_count": 10,
   "metadata": {},
   "outputs": [
    {
     "name": "stdout",
     "output_type": "stream",
     "text": [
      "Number of links: 576\n"
     ]
    }
   ],
   "source": [
    "print('Number of links: ' + str(len(dump.links)))"
   ]
  },
  {
   "cell_type": "code",
   "execution_count": 11,
   "metadata": {},
   "outputs": [
    {
     "data": {
      "text/plain": [
       "['Angola avante',\n",
       " 'File:national anthem of angola, performed by the united states navy band (march 1996 arrangement).ogg',\n",
       " 'African union',\n",
       " 'Luanda',\n",
       " 'Portuguese language']"
      ]
     },
     "execution_count": 11,
     "metadata": {},
     "output_type": "execute_result"
    }
   ],
   "source": [
    "dump.links[:5]"
   ]
  },
  {
   "cell_type": "code",
   "execution_count": 12,
   "metadata": {},
   "outputs": [
    {
     "name": "stdout",
     "output_type": "stream",
     "text": [
      "CPU times: user 46 µs, sys: 1e+03 ns, total: 47 µs\n",
      "Wall time: 47.9 µs\n",
      "CPU times: user 2 µs, sys: 0 ns, total: 2 µs\n",
      "Wall time: 4.05 µs\n"
     ]
    },
    {
     "data": {
      "text/plain": [
       "['Angola avante',\n",
       " 'African union',\n",
       " 'Luanda',\n",
       " 'Portuguese language',\n",
       " 'Kongo language']"
      ]
     },
     "execution_count": 12,
     "metadata": {},
     "output_type": "execute_result"
    }
   ],
   "source": [
    "%time dump.article_links[:5]\n",
    "%time dump.article_links[:5]"
   ]
  },
  {
   "cell_type": "code",
   "execution_count": 13,
   "metadata": {},
   "outputs": [
    {
     "name": "stdout",
     "output_type": "stream",
     "text": [
      "[]\n",
      "[]\n"
     ]
    }
   ],
   "source": [
    "dump.load_page('No page')\n",
    "print(dump.links)\n",
    "print(dump.article_links)"
   ]
  },
  {
   "cell_type": "code",
   "execution_count": 14,
   "metadata": {},
   "outputs": [],
   "source": [
    "page = dump.load_page('Angola')"
   ]
  },
  {
   "cell_type": "code",
   "execution_count": 15,
   "metadata": {},
   "outputs": [
    {
     "data": {
      "text/plain": [
       "'History\\n\\nEarly migrations and political units\\nthumb|left|Territory comprising Kingdom of Ndongo, present-day Angola\\nModern Angola was populated predominantly by nomadic Khoi and San prior to the first Bantu migrations. The Khoi and San peoples were neither pastoralists nor cultivators, but hunter-gatherers. They were displaced by Bantu peoples arriving from the north, most of whom likely originated in what is today northwestern Nigeria and southern Niger. Bantu speakers introduced the cultivatio'"
      ]
     },
     "execution_count": 15,
     "metadata": {},
     "output_type": "execute_result"
    }
   ],
   "source": [
    "history = wiki.Dump.get_history(dump.page)\n",
    "history[:500]"
   ]
  },
  {
   "cell_type": "code",
   "execution_count": 16,
   "metadata": {},
   "outputs": [
    {
     "data": {
      "text/plain": [
       "[1484, 1575, 1587, 1617, 1641, 1648, 1650, 1649, 1656, 1671]"
      ]
     },
     "execution_count": 16,
     "metadata": {},
     "output_type": "execute_result"
    }
   ],
   "source": [
    "years = wiki.Dump.filter_years(history)\n",
    "years[:10]"
   ]
  },
  {
   "cell_type": "code",
   "execution_count": 17,
   "metadata": {},
   "outputs": [
    {
     "data": {
      "text/plain": [
       "[1484, 1575, 1587, 1617, 1641, 1648, 1650, 1649, 1656, 1671]"
      ]
     },
     "execution_count": 17,
     "metadata": {},
     "output_type": "execute_result"
    }
   ],
   "source": [
    "dump.years[:10]"
   ]
  },
  {
   "cell_type": "code",
   "execution_count": 18,
   "metadata": {},
   "outputs": [
    {
     "data": {
      "text/plain": [
       "[]"
      ]
     },
     "execution_count": 18,
     "metadata": {},
     "output_type": "execute_result"
    }
   ],
   "source": [
    "dump.load_page('AccessibleComputing')\n",
    "dump.years"
   ]
  }
 ],
 "metadata": {
  "kernelspec": {
   "display_name": "Python 3",
   "language": "python",
   "name": "python3"
  },
  "language_info": {
   "codemirror_mode": {
    "name": "ipython",
    "version": 3
   },
   "file_extension": ".py",
   "mimetype": "text/x-python",
   "name": "python",
   "nbconvert_exporter": "python",
   "pygments_lexer": "ipython3",
   "version": "3.7.3"
  }
 },
 "nbformat": 4,
 "nbformat_minor": 2
}
