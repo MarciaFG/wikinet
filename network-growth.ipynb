{
 "cells": [
  {
   "cell_type": "markdown",
   "metadata": {},
   "source": [
    "### Network growth\n",
    "\n",
    "1. Search \"History\" in section headings.\n",
    "2. Find a list of years.\n",
    "3. Use the first one as when the birth year of the idea.\n",
    "4. If no \"History\" section, then look backwards in the graph to a page that does, and use that.\n",
    "\n",
    "#### Visualization\n",
    "* Use ~~[bokeh](https://bokeh.pydata.org/en/latest/docs/user_guide/graph.html)~~ ~~[webweb](https://webwebpage.github.io/)~~ [d3](https://observablehq.com/@d3/force-directed-graph).\n",
    "* Use slider to show growth in network"
   ]
  },
  {
   "cell_type": "markdown",
   "metadata": {},
   "source": [
    "### Label with years"
   ]
  },
  {
   "cell_type": "code",
   "execution_count": 1,
   "metadata": {},
   "outputs": [
    {
     "data": {
      "text/plain": [
       "{'anatomy': <networkx.classes.digraph.DiGraph at 0x7f98105a3358>,\n",
       " 'biochemistry': <networkx.classes.digraph.DiGraph at 0x7f9828533b00>,\n",
       " 'cognitive science': <networkx.classes.digraph.DiGraph at 0x7f98284de6a0>,\n",
       " 'evolutionary biology': <networkx.classes.digraph.DiGraph at 0x7f9828457240>,\n",
       " 'genetics': <networkx.classes.digraph.DiGraph at 0x7f9828764438>,\n",
       " 'immunology': <networkx.classes.digraph.DiGraph at 0x7f982855def0>,\n",
       " 'molecular biology': <networkx.classes.digraph.DiGraph at 0x7f9841107668>,\n",
       " 'chemistry': <networkx.classes.digraph.DiGraph at 0x7f9810a867b8>,\n",
       " 'biophysics': <networkx.classes.digraph.DiGraph at 0x7f98411927b8>,\n",
       " 'energy': <networkx.classes.digraph.DiGraph at 0x7f9810aad208>,\n",
       " 'optics': <networkx.classes.digraph.DiGraph at 0x7f982877ea58>,\n",
       " 'earth science': <networkx.classes.digraph.DiGraph at 0x7f98288ac978>,\n",
       " 'geology': <networkx.classes.digraph.DiGraph at 0x7f982888d400>,\n",
       " 'meteorology': <networkx.classes.digraph.DiGraph at 0x7f982855d9e8>,\n",
       " 'philosophy of language': <networkx.classes.digraph.DiGraph at 0x7f982847ce10>,\n",
       " 'philosophy of law': <networkx.classes.digraph.DiGraph at 0x7f9841078630>,\n",
       " 'philosophy of mind': <networkx.classes.digraph.DiGraph at 0x7f982847cc18>,\n",
       " 'philosophy of science': <networkx.classes.digraph.DiGraph at 0x7f982883ebe0>,\n",
       " 'economics': <networkx.classes.digraph.DiGraph at 0x7f9810ba4eb8>,\n",
       " 'accounting': <networkx.classes.digraph.DiGraph at 0x7f9810bd8e10>,\n",
       " 'education': <networkx.classes.digraph.DiGraph at 0x7f9810b9d7b8>,\n",
       " 'linguistics': <networkx.classes.digraph.DiGraph at 0x7f98289f94a8>,\n",
       " 'law': <networkx.classes.digraph.DiGraph at 0x7f984191be48>,\n",
       " 'psychology': <networkx.classes.digraph.DiGraph at 0x7f9810e26a20>,\n",
       " 'sociology': <networkx.classes.digraph.DiGraph at 0x7f98418225c0>,\n",
       " 'electronics': <networkx.classes.digraph.DiGraph at 0x7f9841902a90>,\n",
       " 'software engineering': <networkx.classes.digraph.DiGraph at 0x7f9810ace278>,\n",
       " 'robotics': <networkx.classes.digraph.DiGraph at 0x7f98417daeb8>,\n",
       " 'physics': <networkx.classes.digraph.DiGraph at 0x7f984243ce48>}"
      ]
     },
     "execution_count": 1,
     "metadata": {},
     "output_type": "execute_result"
    }
   ],
   "source": [
    "import networkx as nx\n",
    "\n",
    "path_saved = '/Users/harangju/Box Sync/Research/my papers/wikipedia paper/data/prelim data/'\n",
    "# natural & physical sciences\n",
    "topics = ['anatomy', 'biochemistry', 'cognitive science', 'evolutionary biology',\n",
    "          'genetics', 'immunology', 'molecular biology']\n",
    "topics += ['chemistry', 'biophysics', 'energy', 'optics', \n",
    "           'earth science', 'geology', 'meteorology']\n",
    "# philosophy\n",
    "# topics += []\n",
    "topics += ['philosophy of language', 'philosophy of law', \n",
    "           'philosophy of mind', 'philosophy of science']\n",
    "# social sciences\n",
    "topics += ['economics', 'accounting', 'education', 'linguistics', 'law', 'psychology', 'sociology']\n",
    "# technology & applied sciences\n",
    "topics += ['electronics', 'software engineering', 'robotics']\n",
    "topics += ['physics']\n",
    "\n",
    "graphs = {}\n",
    "for topic in topics:\n",
    "    graphs[topic] = nx.read_gexf(path_saved + topic + '_d2.gexf')\n",
    "graphs"
   ]
  },
  {
   "cell_type": "code",
   "execution_count": 2,
   "metadata": {},
   "outputs": [],
   "source": [
    "import wiki\n",
    "\n",
    "path_base = '/Users/harangju/Developer/data/wiki/'\n",
    "name_xml = 'enwiki-20190801-pages-articles-multistream.xml.bz2'\n",
    "name_index = 'enwiki-20190801-pages-articles-multistream-index.txt.bz2'\n",
    "path_xml = path_base + name_xml\n",
    "path_index = path_base + name_index\n",
    "dump = wiki.Dump(path_xml, path_index)"
   ]
  },
  {
   "cell_type": "code",
   "execution_count": 3,
   "metadata": {},
   "outputs": [
    {
     "name": "stdout",
     "output_type": "stream",
     "text": [
      "Topic: anatomy\n",
      "Dump: Loading index...\n",
      "Dump: Loaded.\n",
      "Topic: biochemistry\n",
      "Topic: cognitive science\n",
      "Topic: evolutionary biology\n",
      "Topic: genetics\n",
      "Topic: immunology\n",
      "Topic: molecular biology\n",
      "Topic: chemistry\n",
      "Topic: biophysics\n",
      "Topic: energy\n",
      "Topic: optics\n",
      "Topic: earth science\n",
      "Topic: geology\n",
      "Topic: meteorology\n",
      "Topic: philosophy of language\n",
      "Topic: philosophy of law\n",
      "Topic: philosophy of mind\n",
      "Topic: philosophy of science\n",
      "Topic: economics\n",
      "Topic: accounting\n",
      "Topic: education\n",
      "Topic: linguistics\n",
      "Topic: law\n",
      "Topic: psychology\n",
      "Topic: sociology\n",
      "Topic: electronics\n",
      "Topic: software engineering\n",
      "Topic: robotics\n",
      "Topic: physics\n"
     ]
    }
   ],
   "source": [
    "_graphs = {'robotics': graphs['robotics']}\n",
    "for topic, graph in graphs.items():\n",
    "    print('Topic: ' + topic)\n",
    "    for node in graph.nodes:\n",
    "        dump.load_page(node)\n",
    "        graph.nodes[node]['year'] = dump.years[0] if len(dump.years)>0 else None"
   ]
  },
  {
   "cell_type": "code",
   "execution_count": 4,
   "metadata": {},
   "outputs": [
    {
     "data": {
      "text/plain": [
       "{'label': 'Robotics', 'year': 1900}"
      ]
     },
     "execution_count": 4,
     "metadata": {},
     "output_type": "execute_result"
    }
   ],
   "source": [
    "graphs['robotics'].nodes['Robotics']"
   ]
  },
  {
   "cell_type": "markdown",
   "metadata": {},
   "source": [
    "#### Fill in nodes without years"
   ]
  },
  {
   "cell_type": "code",
   "execution_count": 82,
   "metadata": {},
   "outputs": [],
   "source": [
    "def fill_empty_nodes(graph, full_parents=True):\n",
    "    \"\"\"\n",
    "    Returns\n",
    "    -------\n",
    "    bool\n",
    "        whether at least 1 empty node was filled\n",
    "    \"\"\"\n",
    "    empty_nodes = [n for n in graph.nodes if not graph.nodes[n]['year']]\n",
    "    for node in empty_nodes:\n",
    "        years = [graph.nodes[p]['year'] for p in graph.predecessors(node)]\n",
    "        if not years:\n",
    "            continue\n",
    "        if full_parents:\n",
    "            if [] not in years:\n",
    "                graph.nodes[node]['year'] = max(years)\n",
    "                return True\n",
    "        else:\n",
    "            years_filtered = [y for y in years if y]\n",
    "            if years_filtered:\n",
    "                graph.nodes[node]['year'] = max(years_filtered)\n",
    "                return True\n",
    "    return False"
   ]
  },
  {
   "cell_type": "code",
   "execution_count": 86,
   "metadata": {},
   "outputs": [
    {
     "name": "stdout",
     "output_type": "stream",
     "text": [
      "Filling in nodes with full parents...\n",
      "Filling in nodes without full parents...\n"
     ]
    }
   ],
   "source": [
    "_graphs = {'biochemistry': graphs['biochemistry']}\n",
    "for topic, graph in _graphs.items():\n",
    "    nodes = graph.nodes\n",
    "    print('Filling in nodes with full parents...')\n",
    "    nodes_filled = True\n",
    "    while nodes_filled:\n",
    "        nodes_filled = fill_empty_nodes(graph, full_parents=True)\n",
    "    print('Filling in nodes without full parents...')\n",
    "    nodes_filled = True\n",
    "    while nodes_filled:\n",
    "        nodes_filled = fill_empty_nodes(graph, full_parents=False)"
   ]
  },
  {
   "cell_type": "markdown",
   "metadata": {},
   "source": [
    "#### Save graphs"
   ]
  },
  {
   "cell_type": "code",
   "execution_count": 87,
   "metadata": {},
   "outputs": [],
   "source": [
    "for topic, graph in _graphs.items():\n",
    "    path_save = path_base + 'graphs/dated_' + 'filled_' + topic + '.gexf'\n",
    "    nx.write_gexf(graphs[topic], path_save)"
   ]
  },
  {
   "cell_type": "markdown",
   "metadata": {},
   "source": [
    "#### Load graphs"
   ]
  },
  {
   "cell_type": "code",
   "execution_count": null,
   "metadata": {},
   "outputs": [],
   "source": [
    "import networkx as nx\n",
    "\n",
    "graphs = {}\n",
    "for topic in topics:\n",
    "    graphs[topic] = nx.read_gexf(path_base + 'graphs/dated_' + topic + '.gexf')\n",
    "graphs"
   ]
  },
  {
   "cell_type": "markdown",
   "metadata": {},
   "source": [
    "### Visualize growth\n",
    "\n",
    "* gephi [tutorial](https://seinecle.github.io/gephi-tutorials/generated-html/converting-a-network-with-dates-into-dynamic.html)"
   ]
  },
  {
   "cell_type": "markdown",
   "metadata": {},
   "source": [
    "### Clique community growth"
   ]
  },
  {
   "cell_type": "code",
   "execution_count": 92,
   "metadata": {},
   "outputs": [],
   "source": [
    "import networkx as nx"
   ]
  },
  {
   "cell_type": "code",
   "execution_count": 105,
   "metadata": {},
   "outputs": [
    {
     "data": {
      "text/plain": [
       "[['Acetylcholine', 'Neurotransmitter', 'Receptor (biochemistry)'],\n",
       " ['Nucleic acid hybridization', 'Dna', 'Polymerase chain reaction'],\n",
       " ['Nucleic acid hybridization', 'Rna'],\n",
       " ['Nucleic acid hybridization', 'Dna replication'],\n",
       " ['Electron configuration', 'Quantum chemistry'],\n",
       " ['Electron configuration', 'Atom', 'Redox', 'Molecule'],\n",
       " ['Electron configuration', 'Atom', 'Redox', 'Electron'],\n",
       " ['Electron configuration', 'Atom', 'Molecule', 'Molecular orbital'],\n",
       " ['Potassium', 'Hydrogen', 'Chemical element', 'Atomic number', 'Oxygen'],\n",
       " ['Potassium', 'Action potential']]"
      ]
     },
     "execution_count": 105,
     "metadata": {},
     "output_type": "execute_result"
    }
   ],
   "source": [
    "# cliques = nx.enumerate_all_cliques(nx.Graph(graphs['biochemistry']))\n",
    "cliques = nx.find_cliques(nx.Graph(graphs['biochemistry']))\n",
    "list(cliques)[100:110]"
   ]
  },
  {
   "cell_type": "markdown",
   "metadata": {},
   "source": [
    "### Persistent homology\n",
    "\n",
    "* Ripser [paper](https://www.theoj.org/joss-papers/joss.00925/10.21105.joss.00925.pdf) [code](https://github.com/scikit-tda/ripser.py) (fast)\n",
    "* Dionysus 2 [code](https://mrzv.org/software/dionysus2/) (representative examples)\n",
    "* Nico's [code](https://github.com/nhchristianson/Math-text-semantic-networks)"
   ]
  },
  {
   "cell_type": "code",
   "execution_count": 88,
   "metadata": {},
   "outputs": [],
   "source": [
    "import numpy as np\n",
    "import ripser\n",
    "import persim"
   ]
  },
  {
   "cell_type": "code",
   "execution_count": 107,
   "metadata": {},
   "outputs": [
    {
     "data": {
      "image/png": "[encoded data removed]",
      "text/plain": [
       "<Figure size 640x480 with 1 Axes>"
      ]
     },
     "metadata": {},
     "output_type": "display_data"
    }
   ],
   "source": [
    "data = np.random.random((100,2))\n",
    "diagrams = ripser.ripser(data)['dgms']\n",
    "persim.plot_diagrams(diagrams, show=True)"
   ]
  },
  {
   "cell_type": "code",
   "execution_count": null,
   "metadata": {},
   "outputs": [],
   "source": []
  }
 ],
 "metadata": {
  "kernelspec": {
   "display_name": "Python 3",
   "language": "python",
   "name": "python3"
  },
  "language_info": {
   "codemirror_mode": {
    "name": "ipython",
    "version": 3
   },
   "file_extension": ".py",
   "mimetype": "text/x-python",
   "name": "python",
   "nbconvert_exporter": "python",
   "pygments_lexer": "ipython3",
   "version": "3.7.3"
  }
 },
 "nbformat": 4,
 "nbformat_minor": 2
}
