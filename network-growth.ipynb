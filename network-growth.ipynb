{
 "cells": [
  {
   "cell_type": "markdown",
   "metadata": {},
   "source": [
    "### Network growth\n",
    "\n",
    "1. Search \"History\" in section headings.\n",
    "2. Find a list of years.\n",
    "3. Use the first one as when the birth year of the idea.\n",
    "4. If no \"History\" section, then look backwards in the graph to a page that does, and use that.\n",
    "\n",
    "#### Visualization\n",
    "* Use ~~[bokeh](https://bokeh.pydata.org/en/latest/docs/user_guide/graph.html)~~ ~~[webweb](https://webwebpage.github.io/)~~ [d3](https://observablehq.com/@d3/force-directed-graph).\n",
    "* Use slider to show growth in network"
   ]
  },
  {
   "cell_type": "markdown",
   "metadata": {},
   "source": [
    "### Label with years"
   ]
  },
  {
   "cell_type": "code",
   "execution_count": 3,
   "metadata": {},
   "outputs": [
    {
     "data": {
      "text/plain": [
       "{'anatomy': <networkx.classes.digraph.DiGraph at 0x7fd4d87fbbe0>,\n",
       " 'biochemistry': <networkx.classes.digraph.DiGraph at 0x7fd508c08f28>,\n",
       " 'cognitive science': <networkx.classes.digraph.DiGraph at 0x7fd519068518>,\n",
       " 'evolutionary biology': <networkx.classes.digraph.DiGraph at 0x7fd518fdf908>,\n",
       " 'genetics': <networkx.classes.digraph.DiGraph at 0x7fd518fdc940>,\n",
       " 'immunology': <networkx.classes.digraph.DiGraph at 0x7fd4f83ea7b8>,\n",
       " 'molecular biology': <networkx.classes.digraph.DiGraph at 0x7fd519145c88>,\n",
       " 'chemistry': <networkx.classes.digraph.DiGraph at 0x7fd4d8e1cbe0>,\n",
       " 'biophysics': <networkx.classes.digraph.DiGraph at 0x7fd4d8ce0668>,\n",
       " 'energy': <networkx.classes.digraph.DiGraph at 0x7fd4d8e46f28>,\n",
       " 'optics': <networkx.classes.digraph.DiGraph at 0x7fd51950cb38>,\n",
       " 'earth science': <networkx.classes.digraph.DiGraph at 0x7fd5194729b0>,\n",
       " 'geology': <networkx.classes.digraph.DiGraph at 0x7fd519456390>,\n",
       " 'meteorology': <networkx.classes.digraph.DiGraph at 0x7fd508bd7208>,\n",
       " 'philosophy of language': <networkx.classes.digraph.DiGraph at 0x7fd519171128>,\n",
       " 'philosophy of law': <networkx.classes.digraph.DiGraph at 0x7fd518f94828>,\n",
       " 'philosophy of mind': <networkx.classes.digraph.DiGraph at 0x7fd519775a58>,\n",
       " 'philosophy of science': <networkx.classes.digraph.DiGraph at 0x7fd51949c358>,\n",
       " 'economics': <networkx.classes.digraph.DiGraph at 0x7fd4d92672b0>,\n",
       " 'accounting': <networkx.classes.digraph.DiGraph at 0x7fd4d8e12e48>,\n",
       " 'education': <networkx.classes.digraph.DiGraph at 0x7fd4d9261be0>,\n",
       " 'linguistics': <networkx.classes.digraph.DiGraph at 0x7fd4f8fb58d0>,\n",
       " 'law': <networkx.classes.digraph.DiGraph at 0x7fd4f957b2b0>,\n",
       " 'psychology': <networkx.classes.digraph.DiGraph at 0x7fd4f9037780>,\n",
       " 'sociology': <networkx.classes.digraph.DiGraph at 0x7fd4f9482668>,\n",
       " 'electronics': <networkx.classes.digraph.DiGraph at 0x7fd4f92ffeb8>,\n",
       " 'software engineering': <networkx.classes.digraph.DiGraph at 0x7fd4d9197a90>,\n",
       " 'robotics': <networkx.classes.digraph.DiGraph at 0x7fd4f9445860>}"
      ]
     },
     "execution_count": 3,
     "metadata": {},
     "output_type": "execute_result"
    }
   ],
   "source": [
    "import networkx as nx\n",
    "\n",
    "path_saved = '/Users/harangju/Box Sync/Research/my papers/wikipedia paper/data/prelim data/'\n",
    "# natural & physical sciences\n",
    "topics = ['anatomy', 'biochemistry', 'cognitive science', 'evolutionary biology',\n",
    "          'genetics', 'immunology', 'molecular biology']\n",
    "topics += ['chemistry', 'biophysics', 'energy', 'optics', \n",
    "           'earth science', 'geology', 'meteorology']\n",
    "# philosophy\n",
    "# topics += []\n",
    "topics += ['philosophy of language', 'philosophy of law', \n",
    "           'philosophy of mind', 'philosophy of science']\n",
    "# social sciences\n",
    "topics += ['economics', 'accounting', 'education', 'linguistics', 'law', 'psychology', 'sociology']\n",
    "# technology & applied sciences\n",
    "topics += ['electronics', 'software engineering', 'robotics']\n",
    "\n",
    "graphs = {}\n",
    "for topic in topics:\n",
    "    graphs[topic] = nx.read_gexf(path_saved + topic + '_d2.gexf')\n",
    "graphs"
   ]
  },
  {
   "cell_type": "code",
   "execution_count": 5,
   "metadata": {},
   "outputs": [],
   "source": [
    "import wiki\n",
    "\n",
    "path_base = '/Users/harangju/Developer/data/wiki/'\n",
    "name_xml = 'enwiki-20190801-pages-articles-multistream.xml.bz2'\n",
    "name_index = 'enwiki-20190801-pages-articles-multistream-index.txt.bz2'\n",
    "path_xml = path_base + name_xml\n",
    "path_index = path_base + name_index\n",
    "dump = wiki.Dump(path_xml, path_index)"
   ]
  },
  {
   "cell_type": "code",
   "execution_count": null,
   "metadata": {},
   "outputs": [
    {
     "name": "stdout",
     "output_type": "stream",
     "text": [
      "Topic: anatomy\n"
     ]
    }
   ],
   "source": [
    "# _graphs = {'anatomy': graphs['anatomy']}\n",
    "for topic, graph in graphs.items():\n",
    "    print('Topic: ' + topic)\n",
    "    for node in graph.nodes:\n",
    "        dump.load_page(node)\n",
    "#         print('\\t' + node, end='')\n",
    "#         print(' = ' + str(dump.years))\n",
    "        graph.nodes[node]['years'] = dump.years\n",
    "        graph.nodes[node]['year'] = dump.years[0] if dump.years else []\n",
    "#         print(' = ' + str(graph.nodes[node]['year']))"
   ]
  },
  {
   "cell_type": "code",
   "execution_count": null,
   "metadata": {},
   "outputs": [],
   "source": []
  }
 ],
 "metadata": {
  "kernelspec": {
   "display_name": "Python 3",
   "language": "python",
   "name": "python3"
  },
  "language_info": {
   "codemirror_mode": {
    "name": "ipython",
    "version": 3
   },
   "file_extension": ".py",
   "mimetype": "text/x-python",
   "name": "python",
   "nbconvert_exporter": "python",
   "pygments_lexer": "ipython3",
   "version": "3.7.3"
  }
 },
 "nbformat": 4,
 "nbformat_minor": 2
}
