{
 "cells": [
  {
   "cell_type": "markdown",
   "metadata": {},
   "source": [
    "### Network growth\n",
    "\n",
    "1. Search \"History\" in section headings.\n",
    "2. Find a list of years.\n",
    "3. Use the first one as when the birth year of the idea.\n",
    "4. If no \"History\" section, then look backwards in the graph to a page that does, and use that.\n",
    "\n",
    "#### Visualization\n",
    "* Use ~~[bokeh](https://bokeh.pydata.org/en/latest/docs/user_guide/graph.html)~~ ~~[webweb](https://webwebpage.github.io/)~~ [d3](https://observablehq.com/@d3/force-directed-graph).\n",
    "* Use slider to show growth in network"
   ]
  },
  {
   "cell_type": "markdown",
   "metadata": {},
   "source": [
    "### Label with years"
   ]
  },
  {
   "cell_type": "code",
   "execution_count": 138,
   "metadata": {},
   "outputs": [
    {
     "data": {
      "text/plain": [
       "{'anatomy': <networkx.classes.digraph.DiGraph at 0x7fd4b94a0128>,\n",
       " 'biochemistry': <networkx.classes.digraph.DiGraph at 0x7fd4ba32c4e0>,\n",
       " 'cognitive science': <networkx.classes.digraph.DiGraph at 0x7fd4b9f40630>,\n",
       " 'evolutionary biology': <networkx.classes.digraph.DiGraph at 0x7fd4dbe055c0>,\n",
       " 'genetics': <networkx.classes.digraph.DiGraph at 0x7fd51aca5dd8>,\n",
       " 'immunology': <networkx.classes.digraph.DiGraph at 0x7fd4dbd92208>,\n",
       " 'molecular biology': <networkx.classes.digraph.DiGraph at 0x7fd51a78af98>,\n",
       " 'chemistry': <networkx.classes.digraph.DiGraph at 0x7fd4ba015198>,\n",
       " 'biophysics': <networkx.classes.digraph.DiGraph at 0x7fd4ba238550>,\n",
       " 'energy': <networkx.classes.digraph.DiGraph at 0x7fd4b9fbb5c0>,\n",
       " 'optics': <networkx.classes.digraph.DiGraph at 0x7fd4ba3d07f0>,\n",
       " 'earth science': <networkx.classes.digraph.DiGraph at 0x7fd4ba579a58>,\n",
       " 'geology': <networkx.classes.digraph.DiGraph at 0x7fd4ba569358>,\n",
       " 'meteorology': <networkx.classes.digraph.DiGraph at 0x7fd4dbd929e8>,\n",
       " 'philosophy of language': <networkx.classes.digraph.DiGraph at 0x7fd51a6b5da0>,\n",
       " 'philosophy of law': <networkx.classes.digraph.DiGraph at 0x7fd4db709518>,\n",
       " 'philosophy of mind': <networkx.classes.digraph.DiGraph at 0x7fd51a6b5b00>,\n",
       " 'philosophy of science': <networkx.classes.digraph.DiGraph at 0x7fd4ba3bd198>,\n",
       " 'economics': <networkx.classes.digraph.DiGraph at 0x7fd51a3c6898>,\n",
       " 'accounting': <networkx.classes.digraph.DiGraph at 0x7fd4ba83ae10>,\n",
       " 'education': <networkx.classes.digraph.DiGraph at 0x7fd51a3bc198>,\n",
       " 'linguistics': <networkx.classes.digraph.DiGraph at 0x7fd51a312e48>,\n",
       " 'law': <networkx.classes.digraph.DiGraph at 0x7fd4dc0ae828>,\n",
       " 'psychology': <networkx.classes.digraph.DiGraph at 0x7fd4e655d978>,\n",
       " 'sociology': <networkx.classes.digraph.DiGraph at 0x7fd4b0bc1668>,\n",
       " 'electronics': <networkx.classes.digraph.DiGraph at 0x7fd4b04f7470>,\n",
       " 'software engineering': <networkx.classes.digraph.DiGraph at 0x7fd4ba79a4a8>,\n",
       " 'robotics': <networkx.classes.digraph.DiGraph at 0x7fd4b0b73978>}"
      ]
     },
     "execution_count": 138,
     "metadata": {},
     "output_type": "execute_result"
    }
   ],
   "source": [
    "import networkx as nx\n",
    "\n",
    "path_saved = '/Users/harangju/Box Sync/Research/my papers/wikipedia paper/data/prelim data/'\n",
    "# natural & physical sciences\n",
    "topics = ['anatomy', 'biochemistry', 'cognitive science', 'evolutionary biology',\n",
    "          'genetics', 'immunology', 'molecular biology']\n",
    "topics += ['chemistry', 'biophysics', 'energy', 'optics', \n",
    "           'earth science', 'geology', 'meteorology']\n",
    "# philosophy\n",
    "# topics += []\n",
    "topics += ['philosophy of language', 'philosophy of law', \n",
    "           'philosophy of mind', 'philosophy of science']\n",
    "# social sciences\n",
    "topics += ['economics', 'accounting', 'education', 'linguistics', 'law', 'psychology', 'sociology']\n",
    "# technology & applied sciences\n",
    "topics += ['electronics', 'software engineering', 'robotics']\n",
    "\n",
    "graphs = {}\n",
    "for topic in topics:\n",
    "    graphs[topic] = nx.read_gexf(path_saved + topic + '_d2.gexf')\n",
    "graphs"
   ]
  },
  {
   "cell_type": "code",
   "execution_count": 5,
   "metadata": {},
   "outputs": [],
   "source": [
    "import wiki\n",
    "\n",
    "path_base = '/Users/harangju/Developer/data/wiki/'\n",
    "name_xml = 'enwiki-20190801-pages-articles-multistream.xml.bz2'\n",
    "name_index = 'enwiki-20190801-pages-articles-multistream-index.txt.bz2'\n",
    "path_xml = path_base + name_xml\n",
    "path_index = path_base + name_index\n",
    "dump = wiki.Dump(path_xml, path_index)"
   ]
  },
  {
   "cell_type": "code",
   "execution_count": 139,
   "metadata": {},
   "outputs": [
    {
     "name": "stdout",
     "output_type": "stream",
     "text": [
      "Topic: anatomy\n",
      "Topic: biochemistry\n",
      "Topic: cognitive science\n",
      "Topic: evolutionary biology\n",
      "Topic: genetics\n",
      "Topic: immunology\n",
      "Topic: molecular biology\n",
      "Topic: chemistry\n",
      "Topic: biophysics\n",
      "Topic: energy\n",
      "Topic: optics\n",
      "Topic: earth science\n",
      "Topic: geology\n",
      "Topic: meteorology\n",
      "Topic: philosophy of language\n",
      "Topic: philosophy of law\n",
      "Topic: philosophy of mind\n",
      "Topic: philosophy of science\n",
      "Topic: economics\n",
      "Topic: accounting\n",
      "Topic: education\n",
      "Topic: linguistics\n",
      "Topic: law\n",
      "Topic: psychology\n",
      "Topic: sociology\n",
      "Topic: electronics\n",
      "Topic: software engineering\n",
      "Topic: robotics\n"
     ]
    }
   ],
   "source": [
    "_graphs = {'anatomy': graphs['robotics']}\n",
    "for topic, graph in graphs.items():\n",
    "    print('Topic: ' + topic)\n",
    "    for node in graph.nodes:\n",
    "        dump.load_page(node)\n",
    "#         print('\\t' + node, end='')\n",
    "#         print(' = ' + str(dump.years))\n",
    "        graph.nodes[node]['year'] = dump.years[0] if len(dump.years)>0 else []\n",
    "#     print('-------------------------------\\n\\n')"
   ]
  },
  {
   "cell_type": "code",
   "execution_count": 140,
   "metadata": {},
   "outputs": [
    {
     "data": {
      "text/plain": [
       "{'label': 'Robotics', 'year': 1900}"
      ]
     },
     "execution_count": 140,
     "metadata": {},
     "output_type": "execute_result"
    }
   ],
   "source": [
    "graphs['robotics'].nodes['Robotics']"
   ]
  },
  {
   "cell_type": "code",
   "execution_count": 141,
   "metadata": {},
   "outputs": [],
   "source": [
    "for topic, graph in graphs.items():\n",
    "    path_save = path_base + 'graphs/dated_' + topic + '.gexf'\n",
    "    nx.write_gexf(graphs[topic], path_save)"
   ]
  },
  {
   "cell_type": "markdown",
   "metadata": {},
   "source": [
    "#### Load graphs"
   ]
  },
  {
   "cell_type": "code",
   "execution_count": 142,
   "metadata": {},
   "outputs": [
    {
     "data": {
      "text/plain": [
       "{'anatomy': <networkx.classes.digraph.DiGraph at 0x7fd4ba98f828>,\n",
       " 'biochemistry': <networkx.classes.digraph.DiGraph at 0x7fd4db8f4be0>,\n",
       " 'cognitive science': <networkx.classes.digraph.DiGraph at 0x7fd4dc0967f0>,\n",
       " 'evolutionary biology': <networkx.classes.digraph.DiGraph at 0x7fd4dc3faf28>,\n",
       " 'genetics': <networkx.classes.digraph.DiGraph at 0x7fd4b0e71b00>,\n",
       " 'immunology': <networkx.classes.digraph.DiGraph at 0x7fd4b0d1ef28>,\n",
       " 'molecular biology': <networkx.classes.digraph.DiGraph at 0x7fd51b7fd9b0>,\n",
       " 'chemistry': <networkx.classes.digraph.DiGraph at 0x7fd51c23d8d0>,\n",
       " 'biophysics': <networkx.classes.digraph.DiGraph at 0x7fd51b716da0>,\n",
       " 'energy': <networkx.classes.digraph.DiGraph at 0x7fd4baa6b978>,\n",
       " 'optics': <networkx.classes.digraph.DiGraph at 0x7fd51b46aeb8>,\n",
       " 'earth science': <networkx.classes.digraph.DiGraph at 0x7fd4dc959cc0>,\n",
       " 'geology': <networkx.classes.digraph.DiGraph at 0x7fd51b92a1d0>,\n",
       " 'meteorology': <networkx.classes.digraph.DiGraph at 0x7fd51b58e898>,\n",
       " 'philosophy of language': <networkx.classes.digraph.DiGraph at 0x7fd4bacbdf28>,\n",
       " 'philosophy of law': <networkx.classes.digraph.DiGraph at 0x7fd4b0463208>,\n",
       " 'philosophy of mind': <networkx.classes.digraph.DiGraph at 0x7fd4dc4046a0>,\n",
       " 'philosophy of science': <networkx.classes.digraph.DiGraph at 0x7fd51b43a588>,\n",
       " 'economics': <networkx.classes.digraph.DiGraph at 0x7fd4b03acb00>,\n",
       " 'accounting': <networkx.classes.digraph.DiGraph at 0x7fd4dc4a6240>,\n",
       " 'education': <networkx.classes.digraph.DiGraph at 0x7fd51b563a90>,\n",
       " 'linguistics': <networkx.classes.digraph.DiGraph at 0x7fd4dcb0b5f8>,\n",
       " 'law': <networkx.classes.digraph.DiGraph at 0x7fd4dbfa0390>,\n",
       " 'psychology': <networkx.classes.digraph.DiGraph at 0x7fd4b1298278>,\n",
       " 'sociology': <networkx.classes.digraph.DiGraph at 0x7fd4b1555160>,\n",
       " 'electronics': <networkx.classes.digraph.DiGraph at 0x7fd4dcb49ba8>,\n",
       " 'software engineering': <networkx.classes.digraph.DiGraph at 0x7fd4b1078ef0>,\n",
       " 'robotics': <networkx.classes.digraph.DiGraph at 0x7fd4b1362630>}"
      ]
     },
     "execution_count": 142,
     "metadata": {},
     "output_type": "execute_result"
    }
   ],
   "source": [
    "import networkx as nx\n",
    "\n",
    "graphs = {}\n",
    "for topic in topics:\n",
    "    graphs[topic] = nx.read_gexf(path_base + 'graphs/dated_' + topic + '.gexf')\n",
    "graphs"
   ]
  },
  {
   "cell_type": "markdown",
   "metadata": {},
   "source": [
    "### Visualize growth"
   ]
  },
  {
   "cell_type": "code",
   "execution_count": null,
   "metadata": {},
   "outputs": [],
   "source": []
  }
 ],
 "metadata": {
  "kernelspec": {
   "display_name": "Python 3",
   "language": "python",
   "name": "python3"
  },
  "language_info": {
   "codemirror_mode": {
    "name": "ipython",
    "version": 3
   },
   "file_extension": ".py",
   "mimetype": "text/x-python",
   "name": "python",
   "nbconvert_exporter": "python",
   "pygments_lexer": "ipython3",
   "version": "3.7.3"
  }
 },
 "nbformat": 4,
 "nbformat_minor": 2
}
