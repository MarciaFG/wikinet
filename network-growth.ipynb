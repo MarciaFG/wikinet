{
 "cells": [
  {
   "cell_type": "markdown",
   "metadata": {},
   "source": [
    "### Network growth\n",
    "\n",
    "1. Search \"History\" in section headings.\n",
    "2. Find a list of years.\n",
    "3. Use the first one as when the birth year of the idea.\n",
    "4. If no \"History\" section, then look backwards in the graph to a page that does, and use that.\n",
    "\n",
    "#### Visualization\n",
    "* Use ~~[bokeh](https://bokeh.pydata.org/en/latest/docs/user_guide/graph.html)~~ ~~[webweb](https://webwebpage.github.io/)~~ [d3](https://observablehq.com/@d3/force-directed-graph).\n",
    "* Use slider to show growth in network"
   ]
  },
  {
   "cell_type": "markdown",
   "metadata": {},
   "source": [
    "### Label with years"
   ]
  },
  {
   "cell_type": "code",
   "execution_count": 1,
   "metadata": {},
   "outputs": [
    {
     "data": {
      "text/plain": [
       "{'anatomy': <networkx.classes.digraph.DiGraph at 0x7fdab0b6f5f8>,\n",
       " 'biochemistry': <networkx.classes.digraph.DiGraph at 0x7fda804cee80>,\n",
       " 'cognitive science': <networkx.classes.digraph.DiGraph at 0x7fda80574668>,\n",
       " 'evolutionary biology': <networkx.classes.digraph.DiGraph at 0x7fda804a5710>,\n",
       " 'genetics': <networkx.classes.digraph.DiGraph at 0x7fda808647b8>,\n",
       " 'immunology': <networkx.classes.digraph.DiGraph at 0x7fda806bbf28>,\n",
       " 'molecular biology': <networkx.classes.digraph.DiGraph at 0x7fda8060d080>,\n",
       " 'chemistry': <networkx.classes.digraph.DiGraph at 0x7fda80903b38>,\n",
       " 'biophysics': <networkx.classes.digraph.DiGraph at 0x7fda80c42668>,\n",
       " 'energy': <networkx.classes.digraph.DiGraph at 0x7fda80930f98>,\n",
       " 'optics': <networkx.classes.digraph.DiGraph at 0x7fda80877a58>,\n",
       " 'earth science': <networkx.classes.digraph.DiGraph at 0x7fda8099cb38>,\n",
       " 'geology': <networkx.classes.digraph.DiGraph at 0x7fda80985438>,\n",
       " 'meteorology': <networkx.classes.digraph.DiGraph at 0x7fda806bb2b0>,\n",
       " 'philosophy of language': <networkx.classes.digraph.DiGraph at 0x7fda80799080>,\n",
       " 'philosophy of law': <networkx.classes.digraph.DiGraph at 0x7fdac051ed30>,\n",
       " 'philosophy of mind': <networkx.classes.digraph.DiGraph at 0x7fda90a0fba8>,\n",
       " 'philosophy of science': <networkx.classes.digraph.DiGraph at 0x7fda80c184e0>,\n",
       " 'economics': <networkx.classes.digraph.DiGraph at 0x7fda90b25278>,\n",
       " 'accounting': <networkx.classes.digraph.DiGraph at 0x7fda810dae10>,\n",
       " 'education': <networkx.classes.digraph.DiGraph at 0x7fda90b08b38>,\n",
       " 'linguistics': <networkx.classes.digraph.DiGraph at 0x7fda81084828>,\n",
       " 'law': <networkx.classes.digraph.DiGraph at 0x7fda90bde208>,\n",
       " 'psychology': <networkx.classes.digraph.DiGraph at 0x7fdac0660780>,\n",
       " 'sociology': <networkx.classes.digraph.DiGraph at 0x7fda70026710>,\n",
       " 'electronics': <networkx.classes.digraph.DiGraph at 0x7fda81161e10>,\n",
       " 'software engineering': <networkx.classes.digraph.DiGraph at 0x7fda810deac8>,\n",
       " 'robotics': <networkx.classes.digraph.DiGraph at 0x7fda80c181d0>,\n",
       " 'physics': <networkx.classes.digraph.DiGraph at 0x7fda917ae208>}"
      ]
     },
     "execution_count": 1,
     "metadata": {},
     "output_type": "execute_result"
    }
   ],
   "source": [
    "import networkx as nx\n",
    "\n",
    "path_saved = '/Users/harangju/Box Sync/Research/my papers/wikipedia paper/data/graphs/undated/'\n",
    "# natural & physical sciences\n",
    "topics = ['anatomy', 'biochemistry', 'cognitive science', 'evolutionary biology',\n",
    "          'genetics', 'immunology', 'molecular biology']\n",
    "topics += ['chemistry', 'biophysics', 'energy', 'optics', \n",
    "           'earth science', 'geology', 'meteorology']\n",
    "# philosophy\n",
    "# topics += []\n",
    "topics += ['philosophy of language', 'philosophy of law', \n",
    "           'philosophy of mind', 'philosophy of science']\n",
    "# social sciences\n",
    "topics += ['economics', 'accounting', 'education', 'linguistics', 'law', 'psychology', 'sociology']\n",
    "# technology & applied sciences\n",
    "topics += ['electronics', 'software engineering', 'robotics']\n",
    "topics += ['physics']\n",
    "\n",
    "graphs = {}\n",
    "for topic in topics:\n",
    "    graphs[topic] = nx.read_gexf(path_saved + topic + '.gexf')\n",
    "graphs"
   ]
  },
  {
   "cell_type": "code",
   "execution_count": 2,
   "metadata": {},
   "outputs": [],
   "source": [
    "import wiki\n",
    "\n",
    "path_base = '/Users/harangju/Developer/data/wiki/'\n",
    "name_xml = 'enwiki-20190801-pages-articles-multistream.xml.bz2'\n",
    "name_index = 'enwiki-20190801-pages-articles-multistream-index.txt.bz2'\n",
    "path_xml = path_base + name_xml\n",
    "path_index = path_base + name_index\n",
    "dump = wiki.Dump(path_xml, path_index)"
   ]
  },
  {
   "cell_type": "code",
   "execution_count": 5,
   "metadata": {},
   "outputs": [
    {
     "name": "stdout",
     "output_type": "stream",
     "text": [
      "Topic: anatomy\n",
      "Topic: biochemistry\n",
      "Topic: cognitive science\n",
      "Topic: evolutionary biology\n",
      "Topic: genetics\n",
      "Topic: immunology\n",
      "Topic: molecular biology\n",
      "Topic: chemistry\n",
      "Topic: biophysics\n",
      "Topic: energy\n",
      "Topic: optics\n",
      "Topic: earth science\n",
      "Topic: geology\n",
      "Topic: meteorology\n",
      "Topic: philosophy of language\n",
      "Topic: philosophy of law\n",
      "Topic: philosophy of mind\n",
      "Topic: philosophy of science\n",
      "Topic: economics\n",
      "Topic: accounting\n",
      "Topic: education\n",
      "Topic: linguistics\n",
      "Topic: law\n",
      "Topic: psychology\n",
      "Topic: sociology\n",
      "Topic: electronics\n",
      "Topic: software engineering\n",
      "Topic: robotics\n",
      "Topic: physics\n"
     ]
    }
   ],
   "source": [
    "for topic, graph in graphs.items():\n",
    "    print('Topic: ' + topic)\n",
    "    for node in graph.nodes:\n",
    "        dump.load_page(node)\n",
    "        graph.nodes[node]['year'] = dump.years[0] if len(dump.years)>0 else []"
   ]
  },
  {
   "cell_type": "code",
   "execution_count": 8,
   "metadata": {},
   "outputs": [],
   "source": [
    "path_dated_unfilled = '/Users/harangju/Box Sync/Research/my papers/wikipedia paper/data/graphs/dated/unfilled/'\n",
    "for topic, graph in graphs.items():\n",
    "    nx.write_gexf(graph, path_dated_unfilled + topic + '.gexf')"
   ]
  },
  {
   "cell_type": "code",
   "execution_count": 9,
   "metadata": {},
   "outputs": [
    {
     "data": {
      "text/plain": [
       "{'label': 'Robotics', 'year': 1900}"
      ]
     },
     "execution_count": 9,
     "metadata": {},
     "output_type": "execute_result"
    }
   ],
   "source": [
    "graphs['robotics'].nodes['Robotics']"
   ]
  },
  {
   "cell_type": "markdown",
   "metadata": {},
   "source": [
    "#### Fill in nodes without years"
   ]
  },
  {
   "cell_type": "code",
   "execution_count": 10,
   "metadata": {},
   "outputs": [],
   "source": [
    "def fill_empty_nodes(graph, full_parents=True):\n",
    "    \"\"\"\n",
    "    Returns\n",
    "    -------\n",
    "    bool\n",
    "        whether at least 1 empty node was filled\n",
    "    \"\"\"\n",
    "    empty_nodes = [n for n in graph.nodes if not graph.nodes[n]['year']]\n",
    "    for node in empty_nodes:\n",
    "        years = [graph.nodes[p]['year'] for p in graph.predecessors(node)]\n",
    "        if not years:\n",
    "            continue\n",
    "        if full_parents:\n",
    "            if [] not in years:\n",
    "                graph.nodes[node]['year'] = max(years)\n",
    "                return True\n",
    "        else:\n",
    "            years_filtered = [y for y in years if y]\n",
    "            if years_filtered:\n",
    "                graph.nodes[node]['year'] = max(years_filtered)\n",
    "                return True\n",
    "    return False"
   ]
  },
  {
   "cell_type": "code",
   "execution_count": 12,
   "metadata": {},
   "outputs": [
    {
     "name": "stdout",
     "output_type": "stream",
     "text": [
      "Topic: anatomy\n",
      "\tFilling in nodes with full parents...\n",
      "\tFilling in nodes without full parents...\n",
      "Topic: biochemistry\n",
      "\tFilling in nodes with full parents...\n",
      "\tFilling in nodes without full parents...\n",
      "Topic: cognitive science\n",
      "\tFilling in nodes with full parents...\n",
      "\tFilling in nodes without full parents...\n",
      "Topic: evolutionary biology\n",
      "\tFilling in nodes with full parents...\n",
      "\tFilling in nodes without full parents...\n",
      "Topic: genetics\n",
      "\tFilling in nodes with full parents...\n",
      "\tFilling in nodes without full parents...\n",
      "Topic: immunology\n",
      "\tFilling in nodes with full parents...\n",
      "\tFilling in nodes without full parents...\n",
      "Topic: molecular biology\n",
      "\tFilling in nodes with full parents...\n",
      "\tFilling in nodes without full parents...\n",
      "Topic: chemistry\n",
      "\tFilling in nodes with full parents...\n",
      "\tFilling in nodes without full parents...\n",
      "Topic: biophysics\n",
      "\tFilling in nodes with full parents...\n",
      "\tFilling in nodes without full parents...\n",
      "Topic: energy\n",
      "\tFilling in nodes with full parents...\n",
      "\tFilling in nodes without full parents...\n",
      "Topic: optics\n",
      "\tFilling in nodes with full parents...\n",
      "\tFilling in nodes without full parents...\n",
      "Topic: earth science\n",
      "\tFilling in nodes with full parents...\n",
      "\tFilling in nodes without full parents...\n",
      "Topic: geology\n",
      "\tFilling in nodes with full parents...\n",
      "\tFilling in nodes without full parents...\n",
      "Topic: meteorology\n",
      "\tFilling in nodes with full parents...\n",
      "\tFilling in nodes without full parents...\n",
      "Topic: philosophy of language\n",
      "\tFilling in nodes with full parents...\n",
      "\tFilling in nodes without full parents...\n",
      "Topic: philosophy of law\n",
      "\tFilling in nodes with full parents...\n",
      "\tFilling in nodes without full parents...\n",
      "Topic: philosophy of mind\n",
      "\tFilling in nodes with full parents...\n",
      "\tFilling in nodes without full parents...\n",
      "Topic: philosophy of science\n",
      "\tFilling in nodes with full parents...\n",
      "\tFilling in nodes without full parents...\n",
      "Topic: economics\n",
      "\tFilling in nodes with full parents...\n",
      "\tFilling in nodes without full parents...\n",
      "Topic: accounting\n",
      "\tFilling in nodes with full parents...\n",
      "\tFilling in nodes without full parents...\n",
      "Topic: education\n",
      "\tFilling in nodes with full parents...\n",
      "\tFilling in nodes without full parents...\n",
      "Topic: linguistics\n",
      "\tFilling in nodes with full parents...\n",
      "\tFilling in nodes without full parents...\n",
      "Topic: law\n",
      "\tFilling in nodes with full parents...\n",
      "\tFilling in nodes without full parents...\n",
      "Topic: psychology\n",
      "\tFilling in nodes with full parents...\n",
      "\tFilling in nodes without full parents...\n",
      "Topic: sociology\n",
      "\tFilling in nodes with full parents...\n",
      "\tFilling in nodes without full parents...\n",
      "Topic: electronics\n",
      "\tFilling in nodes with full parents...\n",
      "\tFilling in nodes without full parents...\n",
      "Topic: software engineering\n",
      "\tFilling in nodes with full parents...\n",
      "\tFilling in nodes without full parents...\n",
      "Topic: robotics\n",
      "\tFilling in nodes with full parents...\n",
      "\tFilling in nodes without full parents...\n",
      "Topic: physics\n",
      "\tFilling in nodes with full parents...\n",
      "\tFilling in nodes without full parents...\n"
     ]
    }
   ],
   "source": [
    "for topic, graph in graphs.items():\n",
    "    print('Topic:', topic)\n",
    "    nodes = graph.nodes\n",
    "    print('\\tFilling in nodes with full parents...')\n",
    "    nodes_filled = True\n",
    "    while nodes_filled:\n",
    "        nodes_filled = fill_empty_nodes(graph, full_parents=True)\n",
    "    print('\\tFilling in nodes without full parents...')\n",
    "    nodes_filled = True\n",
    "    while nodes_filled:\n",
    "        nodes_filled = fill_empty_nodes(graph, full_parents=False)"
   ]
  },
  {
   "cell_type": "code",
   "execution_count": 13,
   "metadata": {},
   "outputs": [],
   "source": [
    "path_dated_filled = '/Users/harangju/Box Sync/Research/my papers/wikipedia paper/data/graphs/dated/filled/'\n",
    "for topic, graph in graphs.items():\n",
    "    nx.write_gexf(graph, path_dated_filled + topic + '.gexf')"
   ]
  },
  {
   "cell_type": "markdown",
   "metadata": {},
   "source": [
    "#### Load graphs"
   ]
  },
  {
   "cell_type": "code",
   "execution_count": null,
   "metadata": {},
   "outputs": [],
   "source": [
    "topics = ['biochemistry']\n",
    "path_base = '/Users/harangju/Box Sync/Research/my papers/wikipedia paper/data/graphs/dated/filled/'"
   ]
  },
  {
   "cell_type": "code",
   "execution_count": null,
   "metadata": {},
   "outputs": [],
   "source": [
    "import networkx as nx\n",
    "\n",
    "graphs = {}\n",
    "for topic in topics:\n",
    "    graphs[topic] = nx.read_gexf(path_base + topic + '.gexf')\n",
    "graphs"
   ]
  },
  {
   "cell_type": "markdown",
   "metadata": {},
   "source": [
    "### Visualize growth\n",
    "\n",
    "* gephi [tutorial](https://seinecle.github.io/gephi-tutorials/generated-html/converting-a-network-with-dates-into-dynamic.html)"
   ]
  },
  {
   "cell_type": "markdown",
   "metadata": {},
   "source": [
    "### Clique community growth"
   ]
  },
  {
   "cell_type": "code",
   "execution_count": null,
   "metadata": {},
   "outputs": [],
   "source": [
    "import networkx as nx"
   ]
  },
  {
   "cell_type": "code",
   "execution_count": null,
   "metadata": {},
   "outputs": [],
   "source": [
    "# cliques = nx.enumerate_all_cliques(nx.Graph(graphs['biochemistry']))\n",
    "cliques = nx.find_cliques(nx.Graph(graphs['biochemistry']))\n",
    "list(cliques)[100:110]"
   ]
  },
  {
   "cell_type": "markdown",
   "metadata": {},
   "source": [
    "### Persistent homology"
   ]
  },
  {
   "cell_type": "code",
   "execution_count": null,
   "metadata": {},
   "outputs": [],
   "source": []
  }
 ],
 "metadata": {
  "kernelspec": {
   "display_name": "Python 3",
   "language": "python",
   "name": "python3"
  },
  "language_info": {
   "codemirror_mode": {
    "name": "ipython",
    "version": 3
   },
   "file_extension": ".py",
   "mimetype": "text/x-python",
   "name": "python",
   "nbconvert_exporter": "python",
   "pygments_lexer": "ipython3",
   "version": "3.7.3"
  }
 },
 "nbformat": 4,
 "nbformat_minor": 2
}
