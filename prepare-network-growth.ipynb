{
 "cells": [
  {
   "cell_type": "markdown",
   "metadata": {},
   "source": [
    "### Network growth\n",
    "\n",
    "1. Search \"History\" in section headings.\n",
    "2. Find a list of years.\n",
    "3. Use the first one as when the birth year of the idea.\n",
    "4. If no \"History\" section, then look backwards in the graph to a page that does, and use that.\n",
    "\n",
    "#### Visualization\n",
    "* Use ~~[bokeh](https://bokeh.pydata.org/en/latest/docs/user_guide/graph.html)~~ ~~[webweb](https://webwebpage.github.io/)~~ [d3](https://observablehq.com/@d3/force-directed-graph).\n",
    "* Use slider to show growth in network"
   ]
  },
  {
   "cell_type": "markdown",
   "metadata": {},
   "source": [
    "### Label with years"
   ]
  },
  {
   "cell_type": "code",
   "execution_count": 14,
   "metadata": {},
   "outputs": [
    {
     "data": {
      "text/plain": [
       "{'anatomy': <networkx.classes.digraph.DiGraph at 0x7fda814b6b38>,\n",
       " 'biochemistry': <networkx.classes.digraph.DiGraph at 0x7fda9227d4e0>,\n",
       " 'cognitive science': <networkx.classes.digraph.DiGraph at 0x7fda924230b8>,\n",
       " 'evolutionary biology': <networkx.classes.digraph.DiGraph at 0x7fda82535390>,\n",
       " 'genetics': <networkx.classes.digraph.DiGraph at 0x7fda922fc390>,\n",
       " 'immunology': <networkx.classes.digraph.DiGraph at 0x7fda824b9438>,\n",
       " 'molecular biology': <networkx.classes.digraph.DiGraph at 0x7fda81561588>,\n",
       " 'chemistry': <networkx.classes.digraph.DiGraph at 0x7fda824b9128>,\n",
       " 'biophysics': <networkx.classes.digraph.DiGraph at 0x7fda4cbc0898>,\n",
       " 'energy': <networkx.classes.digraph.DiGraph at 0x7fda4c5e02b0>,\n",
       " 'optics': <networkx.classes.digraph.DiGraph at 0x7fda9237b128>,\n",
       " 'earth science': <networkx.classes.digraph.DiGraph at 0x7fdab1a40d30>,\n",
       " 'geology': <networkx.classes.digraph.DiGraph at 0x7fda8234eb70>,\n",
       " 'meteorology': <networkx.classes.digraph.DiGraph at 0x7fda825a6e80>,\n",
       " 'philosophy of language': <networkx.classes.digraph.DiGraph at 0x7fda822d6be0>,\n",
       " 'philosophy of law': <networkx.classes.digraph.DiGraph at 0x7fda92307470>,\n",
       " 'philosophy of mind': <networkx.classes.digraph.DiGraph at 0x7fda91f1e3c8>,\n",
       " 'philosophy of science': <networkx.classes.digraph.DiGraph at 0x7fda92111940>,\n",
       " 'economics': <networkx.classes.digraph.DiGraph at 0x7fda17e69d68>,\n",
       " 'accounting': <networkx.classes.digraph.DiGraph at 0x7fda90cf8be0>,\n",
       " 'education': <networkx.classes.digraph.DiGraph at 0x7fda4c5d9080>,\n",
       " 'linguistics': <networkx.classes.digraph.DiGraph at 0x7fda4c720e80>,\n",
       " 'law': <networkx.classes.digraph.DiGraph at 0x7fda4c720ef0>,\n",
       " 'psychology': <networkx.classes.digraph.DiGraph at 0x7fda4c7c3748>,\n",
       " 'sociology': <networkx.classes.digraph.DiGraph at 0x7fda2873e5f8>,\n",
       " 'electronics': <networkx.classes.digraph.DiGraph at 0x7fda28762be0>,\n",
       " 'software engineering': <networkx.classes.digraph.DiGraph at 0x7fda2862b208>,\n",
       " 'robotics': <networkx.classes.digraph.DiGraph at 0x7fda51dd7a90>,\n",
       " 'physics': <networkx.classes.digraph.DiGraph at 0x7fda2b11e8d0>}"
      ]
     },
     "execution_count": 14,
     "metadata": {},
     "output_type": "execute_result"
    }
   ],
   "source": [
    "import networkx as nx\n",
    "\n",
    "path_saved = '/Users/harangju/Box Sync/Research/my papers/wikipedia paper/data/graphs/full_page/undated/'\n",
    "# natural & physical sciences\n",
    "topics = ['anatomy', 'biochemistry', 'cognitive science', 'evolutionary biology',\n",
    "          'genetics', 'immunology', 'molecular biology']\n",
    "topics += ['chemistry', 'biophysics', 'energy', 'optics', \n",
    "           'earth science', 'geology', 'meteorology']\n",
    "# philosophy\n",
    "# topics += []\n",
    "topics += ['philosophy of language', 'philosophy of law', \n",
    "           'philosophy of mind', 'philosophy of science']\n",
    "# social sciences\n",
    "topics += ['economics', 'accounting', 'education', 'linguistics', 'law', 'psychology', 'sociology']\n",
    "# technology & applied sciences\n",
    "topics += ['electronics', 'software engineering', 'robotics']\n",
    "topics += ['physics']\n",
    "\n",
    "graphs = {}\n",
    "for topic in topics:\n",
    "    graphs[topic] = nx.read_gexf(path_saved + topic + '.gexf')\n",
    "graphs"
   ]
  },
  {
   "cell_type": "code",
   "execution_count": 15,
   "metadata": {},
   "outputs": [],
   "source": [
    "import wiki\n",
    "\n",
    "path_base = '/Users/harangju/Developer/data/wiki/'\n",
    "name_xml = 'enwiki-20190801-pages-articles-multistream.xml.bz2'\n",
    "name_index = 'enwiki-20190801-pages-articles-multistream-index.txt.bz2'\n",
    "path_xml = path_base + name_xml\n",
    "path_index = path_base + name_index\n",
    "dump = wiki.Dump(path_xml, path_index)"
   ]
  },
  {
   "cell_type": "code",
   "execution_count": 16,
   "metadata": {},
   "outputs": [
    {
     "name": "stdout",
     "output_type": "stream",
     "text": [
      "Topic: anatomy\n",
      "Dump: Loading index...\n",
      "Dump: Loaded.\n",
      "Topic: biochemistry\n",
      "Topic: cognitive science\n",
      "Topic: evolutionary biology\n",
      "Topic: genetics\n",
      "Topic: immunology\n",
      "Topic: molecular biology\n",
      "Topic: chemistry\n",
      "Topic: biophysics\n",
      "Topic: energy\n",
      "Topic: optics\n",
      "Topic: earth science\n",
      "Topic: geology\n",
      "Topic: meteorology\n",
      "Topic: philosophy of language\n",
      "Topic: philosophy of law\n",
      "Topic: philosophy of mind\n",
      "Topic: philosophy of science\n",
      "Topic: economics\n",
      "Topic: accounting\n",
      "Topic: education\n",
      "Topic: linguistics\n",
      "Topic: law\n",
      "Topic: psychology\n",
      "Topic: sociology\n",
      "Topic: electronics\n",
      "Topic: software engineering\n",
      "Topic: robotics\n",
      "Topic: physics\n"
     ]
    }
   ],
   "source": [
    "for topic, graph in graphs.items():\n",
    "    print('Topic: ' + topic)\n",
    "    for node in graph.nodes:\n",
    "        dump.load_page(node)\n",
    "        graph.nodes[node]['year'] = dump.years[0] if len(dump.years)>0 else []"
   ]
  },
  {
   "cell_type": "code",
   "execution_count": 18,
   "metadata": {},
   "outputs": [],
   "source": [
    "path_dated_unfilled = '/Users/harangju/Box Sync/Research/my papers/wikipedia paper' +\\\n",
    "                      '/data/graphs/full_page/dated/unfilled/'\n",
    "for topic, graph in graphs.items():\n",
    "    nx.write_gexf(graph, path_dated_unfilled + topic + '.gexf')"
   ]
  },
  {
   "cell_type": "code",
   "execution_count": 19,
   "metadata": {},
   "outputs": [
    {
     "data": {
      "text/plain": [
       "{'label': 'Robotics', 'year': 1900}"
      ]
     },
     "execution_count": 19,
     "metadata": {},
     "output_type": "execute_result"
    }
   ],
   "source": [
    "graphs['robotics'].nodes['Robotics']"
   ]
  },
  {
   "cell_type": "markdown",
   "metadata": {},
   "source": [
    "#### Fill in nodes without years"
   ]
  },
  {
   "cell_type": "code",
   "execution_count": 20,
   "metadata": {},
   "outputs": [],
   "source": [
    "def fill_empty_nodes(graph, full_parents=True):\n",
    "    \"\"\"\n",
    "    Returns\n",
    "    -------\n",
    "    bool\n",
    "        whether at least 1 empty node was filled\n",
    "    \"\"\"\n",
    "    empty_nodes = [n for n in graph.nodes if not graph.nodes[n]['year']]\n",
    "    for node in empty_nodes:\n",
    "        years = [graph.nodes[p]['year'] for p in graph.predecessors(node)]\n",
    "        if not years:\n",
    "            continue\n",
    "        if full_parents:\n",
    "            if [] not in years:\n",
    "                graph.nodes[node]['year'] = max(years)\n",
    "                return True\n",
    "        else:\n",
    "            years_filtered = [y for y in years if y]\n",
    "            if years_filtered:\n",
    "                graph.nodes[node]['year'] = max(years_filtered)\n",
    "                return True\n",
    "    return False"
   ]
  },
  {
   "cell_type": "code",
   "execution_count": 21,
   "metadata": {},
   "outputs": [
    {
     "name": "stdout",
     "output_type": "stream",
     "text": [
      "Topic: anatomy\n",
      "Topic: biochemistry\n",
      "Topic: cognitive science\n",
      "Topic: evolutionary biology\n",
      "Topic: genetics\n",
      "Topic: immunology\n",
      "Topic: molecular biology\n",
      "Topic: chemistry\n",
      "Topic: biophysics\n",
      "Topic: energy\n",
      "Topic: optics\n",
      "Topic: earth science\n",
      "Topic: geology\n",
      "Topic: meteorology\n",
      "Topic: philosophy of language\n",
      "Topic: philosophy of law\n",
      "Topic: philosophy of mind\n",
      "Topic: philosophy of science\n",
      "Topic: economics\n",
      "Topic: accounting\n",
      "Topic: education\n",
      "Topic: linguistics\n",
      "Topic: law\n",
      "Topic: psychology\n",
      "Topic: sociology\n",
      "Topic: electronics\n",
      "Topic: software engineering\n",
      "Topic: robotics\n",
      "Topic: physics\n"
     ]
    }
   ],
   "source": [
    "for topic, graph in graphs.items():\n",
    "    print('Topic:', topic)\n",
    "    nodes = graph.nodes\n",
    "    nodes_filled = True\n",
    "    while nodes_filled:\n",
    "        nodes_filled = fill_empty_nodes(graph, full_parents=True)\n",
    "    nodes_filled = True\n",
    "    while nodes_filled:\n",
    "        nodes_filled = fill_empty_nodes(graph, full_parents=False)"
   ]
  },
  {
   "cell_type": "code",
   "execution_count": 23,
   "metadata": {},
   "outputs": [],
   "source": [
    "path_dated_filled = '/Users/harangju/Box Sync/Research/my papers/wikipedia paper' +\\\n",
    "                    '/data/graphs/full_page/dated/filled/'\n",
    "for topic, graph in graphs.items():\n",
    "    nx.write_gexf(graph, path_dated_filled + topic + '.gexf')"
   ]
  },
  {
   "cell_type": "markdown",
   "metadata": {},
   "source": [
    "#### Load graphs"
   ]
  },
  {
   "cell_type": "code",
   "execution_count": null,
   "metadata": {},
   "outputs": [],
   "source": [
    "topics = ['biochemistry']\n",
    "path_dated_filled = '/Users/harangju/Box Sync/Research/my papers/wikipedia paper' + \n",
    "                    '/data/graphs/full_page/dated/filled/'"
   ]
  },
  {
   "cell_type": "code",
   "execution_count": null,
   "metadata": {},
   "outputs": [],
   "source": [
    "import networkx as nx\n",
    "\n",
    "graphs = {}\n",
    "for topic in topics:\n",
    "    graphs[topic] = nx.read_gexf(path_dated_filled + topic + '.gexf')\n",
    "graphs"
   ]
  },
  {
   "cell_type": "markdown",
   "metadata": {},
   "source": [
    "### Visualize growth\n",
    "\n",
    "* gephi [tutorial](https://seinecle.github.io/gephi-tutorials/generated-html/converting-a-network-with-dates-into-dynamic.html)"
   ]
  },
  {
   "cell_type": "markdown",
   "metadata": {},
   "source": [
    "### Clique community growth"
   ]
  },
  {
   "cell_type": "code",
   "execution_count": null,
   "metadata": {},
   "outputs": [],
   "source": [
    "import networkx as nx"
   ]
  },
  {
   "cell_type": "code",
   "execution_count": null,
   "metadata": {},
   "outputs": [],
   "source": [
    "# cliques = nx.enumerate_all_cliques(nx.Graph(graphs['biochemistry']))\n",
    "cliques = nx.find_cliques(nx.Graph(graphs['biochemistry']))\n",
    "list(cliques)[100:110]"
   ]
  },
  {
   "cell_type": "markdown",
   "metadata": {},
   "source": [
    "### Persistent homology"
   ]
  },
  {
   "cell_type": "code",
   "execution_count": null,
   "metadata": {},
   "outputs": [],
   "source": []
  }
 ],
 "metadata": {
  "kernelspec": {
   "display_name": "Python 3",
   "language": "python",
   "name": "python3"
  },
  "language_info": {
   "codemirror_mode": {
    "name": "ipython",
    "version": 3
   },
   "file_extension": ".py",
   "mimetype": "text/x-python",
   "name": "python",
   "nbconvert_exporter": "python",
   "pygments_lexer": "ipython3",
   "version": "3.7.4"
  }
 },
 "nbformat": 4,
 "nbformat_minor": 2
}
