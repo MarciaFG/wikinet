{
 "cells": [
  {
   "cell_type": "markdown",
   "metadata": {},
   "source": [
    "### Persistent homology examples\n",
    "\n",
    "* Ripser [paper](https://www.theoj.org/joss-papers/joss.00925/10.21105.joss.00925.pdf) [code](https://github.com/scikit-tda/ripser.py) (fast)\n",
    "* Dionysus 2 [code](https://mrzv.org/software/dionysus2/) (representative examples)\n",
    "* Nico's [code](https://github.com/nhchristianson/Math-text-semantic-networks)\n",
    "* Ann's [code](https://github.com/asizemore/PH_tutorial/blob/master/Tutorial_day1.ipynb)"
   ]
  },
  {
   "cell_type": "markdown",
   "metadata": {
    "heading_collapsed": true
   },
   "source": [
    "## Load data"
   ]
  },
  {
   "cell_type": "markdown",
   "metadata": {
    "hidden": true
   },
   "source": [
    "### Load networks"
   ]
  },
  {
   "cell_type": "code",
   "execution_count": null,
   "metadata": {
    "hidden": true,
    "scrolled": true
   },
   "outputs": [],
   "source": [
    "%reload_ext autoreload\n",
    "%autoreload 2\n",
    "import os,sys\n",
    "sys.path.insert(1, os.path.join(sys.path[0], '..', 'module'))"
   ]
  },
  {
   "cell_type": "code",
   "execution_count": null,
   "metadata": {
    "hidden": true,
    "scrolled": true
   },
   "outputs": [],
   "source": [
    "topics = ['anatomy', 'biochemistry', 'cognitive science', 'evolutionary biology',\n",
    "          'genetics', 'immunology', 'molecular biology', 'chemistry', 'biophysics',\n",
    "          'energy', 'optics', 'earth science', 'geology', 'meteorology',\n",
    "          'philosophy of language', 'philosophy of law', 'philosophy of mind',\n",
    "          'philosophy of science', 'economics', 'accounting', 'education',\n",
    "          'linguistics', 'law', 'psychology', 'sociology', 'electronics',\n",
    "          'software engineering', 'robotics',\n",
    "          'calculus', 'geometry', 'abstract algebra',\n",
    "          'Boolean algebra', 'commutative algebra', 'group theory', 'linear algebra',\n",
    "          'number theory', 'dynamical systems and differential equations']"
   ]
  },
  {
   "cell_type": "code",
   "execution_count": null,
   "metadata": {
    "hidden": true,
    "scrolled": true
   },
   "outputs": [],
   "source": [
    "import wiki\n",
    "\n",
    "path_saved = '/Users/harangju/Developer/data/wiki/graphs/dated/'\n",
    "\n",
    "networks = {}\n",
    "for topic in topics:\n",
    "    print(topic, end=' ')\n",
    "    networks[topic] = wiki.Net(path_graph=path_saved + topic + '.pickle',\n",
    "                               path_barcodes=path_saved + topic + '.barcode')"
   ]
  },
  {
   "cell_type": "code",
   "execution_count": null,
   "metadata": {
    "hidden": true
   },
   "outputs": [],
   "source": [
    "path_null = '/Users/harangju/Developer/data/wiki/graphs/null-target/'\n",
    "num_nulls = 10\n",
    "null_targets = {}\n",
    "for topic in topics:\n",
    "    print(topic, end=' ')\n",
    "    null_targets[topic] = [None for i in range(num_nulls)]\n",
    "    for i in range(num_nulls):\n",
    "        null_targets[topic][i] = wiki.Net(path_graph=path_null + topic + '-null-' + str(i) + '.pickle',\n",
    "                                          path_barcodes=path_null + topic + '-null-' + str(i) + '.barcode')"
   ]
  },
  {
   "cell_type": "code",
   "execution_count": null,
   "metadata": {
    "hidden": true
   },
   "outputs": [],
   "source": [
    "path_null = '/Users/harangju/Developer/data/wiki/graphs/null-year/'\n",
    "num_nulls = 10\n",
    "null_years = {}\n",
    "for topic in topics:\n",
    "    print(topic, end=' ')\n",
    "    null_years[topic] = [None for i in range(num_nulls)]\n",
    "    for i in range(num_nulls):\n",
    "        null_years[topic][i] = wiki.Net(path_graph=path_null + topic + '-null-' + str(i) + '.pickle',\n",
    "                                        path_barcodes=path_null + topic + '-null-' + str(i) + '.barcode')"
   ]
  },
  {
   "cell_type": "markdown",
   "metadata": {
    "heading_collapsed": true,
    "hidden": true
   },
   "source": [
    "### Compute barcodes"
   ]
  },
  {
   "cell_type": "markdown",
   "metadata": {
    "hidden": true
   },
   "source": [
    "Go to the \"Load\" sections to load `barcodes` with computed data."
   ]
  },
  {
   "cell_type": "code",
   "execution_count": null,
   "metadata": {
    "hidden": true,
    "scrolled": false
   },
   "outputs": [],
   "source": [
    "import pandas as pd\n",
    "\n",
    "pd.options.display.max_rows = 12"
   ]
  },
  {
   "cell_type": "code",
   "execution_count": null,
   "metadata": {
    "hidden": true
   },
   "outputs": [],
   "source": [
    "barcodes = pd.concat([network.barcodes.assign(topic=topic)\\\n",
    "                                      .assign(type='real')\\\n",
    "                                      .assign(null=-1)\n",
    "                      for topic, network in networks.items()] +\n",
    "                     [network.barcodes.assign(topic=topic)\\\n",
    "                                      .assign(type='null_targets')\\\n",
    "                                      .assign(null=i)\n",
    "                      for topic, nulls in null_targets.items()\n",
    "                          for i, network in enumerate(nulls)] +\n",
    "                     [network.barcodes.assign(topic=topic)\\\n",
    "                                      .assign(type='null_years')\\\n",
    "                                      .assign(null=i)\n",
    "                      for topic, nulls in null_years.items()\n",
    "                          for i, network in enumerate(nulls)],\n",
    "                     ignore_index=True, sort=False)"
   ]
  },
  {
   "cell_type": "code",
   "execution_count": null,
   "metadata": {
    "hidden": true
   },
   "outputs": [],
   "source": [
    "pd.unique(barcodes.type)"
   ]
  },
  {
   "cell_type": "code",
   "execution_count": null,
   "metadata": {
    "hidden": true
   },
   "outputs": [],
   "source": [
    "barcodes"
   ]
  },
  {
   "cell_type": "markdown",
   "metadata": {
    "heading_collapsed": true
   },
   "source": [
    "## Plotting functions"
   ]
  },
  {
   "cell_type": "code",
   "execution_count": null,
   "metadata": {
    "hidden": true
   },
   "outputs": [],
   "source": [
    "import numpy as np\n",
    "import pandas as pd\n",
    "import plotly.offline as po\n",
    "import plotly.express as px\n",
    "import plotly.graph_objs as go\n",
    "import plotly.figure_factory as ff\n",
    "po.init_notebook_mode(connected=True)\n",
    "\n",
    "def plot_barcodes(barcodes, title):\n",
    "    fig = go.Figure()\n",
    "    x = {dim: [] for dim in pd.unique(barcodes.dim)}\n",
    "    y = {dim: [] for dim in pd.unique(barcodes.dim)}\n",
    "    deaths = [[],[]]\n",
    "    for i, row in barcodes.iterrows():\n",
    "        dim = row['dim']\n",
    "        birth = row['birth']\n",
    "        death = row['death'] if row['death']!=np.inf else 2050\n",
    "        x[dim].extend([birth,death,None])\n",
    "        y[dim].extend([i,i,None])\n",
    "        if row['death']!=np.inf:\n",
    "            deaths[0].extend([death,None])\n",
    "            deaths[1].extend([i,None])\n",
    "    for dim in pd.unique(barcodes.dim):\n",
    "        fig.add_trace(go.Scatter(x=x[dim], y=y[dim],\n",
    "                                 mode='lines',\n",
    "                                 name=f\"dim={dim}\"))\n",
    "    fig.add_trace(go.Scatter(x=deaths[0], y=deaths[1], mode='markers',\n",
    "                             marker={'color': 'black', 'size': 1},\n",
    "                             name='deaths'))\n",
    "    fig.update_layout(template='plotly_white',\n",
    "                      title_text=f\"{title}\",\n",
    "                      xaxis={'title': 'year'},\n",
    "                      yaxis={'title': '', 'tickvals': []})\n",
    "    fig.show()\n",
    "    return fig"
   ]
  },
  {
   "cell_type": "code",
   "execution_count": null,
   "metadata": {
    "hidden": true,
    "scrolled": true
   },
   "outputs": [],
   "source": [
    "def plot_persistence_diagram(barcodes):\n",
    "    colors = [mcd.XKCD_COLORS['xkcd:'+c]\n",
    "      for c in ['emerald green', 'tealish', 'peacock blue', \n",
    "                'grey', 'brown', 'red', 'yellow']]\n",
    "    plt.figure(figsize=(10,10))\n",
    "    for dim in set(barcodes['dim']):\n",
    "        data = barcodes.loc[barcodes['dim']==dim]\n",
    "        data.loc[data['death']==np.inf,'death'] = 2030\n",
    "        plt.plot(data['birth'], data['death'], '.')\n",
    "    x = [barcodes['birth'].min(),\n",
    "         barcodes.loc[barcodes['death']!=np.inf,'death'].max()]\n",
    "    print(x)\n",
    "    plt.plot(x, [2030, 2030], '--')"
   ]
  },
  {
   "cell_type": "code",
   "execution_count": null,
   "metadata": {
    "hidden": true
   },
   "outputs": [],
   "source": [
    "def plot_betti(barcodes, title):\n",
    "    fig = go.Figure()\n",
    "    year_min = int(np.min(barcodes.birth))\n",
    "    year_max = int(np.max(barcodes[barcodes.death!=np.inf].death))\n",
    "    counts = np.zeros((len(barcodes.index), year_max-year_min))\n",
    "    dims = np.zeros(len(barcodes.index))\n",
    "    for i, row in barcodes.iterrows():\n",
    "        dim = row['dim']\n",
    "        birth = int(row['birth'])\n",
    "        death = int(row['death']) if row['death']!=np.inf else year_max\n",
    "        counts[i,birth-year_min:death-year_min] = 1\n",
    "        dims[i] = dim\n",
    "    for dim in pd.unique(barcodes.dim):\n",
    "        betti = np.sum(counts[dims==dim,:], axis=0)\n",
    "        fig.add_trace(go.Scatter(x=np.arange(year_min, year_max),\n",
    "                                 y=betti,\n",
    "                                 mode='lines',\n",
    "                                 name=f\"dim={dim}\"))\n",
    "    fig.update_layout(template='plotly_white',\n",
    "                      title_text=f\"{title}\",\n",
    "                      xaxis={'title': 'year',\n",
    "                             'range': [0,year_max]},\n",
    "                      yaxis={'title': 'count',\n",
    "                             'range': [0,2000]})\n",
    "    fig.show()\n",
    "    return fig"
   ]
  },
  {
   "cell_type": "markdown",
   "metadata": {},
   "source": [
    "## Plot figures"
   ]
  },
  {
   "cell_type": "code",
   "execution_count": null,
   "metadata": {},
   "outputs": [],
   "source": [
    "import os\n",
    "import numpy as np\n",
    "import plotly.express as px\n",
    "import plotly.graph_objects as go\n",
    "import pandas as pd\n",
    "path_fig = '/Users/harangju/Box Sync/Research/my papers/wikipedia/results/'"
   ]
  },
  {
   "cell_type": "markdown",
   "metadata": {
    "heading_collapsed": true
   },
   "source": [
    "### Barcodes"
   ]
  },
  {
   "cell_type": "code",
   "execution_count": null,
   "metadata": {
    "hidden": true
   },
   "outputs": [],
   "source": [
    "import os\n",
    "\n",
    "path_plot = '2 barcodes'\n",
    "\n",
    "if not os.path.exists(os.path.join(path_fig, path_plot)):\n",
    "    os.mkdir(os.path.join(path_fig, path_plot))"
   ]
  },
  {
   "cell_type": "code",
   "execution_count": null,
   "metadata": {
    "hidden": true,
    "scrolled": true
   },
   "outputs": [],
   "source": [
    "for topic in topics:\n",
    "    plot_barcodes(networks[topic].barcodes[networks[topic].barcodes.lifetime!=0],\n",
    "                  f\"Topic: {topic} (empirical)\")\\\n",
    "        .write_image(os.path.join(path_fig, path_plot, f\"{topic}_empirical.pdf\"))\n",
    "    plot_barcodes(null_targets[topic][0].barcodes[null_targets[topic][0].barcodes.lifetime!=0],\n",
    "                  f\"Topic: {topic} (target-rewired)\")\\\n",
    "        .write_image(os.path.join(path_fig, path_plot, f\"{topic}_target.pdf\"))\n",
    "    plot_barcodes(null_years[topic][0].barcodes[null_years[topic][0].barcodes.lifetime!=0],\n",
    "                  f\"Topic: {topic} (year-reordered)\")\\\n",
    "        .write_image(os.path.join(path_fig, path_plot, f\"{topic}_year.pdf\"))"
   ]
  },
  {
   "cell_type": "markdown",
   "metadata": {
    "heading_collapsed": true
   },
   "source": [
    "### Betti curves"
   ]
  },
  {
   "cell_type": "code",
   "execution_count": null,
   "metadata": {
    "hidden": true
   },
   "outputs": [],
   "source": [
    "import os\n",
    "\n",
    "path_plot = '2 betti'\n",
    "\n",
    "if not os.path.exists(os.path.join(path_fig, path_plot)):\n",
    "    os.mkdir(os.path.join(path_fig, path_plot))"
   ]
  },
  {
   "cell_type": "code",
   "execution_count": null,
   "metadata": {
    "hidden": true,
    "scrolled": true
   },
   "outputs": [],
   "source": [
    "for topic in topics:\n",
    "    b = networks[topic].barcodes\n",
    "    plot_betti(b[b.lifetime!=0].reset_index(), f\"{topic} (empirical)\")\\\n",
    "        .write_image(os.path.join(path_fig, path_plot, f\"{topic}_empirical.pdf\"))\n",
    "    b = null_targets[topic][0].barcodes\n",
    "    plot_betti(b[b.lifetime!=0].reset_index(), f\"{topic} (target-rewired)\")\\\n",
    "        .write_image(os.path.join(path_fig, path_plot, f\"{topic}_target.pdf\"))\n",
    "    b = null_years[topic][0].barcodes\n",
    "    plot_betti(b[b.lifetime!=0].reset_index(), f\"{topic} (year-reordered)\")\\\n",
    "        .write_image(os.path.join(path_fig, path_plot, f\"{topic}_year.pdf\"))"
   ]
  },
  {
   "cell_type": "markdown",
   "metadata": {
    "heading_collapsed": true
   },
   "source": [
    "### Lifetime (finite)"
   ]
  },
  {
   "cell_type": "markdown",
   "metadata": {
    "heading_collapsed": true,
    "hidden": true
   },
   "source": [
    "#### Compute"
   ]
  },
  {
   "cell_type": "code",
   "execution_count": null,
   "metadata": {
    "hidden": true
   },
   "outputs": [],
   "source": [
    "from scipy import stats"
   ]
  },
  {
   "cell_type": "code",
   "execution_count": null,
   "metadata": {
    "hidden": true,
    "scrolled": false
   },
   "outputs": [],
   "source": [
    "lifetime = pd.DataFrame()\n",
    "for topic in topics:\n",
    "    data = barcodes[barcodes.topic==topic].copy()\n",
    "    data = data[data.lifetime!=np.inf]\n",
    "    t_targets, p_targets = stats.ttest_ind(data[data.type=='real']['lifetime'].values,\n",
    "                                           data[data.type=='null_targets']['lifetime'].values)\n",
    "    t_years, p_years = stats.ttest_ind(data[data.type=='real']['lifetime'].values,\n",
    "                                       data[data.type=='null_years']['lifetime'].values)\n",
    "    lifetime = pd.concat([lifetime, pd.DataFrame([[t_targets, p_targets,\n",
    "                                                   t_years, p_years]],\n",
    "                                                 columns=['t (targets)','p (targets)',\n",
    "                                                          't (years)', 'p (years)'])],\n",
    "                         ignore_index=True)"
   ]
  },
  {
   "cell_type": "code",
   "execution_count": null,
   "metadata": {
    "hidden": true
   },
   "outputs": [],
   "source": [
    "lifetime.transpose()"
   ]
  },
  {
   "cell_type": "code",
   "execution_count": null,
   "metadata": {
    "hidden": true
   },
   "outputs": [],
   "source": [
    "barcodes_mean = barcodes[barcodes.lifetime!=np.inf]\\\n",
    "    .groupby(['topic', 'type'], as_index=False)\\\n",
    "    .mean()\\\n",
    "    .drop(['dim','birth','death','null'], axis=1)\n",
    "barcodes_mean"
   ]
  },
  {
   "cell_type": "markdown",
   "metadata": {
    "heading_collapsed": true,
    "hidden": true
   },
   "source": [
    "#### Plot"
   ]
  },
  {
   "cell_type": "code",
   "execution_count": null,
   "metadata": {
    "hidden": true
   },
   "outputs": [],
   "source": [
    "import os\n",
    "\n",
    "path_plot = '2 lifetimes'\n",
    "\n",
    "if not os.path.exists(os.path.join(path_fig, path_plot)):\n",
    "    os.mkdir(os.path.join(path_fig, path_plot))"
   ]
  },
  {
   "cell_type": "code",
   "execution_count": null,
   "metadata": {
    "hidden": true,
    "scrolled": false
   },
   "outputs": [],
   "source": [
    "fig = go.Figure()\n",
    "max_lifetime = np.max(barcodes_mean.lifetime) + 10\n",
    "fig.add_trace(go.Scatter(x=[0,max_lifetime],\n",
    "                         y=[0,max_lifetime],\n",
    "                         mode='lines',\n",
    "                         line=dict(dash='dash'),\n",
    "                         name='1:1'))\n",
    "fig.add_trace(go.Scatter(x=barcodes_mean[barcodes_mean.type=='null_targets'].lifetime,\n",
    "                         y=barcodes_mean[barcodes_mean.type=='real'].lifetime,\n",
    "                         mode='markers',\n",
    "                         name='target-reordered',\n",
    "                         hovertext=barcodes_mean[barcodes_mean.type=='real'].topic))\n",
    "fig.add_trace(go.Scatter(x=barcodes_mean[barcodes_mean.type=='null_years'].lifetime,\n",
    "                         y=barcodes_mean[barcodes_mean.type=='real'].lifetime,\n",
    "                         mode='markers',\n",
    "                         name='year-reordered',\n",
    "                         hovertext=barcodes_mean[barcodes_mean.type=='real'].topic))\n",
    "fig.update_layout(template='plotly_white',\n",
    "                  title='Lifetimes (finite)',\n",
    "                  width=500, height=500,\n",
    "                  xaxis={'title': 'years (null)',\n",
    "                         'range': [0,max_lifetime]},\n",
    "                  yaxis={'title': 'years (real)',\n",
    "                         'range': [0,max_lifetime],\n",
    "                         'scaleanchor': 'x',\n",
    "                         'scaleratio': 1})\n",
    "fig.show()\n",
    "fig.write_image(os.path.join(path_fig, path_plot, 'finite.pdf'))"
   ]
  },
  {
   "cell_type": "markdown",
   "metadata": {
    "heading_collapsed": true
   },
   "source": [
    "### Lifetime (infinite)"
   ]
  },
  {
   "cell_type": "code",
   "execution_count": null,
   "metadata": {
    "hidden": true
   },
   "outputs": [],
   "source": [
    "import scipy as sp\n",
    "reals = []\n",
    "targets = []\n",
    "years = []\n",
    "for topic in topics:\n",
    "    reals.append(barcodes[(barcodes.lifetime==np.inf) &\n",
    "                          (barcodes.topic==topic) &\n",
    "                          (barcodes.type=='real')].shape[0])\n",
    "    targets.append(barcodes[(barcodes.lifetime==np.inf) &\n",
    "                            (barcodes.topic==topic) &\n",
    "                            (barcodes.type=='null_targets')].shape[0])\n",
    "    years.append(barcodes[(barcodes.lifetime==np.inf) &\n",
    "                          (barcodes.topic==topic) &\n",
    "                          (barcodes.type=='null_years')].shape[0])\n",
    "t_targets, p_targets = sp.stats.ttest_ind(reals, targets)\n",
    "t_years, p_years = sp.stats.ttest_ind(reals, years)\n",
    "t_targets, p_targets, t_years, p_years"
   ]
  },
  {
   "cell_type": "code",
   "execution_count": null,
   "metadata": {
    "hidden": true
   },
   "outputs": [],
   "source": [
    "import plotly.figure_factory as ff"
   ]
  },
  {
   "cell_type": "code",
   "execution_count": null,
   "metadata": {
    "hidden": true
   },
   "outputs": [],
   "source": [
    "import os\n",
    "\n",
    "path_plot = '2 lifetimes'\n",
    "\n",
    "if not os.path.exists(os.path.join(path_fig, path_plot)):\n",
    "    os.mkdir(os.path.join(path_fig, path_plot))"
   ]
  },
  {
   "cell_type": "code",
   "execution_count": null,
   "metadata": {
    "hidden": true
   },
   "outputs": [],
   "source": [
    "fig = ff.create_distplot([years, targets, reals],\n",
    "                         ['null years', 'null targets', 'real'],\n",
    "                         bin_size=1000, show_curve=False,\n",
    "                         colors=['#2ca02c', '#d62728', '#1f77b4'])\n",
    "fig.update_layout(template='plotly_white',\n",
    "                      title_text='Lifetimes (infinite)',\n",
    "                      xaxis={'title': 'count'},\n",
    "                      yaxis={'title': 'probability'})\n",
    "fig.show()\n",
    "fig.write_image(os.path.join(path_fig, path_plot, 'infinite.pdf'))"
   ]
  },
  {
   "cell_type": "markdown",
   "metadata": {
    "heading_collapsed": true
   },
   "source": [
    "### Dimensionality"
   ]
  },
  {
   "cell_type": "markdown",
   "metadata": {
    "heading_collapsed": true,
    "hidden": true
   },
   "source": [
    "#### Compute"
   ]
  },
  {
   "cell_type": "code",
   "execution_count": null,
   "metadata": {
    "hidden": true
   },
   "outputs": [],
   "source": [
    "barcodes.assign(count=1).groupby(['type','topic','dim'], as_index=False)['count']\\\n",
    "        .sum()\\\n",
    "        .replace(['null_targets','null_years'], ['targets', 'years'])\\\n",
    "        .sort_values('type', axis=0, ascending=True)"
   ]
  },
  {
   "cell_type": "markdown",
   "metadata": {
    "heading_collapsed": true,
    "hidden": true
   },
   "source": [
    "#### Plot"
   ]
  },
  {
   "cell_type": "code",
   "execution_count": null,
   "metadata": {
    "hidden": true
   },
   "outputs": [],
   "source": [
    "import os\n",
    "\n",
    "path_plot = '2 dimensionality'\n",
    "\n",
    "if not os.path.exists(os.path.join(path_fig, path_plot)):\n",
    "    os.mkdir(os.path.join(path_fig, path_plot))"
   ]
  },
  {
   "cell_type": "code",
   "execution_count": null,
   "metadata": {
    "hidden": true
   },
   "outputs": [],
   "source": [
    "fig = px.box(barcodes.assign(count=1).groupby(['type','topic','dim'], \n",
    "                                              as_index=False)['count']\\\n",
    "                     .sum()\\\n",
    "                     .replace(['null_targets','null_years'], ['targets', 'years'])\\\n",
    "                     .sort_values('type', axis=0),\n",
    "             x='dim', y='count', color='type')\n",
    "# fig = px.box(barcodes.assign(count=1).groupby(['type','topic','dim'], \n",
    "#                                               as_index=False)['count']\\\n",
    "#                      .sum()\\\n",
    "#                      .replace(['null_targets','null_years'], ['targets', 'years'])\\\n",
    "#                      .sort_values('type', axis=0),\n",
    "#              x='dim', y='count', color='type', points=False)\n",
    "fig.update_layout(template='plotly_white',\n",
    "                  title_text='Dimensionality',\n",
    "                  yaxis={'range': [0,22000]})\n",
    "fig.show()\n",
    "fig.write_image(os.path.join(path_fig, path_plot, 'dimensionality.pdf'))"
   ]
  },
  {
   "cell_type": "markdown",
   "metadata": {
    "heading_collapsed": true
   },
   "source": [
    "### Lifetime vs Cavity volume"
   ]
  },
  {
   "cell_type": "markdown",
   "metadata": {
    "hidden": true
   },
   "source": [
    "#### Compute cavity volume"
   ]
  },
  {
   "cell_type": "markdown",
   "metadata": {
    "hidden": true
   },
   "source": [
    "Useful resource\n",
    "* [Computational topology](https://books.google.com/books?id=MDXa6gFRZuIC&printsec=frontcover#v=onepage&q=%22persistent%20homology%22&f=true)\n",
    "* [tutorial](http://pages.cs.wisc.edu/~jerryzhu/pub/cvrghomology.pdf)"
   ]
  },
  {
   "cell_type": "code",
   "execution_count": null,
   "metadata": {
    "hidden": true
   },
   "outputs": [],
   "source": [
    "import pickle\n",
    "import numpy as np\n",
    "import gensim.utils as gu\n",
    "import gensim.matutils as gmat\n",
    "import sklearn.metrics.pairwise as smp"
   ]
  },
  {
   "cell_type": "code",
   "execution_count": null,
   "metadata": {
    "hidden": true
   },
   "outputs": [],
   "source": [
    "for i, row in barcodes.iterrows():\n",
    "    sys.stdout.write(\"\\rindex: \" + str(i+1) + '/' + str(len(barcodes.index)))\n",
    "    sys.stdout.flush()\n",
    "    nodes = row['homology nodes']\n",
    "    topic = row['topic']\n",
    "    null_index = int(row['null'])\n",
    "    if row['type'] == 'real':\n",
    "        network = networks[topic]\n",
    "    elif row['type'] == 'null_targets':\n",
    "        network = null_targets[topic][null_index]\n",
    "    else:\n",
    "        network = null_years[topic][null_index]\n",
    "    tfidf = network.graph.graph['tfidf']\n",
    "    indices = [network.nodes.index(n) for n in nodes]\n",
    "    centroid = tfidf[:,indices].mean(axis=1) if indices else 0\n",
    "    distances = smp.cosine_distances(X=tfidf[:,indices].transpose(), Y=centroid.transpose())\\\n",
    "                if indices else [0]\n",
    "    barcodes.loc[i,'average distance'] = np.mean(distances)"
   ]
  },
  {
   "cell_type": "code",
   "execution_count": null,
   "metadata": {
    "hidden": true
   },
   "outputs": [],
   "source": [
    "barcodes"
   ]
  },
  {
   "cell_type": "markdown",
   "metadata": {
    "heading_collapsed": true,
    "hidden": true
   },
   "source": [
    "#### Save"
   ]
  },
  {
   "cell_type": "code",
   "execution_count": null,
   "metadata": {
    "hidden": true
   },
   "outputs": [],
   "source": [
    "import pickle\n",
    "path_analysis = '/Users/harangju/Developer/data/wiki/analysis/'\n",
    "pickle.dump(barcodes, open(f\"{path_analysis}/barcode_volume.pickle\",'wb'))"
   ]
  },
  {
   "cell_type": "markdown",
   "metadata": {
    "heading_collapsed": true,
    "hidden": true
   },
   "source": [
    "#### Load"
   ]
  },
  {
   "cell_type": "code",
   "execution_count": null,
   "metadata": {
    "hidden": true
   },
   "outputs": [],
   "source": [
    "import pickle\n",
    "path_analysis = '/Users/harangju/Developer/data/wiki/analysis/'\n",
    "barcodes = pickle.load(open(f\"{path_analysis}/barcode_volume.pickle\",'rb'))"
   ]
  },
  {
   "cell_type": "code",
   "execution_count": null,
   "metadata": {
    "hidden": true
   },
   "outputs": [],
   "source": [
    "barcodes"
   ]
  },
  {
   "cell_type": "markdown",
   "metadata": {
    "heading_collapsed": true,
    "hidden": true
   },
   "source": [
    "#### Compute regression"
   ]
  },
  {
   "cell_type": "code",
   "execution_count": null,
   "metadata": {
    "hidden": true
   },
   "outputs": [],
   "source": [
    "reg = pd.DataFrame()\n",
    "for topic in pd.unique(barcodes.topic):\n",
    "    data = barcodes[(barcodes.topic==topic) & (barcodes.type=='real') & \n",
    "                    (barcodes.lifetime!=np.inf) & (barcodes.lifetime!=0)]\n",
    "    x = data['average distance'].values\n",
    "    y = data['lifetime'].values\n",
    "    r, p = sp.stats.pearsonr(x, y)\n",
    "    reg = pd.concat([reg, pd.DataFrame([[topic,r,p,data.shape[0]]],\n",
    "                                       columns=['topic','r','p','n'])],\n",
    "                    ignore_index=True)"
   ]
  },
  {
   "cell_type": "code",
   "execution_count": null,
   "metadata": {
    "hidden": true
   },
   "outputs": [],
   "source": [
    "reg[reg.n>200]"
   ]
  },
  {
   "cell_type": "code",
   "execution_count": null,
   "metadata": {
    "hidden": true
   },
   "outputs": [],
   "source": [
    "reg[reg.p<0.01]"
   ]
  },
  {
   "cell_type": "markdown",
   "metadata": {
    "heading_collapsed": true,
    "hidden": true
   },
   "source": [
    "#### Plot"
   ]
  },
  {
   "cell_type": "code",
   "execution_count": null,
   "metadata": {
    "hidden": true
   },
   "outputs": [],
   "source": [
    "import scipy as sp\n",
    "import scipy.stats"
   ]
  },
  {
   "cell_type": "code",
   "execution_count": null,
   "metadata": {
    "hidden": true
   },
   "outputs": [],
   "source": [
    "path_plot = '2 cavity volume'\n",
    "\n",
    "if not os.path.exists(os.path.join(path_fig, path_plot)):\n",
    "    os.mkdir(os.path.join(path_fig, path_plot))"
   ]
  },
  {
   "cell_type": "code",
   "execution_count": null,
   "metadata": {
    "hidden": true,
    "scrolled": true
   },
   "outputs": [],
   "source": [
    "for topic in pd.unique(barcodes.topic):\n",
    "    data = barcodes[(barcodes.topic==topic) & (barcodes.type=='real') & \n",
    "                    (barcodes.lifetime!=np.inf) & (barcodes.lifetime!=0)]\n",
    "    x = data['average distance'].values\n",
    "    y = data['lifetime'].values\n",
    "    r, p = sp.stats.pearsonr(x, y)\n",
    "    a, b, _, _, _ = sp.stats.linregress(x, y)\n",
    "    fig = go.Figure()\n",
    "    fig.add_trace(go.Scatter(x=x, y=y,\n",
    "                             mode='markers',\n",
    "                             marker={'size': 4},\n",
    "                             showlegend=False))\n",
    "    fig.add_trace(go.Scatter(x=np.linspace(np.min(x),np.max(x)),\n",
    "                             y=a*np.linspace(np.min(x),np.max(x))+b,\n",
    "                             mode='lines',\n",
    "                             showlegend=False))\n",
    "    fig.update_layout(template='plotly_white',\n",
    "                      title_text=f\"{topic} (r={r:.2f}, p={p:0.1e})\",\n",
    "                      xaxis={'title': 'average distance to centroid'},\n",
    "                      yaxis={'title': 'lifetime'})\n",
    "    fig.show()\n",
    "    fig.write_image(os.path.join(path_fig, path_plot, f\"{topic}.pdf\"))"
   ]
  },
  {
   "cell_type": "markdown",
   "metadata": {},
   "source": [
    "### Lifetime vs Cavity weights"
   ]
  },
  {
   "cell_type": "markdown",
   "metadata": {},
   "source": [
    "#### Compute"
   ]
  },
  {
   "cell_type": "code",
   "execution_count": null,
   "metadata": {},
   "outputs": [
    {
     "name": "stdout",
     "output_type": "stream",
     "text": [
      "index: 5199/3832270"
     ]
    }
   ],
   "source": [
    "import sys\n",
    "for i, row in barcodes.iterrows():\n",
    "    sys.stdout.write(\"\\rindex: \" + str(i+1) + '/' + str(len(barcodes.index)))\n",
    "    sys.stdout.flush()\n",
    "    nodes = row['homology nodes']\n",
    "    topic = row['topic']\n",
    "    null_index = int(row['null'])\n",
    "    if row['type'] == 'real':\n",
    "        network = networks[topic]\n",
    "    elif row['type'] == 'null_targets':\n",
    "        network = null_targets[topic][null_index]\n",
    "    else:\n",
    "        network = null_years[topic][null_index]\n",
    "    subgraph = network.graph.subgraph(nodes)\n",
    "    barcodes.loc[i,'mean edge weights'] = np.mean([subgraph.edges[u,v]['weight']\n",
    "                                                   for u,v in subgraph.edges])"
   ]
  },
  {
   "cell_type": "code",
   "execution_count": null,
   "metadata": {},
   "outputs": [],
   "source": [
    "barcodes"
   ]
  },
  {
   "cell_type": "markdown",
   "metadata": {},
   "source": [
    "#### Save"
   ]
  },
  {
   "cell_type": "code",
   "execution_count": null,
   "metadata": {},
   "outputs": [],
   "source": [
    "import pickle\n",
    "path_analysis = '/Users/harangju/Developer/data/wiki/analysis/'\n",
    "pickle.dump(barcodes, open(f\"{path_analysis}/barcode_volume_weights.pickle\",'wb'))"
   ]
  },
  {
   "cell_type": "markdown",
   "metadata": {},
   "source": [
    "#### Load"
   ]
  },
  {
   "cell_type": "code",
   "execution_count": null,
   "metadata": {},
   "outputs": [],
   "source": [
    "import pickle\n",
    "path_analysis = '/Users/harangju/Developer/data/wiki/analysis/'\n",
    "barcodes = pickle.load(open(f\"{path_analysis}/barcode_volume_weights.pickle\",'rb'))"
   ]
  },
  {
   "cell_type": "markdown",
   "metadata": {},
   "source": [
    "#### Plot"
   ]
  },
  {
   "cell_type": "code",
   "execution_count": null,
   "metadata": {
    "scrolled": false
   },
   "outputs": [],
   "source": [
    "for topic, network in networks.items():\n",
    "    data = barcodes[(barcodes.topic==topic) & (barcodes.type=='real') & \n",
    "                    (barcodes.lifetime!=np.inf) & (barcodes.lifetime!=0)].dropna()\n",
    "    x = data['mean edge weights'].values\n",
    "    y = data['lifetime'].values\n",
    "    r, p = s.stats.pearsonr(x, y) if len(data['lifetime'])>2 else (0,0)\n",
    "    sns.regplot(x='mean edge weights', y='lifetime', marker='+', fit_reg=True,\n",
    "                data=data)\n",
    "    plt.title(topic + ' ' + str((r,p)))"
   ]
  },
  {
   "cell_type": "markdown",
   "metadata": {},
   "source": [
    "### Lifetime vs Mean weights of death simplex"
   ]
  },
  {
   "cell_type": "code",
   "execution_count": null,
   "metadata": {},
   "outputs": [],
   "source": [
    "mean_weights = []\n",
    "for i in range(len(barcodes.index)):\n",
    "    death_simplex = barcodes.iloc[i]['death simplex']\n",
    "    topic = barcodes.iloc[i]['topic']\n",
    "    network_type = barcodes.iloc[i]['type']\n",
    "    pairs = [(n1,n2) for n2 in death_simplex\n",
    "                     for n1 in death_simplex if n1!=n2]\n",
    "    if network_type=='real':\n",
    "        edges = [networks[topic].graph.get_edge_data(n1,n2) for n1,n2 in pairs]\n",
    "    elif network_type=='null_targets':\n",
    "        null = barcodes.iloc[i]['null']\n",
    "        edges = [null_targets[topic][null].graph.get_edge_data(n1,n2) for n1,n2 in pairs]\n",
    "    mean_weight = np.mean([e['weight'] for e in edges if e]) if edges else 0\n",
    "    mean_weights.append(mean_weight)"
   ]
  },
  {
   "cell_type": "code",
   "execution_count": null,
   "metadata": {},
   "outputs": [],
   "source": [
    "barcodes['mean weights'] = mean_weights\n",
    "barcodes"
   ]
  },
  {
   "cell_type": "code",
   "execution_count": null,
   "metadata": {},
   "outputs": [],
   "source": [
    "plt.figure(figsize=(10,10))\n",
    "data = barcodes.copy()\n",
    "# data.loc[data.lifetime==np.inf,'lifetime'] = max(data[data.lifetime!=np.inf].lifetime.values)\n",
    "data = data[data.lifetime!=np.inf]\n",
    "ax = sns.regplot(x='mean weights', y='lifetime',\n",
    "                 data=data, marker='.')\n",
    "a, b, r, p, s = stats.linregress(data['mean weights'], data['lifetime'])\n",
    "plt.title('r={:.4f}, p={:.4f}'.format(r, p))"
   ]
  },
  {
   "cell_type": "code",
   "execution_count": null,
   "metadata": {
    "scrolled": false
   },
   "outputs": [],
   "source": [
    "for topic in topics:\n",
    "    plt.figure(figsize=(6,6))\n",
    "    data = barcodes[barcodes.topic==topic].copy()\n",
    "#     data.loc[data.lifetime==np.inf,'lifetime'] = max(data[data.lifetime!=np.inf].lifetime.values)\n",
    "    data = data[data.lifetime!=np.inf]\n",
    "    sns.regplot(x='mean weights', y='lifetime', data=data,\n",
    "                marker='+', fit_reg=True)\n",
    "    a, b, r, p, s = stats.linregress(data['mean weights'], data['lifetime'])\n",
    "    plt.title('{}\\nr={:.4f}, p={:.4f}'.format(topic, r, p))"
   ]
  },
  {
   "cell_type": "markdown",
   "metadata": {},
   "source": [
    "### Node participation in birth & deaths"
   ]
  },
  {
   "cell_type": "code",
   "execution_count": null,
   "metadata": {},
   "outputs": [],
   "source": []
  },
  {
   "cell_type": "markdown",
   "metadata": {},
   "source": [
    "### Identify important nodes"
   ]
  },
  {
   "cell_type": "code",
   "execution_count": null,
   "metadata": {
    "scrolled": false
   },
   "outputs": [],
   "source": []
  },
  {
   "cell_type": "markdown",
   "metadata": {},
   "source": [
    "**Check empirical vs non-empirical sciences?**"
   ]
  },
  {
   "cell_type": "code",
   "execution_count": null,
   "metadata": {
    "scrolled": true
   },
   "outputs": [],
   "source": []
  }
 ],
 "metadata": {
  "kernelspec": {
   "display_name": "Python 3",
   "language": "python",
   "name": "python3"
  },
  "language_info": {
   "codemirror_mode": {
    "name": "ipython",
    "version": 3
   },
   "file_extension": ".py",
   "mimetype": "text/x-python",
   "name": "python",
   "nbconvert_exporter": "python",
   "pygments_lexer": "ipython3",
   "version": "3.7.6"
  },
  "toc": {
   "base_numbering": 1,
   "nav_menu": {},
   "number_sections": true,
   "sideBar": true,
   "skip_h1_title": false,
   "title_cell": "Table of Contents",
   "title_sidebar": "Contents",
   "toc_cell": false,
   "toc_position": {},
   "toc_section_display": true,
   "toc_window_display": true
  }
 },
 "nbformat": 4,
 "nbformat_minor": 2
}
