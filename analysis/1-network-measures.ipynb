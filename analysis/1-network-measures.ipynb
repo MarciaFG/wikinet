{
 "cells": [
  {
   "cell_type": "markdown",
   "metadata": {},
   "source": [
    "# Network measures"
   ]
  },
  {
   "cell_type": "markdown",
   "metadata": {
    "heading_collapsed": true
   },
   "source": [
    "### Local structures\n",
    "\n",
    "**Indegree**\n",
    "This is mostly a function of how Wikipedians revised the document and should largely be uniform across pages. The large values are likely pages with 'lists' of links.\n",
    "\n",
    "**Outdegree**\n",
    "This is 1st-order measure of an idea's influence.\n",
    "\n",
    "### Mesoscale structures\n",
    "\n",
    "**Clustering**\n",
    "These look equally clustered among the topics.\n",
    "\n",
    "**Centrality**\n",
    "This reveals the distribution of sources of ideas within a field.\n",
    "\n",
    "**Path lengths**\n",
    "\n",
    "**Rich-club coefficient**\n",
    "\n",
    "**Modularity**\n",
    "\n",
    "**Controllability**\n",
    "This is an nth-order measure of influence.\n",
    "\n",
    "**Observability**\n",
    "This is an nth-order measure of the inverse of influence.\n",
    "\n",
    "**Coreness**\n",
    "It seems that the more focused a topic is on a subtopic, the stronger the coreness. For example, genetics is heavily focused on DNA, and so it has high coreness. At the same time, in the field of economics, the concept of \"economics\" has high degree. Yet, it has low coreness because the field itself is heterogeneous, with major subfields such as \"macroeconomics\" and \"microeconomics\".\n",
    "\n",
    "**Characteristic path length**\n",
    "I'm not sure what path length reveals. Perhaps it is a measure of the heterogeneity in research? It describes how far one idea is to another, topologically. Cognitive science and earth science have ideas that are far away."
   ]
  },
  {
   "cell_type": "markdown",
   "metadata": {},
   "source": [
    "# Load networks"
   ]
  },
  {
   "cell_type": "code",
   "execution_count": 1,
   "metadata": {},
   "outputs": [],
   "source": [
    "%reload_ext autoreload\n",
    "%autoreload 2\n",
    "import os,sys\n",
    "sys.path.insert(1, os.path.join(sys.path[0], '..', 'module'))\n",
    "import wiki\n",
    "import numpy as np\n",
    "import pandas as pd\n",
    "import networkx as nx"
   ]
  },
  {
   "cell_type": "code",
   "execution_count": 2,
   "metadata": {},
   "outputs": [],
   "source": [
    "path_networks = '/Users/harangju/Developer/data/wiki/graphs/'"
   ]
  },
  {
   "cell_type": "code",
   "execution_count": 3,
   "metadata": {},
   "outputs": [],
   "source": [
    "topics = [\n",
    "    'anatomy', 'biochemistry', 'cognitive science', 'evolutionary biology',\n",
    "    'genetics', 'immunology', 'molecular biology', 'chemistry', 'biophysics',\n",
    "    'energy', 'optics', 'earth science', 'geology', 'meteorology',\n",
    "    'philosophy of language', 'philosophy of law', 'philosophy of mind',\n",
    "    'philosophy of science', 'economics', 'accounting', 'education',\n",
    "    'linguistics', 'law', 'psychology', 'sociology', 'electronics',\n",
    "    'software engineering', 'robotics',\n",
    "    'calculus', 'geometry', 'abstract algebra',\n",
    "    'Boolean algebra', 'commutative algebra', 'group theory', 'linear algebra',\n",
    "    'number theory', 'dynamical systems and differential equations'\n",
    "]"
   ]
  },
  {
   "cell_type": "code",
   "execution_count": 4,
   "metadata": {},
   "outputs": [
    {
     "name": "stdout",
     "output_type": "stream",
     "text": [
      "anatomy biochemistry cognitive science evolutionary biology genetics immunology molecular biology chemistry biophysics energy optics earth science geology meteorology philosophy of language philosophy of law philosophy of mind philosophy of science economics accounting education linguistics law psychology sociology electronics software engineering robotics calculus geometry abstract algebra Boolean algebra commutative algebra group theory linear algebra number theory dynamical systems and differential equations "
     ]
    }
   ],
   "source": [
    "networks = {}\n",
    "for topic in topics:\n",
    "    print(topic, end=' ')\n",
    "    networks[topic] = wiki.Net()\n",
    "    networks[topic].load_graph(path_networks+'dated/'+topic+'.pickle')"
   ]
  },
  {
   "cell_type": "code",
   "execution_count": 5,
   "metadata": {},
   "outputs": [
    {
     "name": "stdout",
     "output_type": "stream",
     "text": [
      "anatomy biochemistry cognitive science evolutionary biology genetics immunology molecular biology chemistry biophysics energy optics earth science geology meteorology philosophy of language philosophy of law philosophy of mind philosophy of science economics accounting education linguistics law psychology sociology electronics software engineering robotics calculus geometry abstract algebra Boolean algebra commutative algebra group theory linear algebra number theory dynamical systems and differential equations "
     ]
    }
   ],
   "source": [
    "num_nulls = 10\n",
    "null_targets = {}\n",
    "for topic in topics:\n",
    "    print(topic, end=' ')\n",
    "    null_targets[topic] = []\n",
    "    for i in range(num_nulls):\n",
    "        network = wiki.Net()\n",
    "        network.load_graph(path_networks+'null-target/'+topic+'-null-'+str(i)+'.pickle')\n",
    "        null_targets[topic].append(network)"
   ]
  },
  {
   "cell_type": "markdown",
   "metadata": {},
   "source": [
    "# Run analysis\n",
    "\n",
    "**NOTE:** Skip section if loading stats."
   ]
  },
  {
   "cell_type": "code",
   "execution_count": 6,
   "metadata": {},
   "outputs": [],
   "source": [
    "import bct\n",
    "import pickle\n",
    "from networkx.algorithms.cluster import clustering\n",
    "from networkx.algorithms import betweenness_centrality\n",
    "from networkx.convert_matrix import to_numpy_array"
   ]
  },
  {
   "cell_type": "code",
   "execution_count": null,
   "metadata": {},
   "outputs": [],
   "source": [
    "measures = {'indegree': lambda g: [x[1] for x in g.in_degree],\n",
    "            'outdegree': lambda g: [x[1] for x in g.out_degree],\n",
    "            'clustering': lambda g: list(clustering(g).values()),\n",
    "            'centrality': lambda g: list(betweenness_centrality(g).values()),\n",
    "#             'path-length': lambda g: [y for x in list(nx.shortest_path_length(g))\n",
    "#                                       for y in list(x[1].values())],\n",
    "            'char-path-length': lambda g: bct.charpath(to_numpy_array(g))[0],\n",
    "            'modularity': lambda g: g.graph['modularity'],\n",
    "            'coreness': lambda g: g.graph['coreness_be']}"
   ]
  },
  {
   "cell_type": "code",
   "execution_count": null,
   "metadata": {},
   "outputs": [],
   "source": [
    "df = pd.DataFrame(columns=['topic','measure','value'])\n",
    "for topic, network in networks.items():\n",
    "    print(topic, end=' ')\n",
    "    df = pd.concat([df] +\n",
    "                   [pd.DataFrame([[topic, measure, func(network.graph)]],\n",
    "                                 columns=['topic','measure','value'])\n",
    "                    for measure, func in {'coreness': measures['coreness']}.items()],#measures.items()],\n",
    "                   ignore_index=True)"
   ]
  },
  {
   "cell_type": "code",
   "execution_count": null,
   "metadata": {},
   "outputs": [],
   "source": [
    "for topic, null_networks in null_targets.items():\n",
    "    print(topic, end=' ')\n",
    "    for network in null_networks:\n",
    "        df = pd.concat([df] + \n",
    "                       [pd.DataFrame([[topic, measure+'-null', func(network.graph)]],\n",
    "                                     columns=['topic','measure','value'])\n",
    "                        for measure, func in measures.items()],\n",
    "                       ignore_index=True)"
   ]
  },
  {
   "cell_type": "code",
   "execution_count": null,
   "metadata": {},
   "outputs": [],
   "source": [
    "df"
   ]
  },
  {
   "cell_type": "markdown",
   "metadata": {},
   "source": [
    "# Save analysis"
   ]
  },
  {
   "cell_type": "code",
   "execution_count": null,
   "metadata": {},
   "outputs": [],
   "source": [
    "path_analysis = '/Users/harangju/Developer/data/wiki/analysis/'"
   ]
  },
  {
   "cell_type": "code",
   "execution_count": null,
   "metadata": {},
   "outputs": [],
   "source": [
    "pickle.dump(df, open(path_analysis + 'stats.pickle','wb'))"
   ]
  },
  {
   "cell_type": "code",
   "execution_count": null,
   "metadata": {},
   "outputs": [],
   "source": [
    "df.topic = df.topic.astype('category')\n",
    "df.measure = df.measure.astype('category')\n",
    "df.dtypes"
   ]
  },
  {
   "cell_type": "code",
   "execution_count": null,
   "metadata": {},
   "outputs": [],
   "source": [
    "df_expand = df.value\\\n",
    "              .apply(pd.Series)\\\n",
    "              .merge(df, left_index=True, right_index=True)\\\n",
    "              .drop('value', axis=1)\\\n",
    "              .melt(id_vars=['topic','measure'])\\\n",
    "              .drop('variable', axis=1)\\\n",
    "              .dropna()\n",
    "df_expand"
   ]
  },
  {
   "cell_type": "code",
   "execution_count": null,
   "metadata": {},
   "outputs": [],
   "source": [
    "pickle.dump(df_expand, open(path_analysis + 'stats_expand.pickle','wb'))"
   ]
  },
  {
   "cell_type": "markdown",
   "metadata": {},
   "source": [
    "# Load analysis"
   ]
  },
  {
   "cell_type": "code",
   "execution_count": 7,
   "metadata": {},
   "outputs": [],
   "source": [
    "import pickle\n",
    "import pandas as pd\n",
    "path_analysis = '/Users/harangju/Developer/data/wiki/analysis/'\n",
    "df = pickle.load(open(path_analysis+'stats.pickle', 'rb'))\n",
    "df_expand = pickle.load(open(path_analysis+'stats_expand.pickle', 'rb'))\n",
    "df.topic = df.topic.astype('object')\n",
    "df.measure = df.measure.astype('object')\n",
    "df_expand.topic = df_expand.topic.astype('object')\n",
    "df_expand.measure = df_expand.measure.astype('object')"
   ]
  },
  {
   "cell_type": "code",
   "execution_count": null,
   "metadata": {},
   "outputs": [],
   "source": [
    "df"
   ]
  },
  {
   "cell_type": "code",
   "execution_count": null,
   "metadata": {},
   "outputs": [],
   "source": [
    "pd.unique(df.topic)"
   ]
  },
  {
   "cell_type": "code",
   "execution_count": null,
   "metadata": {},
   "outputs": [],
   "source": [
    "pd.unique(df.measure)"
   ]
  },
  {
   "cell_type": "code",
   "execution_count": null,
   "metadata": {},
   "outputs": [],
   "source": [
    "df.dtypes"
   ]
  },
  {
   "cell_type": "code",
   "execution_count": 10,
   "metadata": {
    "scrolled": false
   },
   "outputs": [],
   "source": [
    "df_mean = df_expand\\\n",
    "    .groupby(['topic', 'measure'], as_index=False)\\\n",
    "    .mean()\\\n",
    "    .pivot(index='topic', columns='measure', values='value')\\\n",
    "    .reset_index()"
   ]
  },
  {
   "cell_type": "markdown",
   "metadata": {},
   "source": [
    "# Plot\n",
    "\n",
    "* nice plots [seaborn](https://seaborn.pydata.org/examples/index.html)\n",
    "* interactive [Bokeh](https://bokeh.pydata.org/en/latest/docs/gallery.html#gallery)"
   ]
  },
  {
   "cell_type": "code",
   "execution_count": 8,
   "metadata": {},
   "outputs": [
    {
     "data": {
      "text/html": [
       "        <script type=\"text/javascript\">\n",
       "        window.PlotlyConfig = {MathJaxConfig: 'local'};\n",
       "        if (window.MathJax) {MathJax.Hub.Config({SVG: {font: \"STIX-Web\"}});}\n",
       "        if (typeof require !== 'undefined') {\n",
       "        require.undef(\"plotly\");\n",
       "        requirejs.config({\n",
       "            paths: {\n",
       "                'plotly': ['https://cdn.plot.ly/plotly-latest.min']\n",
       "            }\n",
       "        });\n",
       "        require(['plotly'], function(Plotly) {\n",
       "            window._Plotly = Plotly;\n",
       "        });\n",
       "        }\n",
       "        </script>\n",
       "        "
      ]
     },
     "metadata": {},
     "output_type": "display_data"
    }
   ],
   "source": [
    "from ipywidgets import interact, widgets, Layout\n",
    "import plotly\n",
    "import plotly.express as px\n",
    "import plotly.graph_objs as go\n",
    "import plotly.figure_factory as ff\n",
    "from IPython.display import display\n",
    "plotly.offline.init_notebook_mode(connected=True)"
   ]
  },
  {
   "cell_type": "code",
   "execution_count": 14,
   "metadata": {},
   "outputs": [],
   "source": [
    "# path_fig = '/Users/harangju/Box Sync/Research/my papers/wikipedia/results/'\n",
    "path_fig = '/Users/harangju/Library/Mobile Documents/com~apple~CloudDocs/Documents/research/wikipedia/results'\n",
    "save_fig = False"
   ]
  },
  {
   "cell_type": "markdown",
   "metadata": {},
   "source": [
    "## Basic network statistics"
   ]
  },
  {
   "cell_type": "code",
   "execution_count": null,
   "metadata": {},
   "outputs": [],
   "source": [
    "import os\n",
    "\n",
    "path_plot = '1 network_stats'\n",
    "\n",
    "if not os.path.exists(f\"{path_fig}/{path_plot}\"):\n",
    "    os.mkdir(f\"{path_fig}/{path_plot}\")"
   ]
  },
  {
   "cell_type": "markdown",
   "metadata": {},
   "source": [
    "### Individual"
   ]
  },
  {
   "cell_type": "code",
   "execution_count": null,
   "metadata": {
    "scrolled": true
   },
   "outputs": [],
   "source": [
    "for measure in ['indegree', 'outdegree', 'clustering', 'centrality']:#, 'path-length']:\n",
    "    fig = px.box(df_expand[(df_expand.measure==measure) |\n",
    "                           (df_expand.measure==measure+'-null-target')],\n",
    "                 x='topic', y='value', color='measure')\n",
    "    fig.update_layout(template='plotly_white',\n",
    "                      yaxis_title=measure)\n",
    "    fig.show()\n",
    "    if save_fig:\n",
    "        fig.write_image(f\"{path_fig}/{path_plot}/{measure}.pdf\")"
   ]
  },
  {
   "cell_type": "code",
   "execution_count": null,
   "metadata": {
    "scrolled": true
   },
   "outputs": [],
   "source": [
    "for measure in ['coreness', 'modularity', 'char-path-length']:\n",
    "    fig = px.scatter(df_expand[(df_expand.measure==measure) |\n",
    "                               (df_expand.measure==measure+'-null-target')],\n",
    "                     x='topic', y='value', color='measure')\n",
    "    fig.update_layout(template='plotly_white',\n",
    "                      yaxis_title=measure)\n",
    "    fig.show()\n",
    "    if save_fig:\n",
    "        fig.write_image(f\"{path_fig}/{path_plot}/{measure}.pdf\")"
   ]
  },
  {
   "cell_type": "markdown",
   "metadata": {},
   "source": [
    "### Summary"
   ]
  },
  {
   "cell_type": "code",
   "execution_count": null,
   "metadata": {},
   "outputs": [],
   "source": [
    "ranges = {'clustering': [0,0.3],\n",
    "          'centrality': [0,0.04],\n",
    "          'indegree': [0,10],\n",
    "          'outdegree': [0,10]}\n",
    "dticks = {'clustering': 0.1,\n",
    "          'centrality': 0.01,\n",
    "          'indegree': 1,\n",
    "          'outdegree': 1}"
   ]
  },
  {
   "cell_type": "code",
   "execution_count": null,
   "metadata": {
    "scrolled": true
   },
   "outputs": [],
   "source": [
    "for measure in ['clustering','centrality','indegree','outdegree']:\n",
    "    fig = go.Figure()\n",
    "    fig.add_trace(go.Scatter(x=df_mean[measure],\n",
    "                             y=df_mean[measure+'-null-target'],\n",
    "                             mode='markers',\n",
    "                             marker={'color': '#2A3F5F'},\n",
    "                             showlegend=False))\n",
    "    fig.add_trace(go.Scatter(x=ranges[measure], y=ranges[measure],\n",
    "                             mode='lines',\n",
    "                             line={'dash': 'dash',\n",
    "                                   'color': '#2A3F5F'},\n",
    "                             showlegend=False))\n",
    "    fig.update_layout(template='plotly_white',\n",
    "                      width=500, height=500,\n",
    "                      title=measure,\n",
    "                      xaxis={'title': 'real',\n",
    "                             'range': ranges[measure],\n",
    "                             'dtick': dticks[measure]},\n",
    "                      yaxis={'title': 'null',\n",
    "                             'range': ranges[measure],\n",
    "                             'dtick': dticks[measure]})\n",
    "    fig.show()\n",
    "    if save_fig:\n",
    "        fig.write_image(os.path.join(path_fig,path_plot,f\"summary_{measure}.pdf\"))"
   ]
  },
  {
   "cell_type": "markdown",
   "metadata": {},
   "source": [
    "## Growing networks"
   ]
  },
  {
   "cell_type": "code",
   "execution_count": 11,
   "metadata": {
    "scrolled": false
   },
   "outputs": [
    {
     "name": "stdout",
     "output_type": "stream",
     "text": [
      "anatomy biochemistry cognitive science evolutionary biology genetics immunology molecular biology chemistry biophysics energy optics earth science geology meteorology philosophy of language philosophy of law philosophy of mind philosophy of science economics accounting education linguistics law psychology sociology electronics software engineering robotics calculus geometry abstract algebra Boolean algebra commutative algebra group theory linear algebra number theory dynamical systems and differential equations "
     ]
    }
   ],
   "source": [
    "comm_t = pd.DataFrame()\n",
    "for topic, network in networks.items():\n",
    "    print(topic, end=' ')\n",
    "    comm_t = pd.concat([comm_t] +\n",
    "                       [pd.DataFrame([[topic,\n",
    "                                       node,\n",
    "                                       network.graph.nodes[node]['year'],\n",
    "                                       network.graph.nodes[node]['community'],\n",
    "                                       network.graph.nodes[node]['core_be'],\n",
    "                                       network.graph.nodes[node]['core_rb'],\n",
    "                                       1]],\n",
    "                                     columns=['topic','node','year',\n",
    "                                              'comm','core_be','core_rb',\n",
    "                                              'count'])\n",
    "                        for node in network.graph.nodes],\n",
    "                       ignore_index=True)\n",
    "comm_t = comm_t.merge(comm_t.groupby(['topic','comm'])['count'].sum(),\n",
    "                      on=['topic','comm'],\n",
    "                      suffixes=('','_topic_comm'))\\\n",
    "               .merge(comm_t.groupby(['topic','core_be'])['count'].sum(),\n",
    "                      on=['topic','core_be'],\n",
    "                      suffixes=('','_topic_core_be'))\\\n",
    "               .sort_values(by=['topic','year'])\\\n",
    "               .reset_index(drop=True)\n",
    "comm_t['comm_count'] = comm_t.groupby(['topic','comm'])['count']\\\n",
    "                             .transform(pd.Series.cumsum)\n",
    "comm_t['core_be_count'] = comm_t.groupby(['topic','core_be'])['count']\\\n",
    "                                .transform(pd.Series.cumsum)\n",
    "comm_t['comm_frac'] = comm_t['comm_count']/comm_t['count_topic_comm']\n",
    "comm_t['core_be_frac'] = comm_t['core_be_count']/comm_t['count_topic_core_be']\n",
    "comm_t = comm_t.drop(['count','count_topic_comm','count_topic_core_be'], axis=1)"
   ]
  },
  {
   "cell_type": "code",
   "execution_count": 12,
   "metadata": {
    "scrolled": false
   },
   "outputs": [
    {
     "data": {
      "text/html": [
       "<div>\n",
       "<style scoped>\n",
       "    .dataframe tbody tr th:only-of-type {\n",
       "        vertical-align: middle;\n",
       "    }\n",
       "\n",
       "    .dataframe tbody tr th {\n",
       "        vertical-align: top;\n",
       "    }\n",
       "\n",
       "    .dataframe thead th {\n",
       "        text-align: right;\n",
       "    }\n",
       "</style>\n",
       "<table border=\"1\" class=\"dataframe\">\n",
       "  <thead>\n",
       "    <tr style=\"text-align: right;\">\n",
       "      <th></th>\n",
       "      <th>topic</th>\n",
       "      <th>node</th>\n",
       "      <th>year</th>\n",
       "      <th>comm</th>\n",
       "      <th>core_be</th>\n",
       "      <th>core_rb</th>\n",
       "      <th>comm_count</th>\n",
       "      <th>core_be_count</th>\n",
       "      <th>comm_frac</th>\n",
       "      <th>core_be_frac</th>\n",
       "    </tr>\n",
       "  </thead>\n",
       "  <tbody>\n",
       "    <tr>\n",
       "      <th>0</th>\n",
       "      <td>Boolean algebra</td>\n",
       "      <td>Propositional calculus</td>\n",
       "      <td>1100</td>\n",
       "      <td>1</td>\n",
       "      <td>1</td>\n",
       "      <td>0.812500</td>\n",
       "      <td>1</td>\n",
       "      <td>1</td>\n",
       "      <td>0.111111</td>\n",
       "      <td>0.035714</td>\n",
       "    </tr>\n",
       "    <tr>\n",
       "      <th>1</th>\n",
       "      <td>Boolean algebra</td>\n",
       "      <td>Venn diagram</td>\n",
       "      <td>1200</td>\n",
       "      <td>6</td>\n",
       "      <td>0</td>\n",
       "      <td>0.061475</td>\n",
       "      <td>1</td>\n",
       "      <td>1</td>\n",
       "      <td>0.200000</td>\n",
       "      <td>0.020408</td>\n",
       "    </tr>\n",
       "    <tr>\n",
       "      <th>2</th>\n",
       "      <td>Boolean algebra</td>\n",
       "      <td>Symmetric difference</td>\n",
       "      <td>1201</td>\n",
       "      <td>6</td>\n",
       "      <td>0</td>\n",
       "      <td>0.049180</td>\n",
       "      <td>2</td>\n",
       "      <td>2</td>\n",
       "      <td>0.400000</td>\n",
       "      <td>0.040816</td>\n",
       "    </tr>\n",
       "    <tr>\n",
       "      <th>3</th>\n",
       "      <td>Boolean algebra</td>\n",
       "      <td>De Morgan's laws</td>\n",
       "      <td>1300</td>\n",
       "      <td>5</td>\n",
       "      <td>1</td>\n",
       "      <td>0.937500</td>\n",
       "      <td>1</td>\n",
       "      <td>2</td>\n",
       "      <td>0.200000</td>\n",
       "      <td>0.071429</td>\n",
       "    </tr>\n",
       "    <tr>\n",
       "      <th>4</th>\n",
       "      <td>Boolean algebra</td>\n",
       "      <td>Logic gate</td>\n",
       "      <td>1705</td>\n",
       "      <td>13</td>\n",
       "      <td>0</td>\n",
       "      <td>0.196721</td>\n",
       "      <td>1</td>\n",
       "      <td>3</td>\n",
       "      <td>0.500000</td>\n",
       "      <td>0.061224</td>\n",
       "    </tr>\n",
       "    <tr>\n",
       "      <th>...</th>\n",
       "      <td>...</td>\n",
       "      <td>...</td>\n",
       "      <td>...</td>\n",
       "      <td>...</td>\n",
       "      <td>...</td>\n",
       "      <td>...</td>\n",
       "      <td>...</td>\n",
       "      <td>...</td>\n",
       "      <td>...</td>\n",
       "      <td>...</td>\n",
       "    </tr>\n",
       "    <tr>\n",
       "      <th>20328</th>\n",
       "      <td>software engineering</td>\n",
       "      <td>Computer software</td>\n",
       "      <td>2020</td>\n",
       "      <td>16</td>\n",
       "      <td>0</td>\n",
       "      <td>0.081944</td>\n",
       "      <td>5</td>\n",
       "      <td>143</td>\n",
       "      <td>0.833333</td>\n",
       "      <td>0.979452</td>\n",
       "    </tr>\n",
       "    <tr>\n",
       "      <th>20329</th>\n",
       "      <td>software engineering</td>\n",
       "      <td>Eprom</td>\n",
       "      <td>2020</td>\n",
       "      <td>16</td>\n",
       "      <td>0</td>\n",
       "      <td>0.029167</td>\n",
       "      <td>6</td>\n",
       "      <td>144</td>\n",
       "      <td>1.000000</td>\n",
       "      <td>0.986301</td>\n",
       "    </tr>\n",
       "    <tr>\n",
       "      <th>20330</th>\n",
       "      <td>software engineering</td>\n",
       "      <td>Queueing theory</td>\n",
       "      <td>2020</td>\n",
       "      <td>28</td>\n",
       "      <td>0</td>\n",
       "      <td>0.006944</td>\n",
       "      <td>1</td>\n",
       "      <td>145</td>\n",
       "      <td>1.000000</td>\n",
       "      <td>0.993151</td>\n",
       "    </tr>\n",
       "    <tr>\n",
       "      <th>20331</th>\n",
       "      <td>software engineering</td>\n",
       "      <td>Tinyos</td>\n",
       "      <td>2020</td>\n",
       "      <td>29</td>\n",
       "      <td>0</td>\n",
       "      <td>0.002778</td>\n",
       "      <td>1</td>\n",
       "      <td>146</td>\n",
       "      <td>1.000000</td>\n",
       "      <td>1.000000</td>\n",
       "    </tr>\n",
       "    <tr>\n",
       "      <th>20332</th>\n",
       "      <td>software engineering</td>\n",
       "      <td>Computer file</td>\n",
       "      <td>2020</td>\n",
       "      <td>17</td>\n",
       "      <td>1</td>\n",
       "      <td>0.070833</td>\n",
       "      <td>6</td>\n",
       "      <td>80</td>\n",
       "      <td>1.000000</td>\n",
       "      <td>1.000000</td>\n",
       "    </tr>\n",
       "  </tbody>\n",
       "</table>\n",
       "<p>20333 rows × 10 columns</p>\n",
       "</div>"
      ],
      "text/plain": [
       "                      topic                    node  year  comm  core_be  \\\n",
       "0           Boolean algebra  Propositional calculus  1100     1        1   \n",
       "1           Boolean algebra            Venn diagram  1200     6        0   \n",
       "2           Boolean algebra    Symmetric difference  1201     6        0   \n",
       "3           Boolean algebra        De Morgan's laws  1300     5        1   \n",
       "4           Boolean algebra              Logic gate  1705    13        0   \n",
       "...                     ...                     ...   ...   ...      ...   \n",
       "20328  software engineering       Computer software  2020    16        0   \n",
       "20329  software engineering                   Eprom  2020    16        0   \n",
       "20330  software engineering         Queueing theory  2020    28        0   \n",
       "20331  software engineering                  Tinyos  2020    29        0   \n",
       "20332  software engineering           Computer file  2020    17        1   \n",
       "\n",
       "        core_rb  comm_count  core_be_count  comm_frac  core_be_frac  \n",
       "0      0.812500           1              1   0.111111      0.035714  \n",
       "1      0.061475           1              1   0.200000      0.020408  \n",
       "2      0.049180           2              2   0.400000      0.040816  \n",
       "3      0.937500           1              2   0.200000      0.071429  \n",
       "4      0.196721           1              3   0.500000      0.061224  \n",
       "...         ...         ...            ...        ...           ...  \n",
       "20328  0.081944           5            143   0.833333      0.979452  \n",
       "20329  0.029167           6            144   1.000000      0.986301  \n",
       "20330  0.006944           1            145   1.000000      0.993151  \n",
       "20331  0.002778           1            146   1.000000      1.000000  \n",
       "20332  0.070833           6             80   1.000000      1.000000  \n",
       "\n",
       "[20333 rows x 10 columns]"
      ]
     },
     "execution_count": 12,
     "metadata": {},
     "output_type": "execute_result"
    }
   ],
   "source": [
    "comm_t"
   ]
  },
  {
   "cell_type": "markdown",
   "metadata": {},
   "source": [
    "## Core-periphery"
   ]
  },
  {
   "cell_type": "code",
   "execution_count": 13,
   "metadata": {},
   "outputs": [],
   "source": [
    "import os\n",
    "\n",
    "path_plot = '1 core_periphery'\n",
    "\n",
    "if not os.path.exists(f\"{path_fig}/{path_plot}\"):\n",
    "    os.mkdir(f\"{path_fig}/{path_plot}\")"
   ]
  },
  {
   "cell_type": "markdown",
   "metadata": {},
   "source": [
    "### Static"
   ]
  },
  {
   "cell_type": "code",
   "execution_count": null,
   "metadata": {},
   "outputs": [],
   "source": [
    "fig = go.Figure()\n",
    "fig.add_trace(go.Scatter(x=df_mean['coreness'],\n",
    "                         y=df_mean['coreness-null-target'],\n",
    "                         mode='markers',\n",
    "                         marker={'color': '#2A3F5F'},\n",
    "                         showlegend=False,\n",
    "                         hovertext=df_mean['topic']))\n",
    "fig.add_trace(go.Scatter(x=[0,1], y=[0,1],\n",
    "                         mode='lines',\n",
    "                         line={'dash': 'dash',\n",
    "                               'color': '#2A3F5F'},\n",
    "                         showlegend=False))\n",
    "fig.update_layout(template='plotly_white',\n",
    "                  title='coreness',\n",
    "                  width=500, height=500,\n",
    "                  xaxis=dict(title='real',\n",
    "                             range=[0,1]),\n",
    "                  yaxis=dict(title='null',\n",
    "                             range=[0,1],\n",
    "                             scaleanchor='x',\n",
    "                             scaleratio=1))\n",
    "fig.show()\n",
    "if save_fig:\n",
    "    fig.write_image(f\"{path_fig}/{path_plot}/coreness.pdf\")"
   ]
  },
  {
   "cell_type": "markdown",
   "metadata": {},
   "source": [
    "### Growth"
   ]
  },
  {
   "cell_type": "markdown",
   "metadata": {},
   "source": [
    "##### Borgatti-Everett"
   ]
  },
  {
   "cell_type": "code",
   "execution_count": 15,
   "metadata": {},
   "outputs": [],
   "source": [
    "import os\n",
    "\n",
    "if not os.path.exists(f\"{path_fig}/{path_plot}/borgatti-everett/\"):\n",
    "    os.mkdir(f\"{path_fig}/{path_plot}/borgatti-everett/\")"
   ]
  },
  {
   "cell_type": "code",
   "execution_count": null,
   "metadata": {
    "scrolled": true
   },
   "outputs": [],
   "source": [
    "for topic in pd.unique(comm_t.topic):\n",
    "    fig = go.Figure()\n",
    "    fig.add_trace(go.Scatter(x=comm_t[(comm_t.topic==topic) &\\\n",
    "                                      (comm_t.core_be==0)]['year'],\n",
    "                             y=comm_t[(comm_t.topic==topic) &\\\n",
    "                                      (comm_t.core_be==0)]['core_be_count'],\n",
    "                             name='periphery'))\n",
    "    fig.add_trace(go.Scatter(x=comm_t[(comm_t.topic==topic) &\\\n",
    "                                      (comm_t.core_be==1)]['year'],\n",
    "                             y=comm_t[(comm_t.topic==topic) &\\\n",
    "                                      (comm_t.core_be==1)]['core_be_count'],\n",
    "                             name='core'))\n",
    "    fig.update_layout(template='plotly_white',\n",
    "                      title_text=topic,\n",
    "                      xaxis={'range': [0,2020]})\n",
    "    fig.show()\n",
    "    if save_fig:\n",
    "        fig.write_image(f\"{path_fig}/{path_plot}/borgatti-everett/{topic}.pdf\")"
   ]
  },
  {
   "cell_type": "markdown",
   "metadata": {},
   "source": [
    "##### Rombach"
   ]
  },
  {
   "cell_type": "code",
   "execution_count": null,
   "metadata": {},
   "outputs": [],
   "source": [
    "import os\n",
    "\n",
    "if not os.path.exists(f\"{path_fig}/{path_plot}/rombach/\"):\n",
    "    os.mkdir(f\"{path_fig}/{path_plot}/rombach/\")"
   ]
  },
  {
   "cell_type": "code",
   "execution_count": null,
   "metadata": {
    "scrolled": true
   },
   "outputs": [],
   "source": [
    "for topic in pd.unique(comm_t.topic):\n",
    "    fig = go.Figure()\n",
    "    fig.add_trace(go.Scatter(x=comm_t[comm_t.topic==topic].year,\n",
    "                             y=comm_t[comm_t.topic==topic].core_rb,\n",
    "                             mode='markers',\n",
    "                             marker={'size': 2}))\n",
    "    fig.update_layout(template='plotly_white',\n",
    "                      title_text=topic,\n",
    "                      width=500, height=500,\n",
    "                      xaxis={'title': 'year',\n",
    "                             'range': [1000,2020]},\n",
    "                      yaxis={'title': 'coreness'})\n",
    "    fig.show()\n",
    "    if save_fig:\n",
    "        fig.write_image(f\"{path_fig}/{path_plot}/rombach/{topic}.pdf\")"
   ]
  },
  {
   "cell_type": "markdown",
   "metadata": {},
   "source": [
    "##### Lead-lag"
   ]
  },
  {
   "cell_type": "code",
   "execution_count": 17,
   "metadata": {},
   "outputs": [
    {
     "data": {
      "text/html": [
       "<div>\n",
       "<style scoped>\n",
       "    .dataframe tbody tr th:only-of-type {\n",
       "        vertical-align: middle;\n",
       "    }\n",
       "\n",
       "    .dataframe tbody tr th {\n",
       "        vertical-align: top;\n",
       "    }\n",
       "\n",
       "    .dataframe thead th {\n",
       "        text-align: right;\n",
       "    }\n",
       "</style>\n",
       "<table border=\"1\" class=\"dataframe\">\n",
       "  <thead>\n",
       "    <tr style=\"text-align: right;\">\n",
       "      <th></th>\n",
       "      <th>topic</th>\n",
       "      <th>core</th>\n",
       "      <th>year</th>\n",
       "      <th>periphery</th>\n",
       "    </tr>\n",
       "  </thead>\n",
       "  <tbody>\n",
       "    <tr>\n",
       "      <th>0</th>\n",
       "      <td>anatomy</td>\n",
       "      <td>Biology</td>\n",
       "      <td>1735</td>\n",
       "      <td>[Dissection, Septum, Anastomosis, Appendage, A...</td>\n",
       "    </tr>\n",
       "    <tr>\n",
       "      <th>1</th>\n",
       "      <td>anatomy</td>\n",
       "      <td>Anatomy</td>\n",
       "      <td>-1600</td>\n",
       "      <td>[Anatomical terms of motion, Accessory olivary...</td>\n",
       "    </tr>\n",
       "    <tr>\n",
       "      <th>2</th>\n",
       "      <td>anatomy</td>\n",
       "      <td>Human body</td>\n",
       "      <td>2008</td>\n",
       "      <td>[Areola, Gray's Anatomy, Organelle, Foramen, F...</td>\n",
       "    </tr>\n",
       "    <tr>\n",
       "      <th>3</th>\n",
       "      <td>anatomy</td>\n",
       "      <td>Histology</td>\n",
       "      <td>1600</td>\n",
       "      <td>[Mesentery, Areola, Ovarian follicle, Buccal m...</td>\n",
       "    </tr>\n",
       "    <tr>\n",
       "      <th>4</th>\n",
       "      <td>anatomy</td>\n",
       "      <td>Organ (anatomy)</td>\n",
       "      <td>1300</td>\n",
       "      <td>[History of anatomy, Anatomical terms of motio...</td>\n",
       "    </tr>\n",
       "    <tr>\n",
       "      <th>...</th>\n",
       "      <td>...</td>\n",
       "      <td>...</td>\n",
       "      <td>...</td>\n",
       "      <td>...</td>\n",
       "    </tr>\n",
       "    <tr>\n",
       "      <th>6243</th>\n",
       "      <td>dynamical systems and differential equations</td>\n",
       "      <td>Gyroscope</td>\n",
       "      <td>1743</td>\n",
       "      <td>[Nutation, Gyrocompass]</td>\n",
       "    </tr>\n",
       "    <tr>\n",
       "      <th>6244</th>\n",
       "      <td>dynamical systems and differential equations</td>\n",
       "      <td>Precession</td>\n",
       "      <td>1744</td>\n",
       "      <td>[Nutation]</td>\n",
       "    </tr>\n",
       "    <tr>\n",
       "      <th>6245</th>\n",
       "      <td>dynamical systems and differential equations</td>\n",
       "      <td>Flywheel</td>\n",
       "      <td>2011</td>\n",
       "      <td>[Flywheel energy storage]</td>\n",
       "    </tr>\n",
       "    <tr>\n",
       "      <th>6246</th>\n",
       "      <td>dynamical systems and differential equations</td>\n",
       "      <td>Rotational inertia</td>\n",
       "      <td>1890</td>\n",
       "      <td>[Axis of rotation]</td>\n",
       "    </tr>\n",
       "    <tr>\n",
       "      <th>6247</th>\n",
       "      <td>dynamical systems and differential equations</td>\n",
       "      <td>Rotational energy</td>\n",
       "      <td>900</td>\n",
       "      <td>[Flywheel energy storage, Axis of rotation]</td>\n",
       "    </tr>\n",
       "  </tbody>\n",
       "</table>\n",
       "<p>6248 rows × 4 columns</p>\n",
       "</div>"
      ],
      "text/plain": [
       "                                             topic                core  year  \\\n",
       "0                                          anatomy             Biology  1735   \n",
       "1                                          anatomy             Anatomy -1600   \n",
       "2                                          anatomy          Human body  2008   \n",
       "3                                          anatomy           Histology  1600   \n",
       "4                                          anatomy     Organ (anatomy)  1300   \n",
       "...                                            ...                 ...   ...   \n",
       "6243  dynamical systems and differential equations           Gyroscope  1743   \n",
       "6244  dynamical systems and differential equations          Precession  1744   \n",
       "6245  dynamical systems and differential equations            Flywheel  2011   \n",
       "6246  dynamical systems and differential equations  Rotational inertia  1890   \n",
       "6247  dynamical systems and differential equations   Rotational energy   900   \n",
       "\n",
       "                                              periphery  \n",
       "0     [Dissection, Septum, Anastomosis, Appendage, A...  \n",
       "1     [Anatomical terms of motion, Accessory olivary...  \n",
       "2     [Areola, Gray's Anatomy, Organelle, Foramen, F...  \n",
       "3     [Mesentery, Areola, Ovarian follicle, Buccal m...  \n",
       "4     [History of anatomy, Anatomical terms of motio...  \n",
       "...                                                 ...  \n",
       "6243                            [Nutation, Gyrocompass]  \n",
       "6244                                         [Nutation]  \n",
       "6245                          [Flywheel energy storage]  \n",
       "6246                                 [Axis of rotation]  \n",
       "6247        [Flywheel energy storage, Axis of rotation]  \n",
       "\n",
       "[6248 rows x 4 columns]"
      ]
     },
     "execution_count": 17,
     "metadata": {},
     "output_type": "execute_result"
    }
   ],
   "source": [
    "core = pd.DataFrame()\n",
    "for topic, network in networks.items():\n",
    "    for node in network.graph.nodes:\n",
    "        if network.graph.nodes[node]['core_be'] == 1:\n",
    "            year = network.graph.nodes[node]['year']\n",
    "            neighbors = list(network.graph.successors(node)) +\\\n",
    "                        list(network.graph.predecessors(node))\n",
    "            periphery = [neighbor for neighbor in neighbors\n",
    "                         if network.graph.nodes[neighbor]['core_be'] == 0]\n",
    "            new_rows = pd.DataFrame([[topic, node, year, periphery]],\n",
    "                                    columns=['topic','core','year','periphery'])\n",
    "            core = pd.concat([core, new_rows], ignore_index=True)\n",
    "core"
   ]
  },
  {
   "cell_type": "code",
   "execution_count": 18,
   "metadata": {},
   "outputs": [
    {
     "data": {
      "text/plain": [
       "('Biology',\n",
       " ['Dissection',\n",
       "  'Septum',\n",
       "  'Anastomosis',\n",
       "  'Appendage',\n",
       "  'Antrum',\n",
       "  'Matrix (biology)',\n",
       "  'Keratin',\n",
       "  'Endocardium',\n",
       "  'Commissure',\n",
       "  'Morphology (biology)',\n",
       "  'Fenestra (anatomy)',\n",
       "  'Diverticulum',\n",
       "  'Gravid',\n",
       "  'Lamella (zoology)'])"
      ]
     },
     "execution_count": 18,
     "metadata": {},
     "output_type": "execute_result"
    }
   ],
   "source": [
    "core.iloc[0].core, core.iloc[0].periphery"
   ]
  },
  {
   "cell_type": "code",
   "execution_count": 19,
   "metadata": {},
   "outputs": [
    {
     "data": {
      "text/plain": [
       "[('Biology', 1, 1735),\n",
       " ('Biology', 1, 1735),\n",
       " ('Anatomy', 1, -1600),\n",
       " ('Histology', 1, 1600),\n",
       " ('Anatomical terms of location', 1, 1736),\n",
       " ('Dissection', 0, -150),\n",
       " ('Septum', 0, 1736),\n",
       " ('Homology (biology)', 1, 1555),\n",
       " ('Anastomosis', 0, 1736),\n",
       " ('Appendage', 0, 1909),\n",
       " ('Antrum', 0, 2011),\n",
       " ('Viscus', 1, 1300),\n",
       " ('Viscera', 1, 1300),\n",
       " ('Matrix (biology)', 0, 1736),\n",
       " ('Keratin', 0, 2011),\n",
       " ('Endocardium', 0, 2015),\n",
       " ('Commissure', 0, 2018),\n",
       " ('Coronal view', 1, 2019),\n",
       " ('Morphology (biology)', 0, 1830),\n",
       " ('Fenestra (anatomy)', 0, 1943),\n",
       " ('Diverticulum', 0, 1830),\n",
       " ('Gravid', 0, 1736),\n",
       " ('Lamella (zoology)', 0, 1909),\n",
       " ('Zootomy', 1, -1600)]"
      ]
     },
     "execution_count": 19,
     "metadata": {},
     "output_type": "execute_result"
    }
   ],
   "source": [
    "[(node, networks['anatomy'].graph.nodes[node]['core_be'], networks['anatomy'].graph.nodes[node]['year'])\n",
    " for node in list(networks['anatomy'].graph.predecessors('Biology')) +\\\n",
    "             list(networks['anatomy'].graph.successors('Biology'))]"
   ]
  },
  {
   "cell_type": "code",
   "execution_count": 20,
   "metadata": {},
   "outputs": [
    {
     "data": {
      "text/html": [
       "<div>\n",
       "<style scoped>\n",
       "    .dataframe tbody tr th:only-of-type {\n",
       "        vertical-align: middle;\n",
       "    }\n",
       "\n",
       "    .dataframe tbody tr th {\n",
       "        vertical-align: top;\n",
       "    }\n",
       "\n",
       "    .dataframe thead th {\n",
       "        text-align: right;\n",
       "    }\n",
       "</style>\n",
       "<table border=\"1\" class=\"dataframe\">\n",
       "  <thead>\n",
       "    <tr style=\"text-align: right;\">\n",
       "      <th></th>\n",
       "      <th>topic</th>\n",
       "      <th>core</th>\n",
       "      <th>year</th>\n",
       "      <th>periphery</th>\n",
       "      <th>year_periphery</th>\n",
       "    </tr>\n",
       "  </thead>\n",
       "  <tbody>\n",
       "    <tr>\n",
       "      <th>0</th>\n",
       "      <td>Boolean algebra</td>\n",
       "      <td>Ampheck</td>\n",
       "      <td>1914</td>\n",
       "      <td>Formal system</td>\n",
       "      <td>1800</td>\n",
       "    </tr>\n",
       "    <tr>\n",
       "      <th>1</th>\n",
       "      <td>Boolean algebra</td>\n",
       "      <td>Ampheck</td>\n",
       "      <td>1914</td>\n",
       "      <td>Sole sufficient operator</td>\n",
       "      <td>2020</td>\n",
       "    </tr>\n",
       "    <tr>\n",
       "      <th>2</th>\n",
       "      <td>Boolean algebra</td>\n",
       "      <td>Boolean algebra</td>\n",
       "      <td>1800</td>\n",
       "      <td>Heyting algebra</td>\n",
       "      <td>1884</td>\n",
       "    </tr>\n",
       "    <tr>\n",
       "      <th>3</th>\n",
       "      <td>Boolean algebra</td>\n",
       "      <td>Boolean algebra</td>\n",
       "      <td>1800</td>\n",
       "      <td>Zhegalkin polynomial</td>\n",
       "      <td>1927</td>\n",
       "    </tr>\n",
       "    <tr>\n",
       "      <th>4</th>\n",
       "      <td>Boolean algebra</td>\n",
       "      <td>Boolean algebra</td>\n",
       "      <td>1800</td>\n",
       "      <td>Algebraic normal form</td>\n",
       "      <td>1928</td>\n",
       "    </tr>\n",
       "    <tr>\n",
       "      <th>...</th>\n",
       "      <td>...</td>\n",
       "      <td>...</td>\n",
       "      <td>...</td>\n",
       "      <td>...</td>\n",
       "      <td>...</td>\n",
       "    </tr>\n",
       "    <tr>\n",
       "      <th>49199</th>\n",
       "      <td>software engineering</td>\n",
       "      <td>Visual Basic</td>\n",
       "      <td>1990</td>\n",
       "      <td>Database</td>\n",
       "      <td>1960</td>\n",
       "    </tr>\n",
       "    <tr>\n",
       "      <th>49200</th>\n",
       "      <td>software engineering</td>\n",
       "      <td>Visual Basic</td>\n",
       "      <td>1990</td>\n",
       "      <td>Basic</td>\n",
       "      <td>2020</td>\n",
       "    </tr>\n",
       "    <tr>\n",
       "      <th>49201</th>\n",
       "      <td>software engineering</td>\n",
       "      <td>Visual Basic</td>\n",
       "      <td>1990</td>\n",
       "      <td>Windows Vista</td>\n",
       "      <td>400</td>\n",
       "    </tr>\n",
       "    <tr>\n",
       "      <th>49202</th>\n",
       "      <td>software engineering</td>\n",
       "      <td>Waterfall model</td>\n",
       "      <td>1956</td>\n",
       "      <td>Avionics software</td>\n",
       "      <td>1961</td>\n",
       "    </tr>\n",
       "    <tr>\n",
       "      <th>49203</th>\n",
       "      <td>software engineering</td>\n",
       "      <td>Waterfall model</td>\n",
       "      <td>1956</td>\n",
       "      <td>Software maintenance</td>\n",
       "      <td>1969</td>\n",
       "    </tr>\n",
       "  </tbody>\n",
       "</table>\n",
       "<p>49204 rows × 5 columns</p>\n",
       "</div>"
      ],
      "text/plain": [
       "                      topic             core  year                 periphery  \\\n",
       "0           Boolean algebra          Ampheck  1914             Formal system   \n",
       "1           Boolean algebra          Ampheck  1914  Sole sufficient operator   \n",
       "2           Boolean algebra  Boolean algebra  1800           Heyting algebra   \n",
       "3           Boolean algebra  Boolean algebra  1800      Zhegalkin polynomial   \n",
       "4           Boolean algebra  Boolean algebra  1800     Algebraic normal form   \n",
       "...                     ...              ...   ...                       ...   \n",
       "49199  software engineering     Visual Basic  1990                  Database   \n",
       "49200  software engineering     Visual Basic  1990                     Basic   \n",
       "49201  software engineering     Visual Basic  1990             Windows Vista   \n",
       "49202  software engineering  Waterfall model  1956         Avionics software   \n",
       "49203  software engineering  Waterfall model  1956      Software maintenance   \n",
       "\n",
       "       year_periphery  \n",
       "0                1800  \n",
       "1                2020  \n",
       "2                1884  \n",
       "3                1927  \n",
       "4                1928  \n",
       "...               ...  \n",
       "49199            1960  \n",
       "49200            2020  \n",
       "49201             400  \n",
       "49202            1961  \n",
       "49203            1969  \n",
       "\n",
       "[49204 rows x 5 columns]"
      ]
     },
     "execution_count": 20,
     "metadata": {},
     "output_type": "execute_result"
    }
   ],
   "source": [
    "core_expand = core.periphery\\\n",
    "                  .apply(pd.Series)\\\n",
    "                  .merge(core, left_index=True, right_index=True)\\\n",
    "                  .drop(['periphery'], axis=1)\\\n",
    "                  .melt(id_vars=['topic','core','year'], value_name='periphery')\\\n",
    "                  .drop('variable', axis=1)\\\n",
    "                  .sort_values(by=['topic','core'])\\\n",
    "                  .dropna()\\\n",
    "                  .reset_index(drop=True)\n",
    "core_expand['year_periphery'] = [networks[core_expand.iloc[i].topic].graph\\\n",
    "                                     .nodes[core_expand.iloc[i].periphery]['year']\n",
    "                                 for i in core_expand.index]\n",
    "core_expand"
   ]
  },
  {
   "cell_type": "code",
   "execution_count": 21,
   "metadata": {},
   "outputs": [],
   "source": [
    "import os\n",
    "\n",
    "if not os.path.exists(f\"{path_fig}/{path_plot}/lead_lag\"):\n",
    "    os.mkdir(f\"{path_fig}/{path_plot}/lead_lag\")"
   ]
  },
  {
   "cell_type": "code",
   "execution_count": null,
   "metadata": {
    "scrolled": true
   },
   "outputs": [],
   "source": [
    "for topic in pd.unique(core_expand.topic):\n",
    "    fig = go.Figure()\n",
    "    data = core_expand[core_expand.topic==topic]\n",
    "    fig.add_trace(go.Scatter(x=data.year,\n",
    "                             y=data.year_periphery,\n",
    "                             mode='markers',\n",
    "                             marker={'size': 2}))\n",
    "    fig.update_layout(template='plotly_white',\n",
    "                      title_text=topic,\n",
    "                      width=500, height=500,\n",
    "                      xaxis={'title': 'year (core)',\n",
    "                             'range': [np.min(data.year)-100, np.max(data.year)+100]},\n",
    "                      yaxis={'title': 'year (neighboring periphery)',\n",
    "                             'range': [np.min(data.year)-100, np.max(data.year)+100],\n",
    "                             'scaleanchor': 'x',\n",
    "                             'scaleratio': 1})\n",
    "    fig.show()\n",
    "    if save_fig:\n",
    "        fig.write_image(f\"{path_fig}/{path_plot}/lead_lag/{topic}.pdf\")"
   ]
  },
  {
   "cell_type": "markdown",
   "metadata": {},
   "source": [
    "##### Summary"
   ]
  },
  {
   "cell_type": "code",
   "execution_count": null,
   "metadata": {
    "scrolled": false
   },
   "outputs": [],
   "source": [
    "fig = go.Figure()\n",
    "for topic in pd.unique(core_expand.topic):\n",
    "    data = core_expand[core_expand.topic==topic]\n",
    "    fig.add_trace(go.Violin(x=data.year-data.year_periphery,\n",
    "                            name=topic,\n",
    "                            marker={'size': 5,\n",
    "                                    'symbol': 'line-ns-open',\n",
    "                                    'color': '#2A3F5F'}))\n",
    "fig.update_layout(template='plotly_white',\n",
    "                  height=1000,\n",
    "                  title_text='year (core) - year (periphery)',\n",
    "                  showlegend=False)\n",
    "fig.show()\n",
    "if save_fig:\n",
    "    fig.write_image(f\"{path_fig}/{path_plot}/lead_lag.pdf\")"
   ]
  },
  {
   "cell_type": "code",
   "execution_count": null,
   "metadata": {},
   "outputs": [],
   "source": [
    "fig = go.Figure()\n",
    "fig.add_trace(\n",
    "    go.Violin(\n",
    "        x=core_expand.year-core_expand.year_periphery,\n",
    "        name='',\n",
    "        marker={\n",
    "            'size': 5,\n",
    "#             'symbol': 'line-ns-open',\n",
    "            'color': '#2A3F5F'\n",
    "        }\n",
    "    )\n",
    ")\n",
    "fig.update_layout(\n",
    "    template='plotly_white',\n",
    "    width=500, height=500,\n",
    "    title_text='year (core) - year (periphery)',\n",
    "    showlegend=False\n",
    ")\n",
    "fig.show()\n",
    "# fig.write_image(f\"{path_fig}/{path_plot}/lead_lag.pdf\")"
   ]
  },
  {
   "cell_type": "markdown",
   "metadata": {},
   "source": [
    "### Statistical tests"
   ]
  },
  {
   "cell_type": "code",
   "execution_count": 28,
   "metadata": {},
   "outputs": [
    {
     "name": "stdout",
     "output_type": "stream",
     "text": [
      "Boolean algebra \n",
      "\t -1.729148040086658 0.04355035388668878\n",
      "abstract algebra \n",
      "\t -11.69782404393171 4.00761951653008e-30\n",
      "accounting \n",
      "\t -0.9133025143797352 0.18160817489096293\n",
      "anatomy \n",
      "\t -15.341044014932361 1.722524036866679e-52\n",
      "biochemistry \n",
      "\t -15.299630269622881 1.1436377325206207e-51\n",
      "biophysics \n",
      "\t -3.9449748650471874 4.804768240351292e-05\n",
      "calculus \n",
      "\t -2.466660350545556 0.007397411528567189\n",
      "chemistry \n",
      "\t -22.596353677179927 7.293612296396364e-107\n",
      "cognitive science \n",
      "\t -6.618460045583192 1.3655335060130426e-10\n",
      "commutative algebra \n",
      "\t -3.025100126117916 0.001419558400739002\n",
      "dynamical systems and differential equations \n",
      "\t -2.703997885195611 0.0038503829153157735\n",
      "earth science \n",
      "\t -0.8156353176901335 0.20785194511774824\n",
      "economics \n",
      "\t -4.941236863024296 4.60853796837134e-07\n",
      "education \n",
      "\t -7.64134884888528 2.876046109003901e-14\n",
      "electronics \n",
      "\t -19.825870957593345 5.571174960711758e-82\n",
      "energy \n",
      "\t -2.407782125344562 0.008914129494554104\n",
      "evolutionary biology \n",
      "\t 2.6380398839828274 0.0042739894701278175\n",
      "genetics \n",
      "\t -10.575657823528083 3.9184803637866705e-26\n",
      "geology \n",
      "\t -1.14347029231106 0.12769761638320445\n",
      "geometry \n",
      "\t -10.812439786636231 1.8439376781911258e-25\n",
      "group theory \n",
      "\t -11.180505372348104 3.814558796705026e-27\n",
      "immunology \n",
      "\t -6.163066493128674 6.975849102200815e-10\n",
      "law \n",
      "\t -27.158853515948962 2.9158083433511865e-156\n",
      "linear algebra \n",
      "\t -1.8658809549344562 0.031549908797518615\n",
      "linguistics \n",
      "\t -13.013810232137045 2.2208852414723665e-36\n",
      "meteorology \n",
      "\t -9.439392513551379 9.434449397506047e-21\n",
      "molecular biology \n",
      "\t -1.6738985910438469 0.04720438261427171\n",
      "number theory \n",
      "\t -8.165291268313203 2.360501363819697e-15\n",
      "optics \n",
      "\t -8.259587980983051 2.8112110319703554e-16\n",
      "philosophy of language \n",
      "\t -2.942467617593583 0.0017628039560664784\n",
      "philosophy of law \n",
      "\t -3.7545611128801153 0.0001451909184504664\n",
      "philosophy of mind \n",
      "\t -7.201658536468797 1.0987465672167293e-11\n",
      "philosophy of science \n",
      "\t -4.434512368085513 5.672691571279292e-06\n",
      "psychology \n",
      "\t -16.57797180493824 1.1279973107384844e-59\n",
      "robotics \n",
      "\t -18.366220950879203 6.8103834306867495e-68\n",
      "sociology \n",
      "\t -5.934612786468202 2.1114116062874767e-09\n",
      "software engineering \n",
      "\t -3.5297955181275373 0.00023059876997754807\n"
     ]
    }
   ],
   "source": [
    "import scipy as sp\n",
    "\n",
    "for topic in pd.unique(core_expand.topic):\n",
    "    data = core_expand[core_expand.topic==topic]\n",
    "    t, p = sp.stats.ttest_1samp(\n",
    "        data.year - data.year_periphery, 0\n",
    "    )\n",
    "    print(topic, '\\n\\t', t, p/2)"
   ]
  },
  {
   "cell_type": "code",
   "execution_count": 41,
   "metadata": {},
   "outputs": [
    {
     "name": "stdout",
     "output_type": "stream",
     "text": [
      "0.7238891124725342 0.0\n"
     ]
    },
    {
     "name": "stderr",
     "output_type": "stream",
     "text": [
      "/Users/harangju/anaconda3/envs/wikinet/lib/python3.7/site-packages/scipy/stats/morestats.py:1681: UserWarning:\n",
      "\n",
      "p-value may not be accurate for N > 5000.\n",
      "\n"
     ]
    }
   ],
   "source": [
    "import scipy as sp\n",
    "\n",
    "t, p = sp.stats.shapiro(core_expand.year - core_expand.year_periphery)\n",
    "print(t, p)"
   ]
  },
  {
   "cell_type": "code",
   "execution_count": 30,
   "metadata": {},
   "outputs": [
    {
     "name": "stdout",
     "output_type": "stream",
     "text": [
      "-58.95820320742046 0.0\n"
     ]
    }
   ],
   "source": [
    "import scipy as sp\n",
    "\n",
    "t, p = sp.stats.ttest_1samp(\n",
    "    core_expand.year - core_expand.year_periphery, 0\n",
    ")\n",
    "print(t, p)"
   ]
  },
  {
   "cell_type": "markdown",
   "metadata": {},
   "source": [
    "## Modularity"
   ]
  },
  {
   "cell_type": "code",
   "execution_count": null,
   "metadata": {},
   "outputs": [],
   "source": [
    "import os\n",
    "\n",
    "path_plot = '1 modularity'\n",
    "\n",
    "if not os.path.exists(f\"{path_fig}/{path_plot}\"):\n",
    "    os.mkdir(f\"{path_fig}/{path_plot}\")"
   ]
  },
  {
   "cell_type": "markdown",
   "metadata": {},
   "source": [
    "### Static"
   ]
  },
  {
   "cell_type": "code",
   "execution_count": null,
   "metadata": {},
   "outputs": [],
   "source": [
    "fig = go.Figure()\n",
    "fig.add_trace(go.Scatter(x=df_mean['modularity'],\n",
    "                         y=df_mean['modularity-null-target'],\n",
    "                         mode='markers',\n",
    "                         line={'color': '#2A3F5F'},\n",
    "                         showlegend=False,\n",
    "                         hovertext=df_mean['topic']))\n",
    "fig.add_trace(go.Scatter(x=[0,1], y=[0,1],\n",
    "                         mode='lines',\n",
    "                         line={'dash': 'dash',\n",
    "                               'color': '#2A3F5F'},\n",
    "                         showlegend=False))\n",
    "fig.update_layout(template='plotly_white',\n",
    "                  title='modularity',\n",
    "                  width=500, height=500,\n",
    "                  xaxis=dict(title='null',\n",
    "                             range=[0,1]),\n",
    "                  yaxis=dict(title='real',\n",
    "                             range=[0,1],\n",
    "                             scaleanchor='x',\n",
    "                             scaleratio=1))\n",
    "fig.show()\n",
    "if save_fig:\n",
    "    fig.write_image(f\"{path_fig}/{path_plot}/modularity.pdf\")"
   ]
  },
  {
   "cell_type": "markdown",
   "metadata": {},
   "source": [
    "### Growth"
   ]
  },
  {
   "cell_type": "code",
   "execution_count": null,
   "metadata": {},
   "outputs": [],
   "source": [
    "import os\n",
    "\n",
    "if not os.path.exists(f\"{path_fig}/{path_modularity}/growth/\"):\n",
    "    os.mkdir(f\"{path_fig}/{path_modularity}/growth\")"
   ]
  },
  {
   "cell_type": "code",
   "execution_count": null,
   "metadata": {
    "scrolled": true
   },
   "outputs": [],
   "source": [
    "for topic in networks.keys():\n",
    "    fig = go.Figure()\n",
    "    data = comm_t[comm_t.topic==topic]\n",
    "    for i in sorted(pd.unique(comm_t.comm)):\n",
    "        fig.add_trace(go.Scatter(x=data[data.comm==i]['year'],\n",
    "                                 y=data[data.comm==i]['comm_count'],\n",
    "                                 mode='lines',\n",
    "                                 name=str(i)))\n",
    "    fig.update_layout(template='plotly_white',\n",
    "                      title_text=topic,\n",
    "                      xaxis={'range': [0,2000],\n",
    "                             'title': 'year'},\n",
    "                      yaxis={'title': '# nodes',\n",
    "                             'range': [-1,np.max(data.comm_count)]})\n",
    "    fig.show()\n",
    "    fig.write_image(f\"{path_fig}/{path_modularity}/growth/{topic}.pdf\")"
   ]
  },
  {
   "cell_type": "markdown",
   "metadata": {},
   "source": [
    "### Cores in modules"
   ]
  },
  {
   "cell_type": "code",
   "execution_count": null,
   "metadata": {},
   "outputs": [],
   "source": [
    "import os\n",
    "\n",
    "if not os.path.exists(f\"{path_fig}/{path_plot}/core_module/\"):\n",
    "    os.mkdir(f\"{path_fig}/{path_plot}/core_module\")"
   ]
  },
  {
   "cell_type": "code",
   "execution_count": null,
   "metadata": {},
   "outputs": [],
   "source": [
    "comm_core = pd.concat([pd.DataFrame([[topic,\n",
    "                                      node,\n",
    "                                      network.graph.nodes[node]['year'],\n",
    "                                      network.graph.nodes[node]['community'],\n",
    "                                      network.graph.nodes[node]['community_core_be'],\n",
    "                                      1 if network.graph.nodes[node]['community_core_be']==0 else 0,\n",
    "                                      network.graph.graph['community_coreness_be']\\\n",
    "                                          [network.graph.nodes[node]['community']],\n",
    "                                      1\n",
    "                                     ]],\n",
    "                                    columns=['topic','node','year','community','community_core',\n",
    "                                             'community_peri','community_coreness','count'])\n",
    "                       for topic, network in networks.items()\n",
    "                       for node in network.graph.nodes],\n",
    "                      ignore_index=True)\\\n",
    "              .sort_values(by='year')\n",
    "comm_core = comm_core\\\n",
    "              .merge(comm_core.groupby(['community'])['count'].sum(),\n",
    "                     on=['community'],\n",
    "                     suffixes=('','_sum'))\n",
    "comm_core['core_count'] = comm_core.groupby(['community'])['community_core']\\\n",
    "                                             .transform(pd.Series.cumsum)\n",
    "comm_core['peri_count'] = comm_core.groupby(['community'])['community_peri']\\\n",
    "                                             .transform(pd.Series.cumsum)\n",
    "comm_core = comm_core.drop(['count', 'count_sum', 'community_core', 'community_peri'], axis=1)\n",
    "comm_core"
   ]
  },
  {
   "cell_type": "code",
   "execution_count": null,
   "metadata": {
    "scrolled": true
   },
   "outputs": [],
   "source": [
    "for topic, network in networks.items():\n",
    "    fig = go.Figure()\n",
    "    for i in range(4):\n",
    "        data = comm_core[(comm_core.topic==topic) & (comm_core.community==i)]\n",
    "        fig.add_trace(go.Scatter(x=data['year'],\n",
    "                                 y=(data['core_count']/np.max(data['core_count']))\\\n",
    "                                     /(data['peri_count']/np.max(data['peri_count'])),\n",
    "                                 mode='lines',\n",
    "                                 name=f\"community {i}\"))\n",
    "    fig.add_trace(go.Scatter(x=[np.min(comm_core.year),np.max(comm_core.year)],\n",
    "                             y=[1,1],\n",
    "                             mode='lines',\n",
    "                             line={'dash': 'dash'},\n",
    "                             name='equal'))\n",
    "    fig.update_layout(template='plotly_white',\n",
    "                      title_text=topic,\n",
    "                      xaxis={'range': [1500,2030]},\n",
    "                      yaxis={'title': '% cores/% periphery'},\n",
    "                      height=400)\n",
    "    fig.show()\n",
    "    if save_fig:\n",
    "        fig.write_image(f\"{path_fig}/{path_plot}/core_module/{topic}.pdf\")"
   ]
  },
  {
   "cell_type": "markdown",
   "metadata": {},
   "source": [
    "### Summary"
   ]
  },
  {
   "cell_type": "code",
   "execution_count": null,
   "metadata": {},
   "outputs": [],
   "source": [
    "core_mod = pd.DataFrame()\n",
    "for topic, network in networks.items():\n",
    "    for node in network.graph.nodes:\n",
    "        if network.graph.nodes[node]['community_core_be'] == 1:\n",
    "            year = network.graph.nodes[node]['year']\n",
    "            community = network.graph.nodes[node]['community']\n",
    "            neighbors = list(network.graph.successors(node)) +\\\n",
    "                        list(network.graph.predecessors(node))\n",
    "            periphery = [neighbor for neighbor in neighbors\n",
    "                         if network.graph.nodes[neighbor]['community'] == community and\\\n",
    "                            network.graph.nodes[neighbor]['community_core_be'] == 0]\n",
    "            new_rows = pd.DataFrame([[topic, node, year, community, periphery]],\n",
    "                                    columns=['topic','core','year','community','periphery'])\n",
    "            core_mod = pd.concat([core_mod, new_rows], ignore_index=True)\n",
    "core_mod"
   ]
  },
  {
   "cell_type": "code",
   "execution_count": null,
   "metadata": {},
   "outputs": [],
   "source": [
    "core_mod_expand = core_mod.periphery\\\n",
    "                          .apply(pd.Series)\\\n",
    "                          .merge(core_mod, left_index=True, right_index=True)\\\n",
    "                          .drop(['periphery'], axis=1)\\\n",
    "                          .melt(id_vars=['topic','core','year','community'], value_name='periphery')\\\n",
    "                          .drop('variable', axis=1)\\\n",
    "                          .sort_values(by=['topic','core'])\\\n",
    "                          .dropna()\\\n",
    "                          .reset_index(drop=True)\n",
    "core_mod_expand['year_periphery'] = [networks[core_mod_expand.iloc[i].topic].graph\\\n",
    "                                       .nodes[core_mod_expand.iloc[i].periphery]['year']\n",
    "                                     for i in core_mod_expand.index]\n",
    "core_mod_expand"
   ]
  },
  {
   "cell_type": "code",
   "execution_count": null,
   "metadata": {},
   "outputs": [],
   "source": [
    "fig = go.Figure()\n",
    "for topic in pd.unique(core_mod_expand.topic):\n",
    "    data = core_mod_expand[core_mod_expand.topic==topic]\n",
    "    fig.add_trace(go.Violin(x=data.year-data.year_periphery,\n",
    "                            name=topic,\n",
    "                            marker={'size': 5,\n",
    "                                    'symbol': 'line-ns-open'}))\n",
    "fig.update_layout(template='plotly_white',\n",
    "                  height=1000,\n",
    "                  title_text='year (core) - year (periphery)',\n",
    "                  xaxis={},\n",
    "                  showlegend=False)\n",
    "fig.show()\n",
    "if save_fig:\n",
    "    fig.write_image(f\"{path_fig}/{path_plot}/lead_lag.pdf\")"
   ]
  },
  {
   "cell_type": "markdown",
   "metadata": {},
   "source": [
    "**Note**: We're more explorers than formulists."
   ]
  }
 ],
 "metadata": {
  "kernelspec": {
   "display_name": "Python 3",
   "language": "python",
   "name": "python3"
  },
  "language_info": {
   "codemirror_mode": {
    "name": "ipython",
    "version": 3
   },
   "file_extension": ".py",
   "mimetype": "text/x-python",
   "name": "python",
   "nbconvert_exporter": "python",
   "pygments_lexer": "ipython3",
   "version": "3.7.6"
  },
  "toc": {
   "base_numbering": 1,
   "nav_menu": {},
   "number_sections": true,
   "sideBar": true,
   "skip_h1_title": false,
   "title_cell": "Table of Contents",
   "title_sidebar": "Contents",
   "toc_cell": false,
   "toc_position": {
    "height": "calc(100% - 180px)",
    "left": "10px",
    "top": "150px",
    "width": "288.59375px"
   },
   "toc_section_display": true,
   "toc_window_display": true
  }
 },
 "nbformat": 4,
 "nbformat_minor": 2
}
