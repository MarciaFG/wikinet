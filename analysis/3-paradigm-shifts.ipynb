{
 "cells": [
  {
   "cell_type": "markdown",
   "metadata": {},
   "source": [
    "# Load networks"
   ]
  },
  {
   "cell_type": "code",
   "execution_count": null,
   "metadata": {},
   "outputs": [],
   "source": [
    "%reload_ext autoreload\n",
    "%autoreload 2\n",
    "import os,sys\n",
    "sys.path.insert(1, os.path.join(sys.path[0], '..', 'module'))\n",
    "import wiki\n",
    "import numpy as np\n",
    "import pandas as pd\n",
    "import networkx as nx"
   ]
  },
  {
   "cell_type": "code",
   "execution_count": null,
   "metadata": {},
   "outputs": [],
   "source": [
    "path_networks = '/Users/harangju/Developer/data/wiki/graphs/'"
   ]
  },
  {
   "cell_type": "code",
   "execution_count": null,
   "metadata": {},
   "outputs": [],
   "source": [
    "topics = ['anatomy', 'biochemistry', 'cognitive science', 'evolutionary biology',\n",
    "          'genetics', 'immunology', 'molecular biology', 'chemistry', 'biophysics',\n",
    "          'energy', 'optics', 'earth science', 'geology', 'meteorology',\n",
    "          'philosophy of language', 'philosophy of law', 'philosophy of mind',\n",
    "          'philosophy of science', 'economics', 'accounting', 'education',\n",
    "          'linguistics', 'law', 'psychology', 'sociology', 'electronics',\n",
    "          'software engineering', 'robotics',\n",
    "          'calculus', 'geometry', 'abstract algebra',\n",
    "          'Boolean algebra', 'commutative algebra', 'group theory', 'linear algebra',\n",
    "          'number theory', 'dynamical systems and differential equations']"
   ]
  },
  {
   "cell_type": "code",
   "execution_count": null,
   "metadata": {},
   "outputs": [],
   "source": [
    "networks = {}\n",
    "for topic in topics:\n",
    "    print(topic, end=' ')\n",
    "    networks[topic] = wiki.Net()\n",
    "    networks[topic].load_graph(path_networks+'dated/'+topic+'.pickle')"
   ]
  },
  {
   "cell_type": "code",
   "execution_count": null,
   "metadata": {},
   "outputs": [],
   "source": [
    "topics += ['physics']\n",
    "networks['physics'] = wiki.Net()\n",
    "networks['physics'].load_graph(os.path.join(path_networks, 'dated', 'physics.pickle'))"
   ]
  },
  {
   "cell_type": "markdown",
   "metadata": {},
   "source": [
    "# Plot"
   ]
  },
  {
   "cell_type": "code",
   "execution_count": null,
   "metadata": {},
   "outputs": [],
   "source": [
    "from ipywidgets import interact, widgets, Layout\n",
    "import plotly\n",
    "import plotly.express as px\n",
    "import plotly.graph_objs as go\n",
    "import plotly.figure_factory as ff\n",
    "from IPython.display import display\n",
    "plotly.offline.init_notebook_mode(connected=True)"
   ]
  },
  {
   "cell_type": "code",
   "execution_count": null,
   "metadata": {},
   "outputs": [],
   "source": [
    "path_fig = '/Users/harangju/Box Sync/Research/my papers/wikipedia/results/'\n",
    "save_fig = False"
   ]
  },
  {
   "cell_type": "markdown",
   "metadata": {},
   "source": [
    "# Growing networks"
   ]
  },
  {
   "cell_type": "code",
   "execution_count": null,
   "metadata": {
    "scrolled": false
   },
   "outputs": [],
   "source": [
    "comm_t = pd.DataFrame()\n",
    "for topic, network in networks.items():\n",
    "    print(topic, end=' ')\n",
    "    comm_t = pd.concat([comm_t] +\n",
    "                       [pd.DataFrame([[topic,\n",
    "                                       node,\n",
    "                                       network.graph.nodes[node]['year'],\n",
    "                                       network.graph.nodes[node]['community'],\n",
    "                                       network.graph.nodes[node]['core_be'],\n",
    "                                       network.graph.nodes[node]['core_rb'],\n",
    "                                       1]],\n",
    "                                     columns=['topic','node','year',\n",
    "                                              'comm','core_be','core_rb',\n",
    "                                              'count'])\n",
    "                        for node in network.graph.nodes],\n",
    "                       ignore_index=True)\n",
    "comm_t = comm_t.merge(comm_t.groupby(['topic','comm'])['count'].sum(),\n",
    "                      on=['topic','comm'],\n",
    "                      suffixes=('','_topic_comm'))\\\n",
    "               .merge(comm_t.groupby(['topic','core_be'])['count'].sum(),\n",
    "                      on=['topic','core_be'],\n",
    "                      suffixes=('','_topic_core_be'))\\\n",
    "               .sort_values(by=['topic','year'])\\\n",
    "               .reset_index(drop=True)\n",
    "comm_t['comm_count'] = comm_t.groupby(['topic','comm'])['count']\\\n",
    "                             .transform(pd.Series.cumsum)\n",
    "comm_t['core_be_count'] = comm_t.groupby(['topic','core_be'])['count']\\\n",
    "                                .transform(pd.Series.cumsum)\n",
    "comm_t['comm_frac'] = comm_t['comm_count']/comm_t['count_topic_comm']\n",
    "comm_t['core_be_frac'] = comm_t['core_be_count']/comm_t['count_topic_core_be']\n",
    "comm_t = comm_t.drop(['count','count_topic_comm','count_topic_core_be'], axis=1)"
   ]
  },
  {
   "cell_type": "code",
   "execution_count": null,
   "metadata": {
    "scrolled": false
   },
   "outputs": [],
   "source": [
    "comm_t"
   ]
  },
  {
   "cell_type": "code",
   "execution_count": null,
   "metadata": {},
   "outputs": [],
   "source": [
    "community = 1\n",
    "network = networks['anatomy']\n",
    "[node for node in network.graph.nodes if network.graph.nodes[node]['community']==community][:3]"
   ]
  },
  {
   "cell_type": "code",
   "execution_count": null,
   "metadata": {},
   "outputs": [],
   "source": [
    "communities = set([network.graph.nodes[node]['community'] for node in network.graph.nodes])"
   ]
  },
  {
   "cell_type": "code",
   "execution_count": null,
   "metadata": {},
   "outputs": [],
   "source": [
    "import operator"
   ]
  },
  {
   "cell_type": "code",
   "execution_count": null,
   "metadata": {},
   "outputs": [],
   "source": [
    "hubs = {}\n",
    "for topic in topics:\n",
    "    hubs[topic] = {}\n",
    "    network = networks[topic]\n",
    "    communities = set([network.graph.nodes[node]['community'] for node in network.graph.nodes])\n",
    "    for community in communities:\n",
    "        subgraph = network.graph.subgraph(\n",
    "            [node for node in network.graph.nodes if network.graph.nodes[node]['community']==community]\n",
    "        )\n",
    "        hub = max(dict(subgraph.degree).items(), key=operator.itemgetter(1))[0]\n",
    "        hubs[topic][community] = hub"
   ]
  },
  {
   "cell_type": "markdown",
   "metadata": {},
   "source": [
    "# Modularity"
   ]
  },
  {
   "cell_type": "code",
   "execution_count": null,
   "metadata": {},
   "outputs": [],
   "source": [
    "import os\n",
    "\n",
    "path_plot = '5 modules'\n",
    "\n",
    "if not os.path.exists(f\"{path_fig}/{path_plot}\"):\n",
    "    os.mkdir(f\"{path_fig}/{path_plot}\")"
   ]
  },
  {
   "cell_type": "markdown",
   "metadata": {},
   "source": [
    "## Count"
   ]
  },
  {
   "cell_type": "code",
   "execution_count": null,
   "metadata": {},
   "outputs": [],
   "source": [
    "import os\n",
    "\n",
    "if not os.path.exists(f\"{path_fig}/{path_plot}/count/\"):\n",
    "    os.mkdir(f\"{path_fig}/{path_plot}/count\")"
   ]
  },
  {
   "cell_type": "code",
   "execution_count": null,
   "metadata": {
    "scrolled": false
   },
   "outputs": [],
   "source": [
    "for topic in ['physics']: #networks.keys():\n",
    "    fig = go.Figure()\n",
    "    data = comm_t[comm_t.topic==topic]\n",
    "    for i in range(16): #sorted(pd.unique(data.comm)):\n",
    "        fig.add_trace(\n",
    "            go.Scatter(\n",
    "                x=data[data.comm==i]['year'],\n",
    "                y=data[data.comm==i]['comm_count'],\n",
    "                mode='lines', name=hubs[topic][i],\n",
    "            )\n",
    "        )\n",
    "    fig.update_layout(template='plotly_white',\n",
    "                      title_text=topic,\n",
    "                      xaxis={'range': [0,2100],\n",
    "                             'title': 'year'},\n",
    "                      yaxis={'title': '# nodes',\n",
    "                             'range': [1,np.log10(np.max(data.comm_count))],\n",
    "                             'type': 'linear'})\n",
    "    fig.show()\n",
    "    fig.write_image(f\"{path_fig}/{path_plot}/count/{topic}.pdf\")"
   ]
  },
  {
   "cell_type": "markdown",
   "metadata": {},
   "source": [
    "## Growth"
   ]
  },
  {
   "cell_type": "code",
   "execution_count": null,
   "metadata": {},
   "outputs": [],
   "source": [
    "import os\n",
    "\n",
    "if not os.path.exists(f\"{path_fig}/{path_plot}/growth/\"):\n",
    "    os.mkdir(f\"{path_fig}/{path_plot}/growth\")"
   ]
  },
  {
   "cell_type": "code",
   "execution_count": null,
   "metadata": {
    "scrolled": false
   },
   "outputs": [],
   "source": [
    "for topic in ['physics']: #networks.keys():\n",
    "    fig = go.Figure()\n",
    "    data = comm_t[comm_t.topic==topic]\n",
    "    for i in range(16): #sorted(pd.unique(data.comm)):\n",
    "        fig.add_trace(\n",
    "            go.Scatter(\n",
    "                x=data[data.comm==i]['year'],\n",
    "                y=i*np.ones(len(data[data.comm==i].index)),\n",
    "                mode='markers', name=hubs[topic][i],\n",
    "            )\n",
    "        )\n",
    "    fig.update_layout(template='plotly_white',\n",
    "                      title_text=topic,\n",
    "                      showlegend=False,\n",
    "                      xaxis={'range': [0,2100],\n",
    "                             'title': 'year'},\n",
    "                      yaxis={'title': 'communities (by hubs)',\n",
    "                             'range': [-1,i+1]})\n",
    "    fig.update_yaxes(\n",
    "        tickvals=list(range(16)),\n",
    "        ticktext=[hubs[topic][i] for i in range(0,16)]\n",
    "    )\n",
    "    fig.show()\n",
    "    fig.write_image(f\"{path_fig}/{path_plot}/growth/{topic}.pdf\")"
   ]
  },
  {
   "cell_type": "code",
   "execution_count": null,
   "metadata": {},
   "outputs": [],
   "source": [
    "years"
   ]
  },
  {
   "cell_type": "code",
   "execution_count": null,
   "metadata": {},
   "outputs": [],
   "source": [
    "for topic in networks.keys():\n",
    "    fig = go.Figure()\n",
    "    data = comm_t[comm_t.topic==topic]\n",
    "    for i in range(10): #sorted(pd.unique(data.comm)):\n",
    "        years = data[data.comm==i].year\n",
    "        x = list(range(min(years)-1, max(years)))\n",
    "        y = np.zeros(len(x))\n",
    "        for year in years:\n",
    "            y[year-min(years)] += 1\n",
    "        fig.add_trace(\n",
    "            go.Scatter(x=x, y=y, mode='lines', name=hubs[topic][i])\n",
    "        )\n",
    "    fig.update_layout(template='plotly_white',\n",
    "                      title_text=topic,\n",
    "                      xaxis={'range': [0,2100],\n",
    "                             'title': 'year'},\n",
    "                      yaxis={'title': 'growth'})\n",
    "    fig.show()\n",
    "    fig.write_image(f\"{path_fig}/{path_plot}/growth/{topic}.pdf\")"
   ]
  },
  {
   "cell_type": "markdown",
   "metadata": {},
   "source": [
    "# Change in community\n",
    "\n",
    "Alternative conceptions to scientific revolution [link](https://plato.stanford.edu/entries/scientific-revolutions/#SomAltConSciRev)\n",
    "\n",
    "> a prototype for revolutionary reorientation in the sciences. Just because it did not involve the introduction of additional objects or concepts, the transition from Newtonian to Einsteinian mechanics illustrates with particular clarity the scientific revolution as a displacement of the conceptual network through which scientists view the world. (Kuhn, 1970, 102)\n",
    "\n",
    "Perhaps we can frame paradigm shifts as changes to the organization of knowledge as communities."
   ]
  },
  {
   "cell_type": "code",
   "execution_count": null,
   "metadata": {},
   "outputs": [],
   "source": [
    "import os\n",
    "\n",
    "path_plot = '5 modules'\n",
    "\n",
    "if not os.path.exists(f\"{path_fig}/{path_plot}\"):\n",
    "    os.mkdir(f\"{path_fig}/{path_plot}\")"
   ]
  },
  {
   "cell_type": "code",
   "execution_count": null,
   "metadata": {},
   "outputs": [],
   "source": [
    "import os\n",
    "\n",
    "if not os.path.exists(f\"{path_fig}/{path_plot}/community\"):\n",
    "    os.mkdir(f\"{path_fig}/{path_plot}/community\")"
   ]
  },
  {
   "cell_type": "code",
   "execution_count": null,
   "metadata": {
    "scrolled": true
   },
   "outputs": [],
   "source": [
    "import plotly.express as px\n",
    "\n",
    "px.colors.qualitative.Plotly[:3]"
   ]
  },
  {
   "cell_type": "code",
   "execution_count": null,
   "metadata": {},
   "outputs": [],
   "source": [
    "from networkx.algorithms.community import greedy_modularity_communities"
   ]
  },
  {
   "cell_type": "markdown",
   "metadata": {},
   "source": [
    "## Multilayer"
   ]
  },
  {
   "cell_type": "code",
   "execution_count": null,
   "metadata": {},
   "outputs": [],
   "source": [
    "def compute_multinet(g):\n",
    "    multinet = nx.DiGraph()\n",
    "    years = sorted(nx.get_node_attributes(g, 'year').values())\n",
    "    for i, year in enumerate(years):\n",
    "        nodes = [node for node in g.nodes if g.nodes[node]['year']<=year]\n",
    "        subgraph = nx.subgraph(g, nodes)\n",
    "        multinet.add_nodes_from(\n",
    "            [(f\"{n}_{year}\", {'year': g.nodes[n]['year']}) for n in subgraph.nodes]\n",
    "        )\n",
    "        multinet.add_edges_from(\n",
    "            [(f\"{s}_{year}\", f\"{t}_{year}\") for s,t in subgraph.edges]\n",
    "        )\n",
    "        if i>0:\n",
    "            prev_nodes = [\n",
    "                node for node in g.nodes if g.nodes[node]['year']<=years[i-1]\n",
    "            ]\n",
    "            multinet.add_edges_from(\n",
    "                [(f\"{n}_{years[i-1]}\", f\"{n}_{year}\") for n in prev_nodes],\n",
    "                weight=0.0001\n",
    "            )\n",
    "    return multinet"
   ]
  },
  {
   "cell_type": "code",
   "execution_count": null,
   "metadata": {},
   "outputs": [],
   "source": [
    "topics = ['cognitive science']"
   ]
  },
  {
   "cell_type": "code",
   "execution_count": null,
   "metadata": {},
   "outputs": [],
   "source": [
    "multinets = {}\n",
    "for topic in topics:\n",
    "    multinets[topic] = compute_multinet(graph)"
   ]
  },
  {
   "cell_type": "code",
   "execution_count": null,
   "metadata": {},
   "outputs": [],
   "source": [
    "multicomms = {}\n",
    "for topic in topics:\n",
    "    multicomms[topic] = greedy_modularity_communities(nx.Graph(multinets[topic]))"
   ]
  },
  {
   "cell_type": "code",
   "execution_count": null,
   "metadata": {
    "scrolled": false
   },
   "outputs": [],
   "source": [
    "for topic in [topic]: #topics:\n",
    "    fig = go.Figure()\n",
    "    graph = networks[topic].graph\n",
    "    years = sorted(nx.get_node_attributes(graph, 'year').values())\n",
    "    nodes = [n for y in years for n in graph.nodes if graph.nodes[n]['year']==y]\n",
    "    for i, c in enumerate(multicomms[topic]):\n",
    "        x = []\n",
    "        y = []\n",
    "        for node in c:\n",
    "            name, year = node.split('_', 1)\n",
    "            x.append(years.index(int(year)))\n",
    "            y.append(nodes.index(name))\n",
    "        fig.add_trace(\n",
    "            go.Scatter(\n",
    "                x=x, y=y,\n",
    "                mode='markers',\n",
    "                marker={'color': px.colors.qualitative.Plotly[i%10]},\n",
    "                name=i\n",
    "            )\n",
    "        )\n",
    "    fig.update_yaxes(ticktext=[], tickvals=[])\n",
    "    fig.update_layout(\n",
    "        template='plotly_white',\n",
    "        title_text=topic,\n",
    "        xaxis={'title': 'time'},\n",
    "        yaxis={'title': 'nodes'}\n",
    "    )\n",
    "    fig.show()\n",
    "# fig.write_image(f\"{path_fig}/{path_plot}/community/{topic}.pdf\")"
   ]
  },
  {
   "cell_type": "markdown",
   "metadata": {},
   "source": [
    "## By layer"
   ]
  },
  {
   "cell_type": "code",
   "execution_count": null,
   "metadata": {},
   "outputs": [],
   "source": [
    "def compute_comm_by_layer(graph):\n",
    "    comms = []\n",
    "    years = sorted(nx.get_node_attributes(graph, 'year').values())\n",
    "    for i, year in enumerate(years):\n",
    "        nodes = [n for n in graph.nodes if graph.nodes[n]['year']<=year]\n",
    "        if len(nodes)<3:\n",
    "            comms += [[nodes]]\n",
    "        else:\n",
    "            subgraph = nx.subgraph(graph, nodes)\n",
    "            comms += [greedy_modularity_communities(nx.Graph(subgraph))]\n",
    "    return comms, years"
   ]
  },
  {
   "cell_type": "code",
   "execution_count": null,
   "metadata": {},
   "outputs": [],
   "source": [
    "for topic in ['cognitive science']: #topics:\n",
    "    fig = go.Figure()\n",
    "    graph = networks[topic].graph\n",
    "    comms, years = compute_comm_by_layer(graph)\n",
    "    nodes = [n for y in years for n in graph.nodes if graph.nodes[n]['year']==y]\n",
    "    groups = []\n",
    "    for i, year in enumerate(years):\n",
    "        for j, c in enumerate(comms[i]):\n",
    "            \n",
    "            fig.add_trace(\n",
    "                go.Scatter(\n",
    "                    x=i*np.ones(len(c)), y=[nodes.index(n) for n in c],\n",
    "                    mode='markers', name=j\n",
    "                )\n",
    "            )\n",
    "    fig.update_yaxes(ticktext=[], tickvals=[])\n",
    "    fig.update_layout(\n",
    "        template='plotly_white',\n",
    "        title_text=topic,\n",
    "        xaxis={'title': 'time'},\n",
    "        yaxis={'title': 'nodes'}\n",
    "    )\n",
    "    fig.show()\n",
    "# fig.write_image(f\"{path_fig}/{path_plot}/community/{topic}.pdf\")"
   ]
  },
  {
   "cell_type": "markdown",
   "metadata": {},
   "source": [
    "## Leiden\n",
    "\n",
    "[link](http://netwiki.amath.unc.edu/GenLouvain/GenLouvain)\n",
    "[leidenalg](https://leidenalg.readthedocs.io/en/latest/intro.html)"
   ]
  },
  {
   "cell_type": "code",
   "execution_count": null,
   "metadata": {},
   "outputs": [],
   "source": [
    "import scipy as sp\n",
    "import leidenalg as la\n",
    "import igraph as ig\n",
    "import pickle"
   ]
  },
  {
   "cell_type": "code",
   "execution_count": null,
   "metadata": {},
   "outputs": [],
   "source": [
    "def networkx_to_igraph(nx_graph, vertex_id=None):\n",
    "    nodes = list(nx_graph.nodes)\n",
    "    ig_graph = ig.Graph()\n",
    "    ig_graph.add_vertices(list(range(len(nodes))))\n",
    "    ig_graph.vs['name'] = nodes\n",
    "    ig_graph.vs['year'] = [nx_graph.nodes[n]['year'] for n in nodes]\n",
    "    ig_graph.add_edges([\n",
    "        (nodes.index(s), nodes.index(t)) for s,t in nx_graph.edges\n",
    "    ])\n",
    "    ig_graph.es['weight'] = [nx_graph.edges[s,t]['weight'] for s,t in nx_graph.edges]\n",
    "    if vertex_id:\n",
    "        ig_graph.vs['id'] = vertex_id\n",
    "    return ig_graph"
   ]
  },
  {
   "cell_type": "code",
   "execution_count": null,
   "metadata": {},
   "outputs": [],
   "source": [
    "g = networkx_to_igraph(networks['earth science'].graph)\n",
    "partition = la.find_partition(g, la.ModularityVertexPartition)\n",
    "layout = g.layout('circle')\n",
    "ig.plot(\n",
    "    partition, layout=layout, bbox=(500, 500), margin=50,\n",
    "    vertex_size=5, vertex_label_size=10,\n",
    "    edge_width=0.1, edge_curved=True\n",
    ")"
   ]
  },
  {
   "cell_type": "code",
   "execution_count": null,
   "metadata": {
    "scrolled": true
   },
   "outputs": [],
   "source": [
    "graph = networks['earth science'].graph\n",
    "nodes = list(graph.nodes)\n",
    "years = sorted(nx.get_node_attributes(graph, 'year').values())\n",
    "nodes_by_year = [\n",
    "    [n for n in nodes if graph.nodes[n]['year']<=year]\n",
    "    for year in years\n",
    "]\n",
    "membership, improvement = la.find_partition_temporal(\n",
    "    [\n",
    "        networkx_to_igraph(\n",
    "            nx.subgraph(graph, nodes_by_year[i]),\n",
    "            [nodes.index(n) for n in nodes_by_year[i]]\n",
    "        )\n",
    "        for i, year in enumerate(years)\n",
    "    ],\n",
    "    la.ModularityVertexPartition,\n",
    "    interslice_weight=1,\n",
    ")\n",
    "membership[:3], improvement"
   ]
  },
  {
   "cell_type": "code",
   "execution_count": null,
   "metadata": {},
   "outputs": [],
   "source": [
    "len(networks['evolutionary biology'].graph.nodes)"
   ]
  },
  {
   "cell_type": "code",
   "execution_count": null,
   "metadata": {},
   "outputs": [],
   "source": [
    "Cjrs = 0.1"
   ]
  },
  {
   "cell_type": "code",
   "execution_count": null,
   "metadata": {},
   "outputs": [],
   "source": [
    "import os\n",
    "\n",
    "if not os.path.exists(os.path.join(path_fig, path_plot, 'community', f\"{Cjrs}\")):\n",
    "    os.mkdir(os.path.join(path_fig, path_plot, 'community', f\"{Cjrs}\"))"
   ]
  },
  {
   "cell_type": "code",
   "execution_count": null,
   "metadata": {},
   "outputs": [],
   "source": [
    "memberships = {}\n",
    "improvements = {}\n",
    "for topic in topics:\n",
    "    fig = go.Figure()\n",
    "    graph = networks[topic].graph\n",
    "    nodes = list(graph.nodes)\n",
    "    sorted_nodes = sorted(\n",
    "        nodes,\n",
    "#         key=lambda item: membership[-1][nodes_by_year[-1].index(item)]\n",
    "        key=lambda node: graph.nodes[node]['year']\n",
    "    )\n",
    "    years = sorted(nx.get_node_attributes(graph, 'year').values())\n",
    "    nodes_by_year = [\n",
    "        [n for n in nodes if graph.nodes[n]['year']<=year]\n",
    "        for year in years\n",
    "    ]\n",
    "    memberships[topic], improvements[topic] = la.find_partition_temporal(\n",
    "        [\n",
    "            networkx_to_igraph(\n",
    "                nx.subgraph(graph, nodes_by_year[i]),\n",
    "                [nodes.index(n) for n in nodes_by_year[i]]\n",
    "            )\n",
    "            for i, year in enumerate(years)\n",
    "        ],\n",
    "        la.ModularityVertexPartition,\n",
    "        interslice_weight=Cjrs,\n",
    "    )\n",
    "    pickle.dump(\n",
    "        (memberships, improvements),\n",
    "        open(\n",
    "            os.path.join(path_fig, path_plot, 'community', f\"{Cjrs}\", 'memberships.pickle'),\n",
    "            'wb'\n",
    "        )\n",
    "    )\n",
    "    partitions = sorted(list(set([j for i in memberships[topic] for j in i])))\n",
    "    for part in partitions:\n",
    "        xy = [\n",
    "            (i, sorted_nodes.index(n))\n",
    "            for i, ns in enumerate(nodes_by_year)\n",
    "            for j, n in enumerate(ns)\n",
    "            if memberships[topic][i][j]==part\n",
    "        ]\n",
    "        fig.add_trace(\n",
    "            go.Scatter(\n",
    "                x=[i[0] for i in xy],\n",
    "                y=[i[1] for i in xy],\n",
    "                mode='markers',\n",
    "                marker={'size': 3},\n",
    "                name=part\n",
    "            )\n",
    "        )\n",
    "    fig.update_yaxes(ticktext=[], tickvals=[])\n",
    "    fig.update_xaxes(\n",
    "        tickvals=list(range(len(years)))[0::int(len(years)/10)],\n",
    "        ticktext=years[0::int(len(years)/10)]\n",
    "    )\n",
    "    fig.update_layout(\n",
    "        template='plotly_white',\n",
    "        title_text=topic,\n",
    "        xaxis={'title': 'years'},\n",
    "        yaxis={'title': 'nodes'}\n",
    "    )\n",
    "    fig.show()\n",
    "    fig.write_image(\n",
    "        os.path.join(path_fig, path_plot, 'community', f\"{Cjrs}\", f\"{topic}.pdf\")\n",
    "    )"
   ]
  },
  {
   "cell_type": "markdown",
   "metadata": {},
   "source": [
    "Paradigm shift measured by how much the addition of a node changes the existing community structure."
   ]
  },
  {
   "cell_type": "markdown",
   "metadata": {},
   "source": [
    "### Plot raw"
   ]
  },
  {
   "cell_type": "code",
   "execution_count": null,
   "metadata": {},
   "outputs": [],
   "source": []
  },
  {
   "cell_type": "markdown",
   "metadata": {},
   "source": [
    "### Measure shifts"
   ]
  },
  {
   "cell_type": "code",
   "execution_count": null,
   "metadata": {},
   "outputs": [],
   "source": []
  },
  {
   "cell_type": "markdown",
   "metadata": {},
   "source": [
    "### Plot shifts"
   ]
  },
  {
   "cell_type": "code",
   "execution_count": null,
   "metadata": {},
   "outputs": [],
   "source": []
  }
 ],
 "metadata": {
  "kernelspec": {
   "display_name": "Python 3",
   "language": "python",
   "name": "python3"
  },
  "language_info": {
   "codemirror_mode": {
    "name": "ipython",
    "version": 3
   },
   "file_extension": ".py",
   "mimetype": "text/x-python",
   "name": "python",
   "nbconvert_exporter": "python",
   "pygments_lexer": "ipython3",
   "version": "3.7.6"
  },
  "toc": {
   "base_numbering": 1,
   "nav_menu": {},
   "number_sections": true,
   "sideBar": true,
   "skip_h1_title": false,
   "title_cell": "Table of Contents",
   "title_sidebar": "Contents",
   "toc_cell": false,
   "toc_position": {
    "height": "calc(100% - 180px)",
    "left": "10px",
    "top": "150px",
    "width": "233.59375px"
   },
   "toc_section_display": true,
   "toc_window_display": true
  }
 },
 "nbformat": 4,
 "nbformat_minor": 2
}
