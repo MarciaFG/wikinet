{
 "cells": [
  {
   "cell_type": "markdown",
   "metadata": {},
   "source": [
    "### Persistent homology examples\n",
    "\n",
    "* Ripser [paper](https://www.theoj.org/joss-papers/joss.00925/10.21105.joss.00925.pdf) [code](https://github.com/scikit-tda/ripser.py) (fast)\n",
    "* Dionysus 2 [code](https://mrzv.org/software/dionysus2/) (representative examples)\n",
    "* Nico's [code](https://github.com/nhchristianson/Math-text-semantic-networks)\n",
    "* Ann's [code](https://github.com/asizemore/PH_tutorial/blob/master/Tutorial_day1.ipynb)"
   ]
  },
  {
   "cell_type": "code",
   "execution_count": null,
   "metadata": {
    "scrolled": true
   },
   "outputs": [],
   "source": [
    "%load_ext autoreload\n",
    "%autoreload 2\n",
    "import os,sys\n",
    "sys.path.insert(1, os.path.join(sys.path[0], '..', 'module'))"
   ]
  },
  {
   "cell_type": "markdown",
   "metadata": {},
   "source": [
    "### Persistent homology for all topics"
   ]
  },
  {
   "cell_type": "code",
   "execution_count": null,
   "metadata": {
    "scrolled": true
   },
   "outputs": [],
   "source": [
    "topics = ['anatomy', 'biochemistry', 'cognitive science', 'evolutionary biology',\n",
    "          'genetics', 'immunology', 'molecular biology', 'chemistry', 'biophysics',\n",
    "          'energy', 'optics', 'earth science', 'geology', 'meteorology',\n",
    "          'philosophy of language', 'philosophy of law', 'philosophy of mind',\n",
    "          'philosophy of science', 'economics', 'accounting', 'education',\n",
    "          'linguistics', 'law', 'psychology', 'sociology', 'electronics',\n",
    "          'software engineering', 'robotics']#, 'physics', 'mathematics']"
   ]
  },
  {
   "cell_type": "code",
   "execution_count": null,
   "metadata": {
    "scrolled": true
   },
   "outputs": [],
   "source": [
    "import wiki\n",
    "\n",
    "path_saved = '/Users/harangju/Developer/data/wiki/graphs/dated/'\n",
    "\n",
    "networks = {}\n",
    "for topic in topics:\n",
    "    networks[topic] = wiki.Net()\n",
    "    networks[topic].load_graph(path_saved + topic + '.pickle')\n",
    "    networks[topic].load_barcodes(path_saved + topic + '.barcode')"
   ]
  },
  {
   "cell_type": "code",
   "execution_count": null,
   "metadata": {},
   "outputs": [],
   "source": [
    "path_null = '/Users/harangju/Developer/data/wiki/graphs/null-target/'\n",
    "num_nulls = 2\n",
    "null_targets = {}\n",
    "for topic in topics:\n",
    "    null_targets[topic] = []\n",
    "    for i in range(num_nulls):\n",
    "        network = wiki.Net()\n",
    "        network.load_graph(path_null + topic + '-null-' + str(i) + '.pickle')\n",
    "        network.load_barcodes(path_null + topic + '-null-' + str(i) + '.barcode')\n",
    "        null_targets[topic].append(network)"
   ]
  },
  {
   "cell_type": "code",
   "execution_count": null,
   "metadata": {},
   "outputs": [],
   "source": [
    "path_null = '/Users/harangju/Developer/data/wiki/graphs/null-year/'\n",
    "num_nulls = 2\n",
    "null_years = {}\n",
    "for topic in topics:\n",
    "    null_years[topic] = []\n",
    "    for i in range(num_nulls):\n",
    "        network = wiki.Net()\n",
    "        network.load_graph(path_null + topic + '-null-' + str(i) + '.pickle')\n",
    "        network.load_barcodes(path_null + topic + '-null-' + str(i) + '.barcode')\n",
    "        null_years[topic].append(network)"
   ]
  },
  {
   "cell_type": "code",
   "execution_count": null,
   "metadata": {
    "scrolled": true
   },
   "outputs": [],
   "source": [
    "import numpy as np\n",
    "import pandas as pd\n",
    "import seaborn as sns\n",
    "import matplotlib.pyplot as plt\n",
    "import matplotlib._color_data as mcd\n",
    "\n",
    "sns.set(style='white', font_scale=2)\n",
    "def plot_barcodes(barcodes):\n",
    "    \"\"\"\n",
    "    \"\"\"\n",
    "    colors = [mcd.XKCD_COLORS['xkcd:'+c]\n",
    "          for c in ['emerald green', 'tealish', 'peacock blue', \n",
    "                    'grey', 'brown', 'red', 'yellow']]\n",
    "    plt.figure(figsize=(18,6))\n",
    "    for i, row in barcodes.iterrows():\n",
    "        birth = row['birth']\n",
    "        death = row['death']\n",
    "        x = [birth, 2050] if death==np.inf else\\\n",
    "            [birth, death]\n",
    "        plt.plot(x, i*np.ones(len(x)), colors[row['dim']])\n",
    "        if death != np.inf:\n",
    "            plt.plot(death, i, 'r.')\n",
    "    plt.axvline(x=2040, linestyle='--', color=mcd.XKCD_COLORS['xkcd:grey'])\n",
    "    plt.gca().axes.yaxis.set_ticklabels([])"
   ]
  },
  {
   "cell_type": "code",
   "execution_count": null,
   "metadata": {
    "scrolled": true
   },
   "outputs": [],
   "source": [
    "def plot_persistence_diagram(barcodes):\n",
    "    colors = [mcd.XKCD_COLORS['xkcd:'+c]\n",
    "      for c in ['emerald green', 'tealish', 'peacock blue', \n",
    "                'grey', 'brown', 'red', 'yellow']]\n",
    "    plt.figure(figsize=(10,10))\n",
    "    for dim in set(barcodes['dim']):\n",
    "        data = barcodes.loc[barcodes['dim']==dim]\n",
    "        data.loc[data['death']==np.inf,'death'] = 2030\n",
    "        plt.plot(data['birth'], data['death'], '.')\n",
    "    x = [barcodes['birth'].min(),\n",
    "         barcodes.loc[barcodes['death']!=np.inf,'death'].max()]\n",
    "    print(x)\n",
    "    plt.plot(x, [2030, 2030], '--')"
   ]
  },
  {
   "cell_type": "code",
   "execution_count": null,
   "metadata": {
    "scrolled": false
   },
   "outputs": [],
   "source": [
    "pd.options.display.max_rows = 12\n",
    "networks['biochemistry'].barcodes"
   ]
  },
  {
   "cell_type": "code",
   "execution_count": null,
   "metadata": {
    "scrolled": false
   },
   "outputs": [],
   "source": [
    "for topic in topics:\n",
    "    print('Topic: ' + topic)\n",
    "    plot_barcodes(networks[topic].barcodes)\n",
    "    plt.title(topic)\n",
    "    plt.show()\n",
    "    plot_barcodes(null_targets[topic][0].barcodes)\n",
    "    plt.title('null-target')\n",
    "    plot_barcodes(null_years[topic][0].barcodes)\n",
    "    plt.title('null-year')\n",
    "    plt.show()\n",
    "#     plt.savefig(path_saved + topic + '.png')"
   ]
  },
  {
   "cell_type": "markdown",
   "metadata": {},
   "source": [
    "### Lifetimes vs nulls"
   ]
  },
  {
   "cell_type": "code",
   "execution_count": null,
   "metadata": {
    "scrolled": false
   },
   "outputs": [],
   "source": [
    "networks[topic].barcodes"
   ]
  },
  {
   "cell_type": "code",
   "execution_count": null,
   "metadata": {},
   "outputs": [],
   "source": [
    "max_dim = max([max(networks[topic].barcodes.dim.values) for topic in topics])\n",
    "barcodes = pd.DataFrame()\n",
    "for topic, network in networks.items():\n",
    "    data = network.barcodes.copy()\n",
    "    data['topic'] = topic\n",
    "    data['type'] = 'real'\n",
    "    data['null'] = -1\n",
    "    barcodes = pd.concat([barcodes] + [data], ignore_index=True)\n",
    "for topic, nulls in null_targets.items():\n",
    "    for i, network in enumerate(nulls):\n",
    "        data = network.barcodes.copy()\n",
    "        data['topic'] = topic\n",
    "        data['type'] = 'null_targets'\n",
    "        data['null'] = i\n",
    "        barcodes = pd.concat([barcodes] + [data], ignore_index=True)\n",
    "barcodes['count'] = 1\n",
    "barcodes = barcodes.merge(barcodes.groupby(['type','topic','dim'])['count'].sum(),\n",
    "                          on=['type','topic','dim'],\n",
    "                          suffixes=('','_dim'))\\\n",
    "                   .drop('count', axis=1)"
   ]
  },
  {
   "cell_type": "code",
   "execution_count": null,
   "metadata": {},
   "outputs": [],
   "source": [
    "barcodes['lifetime'] = barcodes['death'] - barcodes['birth']"
   ]
  },
  {
   "cell_type": "code",
   "execution_count": null,
   "metadata": {},
   "outputs": [],
   "source": [
    "barcodes"
   ]
  },
  {
   "cell_type": "code",
   "execution_count": null,
   "metadata": {},
   "outputs": [],
   "source": [
    "from scipy import stats"
   ]
  },
  {
   "cell_type": "code",
   "execution_count": null,
   "metadata": {},
   "outputs": [],
   "source": [
    "for topic in topics:\n",
    "    data = barcodes[barcodes.topic==topic].copy()\n",
    "    data = data[data.lifetime!=np.inf]\n",
    "    t, p = stats.ttest_ind(data[data.type=='real']['lifetime'].values,\n",
    "                           data[data.type=='null_targets']['lifetime'].values)\n",
    "    print(topic, '\\n\\t', 't =', t, '\\tp =', p)"
   ]
  },
  {
   "cell_type": "code",
   "execution_count": null,
   "metadata": {},
   "outputs": [],
   "source": [
    "plt.figure(figsize=(20,6))\n",
    "data = barcodes.copy()\n",
    "data = data[data.lifetime!=np.inf]\n",
    "ax = sns.violinplot(x='topic', y='lifetime', hue='type', data=data, split=True)\n",
    "# ax.set(yscale='log')\n",
    "plt.xticks(np.arange(len(topics)), topics, rotation='vertical');"
   ]
  },
  {
   "cell_type": "code",
   "execution_count": null,
   "metadata": {},
   "outputs": [],
   "source": [
    "plt.figure(figsize=(20,6))\n",
    "data = barcodes.copy()\n",
    "data.loc[data.lifetime==np.inf,'lifetime'] = max(data[data.lifetime!=np.inf].lifetime.values)\n",
    "sns.violinplot(x='topic', y='lifetime', hue='type', data=data, split=True)\n",
    "plt.xticks(np.arange(len(topics)), topics, rotation='vertical');"
   ]
  },
  {
   "cell_type": "code",
   "execution_count": null,
   "metadata": {
    "scrolled": false
   },
   "outputs": [],
   "source": [
    "# f, axes = plt.subplots(int(len(topics)/2), 2, figsize=(6,6), sharex=True)\n",
    "# sns.despine(left=True)\n",
    "for i, topic in enumerate(topics):\n",
    "    plt.figure(figsize=(20,4))\n",
    "    lifetimes = networks[topic].barcodes.death.values - networks[topic].barcodes.birth.values\n",
    "    sns.distplot([x if x!=np.inf else max(lifetimes[lifetimes!=np.inf]) for x in lifetimes],\n",
    "                 hist=True, rug=True, label='real')#, ax=axes[int(i/2),i%2])\n",
    "    lifetimes = null_targets[topic][0].barcodes.death.values - null_targets[topic][0].barcodes.birth.values\n",
    "    sns.distplot([x if x!=np.inf else max(lifetimes[lifetimes!=np.inf]) for x in lifetimes],\n",
    "                 hist=True, rug=True, label='null-target')#, ax=axes[int(i/2),i%2])\n",
    "#     lifetimes = null_years[topic][0].barcodes.death.values - null_years[topic][0].barcodes.birth.values\n",
    "#     sns.distplot([x if x!=np.inf else 10000 for x in lifetimes],\n",
    "#                  hist=False, rug=True, label='null-year')\n",
    "#     axes[int(i/2),i%2].set_title(topic)\n",
    "#     axes[int(i/2),i%2].legend()\n",
    "    plt.title(topic)\n",
    "    plt.legend()\n",
    "# plt.tight_layout()"
   ]
  },
  {
   "cell_type": "markdown",
   "metadata": {},
   "source": [
    "### Dimensions vs nulls"
   ]
  },
  {
   "cell_type": "code",
   "execution_count": null,
   "metadata": {},
   "outputs": [],
   "source": [
    "plt.figure(figsize=(20,6))\n",
    "sns.violinplot(x='dim', y='count_dim', hue='type', data=barcodes, split=True)\n",
    "# sns.scatterplot(x='dim', y='count_dim', hue='type', data=barcodes)"
   ]
  },
  {
   "cell_type": "markdown",
   "metadata": {},
   "source": [
    "### Simplex tightness"
   ]
  },
  {
   "cell_type": "code",
   "execution_count": null,
   "metadata": {},
   "outputs": [],
   "source": [
    "mean_weights = []\n",
    "for i in range(len(barcodes.index)):\n",
    "    death_simplex = barcodes.iloc[i]['death simplex']\n",
    "    topic = barcodes.iloc[i]['topic']\n",
    "    network_type = barcodes.iloc[i]['type']\n",
    "    pairs = [(n1,n2) for n2 in death_simplex\n",
    "                     for n1 in death_simplex if n1!=n2]\n",
    "    if network_type=='real':\n",
    "        edges = [networks[topic].graph.get_edge_data(n1,n2) for n1,n2 in pairs]\n",
    "    elif network_type=='null_targets':\n",
    "        null = barcodes.iloc[i]['null']\n",
    "        edges = [null_targets[topic][null].graph.get_edge_data(n1,n2) for n1,n2 in pairs]\n",
    "    mean_weight = np.mean([e['weight'] for e in edges if e]) if edges else 0\n",
    "    mean_weights.append(mean_weight)"
   ]
  },
  {
   "cell_type": "code",
   "execution_count": null,
   "metadata": {},
   "outputs": [],
   "source": [
    "barcodes['mean weights'] = mean_weights\n",
    "barcodes"
   ]
  },
  {
   "cell_type": "code",
   "execution_count": null,
   "metadata": {},
   "outputs": [],
   "source": [
    "plt.figure(figsize=(10,10))\n",
    "data = barcodes.copy()\n",
    "# data.loc[data.lifetime==np.inf,'lifetime'] = max(data[data.lifetime!=np.inf].lifetime.values)\n",
    "data = data[data.lifetime!=np.inf]\n",
    "ax = sns.regplot(x='mean weights', y='lifetime',\n",
    "                 data=data, marker='.')\n",
    "a, b, r, p, s = stats.linregress(data['mean weights'], data['lifetime'])\n",
    "plt.title('r={:.4f}, p={:.4f}'.format(r, p))"
   ]
  },
  {
   "cell_type": "code",
   "execution_count": null,
   "metadata": {
    "scrolled": false
   },
   "outputs": [],
   "source": [
    "for topic in topics:\n",
    "    plt.figure(figsize=(6,6))\n",
    "    data = barcodes[barcodes.topic==topic].copy()\n",
    "#     data.loc[data.lifetime==np.inf,'lifetime'] = max(data[data.lifetime!=np.inf].lifetime.values)\n",
    "    data = data[data.lifetime!=np.inf]\n",
    "    sns.regplot(x='mean weights', y='lifetime', data=data,\n",
    "                marker='+', fit_reg=True)\n",
    "    a, b, r, p, s = stats.linregress(data['mean weights'], data['lifetime'])\n",
    "    plt.title('{}\\nr={:.4f}, p={:.4f}'.format(topic, r, p))"
   ]
  },
  {
   "cell_type": "markdown",
   "metadata": {},
   "source": [
    "### Node participation in birth & deaths"
   ]
  },
  {
   "cell_type": "code",
   "execution_count": null,
   "metadata": {},
   "outputs": [],
   "source": []
  },
  {
   "cell_type": "markdown",
   "metadata": {},
   "source": [
    "### Identify important nodes"
   ]
  },
  {
   "cell_type": "code",
   "execution_count": null,
   "metadata": {
    "scrolled": false
   },
   "outputs": [],
   "source": []
  },
  {
   "cell_type": "markdown",
   "metadata": {},
   "source": [
    "### Cavity volume"
   ]
  },
  {
   "cell_type": "code",
   "execution_count": null,
   "metadata": {
    "scrolled": true
   },
   "outputs": [],
   "source": []
  }
 ],
 "metadata": {
  "kernelspec": {
   "display_name": "Python 3",
   "language": "python",
   "name": "python3"
  },
  "language_info": {
   "codemirror_mode": {
    "name": "ipython",
    "version": 3
   },
   "file_extension": ".py",
   "mimetype": "text/x-python",
   "name": "python",
   "nbconvert_exporter": "python",
   "pygments_lexer": "ipython3",
   "version": "3.7.3"
  }
 },
 "nbformat": 4,
 "nbformat_minor": 2
}
