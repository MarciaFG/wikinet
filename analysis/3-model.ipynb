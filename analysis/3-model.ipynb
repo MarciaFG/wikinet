{
 "cells": [
  {
   "cell_type": "markdown",
   "metadata": {},
   "source": [
    "# Load"
   ]
  },
  {
   "cell_type": "markdown",
   "metadata": {},
   "source": [
    "## Import"
   ]
  },
  {
   "cell_type": "code",
   "execution_count": null,
   "metadata": {},
   "outputs": [],
   "source": [
    "%reload_ext autoreload\n",
    "%autoreload 2\n",
    "%reload_ext cython\n",
    "%reload_ext line_profiler\n",
    "import os,sys\n",
    "sys.path.insert(1, os.path.join(sys.path[0], '..', 'module'))\n",
    "import wiki\n",
    "import dill\n",
    "import scipy as sp\n",
    "import numpy as np\n",
    "import pandas as pd\n",
    "import networkx as nx"
   ]
  },
  {
   "cell_type": "code",
   "execution_count": null,
   "metadata": {},
   "outputs": [],
   "source": [
    "from ipywidgets import interact, widgets, Layout\n",
    "import plotly.express as px\n",
    "import plotly.graph_objs as go\n",
    "import plotly.figure_factory as ff"
   ]
  },
  {
   "cell_type": "markdown",
   "metadata": {},
   "source": [
    "## Networks"
   ]
  },
  {
   "cell_type": "code",
   "execution_count": null,
   "metadata": {},
   "outputs": [],
   "source": [
    "topics = ['anatomy', 'biochemistry', 'cognitive science', 'evolutionary biology',\n",
    "          'genetics', 'immunology', 'molecular biology', 'chemistry', 'biophysics',\n",
    "          'energy', 'optics', 'earth science', 'geology', 'meteorology',\n",
    "          'philosophy of language', 'philosophy of law', 'philosophy of mind',\n",
    "          'philosophy of science', 'economics', 'accounting', 'education',\n",
    "          'linguistics', 'law', 'psychology', 'sociology', 'electronics',\n",
    "          'software engineering', 'robotics',\n",
    "          'calculus', 'geometry', 'abstract algebra',\n",
    "          'Boolean algebra', 'commutative algebra', 'group theory', 'linear algebra',\n",
    "          'number theory', 'dynamical systems and differential equations']"
   ]
  },
  {
   "cell_type": "code",
   "execution_count": null,
   "metadata": {},
   "outputs": [],
   "source": [
    "import wiki\n",
    "\n",
    "path_saved = '/Users/harangju/Developer/data/wiki/graphs/dated'\n",
    "\n",
    "networks = {}\n",
    "for topic in topics:\n",
    "    print(topic, end=' ')\n",
    "    networks[topic] = wiki.Net(path_graph=os.path.join(path_saved, topic + '.pickle'),\n",
    "                               path_barcodes=os.path.join(path_saved, topic + '.barcode'))"
   ]
  },
  {
   "cell_type": "markdown",
   "metadata": {},
   "source": [
    "## Models"
   ]
  },
  {
   "cell_type": "code",
   "execution_count": null,
   "metadata": {},
   "outputs": [],
   "source": [
    "simulation = '20200422_1318'"
   ]
  },
  {
   "cell_type": "code",
   "execution_count": null,
   "metadata": {},
   "outputs": [],
   "source": [
    "base_dir = os.path.join('/', 'Users', 'harangju', 'Developer', 'data', 'wiki', 'simulations')\n",
    "session_dir = os.path.join(base_dir, simulation)"
   ]
  },
  {
   "cell_type": "code",
   "execution_count": null,
   "metadata": {},
   "outputs": [],
   "source": [
    "filenames = sorted(os.listdir(session_dir))\n",
    "filenames[:3]"
   ]
  },
  {
   "cell_type": "code",
   "execution_count": null,
   "metadata": {},
   "outputs": [],
   "source": [
    "model_topics = list(set([filename.split('_')[1] for filename in filenames[:-1]]))\n",
    "model_topics[:3]"
   ]
  },
  {
   "cell_type": "code",
   "execution_count": null,
   "metadata": {},
   "outputs": [],
   "source": [
    "# models = {topic: [dill.load(open(os.path.join(session_dir, filename), 'rb'))\n",
    "#                   for filename in filenames\n",
    "#                   if filename.split('_')[1]==topic]\n",
    "#                for topic in model_topics}\n",
    "model_paths = {topic: [os.path.join(session_dir, filename)\n",
    "                       for filename in filenames[:-1]\n",
    "                       if filename.split('_')[1]==topic]\n",
    "               for topic in model_topics}"
   ]
  },
  {
   "cell_type": "code",
   "execution_count": null,
   "metadata": {},
   "outputs": [],
   "source": [
    "{topic: model_paths[topic] for topic in model_topics[:3]}"
   ]
  },
  {
   "cell_type": "markdown",
   "metadata": {},
   "source": [
    "# Analysis"
   ]
  },
  {
   "cell_type": "markdown",
   "metadata": {},
   "source": [
    "## Basic network statistics"
   ]
  },
  {
   "cell_type": "code",
   "execution_count": null,
   "metadata": {},
   "outputs": [],
   "source": [
    "import bct\n",
    "import pickle\n",
    "from networkx.algorithms.cluster import clustering\n",
    "from networkx.algorithms import betweenness_centrality\n",
    "from networkx.convert_matrix import to_numpy_array"
   ]
  },
  {
   "cell_type": "markdown",
   "metadata": {},
   "source": [
    "### Real"
   ]
  },
  {
   "cell_type": "code",
   "execution_count": null,
   "metadata": {},
   "outputs": [],
   "source": [
    "import pickle\n",
    "import pandas as pd\n",
    "path_analysis = '/Users/harangju/Developer/data/wiki/analysis/'\n",
    "df = pickle.load(open(path_analysis+'stats.pickle', 'rb'))\n",
    "df_expand = pickle.load(open(path_analysis+'stats_expand.pickle', 'rb'))\n",
    "df.topic = df.topic.astype('object')\n",
    "df.measure = df.measure.astype('object')\n",
    "df_expand.topic = df_expand.topic.astype('object')\n",
    "df_expand.measure = df_expand.measure.astype('object')\n",
    "df_mean = df_expand\\\n",
    "    .groupby(['topic', 'measure'], as_index=False)\\\n",
    "    .mean()\\\n",
    "    .pivot(index='topic', columns='measure', values='value')\\\n",
    "    .reset_index()"
   ]
  },
  {
   "cell_type": "code",
   "execution_count": null,
   "metadata": {
    "scrolled": true
   },
   "outputs": [],
   "source": [
    "df"
   ]
  },
  {
   "cell_type": "markdown",
   "metadata": {},
   "source": [
    "### Model"
   ]
  },
  {
   "cell_type": "code",
   "execution_count": null,
   "metadata": {},
   "outputs": [],
   "source": []
  },
  {
   "cell_type": "code",
   "execution_count": null,
   "metadata": {},
   "outputs": [],
   "source": [
    "measures = {'indegree': lambda g: [x[1] for x in g.in_degree],\n",
    "            'outdegree': lambda g: [x[1] for x in g.out_degree],\n",
    "            'clustering': lambda g: list(clustering(g).values()),\n",
    "            'centrality': lambda g: list(betweenness_centrality(g).values()),\n",
    "            'modularity': lambda g: g.graph['modularity'],\n",
    "            'coreness': lambda g: g.graph['coreness_be']}"
   ]
  },
  {
   "cell_type": "code",
   "execution_count": null,
   "metadata": {
    "scrolled": true
   },
   "outputs": [],
   "source": [
    "df_model = pd.DataFrame()\n",
    "for topic in model_paths.keys():\n",
    "    print(topic)\n",
    "    network = networks[topic]\n",
    "    for i, model_path in enumerate(model_paths[topic]):\n",
    "        print(i, end=' ')\n",
    "        model = dill.load(open(model_path, 'rb'))\n",
    "        df_model = pd.concat(\n",
    "            [df_model] + [pd.DataFrame([[topic, i, measure, func(model.graph)]],\n",
    "                                columns=['topic','model','measure','value'])\n",
    "                    for measure, func in measures.items()],\n",
    "            ignore_index=True)\n",
    "    print('')"
   ]
  },
  {
   "cell_type": "code",
   "execution_count": null,
   "metadata": {},
   "outputs": [],
   "source": [
    "df_model"
   ]
  },
  {
   "cell_type": "code",
   "execution_count": null,
   "metadata": {},
   "outputs": [],
   "source": [
    "df_model_expand = df_model\\\n",
    "    .drop('model', axis=1)\\\n",
    "    .value\\\n",
    "    .apply(pd.Series)\\\n",
    "    .merge(df_model, left_index=True, right_index=True)\\\n",
    "    .drop('value', axis=1)\\\n",
    "    .melt(id_vars=['topic','measure'])\\\n",
    "    .drop('variable', axis=1)\\\n",
    "    .dropna()\n",
    "df_model_expand"
   ]
  },
  {
   "cell_type": "code",
   "execution_count": null,
   "metadata": {},
   "outputs": [],
   "source": [
    "df_model_mean = df_model_expand\\\n",
    "    .groupby(['topic', 'measure'], as_index=False)\\\n",
    "    .mean()\\\n",
    "    .pivot(index='topic', columns='measure', values='value')\n",
    "df_model_mean"
   ]
  },
  {
   "cell_type": "markdown",
   "metadata": {},
   "source": [
    "### Save"
   ]
  },
  {
   "cell_type": "code",
   "execution_count": null,
   "metadata": {},
   "outputs": [],
   "source": [
    "path_analysis = '/Users/harangju/Developer/data/wiki/analysis/'\n",
    "pickle.dump(df_model, open(os.path.join(path_analysis,'stats_model.pickle'),'wb'))\n",
    "# pickle.dump(df_model_expand, open(os.path.join(path_analysis,'stats_model_expand.pickle'),'wb'))\n",
    "# pickle.dump(df_model_mean, open(os.path.join(path_analysis,'stats_model_mean.pickle'),'wb'))"
   ]
  },
  {
   "cell_type": "markdown",
   "metadata": {},
   "source": [
    "## Persistent homology"
   ]
  },
  {
   "cell_type": "code",
   "execution_count": null,
   "metadata": {},
   "outputs": [],
   "source": []
  },
  {
   "cell_type": "markdown",
   "metadata": {},
   "source": [
    "# Plot"
   ]
  },
  {
   "cell_type": "code",
   "execution_count": null,
   "metadata": {},
   "outputs": [],
   "source": [
    "import plotly.subplots as sb"
   ]
  },
  {
   "cell_type": "code",
   "execution_count": null,
   "metadata": {},
   "outputs": [],
   "source": [
    "import plotly.express as px\n",
    "fig = px.colors.qualitative.swatches()\n",
    "# fig.show()"
   ]
  },
  {
   "cell_type": "code",
   "execution_count": null,
   "metadata": {},
   "outputs": [],
   "source": [
    "first_n_nodes = 10"
   ]
  },
  {
   "cell_type": "markdown",
   "metadata": {},
   "source": [
    "## Growth"
   ]
  },
  {
   "cell_type": "code",
   "execution_count": null,
   "metadata": {},
   "outputs": [],
   "source": [
    "save_fig = True\n",
    "path_result = os.path.join('/','Users','harangju','Box Sync','Research','my papers','wikipedia','results')\n",
    "path_plot = '3 model growth'"
   ]
  },
  {
   "cell_type": "code",
   "execution_count": null,
   "metadata": {
    "scrolled": false
   },
   "outputs": [],
   "source": [
    "for topic in model_paths.keys():\n",
    "    fig = sb.make_subplots(1,2)\n",
    "    network = networks[topic]\n",
    "    fig.add_trace(go.Histogram(x=[d for _,d in network.graph.degree], nbinsx=30, \n",
    "                               name='empirical'),\n",
    "                  row=1, col=1)\n",
    "    fig.update_yaxes(title_text='number of edges', row=1, col=1)\n",
    "    fig.update_xaxes(title_text='degree', row=1, col=1)\n",
    "    fig.add_trace(go.Scatter(x=sorted([network.graph.nodes[n]['year'] \n",
    "                                       for n in network.graph.nodes]),\n",
    "                             y=list(range(1,len(network.graph.nodes)+1)),\n",
    "                             mode='lines', name='empirical', showlegend=False,\n",
    "                             line={'color': px.colors.qualitative.Plotly[0]}),\n",
    "                  row=1, col=2)\n",
    "    fig.update_yaxes(title_text='number of nodes', row=1, col=2)\n",
    "    fig.update_xaxes(title_text='year', row=1, col=2)\n",
    "    fig.update_layout(title=topic, template='plotly_white')\n",
    "    for i, model_path in enumerate(model_paths[topic]):\n",
    "        model = dill.load(open(model_path, 'rb'))\n",
    "        fig.add_trace(go.Histogram(x=[d for _,d in model.graph.degree], nbinsx=30, \n",
    "                                   name=f\"model {i}\", marker_color=px.colors.qualitative.Plotly[1+i]),\n",
    "                      row=1, col=1)\n",
    "        fig.add_trace(go.Scatter(x=sorted([model.graph.nodes[n]['year'] for n in model.graph.nodes]),\n",
    "                                 y=list(range(1,len(model.graph.nodes)+1)),\n",
    "                                 mode='lines', name=f\"model {i}\", showlegend=False,\n",
    "                                 line={'color': px.colors.qualitative.Plotly[1+i]}),\n",
    "                      row=1, col=2)\n",
    "    start_date = sorted(list(nx.get_node_attributes(model.graph_parent, 'year').values()))[first_n_nodes]\n",
    "    fig.add_trace(go.Scatter(x=[start_date, start_date], y=[0, max(len(model.graph.nodes),\n",
    "                                                                   len(network.graph.nodes))],\n",
    "                             mode='lines', name='model start',\n",
    "                             line={'color': 'black',\n",
    "                                   'dash': 'dash'}),\n",
    "                  row=1, col=2)\n",
    "    fig.show()\n",
    "    if save_fig:\n",
    "        fig.write_image(os.path.join(path_result, path_plot, topic+'.pdf'))"
   ]
  },
  {
   "cell_type": "markdown",
   "metadata": {},
   "source": [
    "## Static"
   ]
  },
  {
   "cell_type": "code",
   "execution_count": null,
   "metadata": {},
   "outputs": [],
   "source": [
    "path_plot = '3 model network_stats'"
   ]
  },
  {
   "cell_type": "code",
   "execution_count": null,
   "metadata": {
    "scrolled": true
   },
   "outputs": [],
   "source": [
    "df_mean = df_mean.sort_values('topic', ascending=True, ignore_index=True)\n",
    "df_model_mean = df_model_mean.sort_values('topic', ascending=True, ignore_index=True)"
   ]
  },
  {
   "cell_type": "code",
   "execution_count": null,
   "metadata": {},
   "outputs": [],
   "source": [
    "ranges = {'clustering': [0,0.3],\n",
    "          'centrality': [0,0.04],\n",
    "          'indegree': [0,10],\n",
    "          'outdegree': [0,10],\n",
    "          'coreness': [0,1],\n",
    "          'modularity': [0,1]}\n",
    "dticks = {'clustering': 0.1,\n",
    "          'centrality': 0.01,\n",
    "          'indegree': 1,\n",
    "          'outdegree': 1,\n",
    "          'coreness': .5,\n",
    "          'modularity': .5}"
   ]
  },
  {
   "cell_type": "code",
   "execution_count": null,
   "metadata": {
    "scrolled": false
   },
   "outputs": [],
   "source": [
    "for measure in ['clustering','centrality','indegree','outdegree','coreness','modularity']:\n",
    "    fig = go.Figure()\n",
    "    fig.add_trace(go.Scatter(x=df_mean[measure],\n",
    "                             y=df_model_mean[measure],\n",
    "                             mode='markers',\n",
    "                             marker={'color': '#2A3F5F'},\n",
    "                             hovertext=df_mean.topic,\n",
    "                             showlegend=False))\n",
    "    fig.add_trace(go.Scatter(x=ranges[measure], y=ranges[measure],\n",
    "                             mode='lines',\n",
    "                             line={'dash': 'dash',\n",
    "                                   'color': '#2A3F5F'},\n",
    "                             showlegend=False))\n",
    "    fig.update_layout(template='plotly_white',\n",
    "                      width=500, height=500,\n",
    "                      title=measure,\n",
    "                      xaxis={'title': 'real',\n",
    "                             'range': ranges[measure],\n",
    "                             'dtick': dticks[measure]},\n",
    "                      yaxis={'title': 'model',\n",
    "                             'range': ranges[measure],\n",
    "                             'dtick': dticks[measure]})\n",
    "    fig.show()\n",
    "#     if save_fig:\n",
    "#         fig.write_image(os.path.join(path_fig,path_plot,f\"summary_{measure}.pdf\"))"
   ]
  },
  {
   "cell_type": "code",
   "execution_count": null,
   "metadata": {},
   "outputs": [],
   "source": []
  },
  {
   "cell_type": "code",
   "execution_count": null,
   "metadata": {},
   "outputs": [],
   "source": []
  },
  {
   "cell_type": "code",
   "execution_count": null,
   "metadata": {},
   "outputs": [],
   "source": []
  }
 ],
 "metadata": {
  "kernelspec": {
   "display_name": "Python 3",
   "language": "python",
   "name": "python3"
  },
  "language_info": {
   "codemirror_mode": {
    "name": "ipython",
    "version": 3
   },
   "file_extension": ".py",
   "mimetype": "text/x-python",
   "name": "python",
   "nbconvert_exporter": "python",
   "pygments_lexer": "ipython3",
   "version": "3.7.6"
  },
  "toc": {
   "base_numbering": 1,
   "nav_menu": {},
   "number_sections": true,
   "sideBar": true,
   "skip_h1_title": false,
   "title_cell": "Table of Contents",
   "title_sidebar": "Contents",
   "toc_cell": false,
   "toc_position": {
    "height": "calc(100% - 180px)",
    "left": "10px",
    "top": "150px",
    "width": "207.59375px"
   },
   "toc_section_display": true,
   "toc_window_display": true
  }
 },
 "nbformat": 4,
 "nbformat_minor": 4
}
