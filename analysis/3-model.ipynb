{
 "cells": [
  {
   "cell_type": "markdown",
   "metadata": {},
   "source": [
    "# Load"
   ]
  },
  {
   "cell_type": "markdown",
   "metadata": {},
   "source": [
    "## Import"
   ]
  },
  {
   "cell_type": "code",
   "execution_count": null,
   "metadata": {},
   "outputs": [],
   "source": [
    "%reload_ext autoreload\n",
    "%autoreload 2\n",
    "%reload_ext cython\n",
    "%reload_ext line_profiler\n",
    "import os,sys\n",
    "sys.path.insert(1, os.path.join(sys.path[0], '..', 'module'))\n",
    "import wiki\n",
    "import dill\n",
    "import scipy as sp\n",
    "import numpy as np\n",
    "import pandas as pd\n",
    "import networkx as nx"
   ]
  },
  {
   "cell_type": "code",
   "execution_count": null,
   "metadata": {},
   "outputs": [],
   "source": [
    "from ipywidgets import interact, widgets, Layout\n",
    "import plotly.express as px\n",
    "import plotly.graph_objs as go\n",
    "import plotly.figure_factory as ff"
   ]
  },
  {
   "cell_type": "markdown",
   "metadata": {},
   "source": [
    "## Networks"
   ]
  },
  {
   "cell_type": "code",
   "execution_count": null,
   "metadata": {},
   "outputs": [],
   "source": [
    "topics = ['anatomy', 'biochemistry', 'cognitive science', 'evolutionary biology',\n",
    "          'genetics', 'immunology', 'molecular biology', 'chemistry', 'biophysics',\n",
    "          'energy', 'optics', 'earth science', 'geology', 'meteorology',\n",
    "          'philosophy of language', 'philosophy of law', 'philosophy of mind',\n",
    "          'philosophy of science', 'economics', 'accounting', 'education',\n",
    "          'linguistics', 'law', 'psychology', 'sociology', 'electronics',\n",
    "          'software engineering', 'robotics',\n",
    "          'calculus', 'geometry', 'abstract algebra',\n",
    "          'Boolean algebra', 'commutative algebra', 'group theory', 'linear algebra',\n",
    "          'number theory', 'dynamical systems and differential equations']"
   ]
  },
  {
   "cell_type": "code",
   "execution_count": null,
   "metadata": {},
   "outputs": [],
   "source": [
    "import wiki\n",
    "\n",
    "path_saved = '/Users/harangju/Developer/data/wiki/graphs/dated'\n",
    "\n",
    "networks = {}\n",
    "for topic in topics:\n",
    "    print(topic, end=' ')\n",
    "    networks[topic] = wiki.Net(path_graph=os.path.join(path_saved, topic + '.pickle'),\n",
    "                               path_barcodes=os.path.join(path_saved, topic + '.barcode'))"
   ]
  },
  {
   "cell_type": "markdown",
   "metadata": {},
   "source": [
    "## Models"
   ]
  },
  {
   "cell_type": "code",
   "execution_count": null,
   "metadata": {},
   "outputs": [],
   "source": [
    "base_dir = os.path.join('/', 'Users', 'harangju', 'Developer', 'data', 'wiki', 'simulations')\n",
    "session_dir = os.path.join(base_dir, '20200312_2216')"
   ]
  },
  {
   "cell_type": "code",
   "execution_count": null,
   "metadata": {},
   "outputs": [],
   "source": [
    "filenames = sorted(os.listdir(session_dir))\n",
    "filenames[:3]"
   ]
  },
  {
   "cell_type": "code",
   "execution_count": null,
   "metadata": {},
   "outputs": [],
   "source": [
    "filenames[0].split('_')[1]"
   ]
  },
  {
   "cell_type": "code",
   "execution_count": null,
   "metadata": {},
   "outputs": [],
   "source": [
    "# models = {filename.split('_')[1]: dill.load(open(os.path.join(session_dir, filename), 'rb'))\n",
    "#           for filename in filenames}\n",
    "model_paths = {filename.split('_')[1]: os.path.join(session_dir, filename) for filename in filenames}"
   ]
  },
  {
   "cell_type": "markdown",
   "metadata": {},
   "source": [
    "# Analysis"
   ]
  },
  {
   "cell_type": "markdown",
   "metadata": {},
   "source": [
    "## Basic network statistics"
   ]
  },
  {
   "cell_type": "code",
   "execution_count": null,
   "metadata": {},
   "outputs": [],
   "source": []
  },
  {
   "cell_type": "markdown",
   "metadata": {},
   "source": [
    "## Persistent homology"
   ]
  },
  {
   "cell_type": "code",
   "execution_count": null,
   "metadata": {},
   "outputs": [],
   "source": []
  },
  {
   "cell_type": "markdown",
   "metadata": {},
   "source": [
    "# Plot"
   ]
  },
  {
   "cell_type": "code",
   "execution_count": null,
   "metadata": {},
   "outputs": [],
   "source": [
    "import plotly.subplots as sb"
   ]
  },
  {
   "cell_type": "code",
   "execution_count": null,
   "metadata": {},
   "outputs": [],
   "source": [
    "import plotly.express as px\n",
    "fig = px.colors.qualitative.swatches()\n",
    "# fig.show()"
   ]
  },
  {
   "cell_type": "code",
   "execution_count": null,
   "metadata": {},
   "outputs": [],
   "source": [
    "first_n_nodes = 10"
   ]
  },
  {
   "cell_type": "code",
   "execution_count": null,
   "metadata": {
    "scrolled": false
   },
   "outputs": [],
   "source": [
    "for topic in ['anatomy']:#, 'biochemistry', 'cognitive science', 'evolutionary biology',\n",
    "#               'linguistics', 'law', 'psychology', 'sociology', 'electronics',\n",
    "#               'Boolean algebra', 'commutative algebra', 'group theory', 'linear algebra']:\n",
    "    fig = sb.make_subplots(1,2)\n",
    "    network = networks[topic]\n",
    "    model = dill.load(open(model_paths[topic], 'rb'))\n",
    "    fig.add_trace(go.Histogram(x=[d for _,d in network.graph.degree], nbinsx=30, \n",
    "                               name='empirical'),\n",
    "                  row=1, col=1)\n",
    "    fig.add_trace(go.Histogram(x=[d for _,d in model.graph.degree], nbinsx=30, \n",
    "                               name='model'),\n",
    "                  row=1, col=1)\n",
    "    fig.update_yaxes(title_text='number of edges', row=1, col=1)\n",
    "    fig.update_xaxes(title_text='degree', row=1, col=1)\n",
    "    fig.add_trace(go.Scatter(x=sorted([network.graph.nodes[n]['year'] \n",
    "                                       for n in network.graph.nodes]),\n",
    "                             y=list(range(1,len(network.graph.nodes)+1)),\n",
    "                             mode='lines', name='empirical', showlegend=False,\n",
    "                             line={'color': px.colors.qualitative.Plotly[0]}),\n",
    "                  row=1, col=2)\n",
    "    fig.add_trace(go.Scatter(x=sorted([model.graph.nodes[n]['year'] for n in model.graph.nodes]),\n",
    "                             y=list(range(1,len(model.graph.nodes)+1)),\n",
    "                             mode='lines', name='model', showlegend=False,\n",
    "                             line={'color': px.colors.qualitative.Plotly[1]}),\n",
    "                  row=1, col=2)\n",
    "    start_date = sorted(list(nx.get_node_attributes(model.graph_parent, 'year').values()))[first_n_nodes]\n",
    "    fig.add_trace(go.Scatter(x=[start_date, start_date], y=[0, max(len(model.graph.nodes),\n",
    "                                                                   len(network.graph.nodes))],\n",
    "                             mode='lines', showlegend=False,\n",
    "                             line={'color': px.colors.qualitative.Plotly[2],\n",
    "                                   'dash': 'dash'}),\n",
    "                  row=1, col=2)\n",
    "    fig.update_yaxes(title_text='number of nodes', row=1, col=2)\n",
    "    fig.update_xaxes(title_text='year', row=1, col=2)\n",
    "    fig.update_layout(title=topic, template='plotly_white')\n",
    "    fig.show()"
   ]
  },
  {
   "cell_type": "code",
   "execution_count": null,
   "metadata": {
    "scrolled": true
   },
   "outputs": [],
   "source": [
    "model._cliques = None\n",
    "model._filtration = None\n",
    "model._persistence = None\n",
    "model._barcodes = None\n",
    "model._numbered = None\n",
    "model._nodes = []\n",
    "model._years = []\n",
    "model._nodes_for_year = {}"
   ]
  },
  {
   "cell_type": "code",
   "execution_count": null,
   "metadata": {},
   "outputs": [],
   "source": [
    "model.barcodes"
   ]
  }
 ],
 "metadata": {
  "kernelspec": {
   "display_name": "Python 3",
   "language": "python",
   "name": "python3"
  },
  "language_info": {
   "codemirror_mode": {
    "name": "ipython",
    "version": 3
   },
   "file_extension": ".py",
   "mimetype": "text/x-python",
   "name": "python",
   "nbconvert_exporter": "python",
   "pygments_lexer": "ipython3",
   "version": "3.7.6"
  },
  "toc": {
   "base_numbering": 1,
   "nav_menu": {},
   "number_sections": true,
   "sideBar": true,
   "skip_h1_title": false,
   "title_cell": "Table of Contents",
   "title_sidebar": "Contents",
   "toc_cell": false,
   "toc_position": {
    "height": "calc(100% - 180px)",
    "left": "10px",
    "top": "150px",
    "width": "207.59375px"
   },
   "toc_section_display": true,
   "toc_window_display": false
  }
 },
 "nbformat": 4,
 "nbformat_minor": 4
}
