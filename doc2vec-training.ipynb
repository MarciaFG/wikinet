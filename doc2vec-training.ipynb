{
 "cells": [
  {
   "cell_type": "markdown",
   "metadata": {},
   "source": [
    "### Custom WikiCorpus\n",
    "* [tutorial](https://github.com/RaRe-Technologies/gensim/blob/develop/docs/notebooks/doc2vec-lee.ipynb)\n",
    "* [Wiki Corpus processing](https://radimrehurek.com/gensim/corpora/wikicorpus.html)\n",
    "* [doc](https://radimrehurek.com/gensim/models/doc2vec.html)\n",
    "* [intro](https://medium.com/scaleabout/a-gentle-introduction-to-doc2vec-db3e8c0cce5e)\n",
    "* iterable/iterator [tutorial](https://www.programiz.com/python-programming/iterator)\n",
    "* [3 epochs](https://stackoverflow.com/questions/46856838/how-many-epochs-should-word2vec-be-trained-what-is-a-recommended-training-datas)"
   ]
  },
  {
   "cell_type": "markdown",
   "metadata": {},
   "source": [
    "**Test WikiCorpus**"
   ]
  },
  {
   "cell_type": "code",
   "execution_count": 13,
   "metadata": {},
   "outputs": [
    {
     "name": "stdout",
     "output_type": "stream",
     "text": [
      "WikiDump: Loading index...\n",
      "WikiDump: Loaded.\n",
      "\r",
      "Corpus index: 0/19820"
     ]
    },
    {
     "data": {
      "text/plain": [
       "['the', 'tardis', 'time', 'and', 'relative', 'dimension', 'in']"
      ]
     },
     "execution_count": 13,
     "metadata": {},
     "output_type": "execute_result"
    }
   ],
   "source": [
    "from wiki.corpus import WikiCorpus\n",
    "\n",
    "path_base = '/Users/harangju/Developer/data/wiki/partition/'\n",
    "name_xml = 'enwiki-20190720-pages-articles-multistream1.xml-p10p30302.bz2'\n",
    "name_index = 'enwiki-20190720-pages-articles-multistream-index1.txt-p10p30302.bz2'\n",
    "path_xml = path_base + name_xml\n",
    "path_index = path_base + name_index\n",
    "corpus = WikiCorpus(path_xml, path_index)\n",
    "# corpus.names = corpus.names[:1000]\n",
    "i = iter(corpus)\n",
    "td = next(i)\n",
    "td.words[:7]"
   ]
  },
  {
   "cell_type": "markdown",
   "metadata": {},
   "source": [
    "### Train small model"
   ]
  },
  {
   "cell_type": "code",
   "execution_count": 14,
   "metadata": {},
   "outputs": [],
   "source": [
    "# small model\n",
    "from gensim.models.doc2vec import Doc2Vec\n",
    "\n",
    "model = Doc2Vec(vector_size=50,\n",
    "                min_count=10,\n",
    "                epochs=1)"
   ]
  },
  {
   "cell_type": "code",
   "execution_count": 15,
   "metadata": {},
   "outputs": [
    {
     "name": "stdout",
     "output_type": "stream",
     "text": [
      "Building vocabulary...\n",
      "Corpus index: 19819/19820\n",
      "Training...\n",
      "Corpus index: 19819/19820CPU times: user 11min 56s, sys: 7.06 s, total: 12min 3s\n",
      "Wall time: 10min 59s\n",
      "\n"
     ]
    }
   ],
   "source": [
    "print('Building vocabulary...')\n",
    "model.build_vocab(corpus)\n",
    "print('\\nTraining...')\n",
    "%time model.train(corpus,\\\n",
    "                  total_examples=model.corpus_count,\\\n",
    "                  epochs=model.epochs)\n",
    "print('')"
   ]
  },
  {
   "cell_type": "code",
   "execution_count": 16,
   "metadata": {},
   "outputs": [
    {
     "data": {
      "text/plain": [
       "array([ 0.02355263, -0.01539653,  0.01153189, -0.00314219,  0.03802452,\n",
       "       -0.00558852,  0.02279632,  0.00790861, -0.01366444,  0.01767311,\n",
       "        0.00768275,  0.00399759,  0.0083572 , -0.01757905,  0.00783303,\n",
       "       -0.03318266,  0.02648101,  0.00241776,  0.00269744,  0.00681946,\n",
       "       -0.0240631 , -0.03282417, -0.03265889, -0.01961087,  0.03083852,\n",
       "       -0.00756616,  0.02801166,  0.01585421, -0.02515791, -0.0201935 ,\n",
       "        0.01929022,  0.00165877,  0.02372515, -0.00631725, -0.02663536,\n",
       "        0.00820262, -0.00113813,  0.01115231, -0.00416908, -0.01063516,\n",
       "       -0.00582522, -0.00242083, -0.02801578, -0.02043372,  0.01470257,\n",
       "       -0.00280134, -0.02949255,  0.01079922, -0.00094088, -0.01385028],\n",
       "      dtype=float32)"
      ]
     },
     "execution_count": 16,
     "metadata": {},
     "output_type": "execute_result"
    }
   ],
   "source": [
    "model.infer_vector(['hello', 'world', 'how', 'are', 'you'])"
   ]
  },
  {
   "cell_type": "code",
   "execution_count": 17,
   "metadata": {},
   "outputs": [],
   "source": [
    "model.save(path_base + name_xml[:-4] + '-d2v-model-small')"
   ]
  },
  {
   "cell_type": "markdown",
   "metadata": {},
   "source": [
    "### Test model"
   ]
  },
  {
   "cell_type": "code",
   "execution_count": 43,
   "metadata": {},
   "outputs": [
    {
     "name": "stdout",
     "output_type": "stream",
     "text": [
      "Test Document (\"Minos\" at 6401): «px thumb gustave doré illustration of king minos for dante...»\n",
      "\n",
      "Similarity rank 0: Hades at 11420 with 0.8840001821517944\n",
      "Similarity rank 1: Minos at 6401 with 0.883558988571167\n",
      "Similarity rank 2: Cerberus at 15734 with 0.8781974911689758\n",
      "Similarity rank 3: Hephaestus at 10646 with 0.8533622026443481\n",
      "Similarity rank 4: Hera at 11431 with 0.8531811833381653\n",
      "Similarity rank 5: Freyr at 12862 with 0.8461430668830872\n",
      "Similarity rank 6: Heracles at 11034 with 0.8367626070976257\n",
      "Similarity rank 7: Fenrir at 12910 with 0.8352528810501099\n",
      "Similarity rank 8: Norns at 5796 with 0.835107147693634\n",
      "Similarity rank 9: Freyja at 12861 with 0.8343520164489746\n"
     ]
    }
   ],
   "source": [
    "# Pick a random document from the test corpus and infer a vector from the model\n",
    "import random\n",
    "\n",
    "doc_id = random.randint(0, len(corpus.names) - 1)\n",
    "inferred_vector = model.infer_vector(corpus.doc_at(doc_id))\n",
    "sims = model.docvecs.most_similar([inferred_vector], topn=len(model.docvecs))\n",
    "\n",
    "print('Test Document (\\\"{}\\\" at {}): «{}...»\\n'.\\\n",
    "      format(corpus.names[doc_id], doc_id, ' '.join(corpus.doc_at(doc_id)[:10])))\n",
    "\n",
    "for i in range(10):\n",
    "    print('Similarity rank \\\"{}\\\"\": {} at {} with {}'.\\\n",
    "          format(i, corpus.names[sims[i][0]], sims[i][0], sims[i][1]))"
   ]
  },
  {
   "cell_type": "markdown",
   "metadata": {},
   "source": [
    "### Go full wikipedia"
   ]
  },
  {
   "cell_type": "code",
   "execution_count": null,
   "metadata": {},
   "outputs": [],
   "source": [
    "from wikicorpus import WikiCorpus\n",
    "\n",
    "path_base = '/Users/harangju/Developer/data/wiki/partition/'\n",
    "name_xml = 'enwiki-20190720-pages-articles-multistream1.xml-p10p30302.bz2'\n",
    "name_index = 'enwiki-20190720-pages-articles-multistream-index1.txt-p10p30302.bz2'\n",
    "path_xml = path_base + name_xml\n",
    "path_index = path_base + name_index\n",
    "corpus = WikiCorpus(path_xml, path_index)"
   ]
  },
  {
   "cell_type": "code",
   "execution_count": null,
   "metadata": {},
   "outputs": [],
   "source": [
    "# big model\n",
    "model = Doc2Vec(dm=1, # PV-DM distributed memory\n",
    "                vector_size=300,\n",
    "                min_count=10,\n",
    "                workers=4,\n",
    "                epochs=1)"
   ]
  },
  {
   "cell_type": "code",
   "execution_count": null,
   "metadata": {},
   "outputs": [],
   "source": [
    "print('Building vocabulary...')\n",
    "model.build_vocab(corpus)\n",
    "print('\\nTraining...')\n",
    "%time model.train(corpus,\\\n",
    "                  total_examples=model.corpus_count,\\\n",
    "                  epochs=model.epochs)\n",
    "print('')"
   ]
  },
  {
   "cell_type": "code",
   "execution_count": null,
   "metadata": {},
   "outputs": [],
   "source": [
    "model.save(path_base + name_xml[:-4] + '-d2v-model-full')"
   ]
  }
 ],
 "metadata": {
  "kernelspec": {
   "display_name": "Python 3",
   "language": "python",
   "name": "python3"
  },
  "language_info": {
   "codemirror_mode": {
    "name": "ipython",
    "version": 3
   },
   "file_extension": ".py",
   "mimetype": "text/x-python",
   "name": "python",
   "nbconvert_exporter": "python",
   "pygments_lexer": "ipython3",
   "version": "3.7.3"
  }
 },
 "nbformat": 4,
 "nbformat_minor": 2
}
