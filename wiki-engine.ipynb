{
 "cells": [
  {
   "cell_type": "markdown",
   "metadata": {},
   "source": [
    "### Engine"
   ]
  },
  {
   "cell_type": "code",
   "execution_count": 309,
   "metadata": {},
   "outputs": [],
   "source": [
    "import bz2\n",
    "import os\n",
    "import xml.etree.ElementTree as ET\n",
    "import mwparserfromhell as mph\n",
    "import re\n",
    "\n",
    "class WikiEngine():\n",
    "    def __init__(self, path_xml, path_idx):\n",
    "        self._idx = {}\n",
    "        self._links = []\n",
    "        self.page = None\n",
    "        self.path_xml = path_xml\n",
    "        self.path_idx = path_idx\n",
    "        \n",
    "    def get_idx(self):\n",
    "        if self._idx:\n",
    "            return self._idx\n",
    "        else:\n",
    "            print('Loading index...')\n",
    "            with bz2.BZ2File(self.path_idx, 'rb') as file:\n",
    "                for line in file:\n",
    "                    [offset, page_id, name] = line.strip().split(b':', 2)\n",
    "                    self._idx[name.decode('utf-8')] = (int(offset), int(page_id))\n",
    "            print('Loaded.')\n",
    "            print('Calculating block sizes...')\n",
    "            self.append_block_sizes()\n",
    "            print('Calculated.')\n",
    "            return self._idx\n",
    "    idx = property(get_idx)\n",
    "    \n",
    "    def append_block_sizes(self):\n",
    "        offsets = sorted([x[0] for x in self.idx.values()]) \\\n",
    "                + [os.path.getsize(xml_path)]\n",
    "        for key in self.idx.keys():\n",
    "            offset = self.idx[key][0]\n",
    "            next_offset = next(x for x in offsets if x > offset)\n",
    "            self.idx[key] = self.idx[key] + (next_offset - offset,)\n",
    "    \n",
    "    def get_links(self):\n",
    "        if self._links:\n",
    "            return self._links\n",
    "        elif self.page:\n",
    "            self._links = [x.title for x in self.page.filter_wikilinks()]\n",
    "            return self._links\n",
    "    links = property(get_links)\n",
    "    \n",
    "    def load_page(self, page_name, filter_top=False):\n",
    "        if page_name not in self.idx.keys():\n",
    "            return\n",
    "        offset, pid, block_size = self.idx[page_name]\n",
    "        print('Fetching block from dump...')\n",
    "        xml = WikiEngine.fetch_block(self.path_xml, offset, block_size)\n",
    "        print('Parsing XML...')\n",
    "        root = ET.fromstring(b'<root>' + xml + b'</root>')\n",
    "        print('Searching for id ' + str(pid) + '...')\n",
    "        text = WikiEngine.search_id(root, pid)\n",
    "        print('Parsing wiki...')\n",
    "        text = WikiEngine.filter_top_section(text) if filter_top else text\n",
    "        self.page = mph.parse(text)\n",
    "        print('Parsed.')\n",
    "        self._links = []\n",
    "        return self.page\n",
    "    \n",
    "    @staticmethod\n",
    "    def fetch_block(path, offset, block_size):\n",
    "        with open(path, 'rb') as file:\n",
    "            file.seek(offset)\n",
    "            return bz2.decompress(file.read(block_size))\n",
    "    \n",
    "    @staticmethod\n",
    "    def search_id(root, pid):\n",
    "        for page in root.iter('page'):\n",
    "            if pid == int(page.find('id').text):\n",
    "                return page.find('revision').find('text').text\n",
    "    \n",
    "    @staticmethod\n",
    "    def filter_top_section(text):\n",
    "        head = re.search(r'==.*?==', text)\n",
    "        idx = head.span(0)[0] if head else len(text)\n",
    "        return text[:idx] #(text[:idx], text[idx:])"
   ]
  },
  {
   "cell_type": "markdown",
   "metadata": {},
   "source": [
    "### Test"
   ]
  },
  {
   "cell_type": "code",
   "execution_count": 311,
   "metadata": {},
   "outputs": [],
   "source": [
    "path_base = '/Users/harangju/Developer/data/wiki/partition/'\n",
    "name_xml = 'enwiki-20190720-pages-articles-multistream1.xml-p10p30302.bz2'\n",
    "name_index = 'enwiki-20190720-pages-articles-multistream-index1.txt-p10p30302.bz2'\n",
    "path_xml = path_base + name_xml\n",
    "path_index = path_base + name_index\n",
    "wiki = WikiEngine(path_xml, path_index)"
   ]
  },
  {
   "cell_type": "code",
   "execution_count": 312,
   "metadata": {},
   "outputs": [
    {
     "name": "stdout",
     "output_type": "stream",
     "text": [
      "Loading index...\n",
      "Loaded.\n",
      "Calculating block sizes...\n",
      "Calculated.\n"
     ]
    },
    {
     "data": {
      "text/plain": [
       "['AccessibleComputing', 'Anarchism', 'AfghanistanHistory']"
      ]
     },
     "execution_count": 312,
     "metadata": {},
     "output_type": "execute_result"
    }
   ],
   "source": [
    "# test initial idx\n",
    "# should load indices & calculate block sizes\n",
    "l = list(wiki.idx)\n",
    "l[:3]"
   ]
  },
  {
   "cell_type": "code",
   "execution_count": 313,
   "metadata": {
    "scrolled": false
   },
   "outputs": [
    {
     "data": {
      "text/plain": [
       "['AccessibleComputing', 'Anarchism', 'AfghanistanHistory']"
      ]
     },
     "execution_count": 313,
     "metadata": {},
     "output_type": "execute_result"
    }
   ],
   "source": [
    "# test subsequent idx\n",
    "# this time, should just return the indices\n",
    "l = list(wiki.idx)\n",
    "l[:3]"
   ]
  },
  {
   "cell_type": "code",
   "execution_count": 314,
   "metadata": {},
   "outputs": [
    {
     "data": {
      "text/plain": [
       "b'  <page>\\n    <title>AccessibleComputing</title>\\n    <ns>0</ns>\\n    <id>10</id>\\n    <redirect title=\"'"
      ]
     },
     "execution_count": 314,
     "metadata": {},
     "output_type": "execute_result"
    }
   ],
   "source": [
    "# test fetch_block()\n",
    "# should return the XML block starting with alchemy\n",
    "offset, i, block_size = wiki.idx['Alchemy']\n",
    "xml = WikiEngine.fetch_block(path_xml, offset, block_size)\n",
    "xml[:100]"
   ]
  },
  {
   "cell_type": "code",
   "execution_count": 315,
   "metadata": {},
   "outputs": [
    {
     "data": {
      "text/plain": [
       "'{{redirect2|Anarchist|Anarchists|other uses|Anarchists (disambiguation)}}\\n{{pp-move-indef}}{{short description|Political philosophy that advocates self-governed societies}}\\n{{use dmy dates|date=July 2'"
      ]
     },
     "execution_count": 315,
     "metadata": {},
     "output_type": "execute_result"
    }
   ],
   "source": [
    "# test search_id()\n",
    "root = ET.fromstring(b'<root>' + xml + b'</root>')\n",
    "page_text = WikiEngine.search_id(root, 12)\n",
    "page_text[:200]"
   ]
  },
  {
   "cell_type": "code",
   "execution_count": 316,
   "metadata": {},
   "outputs": [
    {
     "data": {
      "text/plain": [
       "\"{{redirect2|Anarchist|Anarchists|other uses|Anarchists (disambiguation)}}\\n{{pp-move-indef}}{{short description|Political philosophy that advocates self-governed societies}}\\n{{use dmy dates|date=July 2018}}\\n{{use British English|date=January 2014}}\\n{{anarchism sidebar}}\\n{{libertarianism sidebar}}\\n{{revolution sidebar}}\\n{{basic forms of government}}\\n'''Anarchism''' is an [[Anti-authoritarianism|anti-authoritarian]] [[political philosophy]]{{sfnm|1a1=McLaughlin|1y=2007|1p=59|2a1=Flint|2y=2009|2p=27}} that rejects [[Hierarchy|hierarchies]] deemed unjust and advocates their replacement with [[Workers' self-management|self-managed]], [[Self-governance|self-governed]] societies based on voluntary, [[cooperative]] institutions. These institutions are often described as [[Stateless society|stateless societies]],{{sfnm|1a1=Craig|1y=2005|1p=14|2a1=Sheehan|2y=2003|2p=85}} although several authors have defined them more specifically as distinct institutions based on non-hierarchical or [[Free association (communism and anarchism)|free associations]].{{sfn|Suissa|2006|p=7}} Anarchism's central disagreement with other ideologies is that it holds the [[Sovereign state|state]] to be undesirable, unnecessary, and harmful.{{sfnm|1a1=Craig|1y=2005|1p=14|2a1=McLean|2a2=McMillan|2y=2003|2loc=Anarchism}}\\n\\nAnarchism is usually placed on the [[Far-left politics|far-left]] of the [[political spectrum]],{{sfnm|1a1=Brooks|1y=1994|1p=xi|2a1=Kahn|2y=2000|3a1=Moynihan|3y=2007}} and much of its [[Anarchist economics|economics]] and [[Anarchist law|legal philosophy]] reflect [[Libertarian socialism|anti-authoritarian interpretations]] of [[Anarcho-communism|communism]], [[Collectivist anarchism|collectivism]], [[Anarcho-syndicalism|syndicalism]], [[Mutualism (economic theory)|mutualism]], or [[participatory economics]].{{sfn|Guerin|1970|p=35|loc=Critique of authoritarian socialism}} As anarchism does not offer a fixed body of doctrine from a single particular worldview,{{sfn|Marshall|1993|pp=14–17}} many [[History of anarchism|anarchist types and traditions]] exist and varieties of anarchy diverge widely.{{sfn|Sylvan|2007|p=262}} [[Anarchist schools of thought]] can differ fundamentally, supporting anything from extreme [[individualism]] to complete [[collectivism]].{{sfn|McLean|McMillan|2003|loc=Anarchism}} Strains of anarchism have often been divided into the categories of [[Social anarchism|social]] and [[individualist anarchism]], or similar dual classifications.{{sfnm|1a1=Ostergaard|1y=2009|1p=14|1loc=Anarchism|2a1=Kropotkin|2y=2002|2p=5|3a1=Fowler|3y=1972}}\\n\\n\""
      ]
     },
     "execution_count": 316,
     "metadata": {},
     "output_type": "execute_result"
    }
   ],
   "source": [
    "# test filter_top_section\n",
    "WikiEngine.filter_top_section(page_text)"
   ]
  },
  {
   "cell_type": "code",
   "execution_count": 318,
   "metadata": {},
   "outputs": [
    {
     "name": "stdout",
     "output_type": "stream",
     "text": [
      "Fetching block from dump...\n",
      "Parsing XML...\n",
      "Searching for id 12...\n",
      "Parsing wiki...\n",
      "Parsed.\n"
     ]
    },
    {
     "data": {
      "text/plain": [
       "\"{{redirect2|Anarchist|Anarchists|other uses|Anarchists (disambiguation)}}\\n{{pp-move-indef}}{{short description|Political philosophy that advocates self-governed societies}}\\n{{use dmy dates|date=July 2018}}\\n{{use British English|date=January 2014}}\\n{{anarchism sidebar}}\\n{{libertarianism sidebar}}\\n{{revolution sidebar}}\\n{{basic forms of government}}\\n'''Anarchism''' is an [[Anti-authoritarianism|anti-authoritarian]] [[political philosophy]]{{sfnm|1a1=McLaughlin|1y=2007|1p=59|2a1=Flint|2y=2009|2p=27}} that rejects [[Hierarchy|hierarchies]] deemed unjust and advocates their replacement with [[Workers' self-management|self-managed]], [[Self-governance|self-governed]] societies based on voluntary, [[cooperative]] institutions. These institutions are often described as [[Stateless society|stateless societies]],{{sfnm|1a1=Craig|1y=2005|1p=14|2a1=Sheehan|2y=2003|2p=85}} although several authors have defined them more specifically as distinct institutions based on non-hierarchical or [[Free association (communism and anarchism)|free associations]].{{sfn|Suissa|2006|p=7}} Anarchism's central disagreement with other ideologies is that it holds the [[Sovereign state|state]] to be undesirable, unnecessary, and harmful.{{sfnm|1a1=Craig|1y=2005|1p=14|2a1=McLean|2a2=McMillan|2y=2003|2loc=Anarchism}}\\n\\nAnarchism is usually placed on the [[Far-left politics|far-left]] of the [[political spectrum]],{{sfnm|1a1=Brooks|1y=1994|1p=xi|2a1=Kahn|2y=2000|3a1=Moynihan|3y=2007}} and much of its [[Anarchist economics|economics]] and [[Anarchist law|legal philosophy]] reflect [[Libertarian socialism|anti-authoritarian interpretations]] of [[Anarcho-communism|communism]], [[Collectivist anarchism|collectivism]], [[Anarcho-syndicalism|syndicalism]], [[Mutualism (economic theory)|mutualism]], or [[participatory economics]].{{sfn|Guerin|1970|p=35|loc=Critique of authoritarian socialism}} As anarchism does not offer a fixed body of doctrine from a single particular worldview,{{sfn|Marshall|1993|pp=14–17}} many [[History of anarchism|anarchist types and traditions]] exist and varieties of anarchy diverge widely.{{sfn|Sylvan|2007|p=262}} [[Anarchist schools of thought]] can differ fundamentally, supporting anything from extreme [[individualism]] to complete [[collectivism]].{{sfn|McLean|McMillan|2003|loc=Anarchism}} Strains of anarchism have often been divided into the categories of [[Social anarchism|social]] and [[individualist anarchism]], or similar dual classifications.{{sfnm|1a1=Ostergaard|1y=2009|1p=14|1loc=Anarchism|2a1=Kropotkin|2y=2002|2p=5|3a1=Fowler|3y=1972}}\\n\\n\""
      ]
     },
     "execution_count": 318,
     "metadata": {},
     "output_type": "execute_result"
    }
   ],
   "source": [
    "# test load_page()\n",
    "# page_name = 'AccessibleComputing'\n",
    "page_name = 'Anarchism'\n",
    "# page_name = 'Artificial languages'\n",
    "# page_name = 'Abstract (law)'\n",
    "# page_name = 'Anxiety'\n",
    "# page_name = 'Foreign relations of Azerbaijan'\n",
    "# page_name = 'Alfonso Cuarón'\n",
    "# page_name = 'ADHD'\n",
    "page = wiki.load_page(page_name, filter_top=True)\n",
    "page"
   ]
  },
  {
   "cell_type": "code",
   "execution_count": 319,
   "metadata": {},
   "outputs": [
    {
     "name": "stdout",
     "output_type": "stream",
     "text": [
      "Number of links: 25\n"
     ]
    }
   ],
   "source": [
    "print('Number of links: ' + str(len(wiki.links)))"
   ]
  }
 ],
 "metadata": {
  "kernelspec": {
   "display_name": "Python 3",
   "language": "python",
   "name": "python3"
  },
  "language_info": {
   "codemirror_mode": {
    "name": "ipython",
    "version": 3
   },
   "file_extension": ".py",
   "mimetype": "text/x-python",
   "name": "python",
   "nbconvert_exporter": "python",
   "pygments_lexer": "ipython3",
   "version": "3.7.3"
  }
 },
 "nbformat": 4,
 "nbformat_minor": 2
}
