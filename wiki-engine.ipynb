{
 "cells": [
  {
   "cell_type": "markdown",
   "metadata": {},
   "source": [
    "### Dependencies"
   ]
  },
  {
   "cell_type": "code",
   "execution_count": 3,
   "metadata": {},
   "outputs": [],
   "source": [
    "import xml.sax\n",
    "\n",
    "class WikiXmlHandler(xml.sax.handler.ContentHandler):\n",
    "    \"\"\"Content handler for Wiki XML data using SAX\"\"\"\n",
    "    def __init__(self):\n",
    "        xml.sax.handler.ContentHandler.__init__(self)\n",
    "        self._buffer = None\n",
    "        self._values = {}\n",
    "        self._current_tag = None\n",
    "        self._pages = []\n",
    "\n",
    "    def characters(self, content):\n",
    "        \"\"\"Characters between opening and closing tags\"\"\"\n",
    "        if self._current_tag:\n",
    "            if self._current_tag == 'id' and self._buffer:\n",
    "                return\n",
    "            self._buffer.append(content)\n",
    "\n",
    "    def startElement(self, name, attrs):\n",
    "        \"\"\"Opening tag of element\"\"\"\n",
    "        if name in ('title', 'text', 'id'):\n",
    "            if name == 'id' and name in self._values.keys():\n",
    "                return\n",
    "            self._current_tag = name\n",
    "            self._buffer = []\n",
    "\n",
    "    def endElement(self, name):\n",
    "        \"\"\"Closing tag of element\"\"\"\n",
    "        if name == self._current_tag:\n",
    "            self._values[name] = ' '.join(self._buffer)\n",
    "        if name == 'page':\n",
    "            self._pages.append((self._values['title'], self._values['text'], self._values['id']))"
   ]
  },
  {
   "cell_type": "markdown",
   "metadata": {},
   "source": [
    "### Engine"
   ]
  },
  {
   "cell_type": "code",
   "execution_count": 132,
   "metadata": {},
   "outputs": [],
   "source": [
    "import bz2\n",
    "import mwparserfromhell as mph\n",
    "\n",
    "class WikiEngine():\n",
    "    def __init__(self, path_xml, path_idx):\n",
    "        # path_xml is path to XML bz2 file\n",
    "        # path_idx is path to the index txt file\n",
    "        self._indices = None\n",
    "        self._handler = WikiXmlHandler()\n",
    "        self._parser_xml = xml.sax.make_parser()\n",
    "        self._parser_xml.setContentHandler(self._handler)\n",
    "        self._path_xml = path_xml\n",
    "        self.init_indices(path_idx)\n",
    "        \n",
    "    def init_indices(self, path_idx=None):\n",
    "        print('Initializing indices...')\n",
    "        if path_idx:\n",
    "            self._path_idx = path_idx\n",
    "        self._idx = {}\n",
    "        with open(self._path_idx, 'r', encoding = 'utf-8') as file:\n",
    "            for line in file:\n",
    "                [offset, page_id, name] = line.strip().split(':', 2)\n",
    "                self._idx[name] = (int(offset), int(page_id))\n",
    "    \n",
    "    def get_links(self, page_name):\n",
    "        if page_name not in self._idx.keys():\n",
    "            raise NameError('No page with name \"' + page_name + '\"')\n",
    "        else:\n",
    "            page_offset, page_id = self._idx[page_name]\n",
    "        print('Searching for links with name \"' + page_name + '\"')\n",
    "        xml = WikiEngine.search_dump(self._path_xml, page_offset, page_id)\n",
    "        if xml == None:\n",
    "            raise NameError('No page found with name \"' + page_name +\n",
    "                            '\" in \"' + self._path_xml + '\".')\n",
    "        self._parser_xml.feed(xml)\n",
    "        page = mph.parse(self._handler._pages[0][1])\n",
    "        links = [x.title for x in wiki.filter_wikilinks()]\n",
    "        self._parser_xml.reset()\n",
    "        return links\n",
    "    \n",
    "    @staticmethod\n",
    "    def search_dump(path, offset, page_id):\n",
    "        page_found = False\n",
    "        xml = b''\n",
    "        with bz2.BZ2File(path, 'rb') as file:\n",
    "            file.seek(offset)\n",
    "            for _ in range(10000):\n",
    "                line = file.readline()\n",
    "                if b'<page>' in line:\n",
    "                    xml = b''\n",
    "                xml = xml + line\n",
    "                if b'<id>' + str(page_id).encode('utf-8') + b'</id>' in line:\n",
    "                    page_found = True\n",
    "                if b'</page>' in line and page_found:\n",
    "                    return xml"
   ]
  },
  {
   "cell_type": "markdown",
   "metadata": {},
   "source": [
    "### Test"
   ]
  },
  {
   "cell_type": "code",
   "execution_count": 128,
   "metadata": {},
   "outputs": [],
   "source": [
    "# base_path = '/Users/harangju/Developer/data/wiki/'\n",
    "# xml_name = 'enwiki-20190801-pages-articles-multistream.xml.bz2'\n",
    "# index_name = 'enwiki-20190801-pages-articles-multistream-index.txt'\n",
    "base_path = '/Users/harangju/Developer/data/wiki/partition/'\n",
    "xml_name = 'enwiki-20190801-pages-articles-multistream1.xml-p10p30302.bz2'\n",
    "index_name = 'enwiki-20190801-pages-articles-multistream-index1.txt-p10p30302'\n",
    "xml_path = base_path + xml_name\n",
    "index_path = base_path + index_name"
   ]
  },
  {
   "cell_type": "code",
   "execution_count": 129,
   "metadata": {},
   "outputs": [
    {
     "name": "stdout",
     "output_type": "stream",
     "text": [
      "Initializing indices...\n"
     ]
    }
   ],
   "source": [
    "wiki = WikiEngine(xml_path, index_path)"
   ]
  },
  {
   "cell_type": "code",
   "execution_count": 130,
   "metadata": {},
   "outputs": [
    {
     "name": "stdout",
     "output_type": "stream",
     "text": [
      "Searching for links with name \"AccessibleComputing\"\n"
     ]
    },
    {
     "data": {
      "text/plain": [
       "'#REDIRECT [[Computer accessibility]] \\n \\n {{R from move}} \\n {{R from CamelCase}} \\n {{R unprintworthy}}'"
      ]
     },
     "execution_count": 130,
     "metadata": {},
     "output_type": "execute_result"
    }
   ],
   "source": [
    "wiki.get_links('AccessibleComputing')"
   ]
  },
  {
   "cell_type": "code",
   "execution_count": null,
   "metadata": {},
   "outputs": [],
   "source": []
  }
 ],
 "metadata": {
  "kernelspec": {
   "display_name": "Python 3",
   "language": "python",
   "name": "python3"
  },
  "language_info": {
   "codemirror_mode": {
    "name": "ipython",
    "version": 3
   },
   "file_extension": ".py",
   "mimetype": "text/x-python",
   "name": "python",
   "nbconvert_exporter": "python",
   "pygments_lexer": "ipython3",
   "version": "3.7.3"
  }
 },
 "nbformat": 4,
 "nbformat_minor": 2
}
