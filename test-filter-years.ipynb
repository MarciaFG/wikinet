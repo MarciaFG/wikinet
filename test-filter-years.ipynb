{
 "cells": [
  {
   "cell_type": "markdown",
   "metadata": {},
   "source": [
    "### Finding dates"
   ]
  },
  {
   "cell_type": "code",
   "execution_count": 2,
   "metadata": {},
   "outputs": [],
   "source": [
    "%load_ext autoreload\n",
    "%autoreload 2"
   ]
  },
  {
   "cell_type": "code",
   "execution_count": 3,
   "metadata": {},
   "outputs": [],
   "source": [
    "import wiki\n",
    "\n",
    "path_base = '/Users/harangju/Developer/data/wiki/'\n",
    "name_xml = 'enwiki-20190801-pages-articles-multistream.xml.bz2'\n",
    "name_index = 'enwiki-20190801-pages-articles-multistream-index.txt.bz2'\n",
    "path_xml = path_base + name_xml\n",
    "path_index = path_base + name_index\n",
    "dump = wiki.Dump(path_xml, path_index)"
   ]
  },
  {
   "cell_type": "code",
   "execution_count": 242,
   "metadata": {},
   "outputs": [],
   "source": [
    "def get_history(page):\n",
    "    headings = dump.page.filter_headings()\n",
    "    idx_history = [(i, head) for i, head in enumerate(headings) if 'History' in head]\n",
    "    if not idx_history:\n",
    "        return\n",
    "    sections = dump.page.get_sections(include_headings=True)\n",
    "    history = str(sections[idx_history[0][0]+1].strip_code())\n",
    "    return history"
   ]
  },
  {
   "cell_type": "code",
   "execution_count": 253,
   "metadata": {},
   "outputs": [
    {
     "data": {
      "text/plain": [
       "'History\\n\\nSoon after publishing the special theory of relativity in 1905, Einstein started thinking about how to incorporate gravity into his new relativistic framework. In 1907, beginning with a simple thought experiment involving an observer in free fall, he embarked on what would be an eight-year search for a relativistic theory of gravity. After numerous detours and false starts, his work culminated in the presentation to the Prussian Academy of Science in November 1915 of what are now known '"
      ]
     },
     "execution_count": 253,
     "metadata": {},
     "output_type": "execute_result"
    }
   ],
   "source": [
    "history = get_history(dump.load_page('General relativity'))\n",
    "history[:500]"
   ]
  },
  {
   "cell_type": "code",
   "execution_count": 148,
   "metadata": {},
   "outputs": [
    {
     "data": {
      "text/plain": [
       "'History\\n Discovery of DNA structure and function \\nDeoxyribonucleic acid (DNA) was first discovered and isolated by Friedrich Miescher in 1869, but it remained understudied for many decades because proteins, rather than DNA, were thought to hold the genetic blueprint to life. This situation changed after 1944 as a result of some experiments by Oswald Avery, Colin MacLeod, and Maclyn McCarty demonstrating that purified DNA could change one strain of bacteria into another. This was the first time t'"
      ]
     },
     "execution_count": 148,
     "metadata": {},
     "output_type": "execute_result"
    }
   ],
   "source": [
    "history = get_history(dump.load_page('DNA sequencing'))\n",
    "history[:500]"
   ]
  },
  {
   "cell_type": "code",
   "execution_count": 145,
   "metadata": {},
   "outputs": [],
   "source": [
    "import re\n",
    "\n",
    "def color_regex(string, regex, color_code='1;37;40'):\n",
    "    colored = ''\n",
    "    matches = regex.finditer(string)\n",
    "    idx = 0\n",
    "    for match in matches:\n",
    "        colored += '\\033[0m'\n",
    "        colored += string[idx:match.span(0)[0]]\n",
    "        colored += '\\033[' + color_code + 'm'\n",
    "        colored += match.group(0)\n",
    "        idx = match.span(0)[1]\n",
    "    return colored"
   ]
  },
  {
   "cell_type": "code",
   "execution_count": 254,
   "metadata": {},
   "outputs": [
    {
     "name": "stdout",
     "output_type": "stream",
     "text": [
      "\u001b[0mHistory\n",
      "\n",
      "Soon after publishing the special theory of relativity in \u001b[1;37;40m1905\u001b[0m, Einstein started thinking about how to incorporate gravity into his new relativistic framework. In \u001b[1;37;40m1907\u001b[0m, beginning with a simple thought experiment involving an observer in free fall, he embarked on what would be an eight-year search for a relativistic theory of gravity. After numerous detours and false starts, his work culminated in the presentation to the Prussian Academy of Science in November \u001b[1;37;40m1915\u001b[0m of what are now known as the Einstein field equations.O'Connor, J.J. and Robertson, E.F. (\u001b[1;37;40m1996\u001b[0m), General relativity. Mathematical Physics index, School of Mathematics and Statistics, University of St. Andrews, Scotland. Retrieved \u001b[1;37;40m2015\u001b[0m-\u001b[1;37;40m02\u001b[0m-\u001b[1;37;40m04\u001b[0m. These equations specify how the geometry of space and time is influenced by whatever matter and radiation are present, and form the core of Einstein's general theory of relativity., ; an up-to-date collection of current research, including reprints of many of the original articles, is ; an accessible overview can be found in . Einstein's original papers are found in Digital Einstein, volumes \u001b[1;37;40m4\u001b[0m and \u001b[1;37;40m6\u001b[0m. An early key article is , cf. . The publication featuring the field equations is , cf.  The \u001b[1;37;40m19\u001b[0mth century mathematician Bernhard Riemann's non-Euclidean geometry, called Riemannian Geometry, provided the key mathematical framework which Einstein fit his physical ideas of gravity on, and enabled him to develop general relativity.Moshe Carmeli (\u001b[1;37;40m2008\u001b[0m).Relativity: Modern Large-Scale Structures of the Cosmos. pp.\u001b[1;37;40m92\u001b[0m, \u001b[1;37;40m93\u001b[0m.World Scientific Publishing\n",
      "\n",
      "The Einstein field equations are nonlinear and very difficult to solve. Einstein used approximation methods in working out initial predictions of the theory. But as early as \u001b[1;37;40m1916\u001b[0m, the astrophysicist Karl Schwarzschild found the first non-trivial exact solution to the Einstein field equations, the Schwarzschild metric. This solution laid the groundwork for the description of the final stages of gravitational collapse, and the objects known today as black holes. In the same year, the first steps towards generalizing Schwarzschild's solution to electrically charged objects were taken, which eventually resulted in the Reissner–Nordström solution, now associated with electrically charged black holes.,  and  (later complemented in ) In \u001b[1;37;40m1917\u001b[0m, Einstein applied his theory to the universe as a whole, initiating the field of relativistic cosmology. In line with contemporary thinking, he assumed a static universe, adding a new parameter to his original field equations—the cosmological constant—to match that observational presumption., cf.  By \u001b[1;37;40m1929\u001b[0m, however, the work of Hubble and others had shown that our universe is expanding. This is readily described by the expanding cosmological solutions found by Friedmann in \u001b[1;37;40m1922\u001b[0m, which do not require a cosmological constant. Lemaître used these solutions to formulate the earliest version of the Big Bang models, in which our universe has evolved from an extremely hot and dense earlier state.Hubble's original article is ; an accessible overview is given in  Einstein later declared the cosmological constant the biggest blunder of his life.As reported in . Einstein's condemnation would prove to be premature, cf. the section Cosmology, below\n",
      "\n",
      "During that period, general relativity remained something of a curiosity among physical theories. It was clearly superior to Newtonian gravity, being consistent with special relativity and accounting for several effects unexplained by the Newtonian theory. Einstein himself had shown in \u001b[1;37;40m1915\u001b[0m how his theory explained the anomalous perihelion advance of the planet Mercury without any arbitrary parameters (\"fudge factors\"). Similarly, a \u001b[1;37;40m1919\u001b[0m expedition led by Eddington confirmed general relativity's prediction for the deflection of starlight by the Sun during the total solar eclipse of May \u001b[1;37;40m29\u001b[0m, \u001b[1;37;40m1919\u001b[0m,,  making Einstein instantly famous. Yet the theory entered the mainstream of theoretical physics and astrophysics only with the developments between approximately \u001b[1;37;40m1960\u001b[0m and \u001b[1;37;40m1975\u001b[0m, now known as the golden age of general relativity. Extract of page \u001b[1;37;40m74\n"
     ]
    }
   ],
   "source": [
    "print(color_regex(history, re.compile(r'[0-9]+')))"
   ]
  },
  {
   "cell_type": "code",
   "execution_count": 265,
   "metadata": {},
   "outputs": [],
   "source": [
    "import re\n",
    "\n",
    "def regex_years():\n",
    "    months = ['january', 'february', 'march', 'april', 'may', 'june',\n",
    "              'july', 'august', 'september', 'october', 'november', 'december']\n",
    "    prepositions = ['about', 'around', 'after', 'at', 'as',\n",
    "                    'approximately', 'before', 'between', 'by',\n",
    "                    'during', 'from', 'in', 'near', 'past',\n",
    "                    'since', 'until', 'within']\n",
    "    # removed prepositions: on\n",
    "    conjugations = ['and']\n",
    "    patterns = months + prepositions + conjugations\n",
    "    re_string = r'\\b(' + '|'.join(patterns) + r')\\b \\b([0-9]{3,4})'\n",
    "    return re.compile(re_string, re.IGNORECASE)"
   ]
  },
  {
   "cell_type": "code",
   "execution_count": 266,
   "metadata": {},
   "outputs": [
    {
     "name": "stdout",
     "output_type": "stream",
     "text": [
      "\u001b[0mHistory\n",
      "\n",
      "Soon after publishing the special theory of relativity \u001b[1;37;40min 1905\u001b[0m, Einstein started thinking about how to incorporate gravity into his new relativistic framework. \u001b[1;37;40mIn 1907\u001b[0m, beginning with a simple thought experiment involving an observer in free fall, he embarked on what would be an eight-year search for a relativistic theory of gravity. After numerous detours and false starts, his work culminated in the presentation to the Prussian Academy of Science in \u001b[1;37;40mNovember 1915\u001b[0m of what are now known as the Einstein field equations.O'Connor, J.J. and Robertson, E.F. (1996), General relativity. Mathematical Physics index, School of Mathematics and Statistics, University of St. Andrews, Scotland. Retrieved 2015-02-04. These equations specify how the geometry of space and time is influenced by whatever matter and radiation are present, and form the core of Einstein's general theory of relativity., ; an up-to-date collection of current research, including reprints of many of the original articles, is ; an accessible overview can be found in . Einstein's original papers are found in Digital Einstein, volumes 4 and 6. An early key article is , cf. . The publication featuring the field equations is , cf.  The 19th century mathematician Bernhard Riemann's non-Euclidean geometry, called Riemannian Geometry, provided the key mathematical framework which Einstein fit his physical ideas of gravity on, and enabled him to develop general relativity.Moshe Carmeli (2008).Relativity: Modern Large-Scale Structures of the Cosmos. pp.92, 93.World Scientific Publishing\n",
      "\n",
      "The Einstein field equations are nonlinear and very difficult to solve. Einstein used approximation methods in working out initial predictions of the theory. But as early \u001b[1;37;40mas 1916\u001b[0m, the astrophysicist Karl Schwarzschild found the first non-trivial exact solution to the Einstein field equations, the Schwarzschild metric. This solution laid the groundwork for the description of the final stages of gravitational collapse, and the objects known today as black holes. In the same year, the first steps towards generalizing Schwarzschild's solution to electrically charged objects were taken, which eventually resulted in the Reissner–Nordström solution, now associated with electrically charged black holes.,  and  (later complemented in ) \u001b[1;37;40mIn 1917\u001b[0m, Einstein applied his theory to the universe as a whole, initiating the field of relativistic cosmology. In line with contemporary thinking, he assumed a static universe, adding a new parameter to his original field equations—the cosmological constant—to match that observational presumption., cf.  \u001b[1;37;40mBy 1929\u001b[0m, however, the work of Hubble and others had shown that our universe is expanding. This is readily described by the expanding cosmological solutions found by Friedmann \u001b[1;37;40min 1922\u001b[0m, which do not require a cosmological constant. Lemaître used these solutions to formulate the earliest version of the Big Bang models, in which our universe has evolved from an extremely hot and dense earlier state.Hubble's original article is ; an accessible overview is given in  Einstein later declared the cosmological constant the biggest blunder of his life.As reported in . Einstein's condemnation would prove to be premature, cf. the section Cosmology, below\n",
      "\n",
      "During that period, general relativity remained something of a curiosity among physical theories. It was clearly superior to Newtonian gravity, being consistent with special relativity and accounting for several effects unexplained by the Newtonian theory. Einstein himself had shown \u001b[1;37;40min 1915\u001b[0m how his theory explained the anomalous perihelion advance of the planet Mercury without any arbitrary parameters (\"fudge factors\"). Similarly, a 1919 expedition led by Eddington confirmed general relativity's prediction for the deflection of starlight by the Sun during the total solar eclipse of May 29, 1919,,  making Einstein instantly famous. Yet the theory entered the mainstream of theoretical physics and astrophysics only with the developments between \u001b[1;37;40mapproximately 1960\u001b[0m \u001b[1;37;40mand 1975\n"
     ]
    }
   ],
   "source": [
    "colored_text = color_regex(history, regex_years())\n",
    "print(colored_text)"
   ]
  },
  {
   "cell_type": "code",
   "execution_count": 268,
   "metadata": {},
   "outputs": [],
   "source": [
    "def filter_years(text, regex):\n",
    "    years = [int(match.group(2)) for match in regex.finditer(text)]\n",
    "    return years"
   ]
  },
  {
   "cell_type": "code",
   "execution_count": 269,
   "metadata": {},
   "outputs": [
    {
     "name": "stdout",
     "output_type": "stream",
     "text": [
      "[1905, 1907, 1915, 1915, 1916, 1917, 1922, 1929, 1960, 1975]\n"
     ]
    }
   ],
   "source": [
    "years = filter_years(history, regex_years())\n",
    "print(sorted(years))"
   ]
  }
 ],
 "metadata": {
  "kernelspec": {
   "display_name": "Python 3",
   "language": "python",
   "name": "python3"
  },
  "language_info": {
   "codemirror_mode": {
    "name": "ipython",
    "version": 3
   },
   "file_extension": ".py",
   "mimetype": "text/x-python",
   "name": "python",
   "nbconvert_exporter": "python",
   "pygments_lexer": "ipython3",
   "version": "3.7.3"
  }
 },
 "nbformat": 4,
 "nbformat_minor": 2
}
