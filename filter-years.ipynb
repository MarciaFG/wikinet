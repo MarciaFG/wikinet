{
 "cells": [
  {
   "cell_type": "markdown",
   "metadata": {},
   "source": [
    "### Finding dates"
   ]
  },
  {
   "cell_type": "code",
   "execution_count": 2,
   "metadata": {},
   "outputs": [],
   "source": [
    "%load_ext autoreload\n",
    "%autoreload 2"
   ]
  },
  {
   "cell_type": "code",
   "execution_count": 3,
   "metadata": {},
   "outputs": [],
   "source": [
    "import wiki\n",
    "\n",
    "path_base = '/Users/harangju/Developer/data/wiki/'\n",
    "name_xml = 'enwiki-20190801-pages-articles-multistream.xml.bz2'\n",
    "name_index = 'enwiki-20190801-pages-articles-multistream-index.txt.bz2'\n",
    "path_xml = path_base + name_xml\n",
    "path_index = path_base + name_index\n",
    "dump = wiki.Dump(path_xml, path_index)"
   ]
  },
  {
   "cell_type": "code",
   "execution_count": 146,
   "metadata": {},
   "outputs": [],
   "source": [
    "def get_history(page):\n",
    "    headings = dump.page.filter_headings()\n",
    "    idx_history = [(i, head) for i, head in enumerate(headings) if 'History' in head][0]\n",
    "    sections = dump.page.get_sections(include_headings=True)\n",
    "    history = str(sections[idx_history[0]+1].strip_code())\n",
    "    return history"
   ]
  },
  {
   "cell_type": "code",
   "execution_count": 148,
   "metadata": {},
   "outputs": [
    {
     "data": {
      "text/plain": [
       "'History\\n Discovery of DNA structure and function \\nDeoxyribonucleic acid (DNA) was first discovered and isolated by Friedrich Miescher in 1869, but it remained understudied for many decades because proteins, rather than DNA, were thought to hold the genetic blueprint to life. This situation changed after 1944 as a result of some experiments by Oswald Avery, Colin MacLeod, and Maclyn McCarty demonstrating that purified DNA could change one strain of bacteria into another. This was the first time t'"
      ]
     },
     "execution_count": 148,
     "metadata": {},
     "output_type": "execute_result"
    }
   ],
   "source": [
    "history = get_history(dump.load_page('DNA sequencing'))\n",
    "history[:500]"
   ]
  },
  {
   "cell_type": "code",
   "execution_count": 145,
   "metadata": {},
   "outputs": [],
   "source": [
    "import re\n",
    "\n",
    "def color_regex(string, regex, color_code='1;37;40'):\n",
    "    colored = ''\n",
    "    matches = regex.finditer(string)\n",
    "    idx = 0\n",
    "    for match in matches:\n",
    "        colored += '\\033[0m'\n",
    "        colored += string[idx:match.span(0)[0]]\n",
    "        colored += '\\033[' + color_code + 'm'\n",
    "        colored += match.group(0)\n",
    "        idx = match.span(0)[1]\n",
    "    return colored"
   ]
  },
  {
   "cell_type": "code",
   "execution_count": 149,
   "metadata": {},
   "outputs": [
    {
     "name": "stdout",
     "output_type": "stream",
     "text": [
      "\u001b[0mHistory\n",
      " Discovery of DNA structure and function \n",
      "Deoxyribonucleic acid (DNA) was first discovered and isolated by Friedrich Miescher in \u001b[1;37;40m1869\u001b[0m, but it remained understudied for many decades because proteins, rather than DNA, were thought to hold the genetic blueprint to life. This situation changed after \u001b[1;37;40m1944\u001b[0m as a result of some experiments by Oswald Avery, Colin MacLeod, and Maclyn McCarty demonstrating that purified DNA could change one strain of bacteria into another. This was the first time that DNA was shown capable of transforming the properties of cells.\n",
      "\n",
      "In \u001b[1;37;40m1953\u001b[0m, James Watson and Francis Crick put forward their double-helix model of DNA, based on crystallized X-ray structures being studied by Rosalind Franklin. According to the model, DNA is composed of two strands of nucleotides coiled around each other, linked together by hydrogen bonds and running in opposite directions. Each strand is composed of four complementary nucleotides – adenine (A), cytosine (C), guanine (G) and thymine (T) – with an A on one strand always paired with T on the other, and C always paired with G. They proposed such a structure allowed each strand to be used to reconstruct the other, an idea central to the passing on of hereditary information between generations.\n",
      "thumb|Frederick Sanger, a pioneer of sequencing. Sanger is one of the few scientists who was awarded two Nobel prizes, one for the sequencing of proteins, and the other for the sequencing of DNA.\n",
      "The foundation for sequencing proteins was first laid by the work of Frederick Sanger who by \u001b[1;37;40m1955\u001b[0m had completed the sequence of all the amino acids in insulin, a small protein secreted by the pancreas. This provided the first conclusive evidence that proteins were chemical entities with a specific molecular pattern rather than a random mixture of material suspended in fluid. Sanger's success in sequencing insulin greatly electrified x-ray crystallographers, including Watson and Crick who by now were trying to understand how DNA directed the formation of proteins within a cell. Soon after attending a series of lectures given by Frederick Sanger in October \u001b[1;37;40m1954\u001b[0m, Crick began to develop a theory which argued that the arrangement of nucleotides in DNA determined the sequence of amino acids in proteins which in turn helped determine the function of a protein. He published this theory in \u001b[1;37;40m1958\u001b[0m.Marks, L, The path to DNA sequencing: The life and work of Frederick Sanger.\n",
      "\n",
      "RNA sequencing\n",
      "RNA sequencing was one of the earliest forms of nucleotide sequencing. The major landmark of RNA sequencing is the sequence of the first complete gene and the complete genome of Bacteriophage MS\u001b[1;37;40m2\u001b[0m, identified and published by Walter Fiers and his coworkers at the University of Ghent (Ghent, Belgium), in \u001b[1;37;40m1972\u001b[0m and \u001b[1;37;40m1976\u001b[0m. Traditional RNA sequencing methods require the creation of a cDNA molecule which must be sequenced.\n",
      "\n",
      "Early DNA sequencing methods\n",
      "The first method for determining DNA sequences involved a location-specific primer extension strategy established by Ray Wu at Cornell University in \u001b[1;37;40m1970\u001b[0m. DNA polymerase catalysis and specific nucleotide labeling, both of which figure prominently in current sequencing schemes, were used to sequence the cohesive ends of lambda phage DNA.  Between \u001b[1;37;40m1970\u001b[0m and \u001b[1;37;40m1973\u001b[0m, Wu, R Padmanabhan and colleagues demonstrated that this method can be employed to determine any DNA sequence using synthetic location-specific primers. Frederick Sanger then adopted this primer-extension strategy to develop more rapid DNA sequencing methods at the MRC Centre, Cambridge, UK and published a method for \"DNA sequencing with chain-terminating inhibitors\" in \u001b[1;37;40m1977\u001b[0m. Walter Gilbert and Allan Maxam at Harvard also developed sequencing methods, including one for \"DNA sequencing by chemical degradation\".Gilbert, W. DNA sequencing and gene structure. Nobel lecture, \u001b[1;37;40m8\u001b[0m December \u001b[1;37;40m1980\u001b[0m. In \u001b[1;37;40m1973\u001b[0m, Gilbert and Maxam reported the sequence of \u001b[1;37;40m24\u001b[0m basepairs using a method known as wandering-spot analysis. Advancements in sequencing were aided by the concurrent development of recombinant DNA technology, allowing DNA samples to be isolated from sources other than viruses.\n",
      "\n",
      " Sequencing of full genomes \n",
      "thumb|\u001b[1;37;40m300\u001b[0mpx|Right|The \u001b[1;37;40m5\u001b[0m,\u001b[1;37;40m386\u001b[0m bp genome of bacteriophage φX\u001b[1;37;40m174\u001b[0m. Each coloured block represents a gene.\n",
      "The first full DNA genome to be sequenced was that of bacteriophage φX\u001b[1;37;40m174\u001b[0m in \u001b[1;37;40m1977\u001b[0m. Medical Research Council scientists deciphered the complete DNA sequence of the Epstein-Barr virus in \u001b[1;37;40m1984\u001b[0m, finding it contained \u001b[1;37;40m172\u001b[0m,\u001b[1;37;40m282\u001b[0m nucleotides. Completion of the sequence marked a significant turning point in DNA sequencing because it was achieved with no prior genetic profile knowledge of the virus.\"The Next Frontier: Human Viruses\" , whatisbiotechnology.org, Retrieved \u001b[1;37;40m3\u001b[0m May \u001b[1;37;40m2017\u001b[0m\n",
      "\n",
      "A non-radioactive method for transferring the DNA molecules of sequencing reaction mixtures onto an immobilizing matrix during electrophoresis was developed by Pohl and co-workers in the early \u001b[1;37;40m1980\u001b[0ms.United States Patent \u001b[1;37;40m4\u001b[0m,\u001b[1;37;40m631\u001b[0m,\u001b[1;37;40m122\u001b[0m (\u001b[1;37;40m1986\u001b[0m) Followed by the commercialization of the DNA sequencer \"Direct-Blotting-Electrophoresis-System GATC \u001b[1;37;40m1500\u001b[0m\" by GATC Biotech, which was intensively used in the framework of the EU genome-sequencing programme, the complete DNA sequence of the yeast Saccharomyces cerevisiae chromosome II. Leroy E. Hood's laboratory at the California Institute of Technology announced the first semi-automated DNA sequencing machine in \u001b[1;37;40m1986\u001b[0m. This was followed by Applied Biosystems' marketing of the first fully automated sequencing machine, the ABI \u001b[1;37;40m370\u001b[0m, in \u001b[1;37;40m1987\u001b[0m and by Dupont's Genesis \u001b[1;37;40m2000\u001b[0m  which used a novel fluorescent labeling technique enabling all four dideoxynucleotides to be identified in a single lane. By \u001b[1;37;40m1990\u001b[0m, the U.S. National Institutes of Health (NIH) had begun large-scale sequencing trials on Mycoplasma capricolum, Escherichia coli, Caenorhabditis elegans, and Saccharomyces cerevisiae at a cost of US$\u001b[1;37;40m0\u001b[0m.\u001b[1;37;40m75\u001b[0m per base. Meanwhile, sequencing of human cDNA sequences called expressed sequence tags began in Craig Venter's lab, an attempt to capture the coding fraction of the human genome. In \u001b[1;37;40m1995\u001b[0m, Venter, Hamilton Smith, and colleagues at The Institute for Genomic Research (TIGR) published the first complete genome of a free-living organism, the bacterium Haemophilus influenzae.  The circular chromosome contains \u001b[1;37;40m1\u001b[0m,\u001b[1;37;40m830\u001b[0m,\u001b[1;37;40m137\u001b[0m bases and its publication in the journal Science marked the first published use of whole-genome shotgun sequencing, eliminating the need for initial mapping efforts.\n",
      "\n",
      "By \u001b[1;37;40m2001\u001b[0m, shotgun sequencing methods had been used to produce a draft sequence of the human genome.\n",
      "\n",
      " High-throughput sequencing (HTS) methods \n",
      "Several new methods for DNA sequencing were developed in the mid to late \u001b[1;37;40m1990\u001b[0ms and were implemented in commercial DNA sequencers by the year \u001b[1;37;40m2000\u001b[0m. Together these were called the \"next-generation\" or \"second-generation\" sequencing (NGS) methods, in order to distinguish them from the aforementioned earlier methods, like Sanger Sequencing. In contrast to the first generation of sequencing, NGS technology is typically characterized by being highly scalable, allowing the entire genome to be sequenced at once. Usually, this is accomplished by fragmenting the genome into small pieces, randomly sampling for a fragment, and sequencing it using one of a variety of technologies, such as those described below. An entire genome is possible because multiple fragments are sequenced at once (giving it the name \"massively parallel\" sequencing) in an automated process.\n",
      "\n",
      "NGS technology has tremendously empowered researchers to look for insights into health, anthropologists to investigate human origins, and is catalyzing the \"Personalized Medicine\" movement. However, it has also opened the door to more room for error. There are many software tools to carry out the computational analysis of NGS data, each with its own algorithm. Even the parameters within one software package can change the outcome of the analysis. In addition, the large quantities of data produced by DNA sequencing have also required development of new methods and programs for sequence analysis. Several efforts to develop standards in the NGS field have been attempted to address these challenges, most of which have been small-scale efforts arising from individual labs. Most recently, a large, organized, FDA-funded effort has culminated in the BioCompute standard.\n",
      "\n",
      "On \u001b[1;37;40m26\u001b[0m October \u001b[1;37;40m1990\u001b[0m, Roger Tsien, Pepi Ross, Margaret Fahnestock and Allan J Johnston filed a patent describing stepwise (\"base-by-base\") sequencing with removable \u001b[1;37;40m3\u001b[0m' blockers on DNA arrays (blots and single DNA molecules).\n",
      "In \u001b[1;37;40m1996\u001b[0m, Pål Nyrén and his student Mostafa Ronaghi at the Royal Institute of Technology in Stockholm published their method of pyrosequencing.\n",
      "\n",
      "On \u001b[1;37;40m1\u001b[0m April \u001b[1;37;40m1997\u001b[0m, Pascal Mayer and Laurent Farinelli submitted patents to the World Intellectual Property Organization describing DNA colony sequencing. The DNA sample preparation and random surface-PCR arraying methods described in this patent, coupled to Roger Tsien et al.'s \"base-by-base\" sequencing method, is now implemented in Illumina's Hi-Seq genome sequencers.\n",
      "\n",
      "In \u001b[1;37;40m1998\u001b[0m, Phil Green and Brent Ewing of the University of Washington described their phred quality score for sequencer data analysis, a landmark analysis technique that gained widespread adoption, and which is still the most common metric for assessing the accuracy of a sequencing platform.\n",
      "\n",
      "Lynx Therapeutics published and marketed Massively parallel signature sequencing (MPSS), in \u001b[1;37;40m2000\n"
     ]
    }
   ],
   "source": [
    "print(color_regex(history, re.compile(r'[0-9]+')))"
   ]
  },
  {
   "cell_type": "code",
   "execution_count": 220,
   "metadata": {},
   "outputs": [],
   "source": [
    "import re\n",
    "\n",
    "def regex_years():\n",
    "    months = ['january', 'february', 'march', 'april', 'may', 'june',\n",
    "              'july', 'august', 'september', 'october', 'november', 'december']\n",
    "    prepositions = ['about', 'around', 'after', 'at',\n",
    "                    'before', 'between', 'by',\n",
    "                    'during', 'from', 'in', 'near', 'past',\n",
    "                    'since', 'until', 'within']\n",
    "    # removed prepositions: on\n",
    "    conjugations = ['and']\n",
    "    patterns = months + prepositions + conjugations\n",
    "    re_string = r'\\b(' + '|'.join(patterns) + r')\\b \\b([0-9]+)'\n",
    "    return re.compile(re_string, re.IGNORECASE)"
   ]
  },
  {
   "cell_type": "code",
   "execution_count": 221,
   "metadata": {},
   "outputs": [
    {
     "name": "stdout",
     "output_type": "stream",
     "text": [
      "\u001b[0mHistory\n",
      " Discovery of DNA structure and function \n",
      "Deoxyribonucleic acid (DNA) was first discovered and isolated by Friedrich Miescher \u001b[1;37;40min 1869\u001b[0m, but it remained understudied for many decades because proteins, rather than DNA, were thought to hold the genetic blueprint to life. This situation changed \u001b[1;37;40mafter 1944\u001b[0m as a result of some experiments by Oswald Avery, Colin MacLeod, and Maclyn McCarty demonstrating that purified DNA could change one strain of bacteria into another. This was the first time that DNA was shown capable of transforming the properties of cells.\n",
      "\n",
      "\u001b[1;37;40mIn 1953\u001b[0m, James Watson and Francis Crick put forward their double-helix model of DNA, based on crystallized X-ray structures being studied by Rosalind Franklin. According to the model, DNA is composed of two strands of nucleotides coiled around each other, linked together by hydrogen bonds and running in opposite directions. Each strand is composed of four complementary nucleotides – adenine (A), cytosine (C), guanine (G) and thymine (T) – with an A on one strand always paired with T on the other, and C always paired with G. They proposed such a structure allowed each strand to be used to reconstruct the other, an idea central to the passing on of hereditary information between generations.\n",
      "thumb|Frederick Sanger, a pioneer of sequencing. Sanger is one of the few scientists who was awarded two Nobel prizes, one for the sequencing of proteins, and the other for the sequencing of DNA.\n",
      "The foundation for sequencing proteins was first laid by the work of Frederick Sanger who \u001b[1;37;40mby 1955\u001b[0m had completed the sequence of all the amino acids in insulin, a small protein secreted by the pancreas. This provided the first conclusive evidence that proteins were chemical entities with a specific molecular pattern rather than a random mixture of material suspended in fluid. Sanger's success in sequencing insulin greatly electrified x-ray crystallographers, including Watson and Crick who by now were trying to understand how DNA directed the formation of proteins within a cell. Soon after attending a series of lectures given by Frederick Sanger in \u001b[1;37;40mOctober 1954\u001b[0m, Crick began to develop a theory which argued that the arrangement of nucleotides in DNA determined the sequence of amino acids in proteins which in turn helped determine the function of a protein. He published this theory \u001b[1;37;40min 1958\u001b[0m.Marks, L, The path to DNA sequencing: The life and work of Frederick Sanger.\n",
      "\n",
      "RNA sequencing\n",
      "RNA sequencing was one of the earliest forms of nucleotide sequencing. The major landmark of RNA sequencing is the sequence of the first complete gene and the complete genome of Bacteriophage MS2, identified and published by Walter Fiers and his coworkers at the University of Ghent (Ghent, Belgium), \u001b[1;37;40min 1972\u001b[0m \u001b[1;37;40mand 1976\u001b[0m. Traditional RNA sequencing methods require the creation of a cDNA molecule which must be sequenced.\n",
      "\n",
      "Early DNA sequencing methods\n",
      "The first method for determining DNA sequences involved a location-specific primer extension strategy established by Ray Wu at Cornell University \u001b[1;37;40min 1970\u001b[0m. DNA polymerase catalysis and specific nucleotide labeling, both of which figure prominently in current sequencing schemes, were used to sequence the cohesive ends of lambda phage DNA.  \u001b[1;37;40mBetween 1970\u001b[0m \u001b[1;37;40mand 1973\u001b[0m, Wu, R Padmanabhan and colleagues demonstrated that this method can be employed to determine any DNA sequence using synthetic location-specific primers. Frederick Sanger then adopted this primer-extension strategy to develop more rapid DNA sequencing methods at the MRC Centre, Cambridge, UK and published a method for \"DNA sequencing with chain-terminating inhibitors\" \u001b[1;37;40min 1977\u001b[0m. Walter Gilbert and Allan Maxam at Harvard also developed sequencing methods, including one for \"DNA sequencing by chemical degradation\".Gilbert, W. DNA sequencing and gene structure. Nobel lecture, 8 \u001b[1;37;40mDecember 1980\u001b[0m. \u001b[1;37;40mIn 1973\u001b[0m, Gilbert and Maxam reported the sequence of 24 basepairs using a method known as wandering-spot analysis. Advancements in sequencing were aided by the concurrent development of recombinant DNA technology, allowing DNA samples to be isolated from sources other than viruses.\n",
      "\n",
      " Sequencing of full genomes \n",
      "thumb|300px|Right|The 5,386 bp genome of bacteriophage φX174. Each coloured block represents a gene.\n",
      "The first full DNA genome to be sequenced was that of bacteriophage φX174 \u001b[1;37;40min 1977\u001b[0m. Medical Research Council scientists deciphered the complete DNA sequence of the Epstein-Barr virus \u001b[1;37;40min 1984\u001b[0m, finding it contained 172,282 nucleotides. Completion of the sequence marked a significant turning point in DNA sequencing because it was achieved with no prior genetic profile knowledge of the virus.\"The Next Frontier: Human Viruses\" , whatisbiotechnology.org, Retrieved 3 \u001b[1;37;40mMay 2017\u001b[0m\n",
      "\n",
      "A non-radioactive method for transferring the DNA molecules of sequencing reaction mixtures onto an immobilizing matrix during electrophoresis was developed by Pohl and co-workers in the early 1980s.United States Patent 4,631,122 (1986) Followed by the commercialization of the DNA sequencer \"Direct-Blotting-Electrophoresis-System GATC 1500\" by GATC Biotech, which was intensively used in the framework of the EU genome-sequencing programme, the complete DNA sequence of the yeast Saccharomyces cerevisiae chromosome II. Leroy E. Hood's laboratory at the California Institute of Technology announced the first semi-automated DNA sequencing machine \u001b[1;37;40min 1986\u001b[0m. This was followed by Applied Biosystems' marketing of the first fully automated sequencing machine, the ABI 370, \u001b[1;37;40min 1987\u001b[0m and by Dupont's Genesis 2000  which used a novel fluorescent labeling technique enabling all four dideoxynucleotides to be identified in a single lane. \u001b[1;37;40mBy 1990\u001b[0m, the U.S. National Institutes of Health (NIH) had begun large-scale sequencing trials on Mycoplasma capricolum, Escherichia coli, Caenorhabditis elegans, and Saccharomyces cerevisiae at a cost of US$0.75 per base. Meanwhile, sequencing of human cDNA sequences called expressed sequence tags began in Craig Venter's lab, an attempt to capture the coding fraction of the human genome. \u001b[1;37;40mIn 1995\u001b[0m, Venter, Hamilton Smith, and colleagues at The Institute for Genomic Research (TIGR) published the first complete genome of a free-living organism, the bacterium Haemophilus influenzae.  The circular chromosome contains 1,830,137 bases and its publication in the journal Science marked the first published use of whole-genome shotgun sequencing, eliminating the need for initial mapping efforts.\n",
      "\n",
      "\u001b[1;37;40mBy 2001\u001b[0m, shotgun sequencing methods had been used to produce a draft sequence of the human genome.\n",
      "\n",
      " High-throughput sequencing (HTS) methods \n",
      "Several new methods for DNA sequencing were developed in the mid to late 1990s and were implemented in commercial DNA sequencers by the year 2000. Together these were called the \"next-generation\" or \"second-generation\" sequencing (NGS) methods, in order to distinguish them from the aforementioned earlier methods, like Sanger Sequencing. In contrast to the first generation of sequencing, NGS technology is typically characterized by being highly scalable, allowing the entire genome to be sequenced at once. Usually, this is accomplished by fragmenting the genome into small pieces, randomly sampling for a fragment, and sequencing it using one of a variety of technologies, such as those described below. An entire genome is possible because multiple fragments are sequenced at once (giving it the name \"massively parallel\" sequencing) in an automated process.\n",
      "\n",
      "NGS technology has tremendously empowered researchers to look for insights into health, anthropologists to investigate human origins, and is catalyzing the \"Personalized Medicine\" movement. However, it has also opened the door to more room for error. There are many software tools to carry out the computational analysis of NGS data, each with its own algorithm. Even the parameters within one software package can change the outcome of the analysis. In addition, the large quantities of data produced by DNA sequencing have also required development of new methods and programs for sequence analysis. Several efforts to develop standards in the NGS field have been attempted to address these challenges, most of which have been small-scale efforts arising from individual labs. Most recently, a large, organized, FDA-funded effort has culminated in the BioCompute standard.\n",
      "\n",
      "On 26 \u001b[1;37;40mOctober 1990\u001b[0m, Roger Tsien, Pepi Ross, Margaret Fahnestock and Allan J Johnston filed a patent describing stepwise (\"base-by-base\") sequencing with removable 3' blockers on DNA arrays (blots and single DNA molecules).\n",
      "\u001b[1;37;40mIn 1996\u001b[0m, Pål Nyrén and his student Mostafa Ronaghi at the Royal Institute of Technology in Stockholm published their method of pyrosequencing.\n",
      "\n",
      "On 1 \u001b[1;37;40mApril 1997\u001b[0m, Pascal Mayer and Laurent Farinelli submitted patents to the World Intellectual Property Organization describing DNA colony sequencing. The DNA sample preparation and random surface-PCR arraying methods described in this patent, coupled to Roger Tsien et al.'s \"base-by-base\" sequencing method, is now implemented in Illumina's Hi-Seq genome sequencers.\n",
      "\n",
      "\u001b[1;37;40mIn 1998\u001b[0m, Phil Green and Brent Ewing of the University of Washington described their phred quality score for sequencer data analysis, a landmark analysis technique that gained widespread adoption, and which is still the most common metric for assessing the accuracy of a sequencing platform.\n",
      "\n",
      "Lynx Therapeutics published and marketed Massively parallel signature sequencing (MPSS), \u001b[1;37;40min 2000\n"
     ]
    }
   ],
   "source": [
    "colored_text = color_regex(history, regex_years())\n",
    "print(colored_text)"
   ]
  },
  {
   "cell_type": "code",
   "execution_count": 229,
   "metadata": {},
   "outputs": [],
   "source": [
    "def filter_years(text, regex):\n",
    "    years = [int(match.group(2)) for match in regex.finditer(history)]\n",
    "    return years"
   ]
  },
  {
   "cell_type": "code",
   "execution_count": 233,
   "metadata": {},
   "outputs": [
    {
     "name": "stdout",
     "output_type": "stream",
     "text": [
      "[1869, 1944, 1953, 1954, 1955, 1958, 1970, 1970, 1972, 1973, 1973, 1976, 1977, 1977, 1980, 1984, 1986, 1987, 1990, 1990, 1995, 1996, 1997, 1998, 2000, 2001, 2017]\n"
     ]
    }
   ],
   "source": [
    "years = filter_years(history, regex_years())\n",
    "print(sorted(years))"
   ]
  }
 ],
 "metadata": {
  "kernelspec": {
   "display_name": "Python 3",
   "language": "python",
   "name": "python3"
  },
  "language_info": {
   "codemirror_mode": {
    "name": "ipython",
    "version": 3
   },
   "file_extension": ".py",
   "mimetype": "text/x-python",
   "name": "python",
   "nbconvert_exporter": "python",
   "pygments_lexer": "ipython3",
   "version": "3.7.3"
  }
 },
 "nbformat": 4,
 "nbformat_minor": 2
}
